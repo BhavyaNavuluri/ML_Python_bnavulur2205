{
 "cells": [
  {
   "cell_type": "code",
   "execution_count": 61,
   "metadata": {},
   "outputs": [],
   "source": [
    "\n",
    "\n",
    "import pandas as pd\n",
    "import numpy as np\n",
    "import matplotlib.pyplot as plt\n",
    "import seaborn as sns\n",
    "import csv\n",
    "from sklearn import metrics\n",
    "from sklearn.decomposition import PCA\n",
    "from sklearn import cluster\n",
    "from sklearn.cluster import KMeans\n",
    "from sklearn.manifold import TSNE\n",
    "from sklearn.preprocessing import StandardScaler\n",
    "from sklearn.manifold import TSNE\n",
    "from sklearn.model_selection  import train_test_split\n",
    "from sklearn.neighbors import KNeighborsClassifier\n",
    "from sklearn.svm import SVC\n",
    "from sklearn.tree import DecisionTreeClassifier, export_graphviz\n",
    "import warnings\n",
    "warnings.filterwarnings('ignore')"
   ]
  },
  {
   "cell_type": "code",
   "execution_count": 2,
   "metadata": {},
   "outputs": [],
   "source": [
    "\n",
    "data = pd.read_csv('C://Users//Bhavya N//1_Practice_DataScience//Clustering//Gene_dataset//data.csv')\n",
    "labels=pd.read_csv('C://Users//Bhavya N//1_Practice_DataScience//Clustering//Gene_dataset//labels.csv')"
   ]
  },
  {
   "cell_type": "code",
   "execution_count": 3,
   "metadata": {},
   "outputs": [],
   "source": [
    "\n",
    "df = pd.concat([data, labels.iloc[:,1]], axis=1)\n"
   ]
  },
  {
   "cell_type": "code",
   "execution_count": 4,
   "metadata": {},
   "outputs": [
    {
     "data": {
      "text/plain": [
       "0"
      ]
     },
     "execution_count": 4,
     "metadata": {},
     "output_type": "execute_result"
    }
   ],
   "source": [
    "df.isnull().sum().sum() # Therfore there are no null values in the data set "
   ]
  },
  {
   "cell_type": "code",
   "execution_count": 5,
   "metadata": {},
   "outputs": [
    {
     "data": {
      "text/plain": [
       "array([0, 1, 2, 3, 4], dtype=int8)"
      ]
     },
     "execution_count": 5,
     "metadata": {},
     "output_type": "execute_result"
    }
   ],
   "source": [
    "\n",
    "\n",
    "df['Class'] = pd.Categorical(df['Class'], categories=df['Class'].unique()).codes\n",
    "\n",
    "df['Class'].unique()"
   ]
  },
  {
   "cell_type": "code",
   "execution_count": 6,
   "metadata": {},
   "outputs": [
    {
     "data": {
      "text/html": [
       "<div>\n",
       "<style scoped>\n",
       "    .dataframe tbody tr th:only-of-type {\n",
       "        vertical-align: middle;\n",
       "    }\n",
       "\n",
       "    .dataframe tbody tr th {\n",
       "        vertical-align: top;\n",
       "    }\n",
       "\n",
       "    .dataframe thead th {\n",
       "        text-align: right;\n",
       "    }\n",
       "</style>\n",
       "<table border=\"1\" class=\"dataframe\">\n",
       "  <thead>\n",
       "    <tr style=\"text-align: right;\">\n",
       "      <th></th>\n",
       "      <th>gene_0</th>\n",
       "      <th>gene_1</th>\n",
       "      <th>gene_2</th>\n",
       "      <th>gene_3</th>\n",
       "      <th>gene_4</th>\n",
       "      <th>gene_5</th>\n",
       "      <th>gene_6</th>\n",
       "      <th>gene_7</th>\n",
       "      <th>gene_8</th>\n",
       "      <th>gene_9</th>\n",
       "      <th>...</th>\n",
       "      <th>gene_20522</th>\n",
       "      <th>gene_20523</th>\n",
       "      <th>gene_20524</th>\n",
       "      <th>gene_20525</th>\n",
       "      <th>gene_20526</th>\n",
       "      <th>gene_20527</th>\n",
       "      <th>gene_20528</th>\n",
       "      <th>gene_20529</th>\n",
       "      <th>gene_20530</th>\n",
       "      <th>Class</th>\n",
       "    </tr>\n",
       "  </thead>\n",
       "  <tbody>\n",
       "    <tr>\n",
       "      <th>0</th>\n",
       "      <td>0.0</td>\n",
       "      <td>2.017209</td>\n",
       "      <td>3.265527</td>\n",
       "      <td>5.478487</td>\n",
       "      <td>10.431999</td>\n",
       "      <td>0.0</td>\n",
       "      <td>7.175175</td>\n",
       "      <td>0.591871</td>\n",
       "      <td>0.0</td>\n",
       "      <td>0.0</td>\n",
       "      <td>...</td>\n",
       "      <td>8.210257</td>\n",
       "      <td>9.723516</td>\n",
       "      <td>7.220030</td>\n",
       "      <td>9.119813</td>\n",
       "      <td>12.003135</td>\n",
       "      <td>9.650743</td>\n",
       "      <td>8.921326</td>\n",
       "      <td>5.286759</td>\n",
       "      <td>0.000000</td>\n",
       "      <td>0</td>\n",
       "    </tr>\n",
       "    <tr>\n",
       "      <th>1</th>\n",
       "      <td>0.0</td>\n",
       "      <td>0.592732</td>\n",
       "      <td>1.588421</td>\n",
       "      <td>7.586157</td>\n",
       "      <td>9.623011</td>\n",
       "      <td>0.0</td>\n",
       "      <td>6.816049</td>\n",
       "      <td>0.000000</td>\n",
       "      <td>0.0</td>\n",
       "      <td>0.0</td>\n",
       "      <td>...</td>\n",
       "      <td>7.323865</td>\n",
       "      <td>9.740931</td>\n",
       "      <td>6.256586</td>\n",
       "      <td>8.381612</td>\n",
       "      <td>12.674552</td>\n",
       "      <td>10.517059</td>\n",
       "      <td>9.397854</td>\n",
       "      <td>2.094168</td>\n",
       "      <td>0.000000</td>\n",
       "      <td>1</td>\n",
       "    </tr>\n",
       "    <tr>\n",
       "      <th>2</th>\n",
       "      <td>0.0</td>\n",
       "      <td>3.511759</td>\n",
       "      <td>4.327199</td>\n",
       "      <td>6.881787</td>\n",
       "      <td>9.870730</td>\n",
       "      <td>0.0</td>\n",
       "      <td>6.972130</td>\n",
       "      <td>0.452595</td>\n",
       "      <td>0.0</td>\n",
       "      <td>0.0</td>\n",
       "      <td>...</td>\n",
       "      <td>8.127123</td>\n",
       "      <td>10.908640</td>\n",
       "      <td>5.401607</td>\n",
       "      <td>9.911597</td>\n",
       "      <td>9.045255</td>\n",
       "      <td>9.788359</td>\n",
       "      <td>10.090470</td>\n",
       "      <td>1.683023</td>\n",
       "      <td>0.000000</td>\n",
       "      <td>0</td>\n",
       "    </tr>\n",
       "    <tr>\n",
       "      <th>3</th>\n",
       "      <td>0.0</td>\n",
       "      <td>3.663618</td>\n",
       "      <td>4.507649</td>\n",
       "      <td>6.659068</td>\n",
       "      <td>10.196184</td>\n",
       "      <td>0.0</td>\n",
       "      <td>7.843375</td>\n",
       "      <td>0.434882</td>\n",
       "      <td>0.0</td>\n",
       "      <td>0.0</td>\n",
       "      <td>...</td>\n",
       "      <td>8.792959</td>\n",
       "      <td>10.141520</td>\n",
       "      <td>8.942805</td>\n",
       "      <td>9.601208</td>\n",
       "      <td>11.392682</td>\n",
       "      <td>9.694814</td>\n",
       "      <td>9.684365</td>\n",
       "      <td>3.292001</td>\n",
       "      <td>0.000000</td>\n",
       "      <td>0</td>\n",
       "    </tr>\n",
       "    <tr>\n",
       "      <th>4</th>\n",
       "      <td>0.0</td>\n",
       "      <td>2.655741</td>\n",
       "      <td>2.821547</td>\n",
       "      <td>6.539454</td>\n",
       "      <td>9.738265</td>\n",
       "      <td>0.0</td>\n",
       "      <td>6.566967</td>\n",
       "      <td>0.360982</td>\n",
       "      <td>0.0</td>\n",
       "      <td>0.0</td>\n",
       "      <td>...</td>\n",
       "      <td>8.891425</td>\n",
       "      <td>10.373790</td>\n",
       "      <td>7.181162</td>\n",
       "      <td>9.846910</td>\n",
       "      <td>11.922439</td>\n",
       "      <td>9.217749</td>\n",
       "      <td>9.461191</td>\n",
       "      <td>5.110372</td>\n",
       "      <td>0.000000</td>\n",
       "      <td>2</td>\n",
       "    </tr>\n",
       "    <tr>\n",
       "      <th>...</th>\n",
       "      <td>...</td>\n",
       "      <td>...</td>\n",
       "      <td>...</td>\n",
       "      <td>...</td>\n",
       "      <td>...</td>\n",
       "      <td>...</td>\n",
       "      <td>...</td>\n",
       "      <td>...</td>\n",
       "      <td>...</td>\n",
       "      <td>...</td>\n",
       "      <td>...</td>\n",
       "      <td>...</td>\n",
       "      <td>...</td>\n",
       "      <td>...</td>\n",
       "      <td>...</td>\n",
       "      <td>...</td>\n",
       "      <td>...</td>\n",
       "      <td>...</td>\n",
       "      <td>...</td>\n",
       "      <td>...</td>\n",
       "      <td>...</td>\n",
       "    </tr>\n",
       "    <tr>\n",
       "      <th>796</th>\n",
       "      <td>0.0</td>\n",
       "      <td>1.865642</td>\n",
       "      <td>2.718197</td>\n",
       "      <td>7.350099</td>\n",
       "      <td>10.006003</td>\n",
       "      <td>0.0</td>\n",
       "      <td>6.764792</td>\n",
       "      <td>0.496922</td>\n",
       "      <td>0.0</td>\n",
       "      <td>0.0</td>\n",
       "      <td>...</td>\n",
       "      <td>9.118313</td>\n",
       "      <td>10.004852</td>\n",
       "      <td>4.484415</td>\n",
       "      <td>9.614701</td>\n",
       "      <td>12.031267</td>\n",
       "      <td>9.813063</td>\n",
       "      <td>10.092770</td>\n",
       "      <td>8.819269</td>\n",
       "      <td>0.000000</td>\n",
       "      <td>2</td>\n",
       "    </tr>\n",
       "    <tr>\n",
       "      <th>797</th>\n",
       "      <td>0.0</td>\n",
       "      <td>3.942955</td>\n",
       "      <td>4.453807</td>\n",
       "      <td>6.346597</td>\n",
       "      <td>10.056868</td>\n",
       "      <td>0.0</td>\n",
       "      <td>7.320331</td>\n",
       "      <td>0.000000</td>\n",
       "      <td>0.0</td>\n",
       "      <td>0.0</td>\n",
       "      <td>...</td>\n",
       "      <td>9.623335</td>\n",
       "      <td>9.823921</td>\n",
       "      <td>6.555327</td>\n",
       "      <td>9.064002</td>\n",
       "      <td>11.633422</td>\n",
       "      <td>10.317266</td>\n",
       "      <td>8.745983</td>\n",
       "      <td>9.659081</td>\n",
       "      <td>0.000000</td>\n",
       "      <td>1</td>\n",
       "    </tr>\n",
       "    <tr>\n",
       "      <th>798</th>\n",
       "      <td>0.0</td>\n",
       "      <td>3.249582</td>\n",
       "      <td>3.707492</td>\n",
       "      <td>8.185901</td>\n",
       "      <td>9.504082</td>\n",
       "      <td>0.0</td>\n",
       "      <td>7.536589</td>\n",
       "      <td>1.811101</td>\n",
       "      <td>0.0</td>\n",
       "      <td>0.0</td>\n",
       "      <td>...</td>\n",
       "      <td>8.610704</td>\n",
       "      <td>10.485517</td>\n",
       "      <td>3.589763</td>\n",
       "      <td>9.350636</td>\n",
       "      <td>12.180944</td>\n",
       "      <td>10.681194</td>\n",
       "      <td>9.466711</td>\n",
       "      <td>4.677458</td>\n",
       "      <td>0.586693</td>\n",
       "      <td>4</td>\n",
       "    </tr>\n",
       "    <tr>\n",
       "      <th>799</th>\n",
       "      <td>0.0</td>\n",
       "      <td>2.590339</td>\n",
       "      <td>2.787976</td>\n",
       "      <td>7.318624</td>\n",
       "      <td>9.987136</td>\n",
       "      <td>0.0</td>\n",
       "      <td>9.213464</td>\n",
       "      <td>0.000000</td>\n",
       "      <td>0.0</td>\n",
       "      <td>0.0</td>\n",
       "      <td>...</td>\n",
       "      <td>8.605387</td>\n",
       "      <td>11.004677</td>\n",
       "      <td>4.745888</td>\n",
       "      <td>9.626383</td>\n",
       "      <td>11.198279</td>\n",
       "      <td>10.335513</td>\n",
       "      <td>10.400581</td>\n",
       "      <td>5.718751</td>\n",
       "      <td>0.000000</td>\n",
       "      <td>0</td>\n",
       "    </tr>\n",
       "    <tr>\n",
       "      <th>800</th>\n",
       "      <td>0.0</td>\n",
       "      <td>2.325242</td>\n",
       "      <td>3.805932</td>\n",
       "      <td>6.530246</td>\n",
       "      <td>9.560367</td>\n",
       "      <td>0.0</td>\n",
       "      <td>7.957027</td>\n",
       "      <td>0.000000</td>\n",
       "      <td>0.0</td>\n",
       "      <td>0.0</td>\n",
       "      <td>...</td>\n",
       "      <td>8.594354</td>\n",
       "      <td>10.243079</td>\n",
       "      <td>9.139459</td>\n",
       "      <td>10.102934</td>\n",
       "      <td>11.641081</td>\n",
       "      <td>10.607358</td>\n",
       "      <td>9.844794</td>\n",
       "      <td>4.550716</td>\n",
       "      <td>0.000000</td>\n",
       "      <td>0</td>\n",
       "    </tr>\n",
       "  </tbody>\n",
       "</table>\n",
       "<p>801 rows × 20532 columns</p>\n",
       "</div>"
      ],
      "text/plain": [
       "     gene_0    gene_1    gene_2    gene_3     gene_4  gene_5    gene_6  \\\n",
       "0       0.0  2.017209  3.265527  5.478487  10.431999     0.0  7.175175   \n",
       "1       0.0  0.592732  1.588421  7.586157   9.623011     0.0  6.816049   \n",
       "2       0.0  3.511759  4.327199  6.881787   9.870730     0.0  6.972130   \n",
       "3       0.0  3.663618  4.507649  6.659068  10.196184     0.0  7.843375   \n",
       "4       0.0  2.655741  2.821547  6.539454   9.738265     0.0  6.566967   \n",
       "..      ...       ...       ...       ...        ...     ...       ...   \n",
       "796     0.0  1.865642  2.718197  7.350099  10.006003     0.0  6.764792   \n",
       "797     0.0  3.942955  4.453807  6.346597  10.056868     0.0  7.320331   \n",
       "798     0.0  3.249582  3.707492  8.185901   9.504082     0.0  7.536589   \n",
       "799     0.0  2.590339  2.787976  7.318624   9.987136     0.0  9.213464   \n",
       "800     0.0  2.325242  3.805932  6.530246   9.560367     0.0  7.957027   \n",
       "\n",
       "       gene_7  gene_8  gene_9  ...  gene_20522  gene_20523  gene_20524  \\\n",
       "0    0.591871     0.0     0.0  ...    8.210257    9.723516    7.220030   \n",
       "1    0.000000     0.0     0.0  ...    7.323865    9.740931    6.256586   \n",
       "2    0.452595     0.0     0.0  ...    8.127123   10.908640    5.401607   \n",
       "3    0.434882     0.0     0.0  ...    8.792959   10.141520    8.942805   \n",
       "4    0.360982     0.0     0.0  ...    8.891425   10.373790    7.181162   \n",
       "..        ...     ...     ...  ...         ...         ...         ...   \n",
       "796  0.496922     0.0     0.0  ...    9.118313   10.004852    4.484415   \n",
       "797  0.000000     0.0     0.0  ...    9.623335    9.823921    6.555327   \n",
       "798  1.811101     0.0     0.0  ...    8.610704   10.485517    3.589763   \n",
       "799  0.000000     0.0     0.0  ...    8.605387   11.004677    4.745888   \n",
       "800  0.000000     0.0     0.0  ...    8.594354   10.243079    9.139459   \n",
       "\n",
       "     gene_20525  gene_20526  gene_20527  gene_20528  gene_20529  gene_20530  \\\n",
       "0      9.119813   12.003135    9.650743    8.921326    5.286759    0.000000   \n",
       "1      8.381612   12.674552   10.517059    9.397854    2.094168    0.000000   \n",
       "2      9.911597    9.045255    9.788359   10.090470    1.683023    0.000000   \n",
       "3      9.601208   11.392682    9.694814    9.684365    3.292001    0.000000   \n",
       "4      9.846910   11.922439    9.217749    9.461191    5.110372    0.000000   \n",
       "..          ...         ...         ...         ...         ...         ...   \n",
       "796    9.614701   12.031267    9.813063   10.092770    8.819269    0.000000   \n",
       "797    9.064002   11.633422   10.317266    8.745983    9.659081    0.000000   \n",
       "798    9.350636   12.180944   10.681194    9.466711    4.677458    0.586693   \n",
       "799    9.626383   11.198279   10.335513   10.400581    5.718751    0.000000   \n",
       "800   10.102934   11.641081   10.607358    9.844794    4.550716    0.000000   \n",
       "\n",
       "     Class  \n",
       "0        0  \n",
       "1        1  \n",
       "2        0  \n",
       "3        0  \n",
       "4        2  \n",
       "..     ...  \n",
       "796      2  \n",
       "797      1  \n",
       "798      4  \n",
       "799      0  \n",
       "800      0  \n",
       "\n",
       "[801 rows x 20532 columns]"
      ]
     },
     "execution_count": 6,
     "metadata": {},
     "output_type": "execute_result"
    }
   ],
   "source": [
    "df1=df.drop('Unnamed: 0',axis=1)\n",
    "df1"
   ]
  },
  {
   "cell_type": "code",
   "execution_count": 7,
   "metadata": {},
   "outputs": [],
   "source": [
    "df2 = StandardScaler().fit_transform(df1.iloc[:,:-1].astype(np.float))\n",
    "\n"
   ]
  },
  {
   "cell_type": "code",
   "execution_count": 8,
   "metadata": {},
   "outputs": [],
   "source": [
    "dd=pd.DataFrame(df2)\n"
   ]
  },
  {
   "cell_type": "code",
   "execution_count": 9,
   "metadata": {},
   "outputs": [
    {
     "data": {
      "text/html": [
       "<div>\n",
       "<style scoped>\n",
       "    .dataframe tbody tr th:only-of-type {\n",
       "        vertical-align: middle;\n",
       "    }\n",
       "\n",
       "    .dataframe tbody tr th {\n",
       "        vertical-align: top;\n",
       "    }\n",
       "\n",
       "    .dataframe thead th {\n",
       "        text-align: right;\n",
       "    }\n",
       "</style>\n",
       "<table border=\"1\" class=\"dataframe\">\n",
       "  <thead>\n",
       "    <tr style=\"text-align: right;\">\n",
       "      <th></th>\n",
       "      <th>0</th>\n",
       "      <th>1</th>\n",
       "      <th>2</th>\n",
       "      <th>3</th>\n",
       "      <th>4</th>\n",
       "      <th>5</th>\n",
       "      <th>6</th>\n",
       "      <th>7</th>\n",
       "      <th>8</th>\n",
       "      <th>9</th>\n",
       "      <th>...</th>\n",
       "      <th>20522</th>\n",
       "      <th>20523</th>\n",
       "      <th>20524</th>\n",
       "      <th>20525</th>\n",
       "      <th>20526</th>\n",
       "      <th>20527</th>\n",
       "      <th>20528</th>\n",
       "      <th>20529</th>\n",
       "      <th>20530</th>\n",
       "      <th>Class</th>\n",
       "    </tr>\n",
       "  </thead>\n",
       "  <tbody>\n",
       "    <tr>\n",
       "      <th>0</th>\n",
       "      <td>-0.194799</td>\n",
       "      <td>-0.828030</td>\n",
       "      <td>0.159800</td>\n",
       "      <td>-1.948277</td>\n",
       "      <td>1.221575</td>\n",
       "      <td>0.0</td>\n",
       "      <td>-0.207968</td>\n",
       "      <td>0.180910</td>\n",
       "      <td>-0.125376</td>\n",
       "      <td>-0.065633</td>\n",
       "      <td>...</td>\n",
       "      <td>-0.921755</td>\n",
       "      <td>-0.877838</td>\n",
       "      <td>0.996247</td>\n",
       "      <td>-1.166072</td>\n",
       "      <td>0.389441</td>\n",
       "      <td>-0.869566</td>\n",
       "      <td>-1.187938</td>\n",
       "      <td>-0.116483</td>\n",
       "      <td>-0.261901</td>\n",
       "      <td>0</td>\n",
       "    </tr>\n",
       "    <tr>\n",
       "      <th>1</th>\n",
       "      <td>-0.194799</td>\n",
       "      <td>-2.015017</td>\n",
       "      <td>-1.415042</td>\n",
       "      <td>1.353109</td>\n",
       "      <td>-0.376518</td>\n",
       "      <td>0.0</td>\n",
       "      <td>-0.532222</td>\n",
       "      <td>-0.983088</td>\n",
       "      <td>-0.125376</td>\n",
       "      <td>-0.065633</td>\n",
       "      <td>...</td>\n",
       "      <td>-2.392213</td>\n",
       "      <td>-0.831893</td>\n",
       "      <td>0.591649</td>\n",
       "      <td>-2.549598</td>\n",
       "      <td>1.391628</td>\n",
       "      <td>0.623551</td>\n",
       "      <td>-0.342277</td>\n",
       "      <td>-1.656889</td>\n",
       "      <td>-0.261901</td>\n",
       "      <td>1</td>\n",
       "    </tr>\n",
       "    <tr>\n",
       "      <th>2</th>\n",
       "      <td>-0.194799</td>\n",
       "      <td>0.417348</td>\n",
       "      <td>1.156735</td>\n",
       "      <td>0.249807</td>\n",
       "      <td>0.112832</td>\n",
       "      <td>0.0</td>\n",
       "      <td>-0.391297</td>\n",
       "      <td>-0.092995</td>\n",
       "      <td>-0.125376</td>\n",
       "      <td>-0.065633</td>\n",
       "      <td>...</td>\n",
       "      <td>-1.059669</td>\n",
       "      <td>2.248803</td>\n",
       "      <td>0.232601</td>\n",
       "      <td>0.317880</td>\n",
       "      <td>-4.025621</td>\n",
       "      <td>-0.632381</td>\n",
       "      <td>0.886860</td>\n",
       "      <td>-1.855264</td>\n",
       "      <td>-0.261901</td>\n",
       "      <td>0</td>\n",
       "    </tr>\n",
       "    <tr>\n",
       "      <th>3</th>\n",
       "      <td>-0.194799</td>\n",
       "      <td>0.543888</td>\n",
       "      <td>1.326182</td>\n",
       "      <td>-0.099053</td>\n",
       "      <td>0.755741</td>\n",
       "      <td>0.0</td>\n",
       "      <td>0.395348</td>\n",
       "      <td>-0.127831</td>\n",
       "      <td>-0.125376</td>\n",
       "      <td>-0.065633</td>\n",
       "      <td>...</td>\n",
       "      <td>0.044905</td>\n",
       "      <td>0.224956</td>\n",
       "      <td>1.719725</td>\n",
       "      <td>-0.263847</td>\n",
       "      <td>-0.521747</td>\n",
       "      <td>-0.793609</td>\n",
       "      <td>0.166174</td>\n",
       "      <td>-1.078941</td>\n",
       "      <td>-0.261901</td>\n",
       "      <td>0</td>\n",
       "    </tr>\n",
       "    <tr>\n",
       "      <th>4</th>\n",
       "      <td>-0.194799</td>\n",
       "      <td>-0.295955</td>\n",
       "      <td>-0.257107</td>\n",
       "      <td>-0.286413</td>\n",
       "      <td>-0.148843</td>\n",
       "      <td>0.0</td>\n",
       "      <td>-0.757118</td>\n",
       "      <td>-0.273165</td>\n",
       "      <td>-0.125376</td>\n",
       "      <td>-0.065633</td>\n",
       "      <td>...</td>\n",
       "      <td>0.208252</td>\n",
       "      <td>0.837739</td>\n",
       "      <td>0.979924</td>\n",
       "      <td>0.196645</td>\n",
       "      <td>0.268992</td>\n",
       "      <td>-1.615841</td>\n",
       "      <td>-0.229878</td>\n",
       "      <td>-0.201588</td>\n",
       "      <td>-0.261901</td>\n",
       "      <td>2</td>\n",
       "    </tr>\n",
       "    <tr>\n",
       "      <th>...</th>\n",
       "      <td>...</td>\n",
       "      <td>...</td>\n",
       "      <td>...</td>\n",
       "      <td>...</td>\n",
       "      <td>...</td>\n",
       "      <td>...</td>\n",
       "      <td>...</td>\n",
       "      <td>...</td>\n",
       "      <td>...</td>\n",
       "      <td>...</td>\n",
       "      <td>...</td>\n",
       "      <td>...</td>\n",
       "      <td>...</td>\n",
       "      <td>...</td>\n",
       "      <td>...</td>\n",
       "      <td>...</td>\n",
       "      <td>...</td>\n",
       "      <td>...</td>\n",
       "      <td>...</td>\n",
       "      <td>...</td>\n",
       "      <td>...</td>\n",
       "    </tr>\n",
       "    <tr>\n",
       "      <th>796</th>\n",
       "      <td>-0.194799</td>\n",
       "      <td>-0.954328</td>\n",
       "      <td>-0.354155</td>\n",
       "      <td>0.983356</td>\n",
       "      <td>0.380054</td>\n",
       "      <td>0.0</td>\n",
       "      <td>-0.578502</td>\n",
       "      <td>-0.005819</td>\n",
       "      <td>-0.125376</td>\n",
       "      <td>-0.065633</td>\n",
       "      <td>...</td>\n",
       "      <td>0.584642</td>\n",
       "      <td>-0.135605</td>\n",
       "      <td>-0.152573</td>\n",
       "      <td>-0.238559</td>\n",
       "      <td>0.431432</td>\n",
       "      <td>-0.589804</td>\n",
       "      <td>0.890943</td>\n",
       "      <td>1.587933</td>\n",
       "      <td>-0.261901</td>\n",
       "      <td>2</td>\n",
       "    </tr>\n",
       "    <tr>\n",
       "      <th>797</th>\n",
       "      <td>-0.194799</td>\n",
       "      <td>0.776655</td>\n",
       "      <td>1.275624</td>\n",
       "      <td>-0.588497</td>\n",
       "      <td>0.480533</td>\n",
       "      <td>0.0</td>\n",
       "      <td>-0.076907</td>\n",
       "      <td>-0.983088</td>\n",
       "      <td>-0.125376</td>\n",
       "      <td>-0.065633</td>\n",
       "      <td>...</td>\n",
       "      <td>1.422436</td>\n",
       "      <td>-0.612944</td>\n",
       "      <td>0.717105</td>\n",
       "      <td>-1.270672</td>\n",
       "      <td>-0.162408</td>\n",
       "      <td>0.279202</td>\n",
       "      <td>-1.499107</td>\n",
       "      <td>1.993137</td>\n",
       "      <td>-0.261901</td>\n",
       "      <td>1</td>\n",
       "    </tr>\n",
       "    <tr>\n",
       "      <th>798</th>\n",
       "      <td>-0.194799</td>\n",
       "      <td>0.198881</td>\n",
       "      <td>0.574816</td>\n",
       "      <td>2.292529</td>\n",
       "      <td>-0.611452</td>\n",
       "      <td>0.0</td>\n",
       "      <td>0.118352</td>\n",
       "      <td>2.578699</td>\n",
       "      <td>-0.125376</td>\n",
       "      <td>-0.065633</td>\n",
       "      <td>...</td>\n",
       "      <td>-0.257444</td>\n",
       "      <td>1.132504</td>\n",
       "      <td>-0.528281</td>\n",
       "      <td>-0.733465</td>\n",
       "      <td>0.654847</td>\n",
       "      <td>0.906442</td>\n",
       "      <td>-0.220082</td>\n",
       "      <td>-0.410467</td>\n",
       "      <td>1.348558</td>\n",
       "      <td>4</td>\n",
       "    </tr>\n",
       "    <tr>\n",
       "      <th>799</th>\n",
       "      <td>-0.194799</td>\n",
       "      <td>-0.350453</td>\n",
       "      <td>-0.288632</td>\n",
       "      <td>0.934054</td>\n",
       "      <td>0.342783</td>\n",
       "      <td>0.0</td>\n",
       "      <td>1.632398</td>\n",
       "      <td>-0.983088</td>\n",
       "      <td>-0.125376</td>\n",
       "      <td>-0.065633</td>\n",
       "      <td>...</td>\n",
       "      <td>-0.266264</td>\n",
       "      <td>2.502171</td>\n",
       "      <td>-0.042767</td>\n",
       "      <td>-0.216665</td>\n",
       "      <td>-0.811922</td>\n",
       "      <td>0.310652</td>\n",
       "      <td>1.437193</td>\n",
       "      <td>0.091951</td>\n",
       "      <td>-0.261901</td>\n",
       "      <td>0</td>\n",
       "    </tr>\n",
       "    <tr>\n",
       "      <th>800</th>\n",
       "      <td>-0.194799</td>\n",
       "      <td>-0.571352</td>\n",
       "      <td>0.667254</td>\n",
       "      <td>-0.300836</td>\n",
       "      <td>-0.500265</td>\n",
       "      <td>0.0</td>\n",
       "      <td>0.497964</td>\n",
       "      <td>-0.983088</td>\n",
       "      <td>-0.125376</td>\n",
       "      <td>-0.065633</td>\n",
       "      <td>...</td>\n",
       "      <td>-0.284566</td>\n",
       "      <td>0.492893</td>\n",
       "      <td>1.802310</td>\n",
       "      <td>0.676481</td>\n",
       "      <td>-0.150977</td>\n",
       "      <td>0.779183</td>\n",
       "      <td>0.450876</td>\n",
       "      <td>-0.471619</td>\n",
       "      <td>-0.261901</td>\n",
       "      <td>0</td>\n",
       "    </tr>\n",
       "  </tbody>\n",
       "</table>\n",
       "<p>801 rows × 20532 columns</p>\n",
       "</div>"
      ],
      "text/plain": [
       "            0         1         2         3         4    5         6  \\\n",
       "0   -0.194799 -0.828030  0.159800 -1.948277  1.221575  0.0 -0.207968   \n",
       "1   -0.194799 -2.015017 -1.415042  1.353109 -0.376518  0.0 -0.532222   \n",
       "2   -0.194799  0.417348  1.156735  0.249807  0.112832  0.0 -0.391297   \n",
       "3   -0.194799  0.543888  1.326182 -0.099053  0.755741  0.0  0.395348   \n",
       "4   -0.194799 -0.295955 -0.257107 -0.286413 -0.148843  0.0 -0.757118   \n",
       "..        ...       ...       ...       ...       ...  ...       ...   \n",
       "796 -0.194799 -0.954328 -0.354155  0.983356  0.380054  0.0 -0.578502   \n",
       "797 -0.194799  0.776655  1.275624 -0.588497  0.480533  0.0 -0.076907   \n",
       "798 -0.194799  0.198881  0.574816  2.292529 -0.611452  0.0  0.118352   \n",
       "799 -0.194799 -0.350453 -0.288632  0.934054  0.342783  0.0  1.632398   \n",
       "800 -0.194799 -0.571352  0.667254 -0.300836 -0.500265  0.0  0.497964   \n",
       "\n",
       "            7         8         9  ...     20522     20523     20524  \\\n",
       "0    0.180910 -0.125376 -0.065633  ... -0.921755 -0.877838  0.996247   \n",
       "1   -0.983088 -0.125376 -0.065633  ... -2.392213 -0.831893  0.591649   \n",
       "2   -0.092995 -0.125376 -0.065633  ... -1.059669  2.248803  0.232601   \n",
       "3   -0.127831 -0.125376 -0.065633  ...  0.044905  0.224956  1.719725   \n",
       "4   -0.273165 -0.125376 -0.065633  ...  0.208252  0.837739  0.979924   \n",
       "..        ...       ...       ...  ...       ...       ...       ...   \n",
       "796 -0.005819 -0.125376 -0.065633  ...  0.584642 -0.135605 -0.152573   \n",
       "797 -0.983088 -0.125376 -0.065633  ...  1.422436 -0.612944  0.717105   \n",
       "798  2.578699 -0.125376 -0.065633  ... -0.257444  1.132504 -0.528281   \n",
       "799 -0.983088 -0.125376 -0.065633  ... -0.266264  2.502171 -0.042767   \n",
       "800 -0.983088 -0.125376 -0.065633  ... -0.284566  0.492893  1.802310   \n",
       "\n",
       "        20525     20526     20527     20528     20529     20530  Class  \n",
       "0   -1.166072  0.389441 -0.869566 -1.187938 -0.116483 -0.261901      0  \n",
       "1   -2.549598  1.391628  0.623551 -0.342277 -1.656889 -0.261901      1  \n",
       "2    0.317880 -4.025621 -0.632381  0.886860 -1.855264 -0.261901      0  \n",
       "3   -0.263847 -0.521747 -0.793609  0.166174 -1.078941 -0.261901      0  \n",
       "4    0.196645  0.268992 -1.615841 -0.229878 -0.201588 -0.261901      2  \n",
       "..        ...       ...       ...       ...       ...       ...    ...  \n",
       "796 -0.238559  0.431432 -0.589804  0.890943  1.587933 -0.261901      2  \n",
       "797 -1.270672 -0.162408  0.279202 -1.499107  1.993137 -0.261901      1  \n",
       "798 -0.733465  0.654847  0.906442 -0.220082 -0.410467  1.348558      4  \n",
       "799 -0.216665 -0.811922  0.310652  1.437193  0.091951 -0.261901      0  \n",
       "800  0.676481 -0.150977  0.779183  0.450876 -0.471619 -0.261901      0  \n",
       "\n",
       "[801 rows x 20532 columns]"
      ]
     },
     "execution_count": 9,
     "metadata": {},
     "output_type": "execute_result"
    }
   ],
   "source": [
    "# after rescaling the data \n",
    "df1= pd.concat([dd, df1.iloc[:,-1]], axis=1)\n",
    "df1"
   ]
  },
  {
   "cell_type": "markdown",
   "metadata": {},
   "source": [
    "## EDA"
   ]
  },
  {
   "cell_type": "code",
   "execution_count": 10,
   "metadata": {},
   "outputs": [
    {
     "data": {
      "image/png": "[encoded data removed]",
      "text/plain": [
       "<Figure size 720x360 with 1 Axes>"
      ]
     },
     "metadata": {
      "needs_background": "light"
     },
     "output_type": "display_data"
    }
   ],
   "source": [
    "#Imbalanced data\n",
    "Outcome_count  = df['Class'].value_counts()\n",
    "plt.figure(figsize=(10,5))\n",
    "sns.barplot(Outcome_count.index, Outcome_count.values, alpha=0.8)\n",
    "plt.title('Total count of each class label')\n",
    "plt.ylabel('Number of Occurrences', fontsize=12)\n",
    "plt.xlabel('Class', fontsize=12)\n",
    "plt.show()"
   ]
  },
  {
   "cell_type": "code",
   "execution_count": 11,
   "metadata": {},
   "outputs": [],
   "source": [
    "#df.corr()\n",
    "#x_tr"
   ]
  },
  {
   "cell_type": "code",
   "execution_count": 12,
   "metadata": {},
   "outputs": [
    {
     "data": {
      "text/plain": [
       "array([3, 3, 4, 2, 2, 4, 3, 4, 1, 1, 4, 4, 3, 1, 1, 4, 2, 1, 3, 3, 3, 3,\n",
       "       4, 1, 0, 2, 3, 2, 1, 3])"
      ]
     },
     "execution_count": 12,
     "metadata": {},
     "output_type": "execute_result"
    }
   ],
   "source": [
    "x_tr, x_te, y_tr, y_te = train_test_split(df1.iloc[:,:-1],  df1.iloc[:,-1], test_size=30, random_state=6)\n",
    "\n",
    "kmeans = KMeans(n_clusters=5).fit(x_tr,y_tr)\n",
    "\n",
    "pred=kmeans.predict(x_te)\n",
    "\n",
    "pred\n"
   ]
  },
  {
   "cell_type": "code",
   "execution_count": 13,
   "metadata": {},
   "outputs": [
    {
     "name": "stdout",
     "output_type": "stream",
     "text": [
      "Confusion matrix is   \n",
      "[[0 0 0 0 1]\n",
      " [7 0 0 0 0]\n",
      " [0 0 0 5 0]\n",
      " [0 6 3 0 1]\n",
      " [0 0 7 0 0]]\n",
      "Accuracy score  is 0.0 \n",
      " \n"
     ]
    }
   ],
   "source": [
    "from sklearn.metrics import precision_recall_curve,confusion_matrix,accuracy_score\n",
    "from sklearn.metrics import f1_score\n",
    "from sklearn.metrics import auc\n",
    "from sklearn.metrics import average_precision_score\n",
    "cm = confusion_matrix(pred,y_te)\n",
    "Auc= accuracy_score(pred,y_te)\n",
    "\n",
    "print('Confusion matrix is   ')\n",
    "print(cm)\n",
    "print('Accuracy score  is {0} \\n '.format(Auc))\n"
   ]
  },
  {
   "cell_type": "code",
   "execution_count": 14,
   "metadata": {},
   "outputs": [],
   "source": [
    "# so using PCA we are trying to improve performance"
   ]
  },
  {
   "cell_type": "code",
   "execution_count": 15,
   "metadata": {},
   "outputs": [],
   "source": [
    "\n",
    "pca = PCA(n_components=2)\n",
    "principal_component = pca.fit_transform(df1.iloc[:,:-1])"
   ]
  },
  {
   "cell_type": "code",
   "execution_count": 16,
   "metadata": {},
   "outputs": [],
   "source": [
    "principal_df = pd.DataFrame(data=principal_component, columns=['Principal Component 1', 'Principal Component 2'])"
   ]
  },
  {
   "cell_type": "code",
   "execution_count": 17,
   "metadata": {},
   "outputs": [
    {
     "data": {
      "text/html": [
       "<div>\n",
       "<style scoped>\n",
       "    .dataframe tbody tr th:only-of-type {\n",
       "        vertical-align: middle;\n",
       "    }\n",
       "\n",
       "    .dataframe tbody tr th {\n",
       "        vertical-align: top;\n",
       "    }\n",
       "\n",
       "    .dataframe thead th {\n",
       "        text-align: right;\n",
       "    }\n",
       "</style>\n",
       "<table border=\"1\" class=\"dataframe\">\n",
       "  <thead>\n",
       "    <tr style=\"text-align: right;\">\n",
       "      <th></th>\n",
       "      <th>Principal Component 1</th>\n",
       "      <th>Principal Component 2</th>\n",
       "    </tr>\n",
       "  </thead>\n",
       "  <tbody>\n",
       "    <tr>\n",
       "      <th>0</th>\n",
       "      <td>-57.446987</td>\n",
       "      <td>95.410981</td>\n",
       "    </tr>\n",
       "    <tr>\n",
       "      <th>1</th>\n",
       "      <td>-16.919430</td>\n",
       "      <td>0.732470</td>\n",
       "    </tr>\n",
       "    <tr>\n",
       "      <th>2</th>\n",
       "      <td>-70.345218</td>\n",
       "      <td>-19.303327</td>\n",
       "    </tr>\n",
       "    <tr>\n",
       "      <th>3</th>\n",
       "      <td>-49.161592</td>\n",
       "      <td>-9.227587</td>\n",
       "    </tr>\n",
       "    <tr>\n",
       "      <th>4</th>\n",
       "      <td>-18.132534</td>\n",
       "      <td>-51.327797</td>\n",
       "    </tr>\n",
       "  </tbody>\n",
       "</table>\n",
       "</div>"
      ],
      "text/plain": [
       "   Principal Component 1  Principal Component 2\n",
       "0             -57.446987              95.410981\n",
       "1             -16.919430               0.732470\n",
       "2             -70.345218             -19.303327\n",
       "3             -49.161592              -9.227587\n",
       "4             -18.132534             -51.327797"
      ]
     },
     "execution_count": 17,
     "metadata": {},
     "output_type": "execute_result"
    }
   ],
   "source": [
    "\n",
    "principal_df.head()"
   ]
  },
  {
   "cell_type": "code",
   "execution_count": 18,
   "metadata": {},
   "outputs": [],
   "source": [
    "concat_df = pd.concat([principal_df, df['Class']], axis=1)"
   ]
  },
  {
   "cell_type": "code",
   "execution_count": 19,
   "metadata": {},
   "outputs": [
    {
     "data": {
      "text/html": [
       "<div>\n",
       "<style scoped>\n",
       "    .dataframe tbody tr th:only-of-type {\n",
       "        vertical-align: middle;\n",
       "    }\n",
       "\n",
       "    .dataframe tbody tr th {\n",
       "        vertical-align: top;\n",
       "    }\n",
       "\n",
       "    .dataframe thead th {\n",
       "        text-align: right;\n",
       "    }\n",
       "</style>\n",
       "<table border=\"1\" class=\"dataframe\">\n",
       "  <thead>\n",
       "    <tr style=\"text-align: right;\">\n",
       "      <th></th>\n",
       "      <th>Principal Component 1</th>\n",
       "      <th>Principal Component 2</th>\n",
       "      <th>Class</th>\n",
       "    </tr>\n",
       "  </thead>\n",
       "  <tbody>\n",
       "    <tr>\n",
       "      <th>0</th>\n",
       "      <td>-57.446987</td>\n",
       "      <td>95.410981</td>\n",
       "      <td>0</td>\n",
       "    </tr>\n",
       "    <tr>\n",
       "      <th>1</th>\n",
       "      <td>-16.919430</td>\n",
       "      <td>0.732470</td>\n",
       "      <td>1</td>\n",
       "    </tr>\n",
       "    <tr>\n",
       "      <th>2</th>\n",
       "      <td>-70.345218</td>\n",
       "      <td>-19.303327</td>\n",
       "      <td>0</td>\n",
       "    </tr>\n",
       "    <tr>\n",
       "      <th>3</th>\n",
       "      <td>-49.161592</td>\n",
       "      <td>-9.227587</td>\n",
       "      <td>0</td>\n",
       "    </tr>\n",
       "    <tr>\n",
       "      <th>4</th>\n",
       "      <td>-18.132534</td>\n",
       "      <td>-51.327797</td>\n",
       "      <td>2</td>\n",
       "    </tr>\n",
       "  </tbody>\n",
       "</table>\n",
       "</div>"
      ],
      "text/plain": [
       "   Principal Component 1  Principal Component 2  Class\n",
       "0             -57.446987              95.410981      0\n",
       "1             -16.919430               0.732470      1\n",
       "2             -70.345218             -19.303327      0\n",
       "3             -49.161592              -9.227587      0\n",
       "4             -18.132534             -51.327797      2"
      ]
     },
     "execution_count": 19,
     "metadata": {},
     "output_type": "execute_result"
    }
   ],
   "source": [
    "concat_df.head()\n"
   ]
  },
  {
   "cell_type": "code",
   "execution_count": 20,
   "metadata": {},
   "outputs": [
    {
     "data": {
      "image/png": "[encoded data removed]",
      "text/plain": [
       "<Figure size 576x576 with 1 Axes>"
      ]
     },
     "metadata": {
      "needs_background": "light"
     },
     "output_type": "display_data"
    }
   ],
   "source": [
    "\n",
    "fig = plt.figure(figsize=(8,8))\n",
    "ax = fig.add_subplot(1,1,1)\n",
    "ax.set_title('PCA', fontsize=15)\n",
    "labels_list = [0,1,2,3,4]#\n",
    "lable=['BRCA', 'KIRC', 'LUAD', 'PRAD', 'COAD']\n",
    "colors = ['r', 'b', 'g', 'y', 'black']\n",
    "\n",
    "for lab, color in zip(labels_list, colors):\n",
    "    indices = concat_df['Class'] == lab\n",
    "    ax.scatter(concat_df.loc[indices, 'Principal Component 1'],\n",
    "              concat_df.loc[indices, 'Principal Component 2'], \n",
    "              c = color,\n",
    "              s = 50)\n",
    "    ax.legend(lable)\n",
    "    ax.grid()"
   ]
  },
  {
   "cell_type": "markdown",
   "metadata": {},
   "source": [
    "### 1.2 t-SNE (t-distributed Stochastic Neighbor Embedding)"
   ]
  },
  {
   "cell_type": "code",
   "execution_count": 21,
   "metadata": {},
   "outputs": [],
   "source": [
    "tsne = TSNE(n_components=2, random_state=0)\n",
    "tsne_rnaexp = tsne.fit_transform(df1.iloc[:,:-1])"
   ]
  },
  {
   "cell_type": "code",
   "execution_count": 22,
   "metadata": {},
   "outputs": [],
   "source": [
    "tsne_df = pd.DataFrame(data=tsne_rnaexp, columns=['tsne 1', 'tsne 2'])"
   ]
  },
  {
   "cell_type": "code",
   "execution_count": 23,
   "metadata": {},
   "outputs": [
    {
     "data": {
      "text/html": [
       "<div>\n",
       "<style scoped>\n",
       "    .dataframe tbody tr th:only-of-type {\n",
       "        vertical-align: middle;\n",
       "    }\n",
       "\n",
       "    .dataframe tbody tr th {\n",
       "        vertical-align: top;\n",
       "    }\n",
       "\n",
       "    .dataframe thead th {\n",
       "        text-align: right;\n",
       "    }\n",
       "</style>\n",
       "<table border=\"1\" class=\"dataframe\">\n",
       "  <thead>\n",
       "    <tr style=\"text-align: right;\">\n",
       "      <th></th>\n",
       "      <th>tsne 1</th>\n",
       "      <th>tsne 2</th>\n",
       "    </tr>\n",
       "  </thead>\n",
       "  <tbody>\n",
       "    <tr>\n",
       "      <th>0</th>\n",
       "      <td>11.647285</td>\n",
       "      <td>-22.223541</td>\n",
       "    </tr>\n",
       "    <tr>\n",
       "      <th>1</th>\n",
       "      <td>-11.153162</td>\n",
       "      <td>-2.936570</td>\n",
       "    </tr>\n",
       "    <tr>\n",
       "      <th>2</th>\n",
       "      <td>5.872204</td>\n",
       "      <td>-35.349770</td>\n",
       "    </tr>\n",
       "    <tr>\n",
       "      <th>3</th>\n",
       "      <td>12.503694</td>\n",
       "      <td>-32.844971</td>\n",
       "    </tr>\n",
       "    <tr>\n",
       "      <th>4</th>\n",
       "      <td>19.097918</td>\n",
       "      <td>6.363716</td>\n",
       "    </tr>\n",
       "  </tbody>\n",
       "</table>\n",
       "</div>"
      ],
      "text/plain": [
       "      tsne 1     tsne 2\n",
       "0  11.647285 -22.223541\n",
       "1 -11.153162  -2.936570\n",
       "2   5.872204 -35.349770\n",
       "3  12.503694 -32.844971\n",
       "4  19.097918   6.363716"
      ]
     },
     "execution_count": 23,
     "metadata": {},
     "output_type": "execute_result"
    }
   ],
   "source": [
    "tsne_df.head()"
   ]
  },
  {
   "cell_type": "code",
   "execution_count": 24,
   "metadata": {},
   "outputs": [],
   "source": [
    "tsne_concat_df = pd.concat([tsne_df, df1['Class']], axis=1)"
   ]
  },
  {
   "cell_type": "code",
   "execution_count": 25,
   "metadata": {},
   "outputs": [
    {
     "data": {
      "text/html": [
       "<div>\n",
       "<style scoped>\n",
       "    .dataframe tbody tr th:only-of-type {\n",
       "        vertical-align: middle;\n",
       "    }\n",
       "\n",
       "    .dataframe tbody tr th {\n",
       "        vertical-align: top;\n",
       "    }\n",
       "\n",
       "    .dataframe thead th {\n",
       "        text-align: right;\n",
       "    }\n",
       "</style>\n",
       "<table border=\"1\" class=\"dataframe\">\n",
       "  <thead>\n",
       "    <tr style=\"text-align: right;\">\n",
       "      <th></th>\n",
       "      <th>tsne 1</th>\n",
       "      <th>tsne 2</th>\n",
       "      <th>Class</th>\n",
       "    </tr>\n",
       "  </thead>\n",
       "  <tbody>\n",
       "    <tr>\n",
       "      <th>0</th>\n",
       "      <td>11.647285</td>\n",
       "      <td>-22.223541</td>\n",
       "      <td>0</td>\n",
       "    </tr>\n",
       "    <tr>\n",
       "      <th>1</th>\n",
       "      <td>-11.153162</td>\n",
       "      <td>-2.936570</td>\n",
       "      <td>1</td>\n",
       "    </tr>\n",
       "    <tr>\n",
       "      <th>2</th>\n",
       "      <td>5.872204</td>\n",
       "      <td>-35.349770</td>\n",
       "      <td>0</td>\n",
       "    </tr>\n",
       "    <tr>\n",
       "      <th>3</th>\n",
       "      <td>12.503694</td>\n",
       "      <td>-32.844971</td>\n",
       "      <td>0</td>\n",
       "    </tr>\n",
       "    <tr>\n",
       "      <th>4</th>\n",
       "      <td>19.097918</td>\n",
       "      <td>6.363716</td>\n",
       "      <td>2</td>\n",
       "    </tr>\n",
       "  </tbody>\n",
       "</table>\n",
       "</div>"
      ],
      "text/plain": [
       "      tsne 1     tsne 2  Class\n",
       "0  11.647285 -22.223541      0\n",
       "1 -11.153162  -2.936570      1\n",
       "2   5.872204 -35.349770      0\n",
       "3  12.503694 -32.844971      0\n",
       "4  19.097918   6.363716      2"
      ]
     },
     "execution_count": 25,
     "metadata": {},
     "output_type": "execute_result"
    }
   ],
   "source": [
    "tsne_concat_df.head()"
   ]
  },
  {
   "cell_type": "code",
   "execution_count": 26,
   "metadata": {},
   "outputs": [
    {
     "data": {
      "image/png": "[encoded data removed]",
      "text/plain": [
       "<Figure size 576x576 with 1 Axes>"
      ]
     },
     "metadata": {
      "needs_background": "light"
     },
     "output_type": "display_data"
    }
   ],
   "source": [
    "fig_2 = plt.figure(figsize=(8,8))\n",
    "ax_2 = fig_2.add_subplot(1,1,1)\n",
    "ax_2.set_title('tSNE', fontsize=15)\n",
    "labels_list_2 = [0,1,2,3,4]#['BRCA', 'KIRC', 'LUAD', 'PRAD', 'COAD']\n",
    "lable=['BRCA', 'KIRC', 'LUAD', 'PRAD', 'COAD']\n",
    "colors_2 = ['r', 'b', 'g', 'y', 'black']\n",
    "\n",
    "for lab, color in zip(labels_list_2, colors_2):\n",
    "    indices_2 = tsne_concat_df['Class'] == lab\n",
    "    ax_2.scatter(tsne_concat_df.loc[indices_2, 'tsne 1'],\n",
    "              tsne_concat_df.loc[indices_2, 'tsne 2'], \n",
    "              c = color,\n",
    "              s = 50)\n",
    "    ax_2.legend(lable)\n",
    "    ax_2.grid()"
   ]
  },
  {
   "cell_type": "code",
   "execution_count": 27,
   "metadata": {},
   "outputs": [],
   "source": [
    "X=np.array(tsne_concat_df.iloc[:,:-1])\n",
    "y=np.array(tsne_concat_df.iloc[:,-1])\n"
   ]
  },
  {
   "cell_type": "code",
   "execution_count": 28,
   "metadata": {},
   "outputs": [
    {
     "name": "stdout",
     "output_type": "stream",
     "text": [
      "0.1735330836454432\n"
     ]
    },
    {
     "data": {
      "text/plain": [
       "139"
      ]
     },
     "execution_count": 28,
     "metadata": {},
     "output_type": "execute_result"
    }
   ],
   "source": [
    "\n",
    "#x_tr, x_te, y_tr, y_te = train_test_split(tsne_concat_df.iloc[:,:-1],  tsne_concat_df.iloc[:,-1], test_size=0.30, random_state=6)\n",
    "\n",
    "#kmeans = KMeans(n_clusters=5).fit(tsne_concat_df)\n",
    "\n",
    "kmeans = kmeans = KMeans(n_clusters=5, max_iter=100, algorithm = 'full', random_state=49904670)\n",
    "kmeans.fit(X)\n",
    "\n",
    "pred=kmeans.predict(X)\n",
    "\n",
    "correct = 0\n",
    "for i in range(len(pred)):\n",
    "    \n",
    "    if pred[i] == y[i]:\n",
    "        \n",
    "        correct += 1\n",
    "\n",
    "print(correct/len(X))\n",
    "correct\n",
    "\n"
   ]
  },
  {
   "cell_type": "code",
   "execution_count": 29,
   "metadata": {},
   "outputs": [
    {
     "name": "stdout",
     "output_type": "stream",
     "text": [
      "Confusion matrix is   \n",
      "[[  0   1 300   0   0]\n",
      " [  0 139   0   0   0]\n",
      " [  0   0   0 146   0]\n",
      " [  0   1   0   0  78]\n",
      " [136   0   0   0   0]]\n",
      "Accuracy score  is 0.1735330836454432 \n",
      " \n"
     ]
    }
   ],
   "source": [
    "\n",
    "cm = confusion_matrix(pred,y)\n",
    "Auc= accuracy_score(pred,y)\n",
    "\n",
    "print('Confusion matrix is   ')\n",
    "print(cm)\n",
    "print('Accuracy score  is {0} \\n '.format(Auc))\n"
   ]
  },
  {
   "cell_type": "markdown",
   "metadata": {},
   "source": [
    "## Classifiction techniques \n",
    "\n",
    "#### Logistic regression "
   ]
  },
  {
   "cell_type": "code",
   "execution_count": 30,
   "metadata": {},
   "outputs": [
    {
     "name": "stdout",
     "output_type": "stream",
     "text": [
      "Confusion matrix is   \n",
      "[[ 7  0  0  0  0]\n",
      " [ 0  6  0  0  0]\n",
      " [ 0  0 10  0  0]\n",
      " [ 0  0  0  5  0]\n",
      " [ 0  0  0  0  2]]\n",
      "Accuracy score  is 1.0 \n",
      " \n"
     ]
    }
   ],
   "source": [
    "from sklearn.linear_model import LogisticRegression\n",
    "\n",
    "log_reg = LogisticRegression().fit(x_tr,y_tr)\n",
    "\n",
    "lg_pred=log_reg.predict(x_te)\n",
    "lg_cm = confusion_matrix(lg_pred,y_te)\n",
    "lg_Auc= accuracy_score(lg_pred,y_te)\n",
    "\n",
    "print('Confusion matrix is   ')\n",
    "print(lg_cm)\n",
    "print('Accuracy score  is {0} \\n '.format(lg_Auc))"
   ]
  },
  {
   "cell_type": "code",
   "execution_count": 31,
   "metadata": {},
   "outputs": [
    {
     "name": "stdout",
     "output_type": "stream",
     "text": [
      "Confusion matrix is   \n",
      "[[ 7  0  0  0  0]\n",
      " [ 0  6  0  0  0]\n",
      " [ 0  0 10  0  0]\n",
      " [ 0  0  0  5  0]\n",
      " [ 0  0  0  0  2]]\n",
      "Accuracy score  is 1.0 \n",
      " \n"
     ]
    }
   ],
   "source": [
    "knn = KNeighborsClassifier().fit(x_tr,y_tr)\n",
    "knn_pred=knn.predict(x_te)\n",
    "knn_cm = confusion_matrix(knn_pred,y_te)\n",
    "knn_Auc= accuracy_score(knn_pred,y_te)\n",
    "\n",
    "print('Confusion matrix is   ')\n",
    "print(knn_cm)\n",
    "print('Accuracy score  is {0} \\n '.format(knn_Auc))"
   ]
  },
  {
   "cell_type": "code",
   "execution_count": 32,
   "metadata": {},
   "outputs": [
    {
     "data": {
      "text/plain": [
       "(0.9974059662775616, 1.0)"
      ]
     },
     "execution_count": 32,
     "metadata": {},
     "output_type": "execute_result"
    }
   ],
   "source": [
    "knn.score(x_tr, y_tr), knn.score(x_te, y_te)"
   ]
  },
  {
   "cell_type": "code",
   "execution_count": 33,
   "metadata": {},
   "outputs": [
    {
     "name": "stdout",
     "output_type": "stream",
     "text": [
      "Confusion matrix is   \n",
      "[[ 7  0  0  0  0]\n",
      " [ 0  6  0  0  0]\n",
      " [ 0  0 10  0  0]\n",
      " [ 0  0  0  5  0]\n",
      " [ 0  0  0  0  2]]\n",
      "Accuracy score  is 1.0 \n",
      " \n"
     ]
    }
   ],
   "source": [
    "svm = SVC().fit(x_tr,y_tr)\n",
    "svm_pred=knn.predict(x_te)\n",
    "svm_cm = confusion_matrix(svm_pred,y_te)\n",
    "svm_Auc= accuracy_score(svm_pred,y_te)\n",
    "\n",
    "print('Confusion matrix is   ')\n",
    "print(svm_cm)\n",
    "print('Accuracy score  is {0} \\n '.format(svm_Auc))"
   ]
  },
  {
   "cell_type": "markdown",
   "metadata": {},
   "source": [
    "The metrics for validating the clustering results "
   ]
  },
  {
   "cell_type": "code",
   "execution_count": 64,
   "metadata": {},
   "outputs": [],
   "source": [
    "X1=tsne_concat_df.iloc[:,:-1]\n",
    "y1=tsne_concat_df.iloc[:,-1]"
   ]
  },
  {
   "cell_type": "code",
   "execution_count": 65,
   "metadata": {},
   "outputs": [],
   "source": [
    "def  get_kmeans ( data ,  n_clusters = 3 ): \n",
    "    \n",
    "    kmeans  = KMeans(n_clusters=n_clusters, max_iter=300,  n_init = 10 ,algorithm = 'full', random_state=49904670)\n",
    "    kmeans.fit(data)\n",
    "   \n",
    "    y_pred  =  kmeans .predict(data)\n",
    "  \n",
    "    data['cluster']  =  y_pred \n",
    "    \n",
    "    return  data ,  kmeans . inertia_"
   ]
  },
  {
   "cell_type": "code",
   "execution_count": 94,
   "metadata": {},
   "outputs": [
    {
     "name": "stdout",
     "output_type": "stream",
     "text": [
      "calinski_harabasz_score 639.3708717011875,    silhouette_score0.44293769047806747,    cluster 2\n",
      "calinski_harabasz_score 1051.4099132333606,    silhouette_score0.5788899180549473,    cluster 3\n",
      "calinski_harabasz_score 2477.567351995323,    silhouette_score0.7177428106855431,    cluster 4\n",
      "calinski_harabasz_score 3577.0881095451705,    silhouette_score0.7302762280815661,    cluster 5\n",
      "calinski_harabasz_score 4169.900159952672,    silhouette_score0.6607861139354194,    cluster 6\n",
      "calinski_harabasz_score 4428.867972627203,    silhouette_score0.6686186561768237,    cluster 7\n",
      "calinski_harabasz_score 4204.394295050413,    silhouette_score0.6657752230475142,    cluster 8\n",
      "calinski_harabasz_score 4055.4128504257174,    silhouette_score0.614944686729855,    cluster 9\n",
      "calinski_harabasz_score 4011.0038165019523,    silhouette_score0.5901529054017778,    cluster 10\n",
      "calinski_harabasz_score 4047.9027423180673,    silhouette_score0.5448827713559493,    cluster 11\n",
      "calinski_harabasz_score 4167.180874400815,    silhouette_score0.5788432026624442,    cluster 12\n",
      "calinski_harabasz_score 4106.651435021778,    silhouette_score0.5914715381176597,    cluster 13\n",
      "calinski_harabasz_score 4096.90270868078,    silhouette_score0.5959870429517049,    cluster 14\n",
      "calinski_harabasz_score 3980.494938769525,    silhouette_score0.5831911529141027,    cluster 15\n",
      "calinski_harabasz_score 3970.2438880247983,    silhouette_score0.5846468228916228,    cluster 16\n"
     ]
    }
   ],
   "source": [
    "kmeans  =  [] \n",
    "elbow  =  [] \n",
    "calinskis  =  [] \n",
    "silhouettes  =  [] \n",
    "number_clusters  =  []\n",
    "\n",
    "for  i  in  range ( 15 ): \n",
    "    temp1 ,  temp2  =  get_kmeans ( X1 ,  i + 2 ) \n",
    "    kmeans . append ( X1 . merge ( temp1 [ 'cluster' ])) \n",
    "    elbow . append ( temp2 ) \n",
    "    \n",
    "    print ( 'calinski_harabasz_score {0},\\\n",
    "    silhouette_score{1},\\\n",
    "    cluster {2}' .\\\n",
    "           format(metrics . calinski_harabasz_score (X1 , temp1['cluster']), \\\n",
    "           metrics. silhouette_score ( X1 , temp1['cluster']),  ( i + 2 )) )\n",
    "    calinskis . append ( metrics . calinski_harabasz_score ( X1 ,  temp1 [ 'cluster' ])) \n",
    "    silhouettes . append ( metrics . silhouette_score ( X1 ,  temp1 [ 'cluster' ])) \n",
    "    number_clusters . append ( i + 2) \n"
   ]
  },
  {
   "cell_type": "code",
   "execution_count": 95,
   "metadata": {},
   "outputs": [
    {
     "data": {
      "image/png": "[encoded data removed]",
      "text/plain": [
       "<Figure size 432x288 with 1 Axes>"
      ]
     },
     "metadata": {
      "needs_background": "light"
     },
     "output_type": "display_data"
    }
   ],
   "source": [
    "plt . plot ( elbow , 'ro-' ,  label = \"Elbow\" ) \n",
    "plt . title ( \"KMeans Elbow\" ) \n",
    "plt . show () \n",
    "kmean , temp  =  get_kmeans ( X1 ) \n",
    "kmean  =  X1 . merge ( kmean [ 'cluster' ])"
   ]
  },
  {
   "cell_type": "code",
   "execution_count": 92,
   "metadata": {},
   "outputs": [
    {
     "name": "stdout",
     "output_type": "stream",
     "text": [
      "According to  Calinski Harabasz  Score the higher  the score the cluster is  best , Therefore 7 clusters are best \n"
     ]
    },
    {
     "data": {
      "image/png": "[encoded data removed]",
      "text/plain": [
       "<Figure size 432x288 with 1 Axes>"
      ]
     },
     "metadata": {
      "needs_background": "light"
     },
     "output_type": "display_data"
    }
   ],
   "source": [
    "print(\"According to  Calinski Harabasz  Score the higher  the score the cluster is  best , Therefore 7 clusters are best \")\n",
    "plt . plot ( number_clusters ,  calinskis ,  'ro-' ,  label = \"KMeans Ralinski Harabasz Score\" ) \n",
    "plt . title ( \"KMeans Calinski Harabasz Score\" ) \n",
    "plt . xlabel ( \"number of clusters\" ) \n",
    "plt . show ()"
   ]
  },
  {
   "cell_type": "code",
   "execution_count": 91,
   "metadata": {},
   "outputs": [
    {
     "name": "stdout",
     "output_type": "stream",
     "text": [
      "The Silhouette Score which is near to 1 is best , Therefore 5 clusters are best \n"
     ]
    },
    {
     "data": {
      "image/png": "[encoded data removed]",
      "text/plain": [
       "<Figure size 432x288 with 1 Axes>"
      ]
     },
     "metadata": {
      "needs_background": "light"
     },
     "output_type": "display_data"
    }
   ],
   "source": [
    "print(\"The Silhouette Score which is near to 1 is best , Therefore 5 clusters are best \")\n",
    "plt . plot ( number_clusters ,  silhouettes , 'ro-' ,  label = \"KMeans Silhouette Score\" ) \n",
    "plt . title ( \"KMeans Silhouette Score\" ) \n",
    "plt . xlabel ( \"number of clusters\" ) \n",
    "plt . show ()"
   ]
  },
  {
   "cell_type": "markdown",
   "metadata": {},
   "source": [
    "Achieved 100 % Accuracy using classification techniques "
   ]
  }
 ],
 "metadata": {
  "kernelspec": {
   "display_name": "tf_gpu",
   "language": "python",
   "name": "tf_gpu"
  },
  "language_info": {
   "codemirror_mode": {
    "name": "ipython",
    "version": 3
   },
   "file_extension": ".py",
   "mimetype": "text/x-python",
   "name": "python",
   "nbconvert_exporter": "python",
   "pygments_lexer": "ipython3",
   "version": "3.7.6"
  }
 },
 "nbformat": 4,
 "nbformat_minor": 4
}
