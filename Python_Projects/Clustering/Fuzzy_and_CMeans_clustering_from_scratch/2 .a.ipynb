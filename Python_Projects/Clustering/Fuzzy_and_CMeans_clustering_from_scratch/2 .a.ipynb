{
 "cells": [
  {
   "cell_type": "code",
   "execution_count": 15,
   "metadata": {},
   "outputs": [],
   "source": [
    "\n",
    "%matplotlib inline\n",
    "from copy import deepcopy\n",
    "import numpy as np\n",
    "from mpl_toolkits.mplot3d import Axes3D\n",
    "import pandas as pd\n",
    "from matplotlib import pyplot as plt\n",
    "plt.rcParams['figure.figsize'] = (16, 9)\n",
    "plt.style.use('ggplot')\n",
    "%matplotlib inline\n",
    "from copy import deepcopy\n",
    "import numpy as np\n",
    "from mpl_toolkits.mplot3d import Axes3D\n",
    "import pandas as pd\n",
    "from matplotlib import pyplot as plt\n",
    "plt.rcParams['figure.figsize'] = (16, 9)\n",
    "plt.style.use('ggplot')\n",
    "# Importing the dataset\n",
    "\n",
    "#http://eneskemalergin.github.io/blog//blog/Fuzzy_Clustering/\n",
    "\n"
   ]
  },
  {
   "cell_type": "code",
   "execution_count": 16,
   "metadata": {},
   "outputs": [
    {
     "name": "stdout",
     "output_type": "stream",
     "text": [
      "(115, 4)\n"
     ]
    },
    {
     "data": {
      "text/html": [
       "<div>\n",
       "<style scoped>\n",
       "    .dataframe tbody tr th:only-of-type {\n",
       "        vertical-align: middle;\n",
       "    }\n",
       "\n",
       "    .dataframe tbody tr th {\n",
       "        vertical-align: top;\n",
       "    }\n",
       "\n",
       "    .dataframe thead th {\n",
       "        text-align: right;\n",
       "    }\n",
       "</style>\n",
       "<table border=\"1\" class=\"dataframe\">\n",
       "  <thead>\n",
       "    <tr style=\"text-align: right;\">\n",
       "      <th></th>\n",
       "      <th>all_NBME_avg_n4</th>\n",
       "      <th>all_PIs_avg_n131</th>\n",
       "      <th>HD_final</th>\n",
       "      <th>all_irats_avg_n34</th>\n",
       "    </tr>\n",
       "  </thead>\n",
       "  <tbody>\n",
       "    <tr>\n",
       "      <th>0</th>\n",
       "      <td>0.7700</td>\n",
       "      <td>0.6623</td>\n",
       "      <td>0.95</td>\n",
       "      <td>0.7356</td>\n",
       "    </tr>\n",
       "    <tr>\n",
       "      <th>1</th>\n",
       "      <td>0.8000</td>\n",
       "      <td>0.6107</td>\n",
       "      <td>0.84</td>\n",
       "      <td>0.6134</td>\n",
       "    </tr>\n",
       "    <tr>\n",
       "      <th>2</th>\n",
       "      <td>0.8125</td>\n",
       "      <td>0.6798</td>\n",
       "      <td>0.88</td>\n",
       "      <td>0.6762</td>\n",
       "    </tr>\n",
       "    <tr>\n",
       "      <th>3</th>\n",
       "      <td>0.9250</td>\n",
       "      <td>0.7652</td>\n",
       "      <td>0.91</td>\n",
       "      <td>0.7949</td>\n",
       "    </tr>\n",
       "    <tr>\n",
       "      <th>4</th>\n",
       "      <td>0.8550</td>\n",
       "      <td>0.6772</td>\n",
       "      <td>0.83</td>\n",
       "      <td>0.7169</td>\n",
       "    </tr>\n",
       "  </tbody>\n",
       "</table>\n",
       "</div>"
      ],
      "text/plain": [
       "   all_NBME_avg_n4  all_PIs_avg_n131  HD_final  all_irats_avg_n34\n",
       "0           0.7700            0.6623      0.95             0.7356\n",
       "1           0.8000            0.6107      0.84             0.6134\n",
       "2           0.8125            0.6798      0.88             0.6762\n",
       "3           0.9250            0.7652      0.91             0.7949\n",
       "4           0.8550            0.6772      0.83             0.7169"
      ]
     },
     "execution_count": 16,
     "metadata": {},
     "output_type": "execute_result"
    }
   ],
   "source": [
    "file = pd.read_csv('BSOM_DataSet_revised.csv')\n",
    "data=file[['all_NBME_avg_n4', 'all_PIs_avg_n131', 'HD_final','all_irats_avg_n34']]\n",
    "\n",
    "\n",
    "print(data.shape)\n",
    "data.head()\n",
    "\n"
   ]
  },
  {
   "cell_type": "code",
   "execution_count": 17,
   "metadata": {},
   "outputs": [],
   "source": [
    "# Getting the values and plotting it\n",
    "d1 = data['all_NBME_avg_n4'].values\n",
    "d2 = data['all_PIs_avg_n131'].values\n",
    "d3 = data['HD_final'].values\n",
    "d4 = data['all_irats_avg_n34'].values\n",
    "X = np.array(list(zip(d1, d2,d3,d4)))\n",
    "\n"
   ]
  },
  {
   "cell_type": "code",
   "execution_count": 18,
   "metadata": {},
   "outputs": [],
   "source": [
    "# Number of clusters\n",
    "k = 3\n",
    "\n",
    "C = np.array(data.sample(3))\n"
   ]
  },
  {
   "cell_type": "code",
   "execution_count": 19,
   "metadata": {},
   "outputs": [],
   "source": [
    "# Euclidean Distance Caculator\n",
    "def dist(a, b, ax=1):\n",
    "    return np.linalg.norm(a - b, axis=ax)"
   ]
  },
  {
   "cell_type": "code",
   "execution_count": 20,
   "metadata": {},
   "outputs": [
    {
     "name": "stdout",
     "output_type": "stream",
     "text": [
      "error 0.0\n",
      "The updated clusters are : [[0.6341075  0.6341075  0.6341075  0.6341075 ]\n",
      " [0.73194861 0.73194861 0.73194861 0.73194861]\n",
      " [0.81877317 0.81877317 0.81877317 0.81877317]]\n"
     ]
    }
   ],
   "source": [
    "\n",
    "\n",
    "# To store the value of centroids when it updates\n",
    "C_old = np.zeros(C.shape)\n",
    "# Cluster Lables(0, 1, 2)\n",
    "clusters = np.zeros(len(X))\n",
    "# Error func. - Distance between new centroids and old centroids\n",
    "error = dist(C, C_old, None)\n",
    "# Loop will run till the error becomes zero\n",
    "while error!=0:\n",
    "    # Assigning each value to its closest cluster\n",
    "    for i in range(len(X)):\n",
    "        distances = dist(X[i], C) # distances from points to clusetr \n",
    "        \n",
    "        #print('distances', distances)\n",
    "        cluster = np.argmin(distances)# finding min of three clusters \n",
    "        \n",
    "        #print('cluster',cluster)\n",
    "        clusters[i] = cluster # saving the clusters as 0,1,2 \n",
    "        #print('clusters[i]',clusters[i])\n",
    "    # Storing the old centroid values\n",
    "    C_old = deepcopy(C) # saving to c_old \n",
    "    #print('C_old',C_old)\n",
    "    # Finding the new centroids by taking the average value\n",
    "    #classified_cluster=np.array([])\n",
    "    points_list=[]\n",
    "    for i in range(k):\n",
    "        points = [X[j] for j in range(len(X)) if clusters[j] == i]\n",
    "        #print('points',points)\n",
    "        #points_df=pd.DataFrame(points).append()\n",
    "        \n",
    "        points_list.append(points)\n",
    "\n",
    "    \n",
    "        C[i] = np.mean(points)\n",
    "        #print(' C[i]', C[i])\n",
    "        error = dist(C, C_old, None)\n",
    "    #points_list.append(points)\n",
    "            \n",
    "       \n",
    "    \n",
    "    #print('error',error)\n",
    "    \n",
    "    \n",
    "print('error',error)\n",
    "    \n",
    "#print('points_list',points_list)\n",
    "\n",
    "\n",
    "\n",
    "    \n",
    "print('The updated clusters are :',C)\n"
   ]
  },
  {
   "cell_type": "markdown",
   "metadata": {},
   "source": [
    "## DB index calculation for k=3, data columns= 4"
   ]
  },
  {
   "cell_type": "code",
   "execution_count": 21,
   "metadata": {},
   "outputs": [
    {
     "name": "stdout",
     "output_type": "stream",
     "text": [
      "0\n",
      "1\n",
      "2\n",
      "Si3_final [0.313482044286986, 0.309291628065736, 0.5771896599066074]\n",
      "C3_12 [0.19568222]\n",
      "C3_13 [0.36933134]\n",
      "C3_23 [0.17364912]\n",
      "DB value for k=3  and num of data columns= 4  is  [1.06085889]\n"
     ]
    }
   ],
   "source": [
    "\n",
    "\n",
    "#------------------------- For k=3 DB index values------------------------\n",
    "\n",
    "\n",
    "Si3_dist=[i for i in range(len(points_list))]\n",
    "\n",
    "Si3_final=[]\n",
    "\n",
    "\n",
    "          \n",
    "for each in range(len(points_list)):\n",
    "    print(each)\n",
    "    \n",
    "    for si in points_list[each]:\n",
    "        \n",
    "        Si3=dist(si, C_old[[each]]) \n",
    "        \n",
    "        Si3_dist.append(Si3)\n",
    "        \n",
    "    Si3_= (1/len(points_list[each]))*np.sum(Si3_dist)\n",
    "    \n",
    "    Si3_final.append(Si3_)\n",
    "\n",
    "#print('Si3_dist',Si3_dist)\n",
    "print('Si3_final',Si3_final)   \n",
    " \n",
    "\n",
    "C3_12=dist(C_old[[0]],C_old[[1]])\n",
    "print('C3_12',C3_12)\n",
    "C3_13=dist(C_old[[0]],C_old[[2]])\n",
    "print('C3_13',C3_13)\n",
    "C3_23=dist(C_old[[1]],C_old[[2]])\n",
    "print('C3_23',C3_23)\n",
    "\n",
    "\n",
    "\n",
    "\n",
    "R3_12= (Si3_final[0]+Si3_final[1])/C3_12 #(S_i+S_j)/M_ij\n",
    "R3_13= (Si3_final[0]+Si3_final[2])/C3_13 #(S_i+S_j)/M_ij\n",
    "R3_23= (Si3_final[1]+Si3_final[2])/C3_13 #(S_i+S_j)/M_ij\n",
    "\n",
    "max_C3_R1=max(R3_12,R3_13)\n",
    "max_C3_R2=max(R3_12,R3_23)\n",
    "max_C3_R3=max(R3_13,R3_23)\n",
    "\n",
    "\n",
    "D3_i=max(max_C3_R1,max_C3_R2,max_C3_R3)\n",
    "\n",
    "\n",
    "\n",
    "DB_3=(1/3)*(D3_i)\n",
    "        \n",
    "print('DB value for k=3  and num of data columns= 4  is ',DB_3) \n",
    "\n"
   ]
  },
  {
   "cell_type": "code",
   "execution_count": null,
   "metadata": {},
   "outputs": [],
   "source": []
  }
 ],
 "metadata": {
  "kernelspec": {
   "display_name": "Python 3",
   "language": "python",
   "name": "python3"
  },
  "language_info": {
   "codemirror_mode": {
    "name": "ipython",
    "version": 3
   },
   "file_extension": ".py",
   "mimetype": "text/x-python",
   "name": "python",
   "nbconvert_exporter": "python",
   "pygments_lexer": "ipython3",
   "version": "3.7.0"
  }
 },
 "nbformat": 4,
 "nbformat_minor": 2
}
