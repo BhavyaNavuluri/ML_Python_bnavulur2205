{
 "cells": [
  {
   "cell_type": "code",
   "execution_count": 351,
   "metadata": {},
   "outputs": [],
   "source": [
    "\n",
    "%matplotlib inline\n",
    "from copy import deepcopy\n",
    "import numpy as np\n",
    "from mpl_toolkits.mplot3d import Axes3D\n",
    "import pandas as pd\n",
    "from matplotlib import pyplot as plt\n",
    "plt.style.use('ggplot')\n",
    "%matplotlib inline\n",
    "from copy import deepcopy\n",
    "import numpy as np\n",
    "from mpl_toolkits.mplot3d import Axes3D\n",
    "import pandas as pd\n",
    "from matplotlib import pyplot as plt\n",
    "plt.rcParams['figure.figsize'] = (16, 9)\n",
    "plt.style.use('ggplot')\n",
    "from random import *\n",
    "\n",
    "import math\n",
    "# Importing the dataset\n",
    "\n",
    "#http://eneskemalergin.github.io/blog//blog/Fuzzy_Clustering/\n",
    "\n"
   ]
  },
  {
   "cell_type": "code",
   "execution_count": 352,
   "metadata": {},
   "outputs": [
    {
     "name": "stdout",
     "output_type": "stream",
     "text": [
      "(115, 3)\n",
      "(115, 3)\n"
     ]
    }
   ],
   "source": [
    "file = pd.read_csv('BSOM_DataSet_reorganized.csv')\n",
    "data=file[['all_NBME_avg_n4', 'all_PIs_avg_n131', 'HD_final']]\n",
    "\n",
    "X=np.array(data)\n",
    "print(data.shape)\n",
    "data.head()\n",
    "\n",
    "print(X.shape)\n",
    "\n"
   ]
  },
  {
   "cell_type": "code",
   "execution_count": 353,
   "metadata": {},
   "outputs": [
    {
     "name": "stdout",
     "output_type": "stream",
     "text": [
      "115\n"
     ]
    }
   ],
   "source": [
    "# Number of Clusters\n",
    "clusters = 3\n",
    "\n",
    "\n",
    "# Number of data points\n",
    "n = len(data)\n",
    "print(n)\n",
    "\n",
    "\n",
    "# Fuzzy parameter\n",
    "fuzzifier = 2.00\n"
   ]
  },
  {
   "cell_type": "code",
   "execution_count": 354,
   "metadata": {},
   "outputs": [
    {
     "name": "stdout",
     "output_type": "stream",
     "text": [
      "[[0.81364267 0.72298281 0.82644107]\n",
      " [0.42948783 0.96202114 0.85035642]\n",
      " [0.72066878 0.63564941 0.9830935 ]]\n"
     ]
    }
   ],
   "source": [
    "# random centroids generation\n",
    "C0 = np.random.uniform(0.4,1.0,size=clusters)\n",
    "C1 = np.random.uniform(0.6,1.0,size=clusters)\n",
    "C2 = np.random.uniform(0.7,1.0,size=clusters)\n",
    "\n",
    "Centroids = np.array(list(zip(C0,C1,C2)))\n",
    "print(Centroids)\n",
    "#Centroids=np.array(data.sample(3))\n",
    "#print('Centroids',Centroids[0])"
   ]
  },
  {
   "cell_type": "code",
   "execution_count": 355,
   "metadata": {},
   "outputs": [],
   "source": [
    "# Euclidean Distance Caculator\n",
    "# Euclidean Distance Caculator\n",
    "\n",
    "def dist(a,b):\n",
    "        sum = 0\n",
    "        for m in range(len(a)):\n",
    "            for n in range(len(b)):\n",
    "\n",
    "                sum  += ((a[m][n] - b[m][n]))**2\n",
    "\n",
    "        ed = math.sqrt(sum)\n",
    "        return ed"
   ]
  },
  {
   "cell_type": "code",
   "execution_count": 356,
   "metadata": {},
   "outputs": [
    {
     "name": "stdout",
     "output_type": "stream",
     "text": [
      "productSum_df_c0 [0.74764074 0.73394483 0.71946877]\n",
      "productSum_df_c0 [0.05011018 0.04919222 0.04822197]\n",
      "productSum_df_c0 [0.59460853 0.58371599 0.57220299]\n",
      "productSum_df_c0 [0.74764074 0.73394483 0.71946877]\n",
      "productSum_df_c0 [0.05011018 0.04919222 0.04822197]\n",
      "productSum_df_c0 [0.59460853 0.58371599 0.57220299]\n",
      "7.541719040286242e-16\n",
      "[[0.74764074 0.05011018 0.59460853]\n",
      " [0.73394483 0.04919222 0.58371599]\n",
      " [0.71946877 0.04822197 0.57220299]]\n",
      "weights [0.8838653702233938, 0.011252405462019647, 0.1048822243145864]\n",
      "<class 'list'>\n"
     ]
    }
   ],
   "source": [
    "total_weights=[]\n",
    "c_updated=[]\n",
    "error = 10\n",
    "c_old = Centroids\n",
    "while (error > 0.2):\n",
    "    \n",
    "    for i in range(n):\n",
    "        weights=[]# weights of points for all the clusters \n",
    "        for w in range(3):\n",
    "            w0=(dist(X[[i]],Centroids[[w]])/dist(X[[i]],Centroids[[0]]))**fuzzifier\n",
    "            #print('w0',w0)\n",
    "\n",
    "            w1=(dist(X[[i]],Centroids[[w]])/dist(X[[i]],Centroids[[1]]))**fuzzifier\n",
    "            #print('w1',w1)\n",
    "            w2=(dist(X[[i]],Centroids[[w]])/dist(X[[i]],Centroids[[2]]))**fuzzifier\n",
    "            #print('w2',w2)\n",
    "            sum_val=w0+w1+w2\n",
    "                #print('sum_val',sum_val)\n",
    "\n",
    "                #print('sqr_sum',sqr_sum)\n",
    "            finl_weights=1/sum_val\n",
    "                #print('finl_weights',finl_weights)\n",
    "            #total_weights.append(finl_weights)\n",
    "            weights.append(finl_weights)\n",
    "        total_weights.append(weights)\n",
    "    #weights1_df=pd.DataFrame(total_weights)\n",
    "        \n",
    "        #print('total_weights',total_weights)\n",
    "\n",
    "    weights_df=pd.DataFrame(total_weights)\n",
    "\n",
    "    \n",
    "\n",
    "    #weights_df[0] = weights_df[0].str.get(0)\n",
    "    #weights_df[1] = weights_df[1].str.get(0)\n",
    "    #weights_df[2] = weights_df[2].str.get(0)\n",
    "\n",
    "\n",
    "    for l in range(clusters):\n",
    "        for v in range(n):# n = num of data points\n",
    "            product_c0=np.array(weights_df[[l]])*np.array(weights_df[[l]])*X[v]\n",
    "        product_c0_df=pd.DataFrame(product_c0)\n",
    "        #print('product_c0_df',product_c0_df)\n",
    "        productSum_df_c0=np.array(product_c0_df.sum(axis = 0))/np.sum(weights_df[l])\n",
    "        print('productSum_df_c0',productSum_df_c0)\n",
    "        #c_updated.append(productSum_df_c0)\n",
    "        if l==0:\n",
    "            c0=productSum_df_c0\n",
    "        if l==1:\n",
    "            c1=productSum_df_c0\n",
    "        if l==2:\n",
    "            c2=productSum_df_c0\n",
    "    c_updated = np.array(list(zip(c0,c1,c2)))\n",
    "    \n",
    "    \n",
    "    error = dist(c_old,c_updated)\n",
    "    c_old = c_updated\n",
    "    \n",
    "   \n",
    "    \n",
    "    \n",
    "print(error)\n",
    "\n",
    "#print(c_updated)\n",
    "print(c_old)\n",
    "#print('total_weights',total_weights)\n",
    "\n",
    "print('weights',weights)\n",
    "\n",
    "print(type(weights))"
   ]
  },
  {
   "cell_type": "code",
   "execution_count": 357,
   "metadata": {},
   "outputs": [
    {
     "name": "stdout",
     "output_type": "stream",
     "text": [
      "0      0\n",
      "1      0\n",
      "2      0\n",
      "3      0\n",
      "4      0\n",
      "5      0\n",
      "6      2\n",
      "7      0\n",
      "8      2\n",
      "9      0\n",
      "10     0\n",
      "11     0\n",
      "12     0\n",
      "13     0\n",
      "14     0\n",
      "15     0\n",
      "16     0\n",
      "17     0\n",
      "18     2\n",
      "19     0\n",
      "20     0\n",
      "21     2\n",
      "22     0\n",
      "23     0\n",
      "24     0\n",
      "25     0\n",
      "26     0\n",
      "27     0\n",
      "28     0\n",
      "29     2\n",
      "      ..\n",
      "200    0\n",
      "201    0\n",
      "202    0\n",
      "203    0\n",
      "204    2\n",
      "205    0\n",
      "206    0\n",
      "207    0\n",
      "208    0\n",
      "209    0\n",
      "210    0\n",
      "211    2\n",
      "212    0\n",
      "213    0\n",
      "214    2\n",
      "215    0\n",
      "216    0\n",
      "217    0\n",
      "218    0\n",
      "219    0\n",
      "220    0\n",
      "221    0\n",
      "222    0\n",
      "223    2\n",
      "224    0\n",
      "225    2\n",
      "226    0\n",
      "227    0\n",
      "228    2\n",
      "229    0\n",
      "Name: Labels, Length: 230, dtype: int64\n"
     ]
    }
   ],
   "source": [
    "clust_labels=[]\n",
    "for i in range(len(weights_df)):\n",
    "    labels_val= np.argmax(np.array(weights_df.iloc[i,:]))\n",
    "    clust_labels.append(labels_val)\n",
    "weights_df['Labels']=clust_labels  \n",
    "\n",
    "print(weights_df['Labels'])\n"
   ]
  },
  {
   "cell_type": "code",
   "execution_count": 358,
   "metadata": {},
   "outputs": [
    {
     "data": {
      "text/plain": [
       "\"\\nfor i in range(len(weights_df[:-115])):\\n    if (weights_df.iloc[i,-1]==0):\\n        points_list0.append(np.array(weights_df.iloc[i,:-1]))\\n    if (weights_df.iloc[i,-1]==1):\\n        points_list1.append(np.array(weights_df.iloc[i,:-1]))\\n    if (weights_df.iloc[i,-1]==2):\\n        points_list2.append(np.array(weights_df.iloc[i,:-1]))\\n\\nprint('points_list0',points_list0)\\nprint(len(points_list0))\\nprint(len(points_list1))\\nprint(len(points_list2))\\n#print('points_list1',points_list1)\\n#print('points_list2',points_list2)\\npoints_list0.append(X[i])\\n    if (weights_df.iloc[i,-1]==1):\\n        points_list1.append(X[i])\\n    if (weights_df.iloc[i,-1]==2):\\n        points_list2.append(X[i])\\n\\n\""
      ]
     },
     "execution_count": 358,
     "metadata": {},
     "output_type": "execute_result"
    }
   ],
   "source": [
    "#print(weights_df)\n",
    "points_list0=[]\n",
    "points_list1=[]\n",
    "points_list2=[]\n",
    "\n",
    "for i in range(len(weights_df[:-115])):\n",
    "    if (weights_df.iloc[i,-1]==0):\n",
    "        points_list0.append(X[i])\n",
    "    if (weights_df.iloc[i,-1]==1):\n",
    "        points_list1.append(X[i])\n",
    "    if (weights_df.iloc[i,-1]==2):\n",
    "        points_list2.append(X[i])\n",
    "\"\"\"\n",
    "for i in range(len(weights_df[:-115])):\n",
    "    if (weights_df.iloc[i,-1]==0):\n",
    "        points_list0.append(np.array(weights_df.iloc[i,:-1]))\n",
    "    if (weights_df.iloc[i,-1]==1):\n",
    "        points_list1.append(np.array(weights_df.iloc[i,:-1]))\n",
    "    if (weights_df.iloc[i,-1]==2):\n",
    "        points_list2.append(np.array(weights_df.iloc[i,:-1]))\n",
    "\n",
    "print('points_list0',points_list0)\n",
    "print(len(points_list0))\n",
    "print(len(points_list1))\n",
    "print(len(points_list2))\n",
    "#print('points_list1',points_list1)\n",
    "#print('points_list2',points_list2)\n",
    "points_list0.append(X[i])\n",
    "    if (weights_df.iloc[i,-1]==1):\n",
    "        points_list1.append(X[i])\n",
    "    if (weights_df.iloc[i,-1]==2):\n",
    "        points_list2.append(X[i])\n",
    "\n",
    "\"\"\""
   ]
  },
  {
   "cell_type": "code",
   "execution_count": 359,
   "metadata": {},
   "outputs": [],
   "source": [
    "points_list3=[]\n",
    "points_list3.append(points_list0 )\n",
    "points_list3.append(points_list1 )\n",
    "points_list3.append(points_list2 )\n",
    "\n"
   ]
  },
  {
   "cell_type": "code",
   "execution_count": 360,
   "metadata": {},
   "outputs": [
    {
     "ename": "ZeroDivisionError",
     "evalue": "division by zero",
     "output_type": "error",
     "traceback": [
      "\u001b[1;31m---------------------------------------------------------------------------\u001b[0m",
      "\u001b[1;31mZeroDivisionError\u001b[0m                         Traceback (most recent call last)",
      "\u001b[1;32m<ipython-input-360-6fe06a4bafbd>\u001b[0m in \u001b[0;36m<module>\u001b[1;34m()\u001b[0m\n\u001b[0;32m     23\u001b[0m         \u001b[0mSi3_dist\u001b[0m\u001b[1;33m.\u001b[0m\u001b[0mappend\u001b[0m\u001b[1;33m(\u001b[0m\u001b[0mSi3\u001b[0m\u001b[1;33m)\u001b[0m\u001b[1;33m\u001b[0m\u001b[0m\n\u001b[0;32m     24\u001b[0m         \u001b[1;31m#print(Si3_dist)\u001b[0m\u001b[1;33m\u001b[0m\u001b[1;33m\u001b[0m\u001b[0m\n\u001b[1;32m---> 25\u001b[1;33m     \u001b[0mSi3_\u001b[0m\u001b[1;33m=\u001b[0m \u001b[1;33m(\u001b[0m\u001b[1;36m1\u001b[0m\u001b[1;33m/\u001b[0m\u001b[0mlen\u001b[0m\u001b[1;33m(\u001b[0m\u001b[0mpoints_list3\u001b[0m\u001b[1;33m[\u001b[0m\u001b[0meach\u001b[0m\u001b[1;33m]\u001b[0m\u001b[1;33m)\u001b[0m\u001b[1;33m)\u001b[0m\u001b[1;33m*\u001b[0m\u001b[0mnp\u001b[0m\u001b[1;33m.\u001b[0m\u001b[0msum\u001b[0m\u001b[1;33m(\u001b[0m\u001b[0mSi3_dist\u001b[0m\u001b[1;33m)\u001b[0m\u001b[1;33m\u001b[0m\u001b[0m\n\u001b[0m\u001b[0;32m     26\u001b[0m \u001b[1;33m\u001b[0m\u001b[0m\n\u001b[0;32m     27\u001b[0m     \u001b[0mSi3_final\u001b[0m\u001b[1;33m.\u001b[0m\u001b[0mappend\u001b[0m\u001b[1;33m(\u001b[0m\u001b[0mSi3_\u001b[0m\u001b[1;33m)\u001b[0m\u001b[1;33m\u001b[0m\u001b[0m\n",
      "\u001b[1;31mZeroDivisionError\u001b[0m: division by zero"
     ]
    }
   ],
   "source": [
    "\n",
    "\n",
    "#------------------------- For k=3 DB index values------------------------\n",
    "\n",
    "\n",
    "def euc_dist(a, b, ax=1):\n",
    "    return np.linalg.norm(a - b, axis=ax)\n",
    "\n",
    "\n",
    "Si3_dist=[i for i in range(len(points_list3))]\n",
    "\n",
    "Si3_final=[]\n",
    "\n",
    "\n",
    "          \n",
    "for each in range(len(points_list3)):\n",
    "    #print(each)\n",
    "    \n",
    "    for si in points_list3[each]:\n",
    "        \n",
    "        Si3=euc_dist(si, c_updated[[each]]) \n",
    "        \n",
    "        Si3_dist.append(Si3)\n",
    "        #print(Si3_dist)\n",
    "    Si3_= (1/len(points_list3[each]))*np.sum(Si3_dist)\n",
    "    \n",
    "    Si3_final.append(Si3_)\n",
    "\n",
    "#print('Si3_dist',Si3_dist)\n",
    "#print('Si3_final',Si3_final)   \n",
    " \n",
    "\n",
    "C3_12=euc_dist(c_updated[[0]],c_updated[[1]])\n",
    "#print('C3_12',C3_12)\n",
    "C3_13=euc_dist(c_updated[[0]],c_updated[[2]])\n",
    "#print('C3_13',C3_13)\n",
    "C3_23=euc_dist(c_updated[[1]],c_updated[[2]])\n",
    "#print('C3_23',C3_23)\n",
    "\n",
    "\n",
    "\n",
    "\n",
    "R3_12= (Si3_final[0]+Si3_final[1])/C3_12 #(S_i+S_j)/M_ij\n",
    "R3_13= (Si3_final[0]+Si3_final[2])/C3_13 #(S_i+S_j)/M_ij\n",
    "R3_23= (Si3_final[1]+Si3_final[2])/C3_13 #(S_i+S_j)/M_ij\n",
    "\n",
    "max_C3_R1=max(R3_12,R3_13)\n",
    "max_C3_R2=max(R3_12,R3_23)\n",
    "max_C3_R3=max(R3_13,R3_23)\n",
    "\n",
    "\n",
    "D3_i=max(max_C3_R1,max_C3_R2,max_C3_R3)\n",
    "\n",
    "\n",
    "\n",
    "DB_3=(1/3)*(D3_i)\n",
    "        \n",
    "print('DB value for k=3 with 3 features by using Fuzzy logic  is ',DB_3) \n",
    "\n"
   ]
  },
  {
   "cell_type": "code",
   "execution_count": null,
   "metadata": {},
   "outputs": [],
   "source": []
  },
  {
   "cell_type": "code",
   "execution_count": null,
   "metadata": {},
   "outputs": [],
   "source": []
  }
 ],
 "metadata": {
  "kernelspec": {
   "display_name": "Python 3",
   "language": "python",
   "name": "python3"
  },
  "language_info": {
   "codemirror_mode": {
    "name": "ipython",
    "version": 3
   },
   "file_extension": ".py",
   "mimetype": "text/x-python",
   "name": "python",
   "nbconvert_exporter": "python",
   "pygments_lexer": "ipython3",
   "version": "3.7.0"
  }
 },
 "nbformat": 4,
 "nbformat_minor": 2
}
