{
 "cells": [
  {
   "cell_type": "code",
   "execution_count": 1,
   "metadata": {},
   "outputs": [
    {
     "data": {
      "text/html": [
       "<div>\n",
       "<style scoped>\n",
       "    .dataframe tbody tr th:only-of-type {\n",
       "        vertical-align: middle;\n",
       "    }\n",
       "\n",
       "    .dataframe tbody tr th {\n",
       "        vertical-align: top;\n",
       "    }\n",
       "\n",
       "    .dataframe thead th {\n",
       "        text-align: right;\n",
       "    }\n",
       "</style>\n",
       "<table border=\"1\" class=\"dataframe\">\n",
       "  <thead>\n",
       "    <tr style=\"text-align: right;\">\n",
       "      <th></th>\n",
       "      <th>all_mcqs_avg_n20</th>\n",
       "      <th>all_NBME_avg_n4</th>\n",
       "      <th>CBSE_01</th>\n",
       "      <th>CBSE_02</th>\n",
       "      <th>LEVEL</th>\n",
       "    </tr>\n",
       "  </thead>\n",
       "  <tbody>\n",
       "    <tr>\n",
       "      <td>0</td>\n",
       "      <td>0.736</td>\n",
       "      <td>0.7700</td>\n",
       "      <td>42</td>\n",
       "      <td>68.0</td>\n",
       "      <td>1</td>\n",
       "    </tr>\n",
       "    <tr>\n",
       "      <td>1</td>\n",
       "      <td>0.740</td>\n",
       "      <td>0.8000</td>\n",
       "      <td>44</td>\n",
       "      <td>67.0</td>\n",
       "      <td>2</td>\n",
       "    </tr>\n",
       "    <tr>\n",
       "      <td>2</td>\n",
       "      <td>0.807</td>\n",
       "      <td>0.8125</td>\n",
       "      <td>41</td>\n",
       "      <td>78.0</td>\n",
       "      <td>0</td>\n",
       "    </tr>\n",
       "    <tr>\n",
       "      <td>3</td>\n",
       "      <td>0.886</td>\n",
       "      <td>0.9250</td>\n",
       "      <td>68</td>\n",
       "      <td>91.0</td>\n",
       "      <td>0</td>\n",
       "    </tr>\n",
       "    <tr>\n",
       "      <td>4</td>\n",
       "      <td>0.839</td>\n",
       "      <td>0.8550</td>\n",
       "      <td>57</td>\n",
       "      <td>74.0</td>\n",
       "      <td>1</td>\n",
       "    </tr>\n",
       "    <tr>\n",
       "      <td>...</td>\n",
       "      <td>...</td>\n",
       "      <td>...</td>\n",
       "      <td>...</td>\n",
       "      <td>...</td>\n",
       "      <td>...</td>\n",
       "    </tr>\n",
       "    <tr>\n",
       "      <td>110</td>\n",
       "      <td>0.637</td>\n",
       "      <td>0.6825</td>\n",
       "      <td>45</td>\n",
       "      <td>52.0</td>\n",
       "      <td>2</td>\n",
       "    </tr>\n",
       "    <tr>\n",
       "      <td>111</td>\n",
       "      <td>0.751</td>\n",
       "      <td>0.8150</td>\n",
       "      <td>53</td>\n",
       "      <td>60.0</td>\n",
       "      <td>2</td>\n",
       "    </tr>\n",
       "    <tr>\n",
       "      <td>112</td>\n",
       "      <td>0.811</td>\n",
       "      <td>0.8325</td>\n",
       "      <td>50</td>\n",
       "      <td>77.0</td>\n",
       "      <td>1</td>\n",
       "    </tr>\n",
       "    <tr>\n",
       "      <td>113</td>\n",
       "      <td>0.729</td>\n",
       "      <td>0.7275</td>\n",
       "      <td>43</td>\n",
       "      <td>68.0</td>\n",
       "      <td>2</td>\n",
       "    </tr>\n",
       "    <tr>\n",
       "      <td>114</td>\n",
       "      <td>0.839</td>\n",
       "      <td>0.8625</td>\n",
       "      <td>54</td>\n",
       "      <td>73.0</td>\n",
       "      <td>1</td>\n",
       "    </tr>\n",
       "  </tbody>\n",
       "</table>\n",
       "<p>115 rows × 5 columns</p>\n",
       "</div>"
      ],
      "text/plain": [
       "     all_mcqs_avg_n20  all_NBME_avg_n4  CBSE_01  CBSE_02  LEVEL\n",
       "0               0.736           0.7700       42     68.0      1\n",
       "1               0.740           0.8000       44     67.0      2\n",
       "2               0.807           0.8125       41     78.0      0\n",
       "3               0.886           0.9250       68     91.0      0\n",
       "4               0.839           0.8550       57     74.0      1\n",
       "..                ...              ...      ...      ...    ...\n",
       "110             0.637           0.6825       45     52.0      2\n",
       "111             0.751           0.8150       53     60.0      2\n",
       "112             0.811           0.8325       50     77.0      1\n",
       "113             0.729           0.7275       43     68.0      2\n",
       "114             0.839           0.8625       54     73.0      1\n",
       "\n",
       "[115 rows x 5 columns]"
      ]
     },
     "execution_count": 1,
     "metadata": {},
     "output_type": "execute_result"
    }
   ],
   "source": [
    "import numpy as np\n",
    "import pandas as pd\n",
    "from sklearn.model_selection import train_test_split\n",
    "import matplotlib.pyplot as plt\n",
    "import seaborn as sns\n",
    "import warnings\n",
    "warnings.filterwarnings('ignore')\n",
    "from sklearn.metrics import confusion_matrix\n",
    "from sklearn.metrics import accuracy_score\n",
    "from sklearn.metrics import f1_score\n",
    "from sklearn.metrics import accuracy_score, f1_score, precision_score, recall_score, classification_report, confusion_matrix\n",
    "\n",
    "\n",
    "#from sklearn.preprocessing import LabelEncoder\n",
    "\n",
    "\n",
    "#  loading the data set \n",
    "file = pd.read_csv('BSOM_DataSet_for_HW2.csv')\n",
    "\n",
    "df1=file[['all_mcqs_avg_n20','all_NBME_avg_n4','CBSE_01','CBSE_02','LEVEL']]\n",
    "\n",
    "df1['CBSE_02'].fillna(df1['CBSE_02'].mean(),inplace=True)\n",
    "\n",
    "df1['LEVEL'].fillna(value='A', inplace=True) \n",
    "\n",
    "#df.fillna(df['STEP_1'].mean(), inplace=True)\n",
    "LEVEL = {'A': 0,'B': 1,'C':2,'D':3}\n",
    "\n",
    "df1.LEVEL = [LEVEL[item] for item in df1.LEVEL] \n",
    "#print(df) \n",
    "\n",
    "df1.isna().sum()\n",
    "df1"
   ]
  },
  {
   "cell_type": "code",
   "execution_count": 2,
   "metadata": {},
   "outputs": [
    {
     "data": {
      "image/png": "[encoded data removed]",
      "text/plain": [
       "<Figure size 360x360 with 2 Axes>"
      ]
     },
     "metadata": {
      "needs_background": "light"
     },
     "output_type": "display_data"
    }
   ],
   "source": [
    "corr = df1.corr()\n",
    "\n",
    "fig, ax = plt.subplots(figsize=(5, 5))\n",
    "    \n",
    "colormap = sns.diverging_palette(100, 50, as_cmap=True)\n",
    "    \n",
    "sns.heatmap(corr, cmap=colormap, annot=True, fmt=\".2f\")\n",
    "    \n",
    "plt.xticks(range(len(corr.columns)), corr.columns);\n",
    "    \n",
    "plt.yticks(range(len(corr.columns)), corr.columns)\n",
    "    \n",
    "plt.show()"
   ]
  },
  {
   "cell_type": "markdown",
   "metadata": {},
   "source": [
    "## Feature Selection"
   ]
  },
  {
   "cell_type": "code",
   "execution_count": 3,
   "metadata": {},
   "outputs": [
    {
     "data": {
      "text/plain": [
       "all_mcqs_avg_n20    0\n",
       "CBSE_01             0\n",
       "CBSE_02             0\n",
       "LEVEL               0\n",
       "dtype: int64"
      ]
     },
     "execution_count": 3,
     "metadata": {},
     "output_type": "execute_result"
    }
   ],
   "source": [
    "df=df1[['all_mcqs_avg_n20','CBSE_01','CBSE_02','LEVEL']]\n",
    "df.isna().sum()"
   ]
  },
  {
   "cell_type": "code",
   "execution_count": 4,
   "metadata": {},
   "outputs": [],
   "source": [
    "X= np.array(df.iloc[:,0:3])\n",
    "\n",
    "#X = np.c_[np.ones((len(X), 1)), X]\n",
    "\n",
    "#target=df.iloc[:,-1]\n",
    "#X_train, X_test, y_train, y_test = train_test_split(X,target, test_size=0.20, random_state =0)\n",
    "\n",
    "\n",
    "#X_train"
   ]
  },
  {
   "cell_type": "markdown",
   "metadata": {},
   "source": [
    "## with feature scaling"
   ]
  },
  {
   "cell_type": "code",
   "execution_count": 5,
   "metadata": {},
   "outputs": [
    {
     "name": "stdout",
     "output_type": "stream",
     "text": [
      "     all_mcqs_avg_n20   CBSE_01   CBSE_02\n",
      "0           -0.151130 -0.182360 -0.057895\n",
      "1           -0.137797 -0.125217 -0.077895\n",
      "2            0.085536 -0.210932  0.142105\n",
      "3            0.348870  0.560497  0.402105\n",
      "4            0.192203  0.246211  0.062105\n",
      "..                ...       ...       ...\n",
      "110         -0.481130 -0.096646 -0.377895\n",
      "111         -0.101130  0.131925 -0.217895\n",
      "112          0.098870  0.046211  0.122105\n",
      "113         -0.174464 -0.153789 -0.057895\n",
      "114          0.192203  0.160497  0.042105\n",
      "\n",
      "[115 rows x 3 columns]\n"
     ]
    }
   ],
   "source": [
    "df2=df.iloc[:,:-1]\n",
    "\n",
    "df_FS=(df2-df2.mean())/(df2.max()-df2.min())\n",
    "print(df_FS)\n",
    "X1= np.array(df_FS)\n",
    "target=df.iloc[:,-1]\n",
    "X_train_FS, X_test_FS, y_train_FS, y_test_FS = train_test_split(X1,target, test_size=0.30, random_state =0)\n",
    "\n"
   ]
  },
  {
   "cell_type": "code",
   "execution_count": 6,
   "metadata": {},
   "outputs": [],
   "source": [
    "\n",
    "def sigmoid(x):\n",
    "    return 1/(1 + np.exp(-x))\n",
    "\n",
    "def  Cost(X_train,theta,y_mapp,lambdaa):\n",
    "    y_pred =  sigmoid(X_train.dot(theta))\n",
    "    error = (-y_mapp * np.log(y_pred)) - ((1-y_mapp)*np.log(1-y_pred))    \n",
    "    cost = 1/len(X_train) * sum(error)   \n",
    "    cost_Reg = cost + (lambdaa/(len(X_train))) * sum(np.square(theta))\n",
    "    return cost_Reg\n",
    "\n",
    "def Mapping(i,y_train):\n",
    "    ymapped=np.where(y_train == i, 1, 0)\n",
    "    return ymapped\n",
    "\n",
    "def gradient_Descent(X_train,y_train,epochss,alphaa,lambdaa):\n",
    "    \n",
    "    X_train = np.c_[np.ones((len(X_train), 1)), X_train]\n",
    "    theta = []\n",
    "    cost_value=[]\n",
    "    thetas_inside =  np.random.rand(4,1) \n",
    "    # here i in range 4 since we have four class labels\n",
    "    for i in range(4):\n",
    "        # Mapping like one versus all\n",
    "        y_mapp=Mapping(i,y_train)\n",
    "        cost_each = np.zeros(epochss)\n",
    "        e= 0\n",
    "            \n",
    "        while (e < epochss):\n",
    "\n",
    "            cost_each[i] = Cost(X_train,thetas_inside,y_mapp,lambdaa)\n",
    "            ynot = sigmoid(np.dot(X_train,(thetas_inside)))\n",
    "            c1=np.sum(np.dot(X_train.T,(ynot - y_mapp))+(lambdaa * thetas_inside))\n",
    "            thetas_inside = thetas_inside -(alphaa/ len(X_train)) *(c1)\n",
    "            thetas_inside[0] = thetas_inside[0]- (alphaa / len(X_train)) * np.dot(X_train.T,(ynot - y_mapp))[0]\n",
    "            e+=1\n",
    "        theta.append(thetas_inside)\n",
    "        cost_value.append(cost_each)\n",
    "\n",
    "\n",
    "    return theta\n",
    "\n",
    "\n",
    "def LogisticRegression( X_train, y_train,epochss,alphaa,lambdaa):\n",
    "\n",
    "    \n",
    "    \n",
    "    y_train = y_train.to_numpy().reshape(len(X_train),1)\n",
    "    thetas_pred=gradient_Descent(X_train,y_train,epochss,alphaa,lambdaa)\n",
    "    \n",
    "    return thetas_pred\n",
    "      \n",
    "        \n"
   ]
  },
  {
   "cell_type": "code",
   "execution_count": 7,
   "metadata": {},
   "outputs": [],
   "source": [
    "def Predict(X_test,thetas1):\n",
    "    \n",
    "    X = np.c_[np.ones((len(X_test), 1)), X_test]\n",
    "    thetaA=[]\n",
    "    thetaB=[]\n",
    "    thetaC=[]\n",
    "    thetaD=[]\n",
    "\n",
    "  \n",
    "\n",
    "\n",
    "    val1_sig=np.matrix(thetas1[0].T)*np.array(X.T)\n",
    "    val1=sigmoid(val1_sig)\n",
    "    val2_sig=np.matrix(thetas1[1].T)*np.array(X.T)\n",
    "    val2=sigmoid(val2_sig)\n",
    "\n",
    "    val3_sig=np.matrix(thetas1[2].T)*np.array(X.T)\n",
    "    val3=sigmoid(val3_sig)\n",
    "    val4_sig=np.matrix(thetas1[3].T)*np.array(X.T)\n",
    "    val4=sigmoid(val4_sig)\n",
    "    val2_df=pd.DataFrame(val2)\n",
    "    val3_df=pd.DataFrame(val3)\n",
    "    val4_df=pd.DataFrame(val4)\n",
    "    belongs_to=pd.DataFrame(val1)\n",
    "\n",
    "\n",
    "    belongs_to=pd.concat([belongs_to,val2_df], ignore_index=True)\n",
    "    belongs_to=pd.concat([belongs_to,val3_df], ignore_index=True)\n",
    "    belongs_to=pd.concat([belongs_to,val4_df], ignore_index=True)\n",
    "\n",
    "    belongs_to_T=belongs_to.T\n",
    "\n",
    "    \n",
    "\n",
    "    values=belongs_to_T.idxmax(axis=1)\n",
    "    return values\n",
    "\n"
   ]
  },
  {
   "cell_type": "markdown",
   "metadata": {},
   "source": [
    "# # feature scaling  and regularisation"
   ]
  },
  {
   "cell_type": "code",
   "execution_count": 8,
   "metadata": {},
   "outputs": [],
   "source": [
    "thetas1_FS=LogisticRegression(X_train_FS,y_train_FS,10000,0.1,0.001)\n",
    "\n",
    "y_pred_FS1=Predict(X_test_FS,thetas1_FS)\n",
    "\n"
   ]
  },
  {
   "cell_type": "code",
   "execution_count": 9,
   "metadata": {},
   "outputs": [
    {
     "name": "stdout",
     "output_type": "stream",
     "text": [
      "0.5428571428571428\n",
      "For lambda = 0.001, alpha =10000,learning rate=0.1\n",
      "confusion_matrix\n",
      "[[6 1 0 0]\n",
      " [5 8 1 0]\n",
      " [0 7 5 0]\n",
      " [0 1 1 0]]\n",
      "accuracy_score 0.5428571428571428\n",
      "              precision    recall  f1-score   support\n",
      "\n",
      "           0       0.55      0.86      0.67         7\n",
      "           1       0.47      0.57      0.52        14\n",
      "           2       0.71      0.42      0.53        12\n",
      "           3       0.00      0.00      0.00         2\n",
      "\n",
      "   micro avg       0.54      0.54      0.54        35\n",
      "   macro avg       0.43      0.46      0.43        35\n",
      "weighted avg       0.54      0.54      0.52        35\n",
      "\n",
      "f1_score 0.4272778720996038\n",
      "precision_score 0.4325821237585944\n",
      "recall_score 0.4613095238095238\n"
     ]
    }
   ],
   "source": [
    "print(accuracy_score(y_test_FS, y_pred_FS1))\n",
    "\n",
    "\n",
    "print('For lambda = 0.001, alpha =10000,learning rate=0.1')\n",
    "print('confusion_matrix')\n",
    "print(confusion_matrix(y_test_FS, y_pred_FS1))\n",
    "print('accuracy_score',accuracy_score(y_test_FS, y_pred_FS1))\n",
    "print(classification_report(y_test_FS, y_pred_FS1))\n",
    "print('f1_score',f1_score(y_test_FS, y_pred_FS1, average=\"macro\"))\n",
    "print('precision_score',precision_score(y_test_FS, y_pred_FS1, average=\"macro\"))\n",
    "print('recall_score',recall_score(y_test_FS, y_pred_FS1, average=\"macro\"))  "
   ]
  },
  {
   "cell_type": "code",
   "execution_count": 10,
   "metadata": {},
   "outputs": [
    {
     "data": {
      "text/plain": [
       "'\\nfrom sklearn.linear_model import LogisticRegression\\nclf=LogisticRegression(multi_class=\\'multinomial\\', solver=\\'newton-cg\\')\\n#clf=SGDRegressor(alpha=0.001, max_iter=2000)\\nclf.fit(X_train_FS, y_train_FS)\\ny_pre=clf.predict(X_test_FS)\\nprint(y_pre)\\n\\nprint(\\'The confuision matrix is :\\')\\nprint(confusion_matrix(y_test_FS, y_pre))\\nprint(\\'The accuracy is \\',accuracy_score(y_test_FS, y_pre))\\n\\nprint(classification_report(y_test_FS, y_pre))\\n\\nprint(\\'f1_score\\',f1_score(y_test_FS, y_pre, average=\"macro\"))\\nprint(\\'precision_score\\',precision_score(y_test_FS, y_pre, average=\"macro\"))\\nprint(\\'recall_score\\',recall_score(y_test_FS, y_pre, average=\"macro\"))  \\n\\n\\n'"
      ]
     },
     "execution_count": 10,
     "metadata": {},
     "output_type": "execute_result"
    }
   ],
   "source": [
    "# Sklearn \n",
    "\n",
    "\"\"\"\n",
    "from sklearn.linear_model import LogisticRegression\n",
    "clf=LogisticRegression(multi_class='multinomial', solver='newton-cg')\n",
    "#clf=SGDRegressor(alpha=0.001, max_iter=2000)\n",
    "clf.fit(X_train_FS, y_train_FS)\n",
    "y_pre=clf.predict(X_test_FS)\n",
    "print(y_pre)\n",
    "\n",
    "print('The confuision matrix is :')\n",
    "print(confusion_matrix(y_test_FS, y_pre))\n",
    "print('The accuracy is ',accuracy_score(y_test_FS, y_pre))\n",
    "\n",
    "print(classification_report(y_test_FS, y_pre))\n",
    "\n",
    "print('f1_score',f1_score(y_test_FS, y_pre, average=\"macro\"))\n",
    "print('precision_score',precision_score(y_test_FS, y_pre, average=\"macro\"))\n",
    "print('recall_score',recall_score(y_test_FS, y_pre, average=\"macro\"))  \n",
    "\n",
    "\n",
    "\"\"\""
   ]
  }
 ],
 "metadata": {
  "kernelspec": {
   "display_name": "Python 3",
   "language": "python",
   "name": "python3"
  },
  "language_info": {
   "codemirror_mode": {
    "name": "ipython",
    "version": 3
   },
   "file_extension": ".py",
   "mimetype": "text/x-python",
   "name": "python",
   "nbconvert_exporter": "python",
   "pygments_lexer": "ipython3",
   "version": "3.7.0"
  }
 },
 "nbformat": 4,
 "nbformat_minor": 2
}
