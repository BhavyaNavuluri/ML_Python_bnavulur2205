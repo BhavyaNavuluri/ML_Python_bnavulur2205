{
 "cells": [
  {
   "cell_type": "code",
   "execution_count": 1,
   "metadata": {},
   "outputs": [
    {
     "name": "stdout",
     "output_type": "stream",
     "text": [
      "     all_mcqs_avg_n20  all_NBME_avg_n4  LEVEL\n",
      "0               0.736           0.7700      1\n",
      "1               0.740           0.8000      2\n",
      "2               0.807           0.8125      0\n",
      "3               0.886           0.9250      0\n",
      "4               0.839           0.8550      1\n",
      "..                ...              ...    ...\n",
      "110             0.637           0.6825      2\n",
      "111             0.751           0.8150      2\n",
      "112             0.811           0.8325      1\n",
      "113             0.729           0.7275      2\n",
      "114             0.839           0.8625      1\n",
      "\n",
      "[115 rows x 3 columns]\n"
     ]
    }
   ],
   "source": [
    "import numpy as np\n",
    "import pandas as pd\n",
    "from sklearn.model_selection import train_test_split\n",
    "import matplotlib.pyplot as plt\n",
    "import seaborn as sn\n",
    "import warnings\n",
    "warnings.filterwarnings('ignore')\n",
    "from sklearn.metrics import confusion_matrix\n",
    "from sklearn.metrics import f1_score\n",
    "\n",
    "from sklearn.metrics import accuracy_score\n",
    "from sklearn.metrics import accuracy_score, f1_score, precision_score, recall_score, classification_report, confusion_matrix\n",
    "\n",
    "\n",
    "\n",
    "#  loading the data set \n",
    "file = pd.read_csv('BSOM_DataSet_for_HW2.csv')\n",
    "\n",
    "df=file[['all_mcqs_avg_n20','all_NBME_avg_n4','LEVEL']]\n",
    "\n",
    "df['LEVEL'].fillna(value='A', inplace=True) \n",
    "\n",
    "#df.fillna(df['STEP_1'].mean(), inplace=True)\n",
    "LEVEL = {'A': 0,'B': 1,'C':2,'D':3}\n",
    "\n",
    "df.LEVEL = [LEVEL[item] for item in df.LEVEL] \n",
    "print(df) \n",
    "X= np.array(df.iloc[:,0:2])\n",
    "\n",
    "target=df.iloc[:,-1]\n",
    "X_train, X_test, y_train, y_test = train_test_split(X,target, test_size=0.30, random_state =0)\n",
    "\n",
    "\n"
   ]
  },
  {
   "cell_type": "code",
   "execution_count": 2,
   "metadata": {},
   "outputs": [],
   "source": [
    "\n",
    "def sigmoid(x):\n",
    "    return 1/(1 + np.exp(-x))\n",
    "\n",
    "def  Cost(X_train,theta,y_mapp):\n",
    "    y_pred =  sigmoid(X_train.dot(theta))\n",
    "    cost = np.sum((-y_mapp * np.log(y_pred)) - ((1-y_mapp)*np.log(1-y_pred)))/ len(X_train) \n",
    "    #print('cost',cost)\n",
    "    return cost\n",
    "\n",
    "def Mapping(i,y_train):\n",
    "    ymapped=np.where(y_train == i, 1, 0)\n",
    "    return ymapped\n",
    "\n",
    "def gradient_Descent(X_train,y_train,epochss,alphaa):\n",
    "    theta = []\n",
    "    cost_value=[]\n",
    "    c_t=[]\n",
    "    thetas_inside =  np.random.rand(3,1) \n",
    "    X_train = np.c_[np.ones((len(X_train), 1)), X_train]\n",
    "    # here i in range 4 since we have four class labels\n",
    "    for i in range(4):\n",
    "        y_mapp=Mapping(i,y_train)\n",
    "        cost_each = np.zeros(epochss)\n",
    "        e= 0\n",
    "            \n",
    "        while (e < epochss):\n",
    "\n",
    "            cost_each[i] = Cost(X_train,thetas_inside,y_mapp)\n",
    "            c1=Cost(X_train,thetas_inside,y_mapp)\n",
    "            ynot = sigmoid(np.dot(X_train,(thetas_inside)))\n",
    "            thetas_inside = thetas_inside - ((alphaa / len(X_train)) * np.sum(np.dot(X_train.T,(ynot - y_mapp))))\n",
    "            \n",
    "            c_t.append(c1)  \n",
    "\n",
    "            e+=1\n",
    "            \n",
    "        \n",
    "        theta.append(thetas_inside)\n",
    "        cost_value.append(cost_each)\n",
    "    \n",
    "\n",
    "\n",
    "    return theta,c_t\n",
    "\n",
    "\n",
    "def LogisticRegression( X_train, y_train,epochss,alphaa):\n",
    "\n",
    "    y_train = y_train.to_numpy().reshape(len(X_train),1)\n",
    "    \n",
    "    thetas_pred,c_t=gradient_Descent(X_train,y_train,epochss,alphaa)\n",
    "    return thetas_pred,c_t\n",
    "      \n",
    "        \n",
    "thetas1,c_t=LogisticRegression(X_train,y_train,10000,0.1)\n",
    "\n"
   ]
  },
  {
   "cell_type": "code",
   "execution_count": 3,
   "metadata": {},
   "outputs": [
    {
     "data": {
      "image/png": "[encoded data removed]",
      "text/plain": [
       "<Figure size 432x288 with 1 Axes>"
      ]
     },
     "metadata": {
      "needs_background": "light"
     },
     "output_type": "display_data"
    }
   ],
   "source": [
    "\n",
    "cost_val=[]\n",
    "for i in range(10000):\n",
    "    cost_val.append(c_t[i])\n",
    "    \n",
    "i=list(range (len(cost_val)))\n",
    "plt.xlabel('No of Iterations')\n",
    "plt.ylabel('Cost')\n",
    "plt.plot(i,cost_val)\n",
    "plt.show()\n",
    "\n",
    "\n",
    "    \n",
    "\n",
    "    "
   ]
  },
  {
   "cell_type": "code",
   "execution_count": 4,
   "metadata": {},
   "outputs": [],
   "source": [
    "def Predict(X_test,thetas1):\n",
    "    \n",
    "    X = np.c_[np.ones((len(X_test), 1)), X_test]\n",
    "    thetaA=[]\n",
    "    thetaB=[]\n",
    "    thetaC=[]\n",
    "    thetaD=[]\n",
    "    val1_sig=np.matrix(thetas1[0].T)*np.array(X.T)\n",
    "    val1=sigmoid(val1_sig)\n",
    "    val2_sig=np.matrix(thetas1[1].T)*np.array(X.T)\n",
    "    val2=sigmoid(val2_sig)\n",
    "\n",
    "    val3_sig=np.matrix(thetas1[2].T)*np.array(X.T)\n",
    "    val3=sigmoid(val3_sig)\n",
    "    val4_sig=np.matrix(thetas1[3].T)*np.array(X.T)\n",
    "    val4=sigmoid(val4_sig)\n",
    "    val2_df=pd.DataFrame(val2)\n",
    "    val3_df=pd.DataFrame(val3)\n",
    "    val4_df=pd.DataFrame(val4)\n",
    "    belongs_to=pd.DataFrame(val1)\n",
    "\n",
    "\n",
    "    belongs_to=pd.concat([belongs_to,val2_df], ignore_index=True)\n",
    "    belongs_to=pd.concat([belongs_to,val3_df], ignore_index=True)\n",
    "    belongs_to=pd.concat([belongs_to,val4_df], ignore_index=True)\n",
    "\n",
    "    belongs_to_T=belongs_to.T\n",
    "\n",
    "    \n",
    "\n",
    "    values=belongs_to_T.idxmax(axis=1)\n",
    "    return values\n",
    "\n",
    "y_pred=Predict(X_test,thetas1)\n",
    "#values1"
   ]
  },
  {
   "cell_type": "code",
   "execution_count": 5,
   "metadata": {},
   "outputs": [
    {
     "name": "stdout",
     "output_type": "stream",
     "text": [
      "The confuision matrix is :\n",
      "[[ 0  7  0  0]\n",
      " [ 0 14  0  0]\n",
      " [ 0 12  0  0]\n",
      " [ 0  2  0  0]]\n",
      "The accuracy is  0.4\n",
      "              precision    recall  f1-score   support\n",
      "\n",
      "           0       0.00      0.00      0.00         7\n",
      "           1       0.40      1.00      0.57        14\n",
      "           2       0.00      0.00      0.00        12\n",
      "           3       0.00      0.00      0.00         2\n",
      "\n",
      "   micro avg       0.40      0.40      0.40        35\n",
      "   macro avg       0.10      0.25      0.14        35\n",
      "weighted avg       0.16      0.40      0.23        35\n",
      "\n",
      "f1_score 0.14285714285714288\n",
      "precision_score 0.1\n",
      "recall_score 0.25\n"
     ]
    }
   ],
   "source": [
    "print('The confuision matrix is :')\n",
    "print(confusion_matrix(y_test, y_pred))\n",
    "print('The accuracy is ',accuracy_score(y_test, y_pred))\n",
    "\n",
    "print(classification_report(y_test, y_pred))\n",
    "\n",
    "print('f1_score',f1_score(y_test, y_pred, average=\"macro\"))\n",
    "print('precision_score',precision_score(y_test, y_pred, average=\"macro\"))\n",
    "print('recall_score',recall_score(y_test, y_pred, average=\"macro\"))  \n"
   ]
  },
  {
   "cell_type": "code",
   "execution_count": 6,
   "metadata": {},
   "outputs": [
    {
     "data": {
      "text/plain": [
       "'\\nfrom sklearn.linear_model import LogisticRegression\\nclf=LogisticRegression(multi_class=\\'multinomial\\', solver=\\'newton-cg\\')\\n\\nclf.fit(X_train, y_train)\\ny_pre=clf.predict(X_test)\\nprint(\\'The confuision matrix is :\\')\\nprint(confusion_matrix(y_test, y_pre))\\nprint(\\'The accuracy is \\',accuracy_score(y_test, y_pre))\\n\\nprint(classification_report(y_test, y_pre))\\n\\nprint(\\'f1_score\\',f1_score(y_test, y_pre, average=\"macro\"))\\nprint(\\'precision_score\\',precision_score(y_test, y_pre, average=\"macro\"))\\nprint(\\'recall_score\\',recall_score(y_test, y_pre, average=\"macro\"))  \\n\\n\\n'"
      ]
     },
     "execution_count": 6,
     "metadata": {},
     "output_type": "execute_result"
    }
   ],
   "source": [
    "\n",
    "\n",
    "\"\"\"\n",
    "from sklearn.linear_model import LogisticRegression\n",
    "clf=LogisticRegression(multi_class='multinomial', solver='newton-cg')\n",
    "\n",
    "clf.fit(X_train, y_train)\n",
    "y_pre=clf.predict(X_test)\n",
    "print('The confuision matrix is :')\n",
    "print(confusion_matrix(y_test, y_pre))\n",
    "print('The accuracy is ',accuracy_score(y_test, y_pre))\n",
    "\n",
    "print(classification_report(y_test, y_pre))\n",
    "\n",
    "print('f1_score',f1_score(y_test, y_pre, average=\"macro\"))\n",
    "print('precision_score',precision_score(y_test, y_pre, average=\"macro\"))\n",
    "print('recall_score',recall_score(y_test, y_pre, average=\"macro\"))  \n",
    "\n",
    "\n",
    "\"\"\""
   ]
  }
 ],
 "metadata": {
  "kernelspec": {
   "display_name": "Python 3",
   "language": "python",
   "name": "python3"
  },
  "language_info": {
   "codemirror_mode": {
    "name": "ipython",
    "version": 3
   },
   "file_extension": ".py",
   "mimetype": "text/x-python",
   "name": "python",
   "nbconvert_exporter": "python",
   "pygments_lexer": "ipython3",
   "version": "3.7.0"
  }
 },
 "nbformat": 4,
 "nbformat_minor": 2
}
