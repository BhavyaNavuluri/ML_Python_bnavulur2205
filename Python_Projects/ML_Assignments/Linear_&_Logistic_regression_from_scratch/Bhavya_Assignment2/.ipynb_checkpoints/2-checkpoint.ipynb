{
 "cells": [
  {
   "cell_type": "code",
   "execution_count": 27,
   "metadata": {},
   "outputs": [],
   "source": [
    "import numpy as np\n",
    "import pandas as pd\n",
    "import matplotlib.pyplot as plt\n",
    "import seaborn as sns\n",
    "sns.set_style('whitegrid')\n",
    "%matplotlib inline\n",
    "import csv \n",
    "\n",
    "from sklearn.model_selection import train_test_split\n",
    "#print('',)\n",
    "\n",
    "#from sklearn.linear_model import LinearRegression"
   ]
  },
  {
   "cell_type": "markdown",
   "metadata": {},
   "source": [
    "## 2 . Adding a column 'all_NBME_avg_n4'"
   ]
  },
  {
   "cell_type": "code",
   "execution_count": 28,
   "metadata": {},
   "outputs": [
    {
     "name": "stderr",
     "output_type": "stream",
     "text": [
      "C:\\Users\\Bhavya N\\Anaconda3\\lib\\site-packages\\pandas\\core\\frame.py:4244: SettingWithCopyWarning: \n",
      "A value is trying to be set on a copy of a slice from a DataFrame\n",
      "\n",
      "See the caveats in the documentation: http://pandas.pydata.org/pandas-docs/stable/user_guide/indexing.html#returning-a-view-versus-a-copy\n",
      "  **kwargs\n"
     ]
    },
    {
     "data": {
      "text/plain": [
       "all_mcqs_avg_n20    False\n",
       "all_NBME_avg_n4     False\n",
       "STEP_1              False\n",
       "dtype: bool"
      ]
     },
     "execution_count": 28,
     "metadata": {},
     "output_type": "execute_result"
    }
   ],
   "source": [
    "\n",
    "#  loading the data set \n",
    "file = pd.read_csv('BSOM_DataSet_for_HW2.csv')\n",
    "\n",
    "df=file[['all_mcqs_avg_n20','all_NBME_avg_n4','STEP_1']]\n",
    "\n",
    "df.isnull().any()\n",
    "\n",
    "df.fillna(df['STEP_1'].mean(), inplace=True)\n",
    "\n",
    "df.isnull().any()"
   ]
  },
  {
   "cell_type": "code",
   "execution_count": 29,
   "metadata": {},
   "outputs": [
    {
     "name": "stdout",
     "output_type": "stream",
     "text": [
      "(115, 2)\n",
      "(115,)\n"
     ]
    }
   ],
   "source": [
    "# seperating the data into independedent variables and target varibles\n",
    "\n",
    "\n",
    "\n",
    "X = df.iloc[:, :-1]  # values converts it into a numpy array\n",
    "\n",
    "target=df.iloc[:, -1]  # -1 means that calculate the dimension of rows, but have 1 column\n",
    "\n",
    "\n",
    "print(X.shape)\n",
    "print(target.shape)\n"
   ]
  },
  {
   "cell_type": "code",
   "execution_count": 30,
   "metadata": {},
   "outputs": [
    {
     "name": "stdout",
     "output_type": "stream",
     "text": [
      "(92, 2)\n",
      "(23, 2)\n",
      "(92,)\n",
      "(23,)\n"
     ]
    }
   ],
   "source": [
    "\n",
    "\n",
    "X_train, X_test, y_train, y_test = train_test_split(X,target, test_size=0.20)\n",
    "\n",
    "print(X_train.shape)\n",
    "print(X_test.shape)\n",
    "print(y_train.shape)\n",
    "print(y_test.shape)"
   ]
  },
  {
   "cell_type": "code",
   "execution_count": 31,
   "metadata": {},
   "outputs": [
    {
     "data": {
      "text/plain": [
       "'\\ndef gradientDescent(X, y,theta2, theta1, theta0,epochs,learning_rate):\\n    N = float(len(y))\\n    th1=[]\\n    th0=[]\\n    th2=[]\\n    cost_all=[]\\n    for i in range(epochs):\\n        y_current = (theta2 * X.iloc[:,1])+(theta1 * X.iloc[:,0]) + theta0\\n          \\n        cost = sum([data**2 for data in (y-y_current)]) / (2*N)\\n        cost_all.append(cost)\\n          \\n        m_gradient = -(2/N) * sum(X * (y - y_current))\\n        b_gradient = -(2/N) * sum(y - y_current)\\n        \\n        theta2= theta2 - (learning_rate * m_gradient)\\n        th2.append(theta2)\\n        \\n        theta1 = theta1 - (learning_rate * m_gradient)\\n        th1.append(theta1)\\n         \\n        theta0 = theta0 - (learning_rate * b_gradient)\\n        th0.append(theta0)\\n            \\n     \\n          \\n    return theta2,theta1,theta0,cost_all,y_current\\n\\ntheta_2,theta_1,theta_0,costAll,y_current1 =gradientDescent(X_train,y_train,0,0,0,200,0.01)\\n\\nprint(theta_2)\\nprint(theta_1)\\nprint(theta_0)\\n#print(costAll)\\n\\n\\nmyarray = np.asarray(costAll)\\n\\nprint(myarray)\\ni=np.arange(len(myarray))\\n\\nprint(i)\\nplt.scatter(i,myarray)\\nplt.plot(i,myarray)\\n\\nplt.show()\\n'"
      ]
     },
     "execution_count": 31,
     "metadata": {},
     "output_type": "execute_result"
    }
   ],
   "source": [
    "\n",
    "\"\"\"\n",
    "def gradientDescent(X, y,theta2, theta1, theta0,epochs,learning_rate):\n",
    "    N = float(len(y))\n",
    "    th1=[]\n",
    "    th0=[]\n",
    "    th2=[]\n",
    "    cost_all=[]\n",
    "    for i in range(epochs):\n",
    "        y_current = (theta2 * X.iloc[:,1])+(theta1 * X.iloc[:,0]) + theta0\n",
    "          \n",
    "        cost = sum([data**2 for data in (y-y_current)]) / (2*N)\n",
    "        cost_all.append(cost)\n",
    "          \n",
    "        m_gradient = -(2/N) * sum(X * (y - y_current))\n",
    "        b_gradient = -(2/N) * sum(y - y_current)\n",
    "        \n",
    "        theta2= theta2 - (learning_rate * m_gradient)\n",
    "        th2.append(theta2)\n",
    "        \n",
    "        theta1 = theta1 - (learning_rate * m_gradient)\n",
    "        th1.append(theta1)\n",
    "         \n",
    "        theta0 = theta0 - (learning_rate * b_gradient)\n",
    "        th0.append(theta0)\n",
    "            \n",
    "     \n",
    "          \n",
    "    return theta2,theta1,theta0,cost_all,y_current\n",
    "\n",
    "theta_2,theta_1,theta_0,costAll,y_current1 =gradientDescent(X_train,y_train,0,0,0,200,0.01)\n",
    "\n",
    "print(theta_2)\n",
    "print(theta_1)\n",
    "print(theta_0)\n",
    "#print(costAll)\n",
    "\n",
    "\n",
    "myarray = np.asarray(costAll)\n",
    "\n",
    "print(myarray)\n",
    "i=np.arange(len(myarray))\n",
    "\n",
    "print(i)\n",
    "plt.scatter(i,myarray)\n",
    "plt.plot(i,myarray)\n",
    "\n",
    "plt.show()\n",
    "\"\"\""
   ]
  },
  {
   "cell_type": "code",
   "execution_count": 32,
   "metadata": {},
   "outputs": [],
   "source": [
    "def cost_function(X, Y, B):\n",
    "    m = len(Y)\n",
    "    J = np.sum((X.dot(B)-Y) ** 2)/(2 * m)\n",
    "    return J"
   ]
  },
  {
   "cell_type": "code",
   "execution_count": 33,
   "metadata": {},
   "outputs": [],
   "source": [
    "def batch_gradient_descent(X, Y, B, alpha, iterations):\n",
    "    cost_history = [0] * iterations\n",
    "    m = len(Y)\n",
    "    for iteration in range(iterations):\n",
    " \n",
    " # Hypothesis Values\n",
    "        h = X.dot(B)\n",
    " # Difference b/w Hypothesis and Actual Y\n",
    "        loss = h-Y\n",
    " # Gradient Calculation\n",
    "        gradient = X.T.dot(loss) / m\n",
    " # Changing Values of B using Gradient\n",
    "        B = B-alpha * gradient\n",
    " # New Cost Value\n",
    "        cost = cost_function(X, Y, B)\n",
    "        cost_history[iteration] = cost\n",
    " \n",
    "    return B,cost_history"
   ]
  },
  {
   "cell_type": "code",
   "execution_count": 34,
   "metadata": {},
   "outputs": [],
   "source": [
    "\n",
    "X_train = np.c_[np.ones(len(X_train),dtype='int64'),X_train]\n",
    "\n",
    "X_test = np.c_[np.ones(len(X_test),dtype='int64'),X_test]\n"
   ]
  },
  {
   "cell_type": "code",
   "execution_count": 35,
   "metadata": {},
   "outputs": [],
   "source": [
    "# Initial Coefficients\n",
    "B = np.zeros(X_train.shape[1])\n",
    "alpha = 0.01\n",
    "iter_ = 1000\n",
    "newB,cost_history = batch_gradient_descent(X_train, y_train, B, alpha, iter_)\n",
    "\n",
    "#print(newB,cost_history)"
   ]
  },
  {
   "cell_type": "code",
   "execution_count": 36,
   "metadata": {},
   "outputs": [
    {
     "data": {
      "image/png": "[encoded data removed]",
      "text/plain": [
       "<Figure size 432x288 with 1 Axes>"
      ]
     },
     "metadata": {
      "needs_background": "light"
     },
     "output_type": "display_data"
    }
   ],
   "source": [
    "i=list(range (len(cost_history)))\n",
    "#print(i)\n",
    "plt.plot(i,cost_history)\n",
    "plt.show()\n"
   ]
  },
  {
   "cell_type": "code",
   "execution_count": 37,
   "metadata": {},
   "outputs": [
    {
     "name": "stdout",
     "output_type": "stream",
     "text": [
      "<class 'pandas.core.series.Series'>\n",
      "<class 'pandas.core.series.Series'>\n"
     ]
    }
   ],
   "source": [
    "y_ =np.sum(X_test*newB , axis=1)\n",
    "\n",
    "y_pred=pd.Series(y_)\n",
    "print(type(y_pred))\n",
    "print(type(y_test))"
   ]
  },
  {
   "cell_type": "code",
   "execution_count": 38,
   "metadata": {},
   "outputs": [
    {
     "name": "stdout",
     "output_type": "stream",
     "text": [
      "MSE is : 14.751614244022818\n",
      "0.9411015293287237\n"
     ]
    }
   ],
   "source": [
    "def mse(y_true,y_Pred):\n",
    "    mse=1/len(y_true)*np.sum(np.subtract(y_true,y_Pred)**2)\n",
    "    \n",
    "    return mse\n",
    "def r_square(y_true,y_Pred):\n",
    "   # y -ypred whole square \n",
    "    #y- mean of y whole square \n",
    "    r2= 1- (np.sum(np.subtract(y_true,y_Pred)**2)/np.sum(np.subtract(y_true,np.mean(y_true))**2))\n",
    "    return r2\n",
    "    \n",
    "    \n",
    "mse_cal=mse(y_test, y_pred)\n",
    "#mse1=mse(y_test, y_pred_o)\n",
    "print('MSE is :',mse_cal)\n",
    "\n",
    "#print('MSE1 is :',mse1)\n",
    "\n",
    "r_2=r_square(y_test, y_pred)\n",
    "\n",
    "print(r_2)"
   ]
  },
  {
   "cell_type": "code",
   "execution_count": 39,
   "metadata": {},
   "outputs": [
    {
     "data": {
      "text/plain": [
       "98.48263788359313"
      ]
     },
     "execution_count": 39,
     "metadata": {},
     "output_type": "execute_result"
    }
   ],
   "source": [
    "from sklearn.linear_model import LinearRegression\n",
    "\n",
    "reg = LinearRegression().fit(X_train, y_train)\n",
    "y_pre=reg.predict(X_test)\n",
    "from sklearn.metrics import mean_squared_error\n",
    "\n",
    "mean_squared_error(y_test, y_pre)"
   ]
  }
 ],
 "metadata": {
  "kernelspec": {
   "display_name": "Python 3",
   "language": "python",
   "name": "python3"
  },
  "language_info": {
   "codemirror_mode": {
    "name": "ipython",
    "version": 3
   },
   "file_extension": ".py",
   "mimetype": "text/x-python",
   "name": "python",
   "nbconvert_exporter": "python",
   "pygments_lexer": "ipython3",
   "version": "3.7.0"
  }
 },
 "nbformat": 4,
 "nbformat_minor": 2
}
