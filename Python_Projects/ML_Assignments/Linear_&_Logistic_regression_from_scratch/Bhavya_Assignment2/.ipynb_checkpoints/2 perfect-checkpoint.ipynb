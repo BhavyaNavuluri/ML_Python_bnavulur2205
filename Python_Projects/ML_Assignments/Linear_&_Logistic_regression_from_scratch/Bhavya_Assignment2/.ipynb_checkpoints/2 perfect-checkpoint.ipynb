{
 "cells": [
  {
   "cell_type": "code",
   "execution_count": 123,
   "metadata": {},
   "outputs": [],
   "source": [
    "import numpy as np\n",
    "import pandas as pd\n",
    "import matplotlib.pyplot as plt\n",
    "import seaborn as sns\n",
    "sns.set_style('whitegrid')\n",
    "%matplotlib inline\n",
    "import csv \n",
    "\n",
    "from sklearn.model_selection import train_test_split\n",
    "#print('',)\n",
    "\n",
    "#from sklearn.linear_model import LinearRegression"
   ]
  },
  {
   "cell_type": "code",
   "execution_count": 124,
   "metadata": {},
   "outputs": [
    {
     "name": "stdout",
     "output_type": "stream",
     "text": [
      "(115, 2)\n",
      "(115,)\n"
     ]
    },
    {
     "name": "stderr",
     "output_type": "stream",
     "text": [
      "C:\\Users\\Bhavya N\\Anaconda3\\lib\\site-packages\\pandas\\core\\frame.py:4244: SettingWithCopyWarning: \n",
      "A value is trying to be set on a copy of a slice from a DataFrame\n",
      "\n",
      "See the caveats in the documentation: http://pandas.pydata.org/pandas-docs/stable/user_guide/indexing.html#returning-a-view-versus-a-copy\n",
      "  **kwargs\n"
     ]
    }
   ],
   "source": [
    "\n",
    "#  loading the data set \n",
    "file = pd.read_csv('BSOM_DataSet_for_HW2.csv')\n",
    "\n",
    "df=file[['all_mcqs_avg_n20','all_NBME_avg_n4','STEP_1']]\n",
    "\n",
    "df.isnull().any()\n",
    "\n",
    "df.fillna(df['STEP_1'].mean(), inplace=True)\n",
    "\n",
    "df.isnull().any()\n",
    "# seperating the data into independedent variables and target varibles\n",
    "\n",
    "\n",
    "\n",
    "X = np.array(df.iloc[:, :-1])  # values converts it into a numpy array\n",
    "\n",
    "target=np.array(df.iloc[:, -1])  # -1 means that calculate the dimension of rows, but have 1 column\n",
    "\n",
    "\n",
    "print(X.shape)\n",
    "print(target.shape)\n"
   ]
  },
  {
   "cell_type": "code",
   "execution_count": 125,
   "metadata": {},
   "outputs": [
    {
     "name": "stdout",
     "output_type": "stream",
     "text": [
      "(80, 2)\n",
      "(35, 2)\n",
      "(80,)\n",
      "(35,)\n"
     ]
    }
   ],
   "source": [
    "\n",
    "\n",
    "X_train, X_test, y_train, y_test = train_test_split(X,target, test_size=0.30,random_state=7)\n",
    "\n",
    "print(X_train.shape)\n",
    "print(X_test.shape)\n",
    "print(y_train.shape)\n",
    "print(y_test.shape)"
   ]
  },
  {
   "cell_type": "code",
   "execution_count": 126,
   "metadata": {},
   "outputs": [],
   "source": [
    "def initParam(lenw):\n",
    "    weig=np.random.rand(1,lenw)\n",
    "    int_b=0\n",
    "    return weig,int_b\n",
    "def fwd_prop(X,weig,int_b):\n",
    "    sig_z=np.dot(weig,X.T)+int_b\n",
    "    \n",
    "    return sig_z\n",
    "\n",
    "def cost_fun(sig_z,y):\n",
    "    m=len(y)\n",
    "    costj=(1/2*m)*np.sum(np.square(sig_z-y))\n",
    "    return costj\n",
    "\n",
    "def bck_prop(x,y,sig_z):\n",
    "    m=len(y)\n",
    "    deriv_z=(1/m)*(sig_z-y)\n",
    "    \n",
    "    deriv_w=np.dot(deriv_z,x)\n",
    "    deriv_b=np.sum(deriv_z)\n",
    "    \n",
    "    return deriv_w,deriv_b\n",
    "\n",
    "def gradDesc(weig,int_b,deriv_w,deriv_b,lr):\n",
    "    weig=weig-lr*deriv_w\n",
    "    \n",
    "    int_b=int_b-lr*deriv_b\n",
    "    \n",
    "    return weig,int_b\n"
   ]
  },
  {
   "cell_type": "code",
   "execution_count": 127,
   "metadata": {},
   "outputs": [
    {
     "name": "stdout",
     "output_type": "stream",
     "text": [
      "[[78.44142497 81.31667855]] 99.50545776838875\n"
     ]
    }
   ],
   "source": [
    "\n",
    "lr=0.001\n",
    "weig,int_b=initParam(2)\n",
    "J_ttl=[]\n",
    "costj=[]\n",
    "for i in range(2000):\n",
    "   \n",
    "    sig_z=fwd_prop(X_train,weig,int_b)\n",
    "    #print(z)\n",
    "    costj=cost_fun(sig_z,y_train)\n",
    "\n",
    "    deriv_w,deriv_b=bck_prop(X_train,y_train,sig_z)\n",
    "    weig,int_b=gradDesc(weig,int_b,deriv_w,deriv_b,lr)\n",
    "    \n",
    "    J_ttl.append(costj)\n",
    "print(weig,int_b)"
   ]
  },
  {
   "cell_type": "code",
   "execution_count": 128,
   "metadata": {},
   "outputs": [
    {
     "data": {
      "image/png": "[encoded data removed]",
      "text/plain": [
       "<Figure size 432x288 with 1 Axes>"
      ]
     },
     "metadata": {
      "needs_background": "light"
     },
     "output_type": "display_data"
    }
   ],
   "source": [
    "\n",
    "myarray = np.asarray(J_ttl)\n",
    "\n",
    "#print(myarray)\n",
    "i=np.arange(2000)\n",
    "plt.scatter(i,myarray)\n",
    "plt.plot(i,myarray)\n",
    "plt.xlabel('No of Iterations')\n",
    "plt.ylabel('Cost value ')\n",
    "plt.show()\n",
    "\n"
   ]
  },
  {
   "cell_type": "code",
   "execution_count": 129,
   "metadata": {},
   "outputs": [
    {
     "data": {
      "text/plain": [
       "array([[230.81758831, 235.07233767, 216.35107744, 232.28703903,\n",
       "        237.50730189, 233.27146494, 221.98448377, 231.66278768,\n",
       "        204.97127859, 229.69065583, 221.40336122, 236.15942139,\n",
       "        223.6748825 , 231.64185132, 213.43311235, 235.45344857,\n",
       "        213.87500837, 222.61327127, 240.87044303, 224.94104153,\n",
       "        228.26433391, 231.34120579, 223.75332393, 209.91308836,\n",
       "        236.89414675, 228.24995764, 228.74935873, 217.31659094,\n",
       "        238.81986976, 241.57641586, 218.26570422, 244.30420942,\n",
       "        222.5557662 , 231.01759997, 224.90900895]])"
      ]
     },
     "execution_count": 129,
     "metadata": {},
     "output_type": "execute_result"
    }
   ],
   "source": [
    "\n",
    "\n",
    "y_pred=fwd_prop(X_test,weig,int_b)\n",
    "y_pred"
   ]
  },
  {
   "cell_type": "code",
   "execution_count": 130,
   "metadata": {},
   "outputs": [
    {
     "name": "stdout",
     "output_type": "stream",
     "text": [
      "MSE for multivariate is : 73.04649803415134\n",
      "R- square value for multivariate is : 0.6318614693464515\n"
     ]
    }
   ],
   "source": [
    "def mse(y_true,y_Pred):\n",
    "    mse=1/len(y_true)*np.sum(np.subtract(y_true,y_Pred)**2)\n",
    "    return mse\n",
    "\n",
    "\n",
    "def r_square(y_true,y_Pred):\n",
    "    r2= 1- (np.sum(np.subtract(y_true,y_Pred)**2)/np.sum(np.subtract(y_true,np.mean(y_true))**2))\n",
    "    return r2\n",
    "    \n",
    "    \n",
    "mse_cal=mse(y_test, y_pred)\n",
    "\n",
    "print('MSE for multivariate is :',mse_cal)\n",
    "\n",
    "\n",
    "r_2=r_square(y_test, y_pred)\n",
    "\n",
    "print('R- square value for multivariate is :',r_2)"
   ]
  },
  {
   "cell_type": "code",
   "execution_count": 131,
   "metadata": {},
   "outputs": [
    {
     "name": "stdout",
     "output_type": "stream",
     "text": [
      "MSE value for multivariate linear regression using sklearn   70.29734550324962\n",
      "R square value for multivariate linear regression using sklearn 0.6457166027273218\n"
     ]
    },
    {
     "name": "stderr",
     "output_type": "stream",
     "text": [
      "C:\\Users\\Bhavya N\\Anaconda3\\lib\\site-packages\\sklearn\\linear_model\\stochastic_gradient.py:183: FutureWarning: max_iter and tol parameters have been added in SGDRegressor in 0.19. If max_iter is set but tol is left unset, the default value for tol in 0.19 and 0.20 will be None (which is equivalent to -infinity, so it has no effect) but will change in 0.21 to 1e-3. Specify tol to silence this warning.\n",
      "  FutureWarning)\n"
     ]
    }
   ],
   "source": [
    "from sklearn import linear_model \n",
    "from sklearn.metrics import mean_squared_error\n",
    "from sklearn.metrics import r2_score\n",
    "\n",
    "clf = linear_model.SGDRegressor(max_iter=2000,alpha =0.001)\n",
    "clf.fit(X_train, y_train)\n",
    "y_pre=clf.predict(X_test)\n",
    "\n",
    "print('MSE value for multivariate linear regression using sklearn  ',mean_squared_error(y_test, y_pre))\n",
    "print('R square value for multivariate linear regression using sklearn', r2_score(y_test, y_pre))\n",
    "\n",
    "#print(mean_squared_error(y_test, y_pred))\n",
    "#print(clf.coef_,clf.intercept_)"
   ]
  }
 ],
 "metadata": {
  "kernelspec": {
   "display_name": "Python 3",
   "language": "python",
   "name": "python3"
  },
  "language_info": {
   "codemirror_mode": {
    "name": "ipython",
    "version": 3
   },
   "file_extension": ".py",
   "mimetype": "text/x-python",
   "name": "python",
   "nbconvert_exporter": "python",
   "pygments_lexer": "ipython3",
   "version": "3.7.0"
  }
 },
 "nbformat": 4,
 "nbformat_minor": 2
}
