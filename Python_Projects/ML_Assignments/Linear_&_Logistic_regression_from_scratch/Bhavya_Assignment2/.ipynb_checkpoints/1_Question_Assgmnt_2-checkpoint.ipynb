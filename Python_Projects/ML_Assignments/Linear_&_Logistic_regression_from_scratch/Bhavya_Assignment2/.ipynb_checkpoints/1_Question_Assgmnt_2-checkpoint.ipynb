{
 "cells": [
  {
   "cell_type": "markdown",
   "metadata": {},
   "source": [
    "### Question No 1"
   ]
  },
  {
   "cell_type": "code",
   "execution_count": 94,
   "metadata": {
    "colab": {},
    "colab_type": "code",
    "id": "sNzZdmBJs5WS",
    "outputId": "0e1df4ed-4a74-4b0e-e84e-1b3862bbf55d"
   },
   "outputs": [
    {
     "data": {
      "text/html": [
       "<div>\n",
       "<style scoped>\n",
       "    .dataframe tbody tr th:only-of-type {\n",
       "        vertical-align: middle;\n",
       "    }\n",
       "\n",
       "    .dataframe tbody tr th {\n",
       "        vertical-align: top;\n",
       "    }\n",
       "\n",
       "    .dataframe thead th {\n",
       "        text-align: right;\n",
       "    }\n",
       "</style>\n",
       "<table border=\"1\" class=\"dataframe\">\n",
       "  <thead>\n",
       "    <tr style=\"text-align: right;\">\n",
       "      <th></th>\n",
       "      <th>all_mcqs_avg_n20</th>\n",
       "      <th>STEP_1</th>\n",
       "    </tr>\n",
       "  </thead>\n",
       "  <tbody>\n",
       "    <tr>\n",
       "      <td>0</td>\n",
       "      <td>0.736</td>\n",
       "      <td>233.0</td>\n",
       "    </tr>\n",
       "    <tr>\n",
       "      <td>1</td>\n",
       "      <td>0.740</td>\n",
       "      <td>215.0</td>\n",
       "    </tr>\n",
       "    <tr>\n",
       "      <td>2</td>\n",
       "      <td>0.807</td>\n",
       "      <td>243.0</td>\n",
       "    </tr>\n",
       "    <tr>\n",
       "      <td>3</td>\n",
       "      <td>0.886</td>\n",
       "      <td>248.0</td>\n",
       "    </tr>\n",
       "    <tr>\n",
       "      <td>4</td>\n",
       "      <td>0.839</td>\n",
       "      <td>228.0</td>\n",
       "    </tr>\n",
       "  </tbody>\n",
       "</table>\n",
       "</div>"
      ],
      "text/plain": [
       "   all_mcqs_avg_n20  STEP_1\n",
       "0             0.736   233.0\n",
       "1             0.740   215.0\n",
       "2             0.807   243.0\n",
       "3             0.886   248.0\n",
       "4             0.839   228.0"
      ]
     },
     "execution_count": 94,
     "metadata": {},
     "output_type": "execute_result"
    }
   ],
   "source": [
    "import numpy as np\n",
    "import pandas as pd\n",
    "df = pd.read_csv(\"BSOM_DataSet_for_HW2.csv\")\n",
    "df=df[['all_mcqs_avg_n20','STEP_1']]\n",
    "df.head()"
   ]
  },
  {
   "cell_type": "code",
   "execution_count": 95,
   "metadata": {},
   "outputs": [
    {
     "data": {
      "image/png": "[encoded data removed]",
      "text/plain": [
       "<Figure size 432x288 with 1 Axes>"
      ]
     },
     "metadata": {},
     "output_type": "display_data"
    }
   ],
   "source": [
    "import matplotlib.pyplot as plt \n",
    "plt.scatter(df.all_mcqs_avg_n20,df.STEP_1)\n",
    "plt.show()"
   ]
  },
  {
   "cell_type": "markdown",
   "metadata": {},
   "source": [
    "##### Checking if there are any empty values in the column"
   ]
  },
  {
   "cell_type": "code",
   "execution_count": 96,
   "metadata": {},
   "outputs": [
    {
     "data": {
      "text/plain": [
       "all_mcqs_avg_n20    0\n",
       "STEP_1              3\n",
       "dtype: int64"
      ]
     },
     "execution_count": 96,
     "metadata": {},
     "output_type": "execute_result"
    }
   ],
   "source": [
    "df.isna().sum()"
   ]
  },
  {
   "cell_type": "markdown",
   "metadata": {},
   "source": [
    "##### replacing the null values with the mean of the column"
   ]
  },
  {
   "cell_type": "code",
   "execution_count": 106,
   "metadata": {},
   "outputs": [
    {
     "data": {
      "text/plain": [
       "all_mcqs_avg_n20    0\n",
       "STEP_1              0\n",
       "dtype: int64"
      ]
     },
     "execution_count": 106,
     "metadata": {},
     "output_type": "execute_result"
    }
   ],
   "source": [
    "df=df.fillna(df.mean())\n",
    "df.isna().sum()"
   ]
  },
  {
   "cell_type": "markdown",
   "metadata": {},
   "source": [
    "### splitting the data into train and test data"
   ]
  },
  {
   "cell_type": "code",
   "execution_count": 99,
   "metadata": {},
   "outputs": [],
   "source": [
    "from sklearn.model_selection import train_test_split\n",
    "X_train, X_test, y_train, y_test = train_test_split(df.all_mcqs_avg_n20, df.STEP_1, test_size=0.30)"
   ]
  },
  {
   "cell_type": "markdown",
   "metadata": {},
   "source": [
    "### Implementing linear regression"
   ]
  },
  {
   "cell_type": "code",
   "execution_count": 115,
   "metadata": {},
   "outputs": [
    {
     "name": "stdout",
     "output_type": "stream",
     "text": [
      "111.66030062971353 141.4071412767225\n"
     ]
    }
   ],
   "source": [
    "import random\n",
    "weight,bias,iterations,learning_rate=0,0,1000,0.1\n",
    "while iterations>=0:\n",
    "    w,b,temp_vec,temp_inter = weight,bias,0,0\n",
    "    x=np.array(X_train)\n",
    "    y=np.array(y_train)\n",
    "    for i in range(len(X_train)):\n",
    "        temp_vec += (-2)*x[i]*(y[i]-(np.dot(w,x[i])+b))\n",
    "        temp_inter += (-2)*(y[i]-(np.dot(w,x[i])+b))\n",
    "        weight= w-(learning_rate*((temp_vec)/len(X_train)))\n",
    "        bias= b-(learning_rate*((temp_inter)/len(X_train)))\n",
    "        iterations -= 1\n",
    "print(weight,bias)"
   ]
  },
  {
   "cell_type": "markdown",
   "metadata": {},
   "source": [
    "### graph to represent given Y and predicted Y on train data"
   ]
  },
  {
   "cell_type": "code",
   "execution_count": 101,
   "metadata": {},
   "outputs": [
    {
     "name": "stdout",
     "output_type": "stream",
     "text": [
      "(80,)\n",
      "(80,)\n"
     ]
    },
    {
     "data": {
      "text/plain": [
       "Text(0.5,1,'given Vs Predicted Y')"
      ]
     },
     "execution_count": 101,
     "metadata": {},
     "output_type": "execute_result"
    },
    {
     "data": {
      "image/png": "[encoded data removed]",
      "text/plain": [
       "<Figure size 432x288 with 1 Axes>"
      ]
     },
     "metadata": {},
     "output_type": "display_data"
    }
   ],
   "source": [
    "import matplotlib.pyplot as plt\n",
    "w_T= np.transpose(w1)\n",
    "y1=b1+np.dot(X_train,w_T)\n",
    "print(y1.shape)\n",
    "Y = y_train\n",
    "print(Y.shape)\n",
    "plt.scatter(Y,y1,color=\"#ff0000\",label=\"data\")\n",
    "plt.xlabel(\"given Y\")\n",
    "plt.ylabel(\"predicted Y\")\n",
    "plt.title(\"given Vs Predicted Y\")"
   ]
  },
  {
   "cell_type": "markdown",
   "metadata": {},
   "source": [
    "### graph to represent given Y and predicted Y on test data"
   ]
  },
  {
   "cell_type": "code",
   "execution_count": 108,
   "metadata": {},
   "outputs": [
    {
     "name": "stdout",
     "output_type": "stream",
     "text": [
      "(35,)\n",
      "(35,)\n"
     ]
    },
    {
     "data": {
      "text/plain": [
       "Text(0.5,1,'given Vs Predicted Y')"
      ]
     },
     "execution_count": 108,
     "metadata": {},
     "output_type": "execute_result"
    },
    {
     "data": {
      "image/png": "[encoded data removed]",
      "text/plain": [
       "<Figure size 432x288 with 1 Axes>"
      ]
     },
     "metadata": {},
     "output_type": "display_data"
    }
   ],
   "source": [
    "import matplotlib.pyplot as plt\n",
    "w_T= np.transpose(w1)\n",
    "y1=b1+np.dot(X_test,w_T)\n",
    "print(y1.shape)\n",
    "Y = y_test\n",
    "print(Y.shape)\n",
    "plt.scatter(Y,y1,color=\"#ff0000\",label=\"data\")\n",
    "plt.xlabel(\"given Y\")\n",
    "plt.ylabel(\"predicted Y\")\n",
    "plt.title(\"given Vs Predicted Y\")"
   ]
  },
  {
   "cell_type": "markdown",
   "metadata": {},
   "source": [
    "### Calculating mean square error on test data"
   ]
  },
  {
   "cell_type": "code",
   "execution_count": 116,
   "metadata": {},
   "outputs": [
    {
     "name": "stdout",
     "output_type": "stream",
     "text": [
      "mean square error: 139.40945567631962\n"
     ]
    }
   ],
   "source": [
    "N = float(len(y_test)) #calculating mean squared error for test data\n",
    "y_pred=b1+np.dot(X_test,w_T)\n",
    "\n",
    "mse=sum((y_test-y_pred)**2)\n",
    "mse=mse/N\n",
    "print('mean square error: '+ str(mse))"
   ]
  },
  {
   "cell_type": "markdown",
   "metadata": {},
   "source": [
    "### Calculating pearson correaltion coefficient"
   ]
  },
  {
   "cell_type": "code",
   "execution_count": 103,
   "metadata": {},
   "outputs": [],
   "source": [
    "def covariance(a,b):\n",
    "    X=0\n",
    "    for i in range(len(a)):\n",
    "        X = X + ((a[i] - y_test.mean()) * (b[i] - y_pred.mean()))\n",
    "    return (X/len(a))"
   ]
  },
  {
   "cell_type": "code",
   "execution_count": 104,
   "metadata": {},
   "outputs": [
    {
     "name": "stdout",
     "output_type": "stream",
     "text": [
      "Pearson Correaltion coefficient: 0.5768359066476573\n"
     ]
    }
   ],
   "source": [
    "print('Pearson Correaltion coefficient: ' + str( covariance(list(y_test),list(y_pred))/(stdev(y_test)*stdev(y_pred))))"
   ]
  },
  {
   "cell_type": "markdown",
   "metadata": {},
   "source": [
    "### calculating R**2 on test data"
   ]
  },
  {
   "cell_type": "code",
   "execution_count": 110,
   "metadata": {},
   "outputs": [],
   "source": [
    "D,E=0,0\n",
    "y_test1=list(y_test)\n",
    "y_pred1=list(y_pred)\n",
    "for i in range(len(y_test1)):\n",
    "    D=D+(y_test1[i]-y_pred1[i])**2\n",
    "    E=E+(y_test1[i]- y_test.mean())**2\n",
    "A=1-D/E"
   ]
  },
  {
   "cell_type": "code",
   "execution_count": 112,
   "metadata": {},
   "outputs": [
    {
     "name": "stdout",
     "output_type": "stream",
     "text": [
      "R squared value: 0.33820729713294884\n"
     ]
    }
   ],
   "source": [
    "print('R squared value: ' + str(A))"
   ]
  }
 ],
 "metadata": {
  "colab": {
   "name": "1.Quora.ipynb",
   "provenance": [],
   "version": "0.3.2"
  },
  "kernelspec": {
   "display_name": "Python 3",
   "language": "python",
   "name": "python3"
  },
  "language_info": {
   "codemirror_mode": {
    "name": "ipython",
    "version": 3
   },
   "file_extension": ".py",
   "mimetype": "text/x-python",
   "name": "python",
   "nbconvert_exporter": "python",
   "pygments_lexer": "ipython3",
   "version": "3.7.0"
  }
 },
 "nbformat": 4,
 "nbformat_minor": 2
}
