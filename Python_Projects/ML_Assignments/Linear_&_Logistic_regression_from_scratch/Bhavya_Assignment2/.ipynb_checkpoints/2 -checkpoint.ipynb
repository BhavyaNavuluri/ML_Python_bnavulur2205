{
 "cells": [
  {
   "cell_type": "code",
   "execution_count": 120,
   "metadata": {},
   "outputs": [],
   "source": [
    "import numpy as np\n",
    "import pandas as pd\n",
    "import matplotlib.pyplot as plt\n",
    "import seaborn as sns\n",
    "sns.set_style('whitegrid')\n",
    "%matplotlib inline\n",
    "import csv \n",
    "\n",
    "from sklearn.model_selection import train_test_split\n",
    "#print('',)\n",
    "\n",
    "#from sklearn.linear_model import LinearRegression"
   ]
  },
  {
   "cell_type": "code",
   "execution_count": 121,
   "metadata": {},
   "outputs": [
    {
     "name": "stdout",
     "output_type": "stream",
     "text": [
      "all_mcqs_avg_n20    False\n",
      "all_NBME_avg_n4     False\n",
      "STEP_1              False\n",
      "dtype: bool\n",
      "(115, 2)\n",
      "(115,)\n"
     ]
    },
    {
     "name": "stderr",
     "output_type": "stream",
     "text": [
      "C:\\Users\\Bhavya N\\Anaconda3\\lib\\site-packages\\pandas\\core\\frame.py:4244: SettingWithCopyWarning: \n",
      "A value is trying to be set on a copy of a slice from a DataFrame\n",
      "\n",
      "See the caveats in the documentation: http://pandas.pydata.org/pandas-docs/stable/user_guide/indexing.html#returning-a-view-versus-a-copy\n",
      "  **kwargs\n"
     ]
    }
   ],
   "source": [
    "\n",
    "#  loading the data set \n",
    "file = pd.read_csv('BSOM_DataSet_for_HW2.csv')\n",
    "\n",
    "df=file[['all_mcqs_avg_n20','all_NBME_avg_n4','STEP_1']]\n",
    "\n",
    "df.isnull().any()\n",
    "\n",
    "df.fillna(df['STEP_1'].mean(), inplace=True)\n",
    "\n",
    "print(df.isnull().any())\n",
    "# seperating the data into independedent variables and target varibles\n",
    "\n",
    "\n",
    "\n",
    "X = np.array(df.iloc[:, :-1])  # values converts it into a numpy array\n",
    "\n",
    "target=np.array(df.iloc[:, -1])  # -1 means that calculate the dimension of rows, but have 1 column\n",
    "\n",
    "\n",
    "print(X.shape)\n",
    "print(target.shape)\n"
   ]
  },
  {
   "cell_type": "code",
   "execution_count": 122,
   "metadata": {},
   "outputs": [
    {
     "name": "stdout",
     "output_type": "stream",
     "text": [
      "(80, 2)\n",
      "(35, 2)\n",
      "(80,)\n",
      "(35,)\n"
     ]
    }
   ],
   "source": [
    "\n",
    "\n",
    "X_train, X_test, y_train, y_test = train_test_split(X,target, test_size=0.30,random_state=7)\n",
    "\n",
    "print(X_train.shape)\n",
    "print(X_test.shape)\n",
    "print(y_train.shape)\n",
    "print(y_test.shape)"
   ]
  },
  {
   "cell_type": "code",
   "execution_count": 123,
   "metadata": {},
   "outputs": [],
   "source": [
    "def initParam(lenw):\n",
    "    weig=np.random.rand(1,lenw)\n",
    "    int_b=0\n",
    "    return weig,int_b\n",
    "def sig(X,weig,int_b):\n",
    "    sig_z=np.dot(weig,X.T)+int_b\n",
    "    \n",
    "    return sig_z\n",
    "\n",
    "def cost_fun(sig_z,y):\n",
    "    m=len(y)\n",
    "    costj=(1/2*m)*np.sum(np.square(sig_z-y))\n",
    "    return costj\n",
    "\n",
    "def derivations(x,y,sig_z):\n",
    "    m=len(y)\n",
    "    deriv_z=(1/m)*(sig_z-y)\n",
    "    \n",
    "    deriv_w=np.dot(deriv_z,x)\n",
    "    deriv_b=np.sum(deriv_z)\n",
    "    \n",
    "    return deriv_w,deriv_b\n",
    "\n",
    "def gradDesc(weig,int_b,deriv_w,deriv_b,lr):\n",
    "    weig=weig-lr*deriv_w\n",
    "    \n",
    "    int_b=int_b-lr*deriv_b\n",
    "    \n",
    "    return weig,int_b\n"
   ]
  },
  {
   "cell_type": "code",
   "execution_count": 124,
   "metadata": {},
   "outputs": [
    {
     "name": "stdout",
     "output_type": "stream",
     "text": [
      "[[78.46722865 81.8291482 ]] 99.07880252473511\n"
     ]
    }
   ],
   "source": [
    "\n",
    "lr=0.001\n",
    "weig,int_b=initParam(2)\n",
    "J_ttl=[]\n",
    "costj=[]\n",
    "for i in range(2000):\n",
    "   \n",
    "    sig_z=sig(X_train,weig,int_b)\n",
    "    #print(z)\n",
    "    costj=cost_fun(sig_z,y_train)\n",
    "\n",
    "    deriv_w,deriv_b=derivations(X_train,y_train,sig_z)\n",
    "    weig,int_b=gradDesc(weig,int_b,deriv_w,deriv_b,lr)\n",
    "    \n",
    "    J_ttl.append(costj)\n",
    "print(weig,int_b)"
   ]
  },
  {
   "cell_type": "code",
   "execution_count": 125,
   "metadata": {},
   "outputs": [
    {
     "data": {
      "image/png": "[encoded data removed]",
      "text/plain": [
       "<Figure size 432x288 with 1 Axes>"
      ]
     },
     "metadata": {
      "needs_background": "light"
     },
     "output_type": "display_data"
    }
   ],
   "source": [
    "\n",
    "myarray = np.asarray(J_ttl)\n",
    "\n",
    "#print(myarray)\n",
    "i=np.arange(2000)\n",
    "plt.scatter(i,myarray)\n",
    "plt.plot(i,myarray)\n",
    "plt.xlabel('No of Iterations')\n",
    "plt.ylabel('Cost value ')\n",
    "plt.show()\n",
    "\n"
   ]
  },
  {
   "cell_type": "code",
   "execution_count": 126,
   "metadata": {},
   "outputs": [
    {
     "data": {
      "text/plain": [
       "array([[230.83849083, 235.11771151, 216.34172083, 232.31813934,\n",
       "        237.54740522, 233.31017488, 221.97455169, 231.68761113,\n",
       "        204.91082082, 229.70633044, 221.39445228, 236.19665274,\n",
       "        223.67279229, 231.67638229, 213.39365265, 235.49044768,\n",
       "        213.83083683, 222.63026064, 240.92986719, 224.94786792,\n",
       "        228.27711072, 231.35135186, 223.75125952, 209.85425622,\n",
       "        236.93647699, 228.26030112, 228.76472369, 217.29176603,\n",
       "        238.87011927, 241.63607225, 218.25576313, 244.36840604,\n",
       "        222.56302225, 231.04585408, 224.91703911]])"
      ]
     },
     "execution_count": 126,
     "metadata": {},
     "output_type": "execute_result"
    }
   ],
   "source": [
    "\n",
    "\n",
    "y_pred=sig(X_test,weig,int_b)\n",
    "y_pred"
   ]
  },
  {
   "cell_type": "code",
   "execution_count": 127,
   "metadata": {},
   "outputs": [],
   "source": [
    "def mse(y_true,y_Pred):\n",
    "    mse=1/len(y_true)*np.sum(np.subtract(y_true,y_Pred)**2)\n",
    "    return mse\n",
    "\n",
    "\n",
    "def r_square(y_true,y_Pred):\n",
    "    r2= 1- (np.sum(np.subtract(y_true,y_Pred)**2)/np.sum(np.subtract(y_true,np.mean(y_true))**2))\n",
    "    return r2\n",
    "    \n",
    "import statistics  as s\n",
    "def prsn_cef(y_test,y_pred):\n",
    "    df_1=pd.DataFrame(y_test)\n",
    "    df_2 = pd.DataFrame(y_pred)            \n",
    "\n",
    "    result = pd.concat([df_1, df_2.T], axis=1)#.reindex(df_1.index)\n",
    "    prsn=(result.iloc[:,0].cov(result.iloc[:,1]))/(s.stdev(result.iloc[:,0])*s.stdev(result.iloc[:,1]))\n",
    "    \n",
    "    return prsn\n",
    "\n",
    "\n",
    "    \n"
   ]
  },
  {
   "cell_type": "code",
   "execution_count": 128,
   "metadata": {},
   "outputs": [
    {
     "name": "stdout",
     "output_type": "stream",
     "text": [
      "MSE for multivariate is : 72.82270851742032\n",
      "R- square value for multivariate is : 0.6329893200454202\n",
      "Pearson Correaltion coefficient:  0.819300515295483\n"
     ]
    }
   ],
   "source": [
    "mse_cal=mse(y_test, y_pred)\n",
    "\n",
    "print('MSE for multivariate is :',mse_cal)\n",
    "\n",
    "\n",
    "r_2=r_square(y_test, y_pred)\n",
    "\n",
    "print('R- square value for multivariate is :',r_2)\n",
    "\n",
    "psn=prsn_cef(y_test,y_pred)\n",
    "print('Pearson Correaltion coefficient: ',psn )\n",
    "\n",
    "\n",
    "\n"
   ]
  },
  {
   "cell_type": "code",
   "execution_count": 129,
   "metadata": {},
   "outputs": [
    {
     "data": {
      "text/plain": [
       "\"\\nfrom sklearn import linear_model \\nfrom sklearn.metrics import mean_squared_error\\nfrom sklearn.metrics import r2_score\\n\\nclf = linear_model.SGDRegressor(max_iter=2000,alpha =0.001)\\nclf.fit(X_train, y_train)\\ny_pre=clf.predict(X_test)\\n\\nprint('MSE value for multivariate linear regression using sklearn  ',mean_squared_error(y_test, y_pre))\\nprint('R square value for multivariate linear regression using sklearn', r2_score(y_test, y_pre))\\n\\n#print(mean_squared_error(y_test, y_pred))\\n#print(clf.coef_,clf.intercept_) \""
      ]
     },
     "execution_count": 129,
     "metadata": {},
     "output_type": "execute_result"
    }
   ],
   "source": [
    "\"\"\"\n",
    "from sklearn import linear_model \n",
    "from sklearn.metrics import mean_squared_error\n",
    "from sklearn.metrics import r2_score\n",
    "\n",
    "clf = linear_model.SGDRegressor(max_iter=2000,alpha =0.001)\n",
    "clf.fit(X_train, y_train)\n",
    "y_pre=clf.predict(X_test)\n",
    "\n",
    "print('MSE value for multivariate linear regression using sklearn  ',mean_squared_error(y_test, y_pre))\n",
    "print('R square value for multivariate linear regression using sklearn', r2_score(y_test, y_pre))\n",
    "\n",
    "#print(mean_squared_error(y_test, y_pred))\n",
    "#print(clf.coef_,clf.intercept_) \"\"\""
   ]
  }
 ],
 "metadata": {
  "kernelspec": {
   "display_name": "Python 3",
   "language": "python",
   "name": "python3"
  },
  "language_info": {
   "codemirror_mode": {
    "name": "ipython",
    "version": 3
   },
   "file_extension": ".py",
   "mimetype": "text/x-python",
   "name": "python",
   "nbconvert_exporter": "python",
   "pygments_lexer": "ipython3",
   "version": "3.7.0"
  }
 },
 "nbformat": 4,
 "nbformat_minor": 2
}
