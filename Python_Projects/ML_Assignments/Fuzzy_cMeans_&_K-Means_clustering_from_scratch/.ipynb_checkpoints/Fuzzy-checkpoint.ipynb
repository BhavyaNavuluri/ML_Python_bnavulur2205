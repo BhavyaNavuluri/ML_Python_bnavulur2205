{
 "cells": [
  {
   "cell_type": "code",
   "execution_count": 1,
   "metadata": {},
   "outputs": [],
   "source": [
    "\n",
    "%matplotlib inline\n",
    "from copy import deepcopy\n",
    "import numpy as np\n",
    "from mpl_toolkits.mplot3d import Axes3D\n",
    "import pandas as pd\n",
    "from matplotlib import pyplot as plt\n",
    "plt.style.use('ggplot')\n",
    "%matplotlib inline\n",
    "from copy import deepcopy\n",
    "import numpy as np\n",
    "from mpl_toolkits.mplot3d import Axes3D\n",
    "import pandas as pd\n",
    "from matplotlib import pyplot as plt\n",
    "plt.rcParams['figure.figsize'] = (16, 9)\n",
    "plt.style.use('ggplot')\n",
    "from random import *\n",
    "\n",
    "import math\n",
    "# Importing the dataset\n",
    "\n",
    "#http://eneskemalergin.github.io/blog//blog/Fuzzy_Clustering/\n",
    "\n"
   ]
  },
  {
   "cell_type": "code",
   "execution_count": 2,
   "metadata": {},
   "outputs": [
    {
     "name": "stdout",
     "output_type": "stream",
     "text": [
      "(115, 3)\n",
      "(115, 3)\n"
     ]
    }
   ],
   "source": [
    "file = pd.read_csv('BSOM_DataSet_reorganized.csv')\n",
    "data=file[['all_NBME_avg_n4', 'all_PIs_avg_n131', 'HD_final']]\n",
    "\n",
    "X=np.array(data)\n",
    "print(data.shape)\n",
    "data.head()\n",
    "\n",
    "print(X.shape)\n",
    "\n"
   ]
  },
  {
   "cell_type": "code",
   "execution_count": 3,
   "metadata": {},
   "outputs": [
    {
     "name": "stdout",
     "output_type": "stream",
     "text": [
      "115\n"
     ]
    }
   ],
   "source": [
    "# Number of Clusters\n",
    "clusters = 3\n",
    "\n",
    "\n",
    "# Number of data points\n",
    "n = len(data)\n",
    "print(n)\n",
    "\n",
    "\n",
    "# Fuzzy parameter\n",
    "fuzzifier = 2.00\n"
   ]
  },
  {
   "cell_type": "code",
   "execution_count": 4,
   "metadata": {},
   "outputs": [
    {
     "name": "stdout",
     "output_type": "stream",
     "text": [
      "[[0.7822555  0.91506648 0.97012829]\n",
      " [0.96545553 0.93114046 0.78236825]\n",
      " [0.5956671  0.86796617 0.83685329]]\n"
     ]
    }
   ],
   "source": [
    "# random centroids generation\n",
    "C0 = np.random.uniform(0.4,1.0,size=clusters)\n",
    "C1 = np.random.uniform(0.6,1.0,size=clusters)\n",
    "C2 = np.random.uniform(0.7,1.0,size=clusters)\n",
    "\n",
    "Centroids = np.array(list(zip(C0,C1,C2)))\n",
    "print(Centroids)\n",
    "#Centroids=np.array(data.sample(3))\n",
    "#print('Centroids',Centroids[0])"
   ]
  },
  {
   "cell_type": "code",
   "execution_count": 5,
   "metadata": {},
   "outputs": [],
   "source": [
    "# Euclidean Distance Caculator\n",
    "\n",
    "\n",
    "def dist(a,b):\n",
    "        sum = 0\n",
    "        for m in range(len(a)):\n",
    "            for n in range(len(b)):\n",
    "\n",
    "                sum  += ((a[m][n] - b[m][n]))**2\n",
    "\n",
    "        ed = math.sqrt(sum)\n",
    "        return ed"
   ]
  },
  {
   "cell_type": "markdown",
   "metadata": {},
   "source": [
    "## Centroids calculation"
   ]
  },
  {
   "cell_type": "code",
   "execution_count": null,
   "metadata": {},
   "outputs": [],
   "source": []
  },
  {
   "cell_type": "code",
   "execution_count": 6,
   "metadata": {},
   "outputs": [
    {
     "name": "stdout",
     "output_type": "stream",
     "text": [
      "productSum_df_c0 [0.707696   0.69473183 0.6810292 ]\n",
      "productSum_df_c0 [0.48940906 0.48044366 0.47096756]\n",
      "productSum_df_c0 [0.34679534 0.34044246 0.33372769]\n",
      "productSum_df_c0 [0.707696   0.69473183 0.6810292 ]\n",
      "productSum_df_c0 [0.48940906 0.48044366 0.47096756]\n",
      "productSum_df_c0 [0.34679534 0.34044246 0.33372769]\n",
      "5.74211813252823e-16\n"
     ]
    }
   ],
   "source": [
    "total_weights=[]\n",
    "c_updated=[]\n",
    "error = 10\n",
    "c_old = Centroids\n",
    "while (error > 0.3):\n",
    "    \n",
    "    for i in range(n):\n",
    "        weights=[]# weights of points for all the clusters \n",
    "        for w in range(3):\n",
    "            w0=(dist(X[[i]],Centroids[[w]])/dist(X[[i]],Centroids[[0]]))**fuzzifier\n",
    "                #print('w0',w0)\n",
    "\n",
    "            w1=(dist(X[[i]],Centroids[[w]])/dist(X[[i]],Centroids[[1]]))**fuzzifier\n",
    "                #print('w1',w1)\n",
    "            w2=(dist(X[[i]],Centroids[[w]])/dist(X[[i]],Centroids[[2]]))**fuzzifier\n",
    "                #print('w2',w2)\n",
    "            sum_val=w0+w1+w2\n",
    "                #print('sum_val',sum_val)\n",
    "\n",
    "                #print('sqr_sum',sqr_sum)\n",
    "            finl_weights=1/sum_val\n",
    "                #print('finl_weights',finl_weights)\n",
    "            #total_weights.append(finl_weights)\n",
    "            weights.append(finl_weights)\n",
    "        total_weights.append(weights)\n",
    "\n",
    "        weights_df=pd.DataFrame(total_weights)\n",
    "\n",
    "\n",
    "    #weights_df[0] = weights_df[0].str.get(0)\n",
    "    #weights_df[1] = weights_df[1].str.get(0)\n",
    "    #weights_df[2] = weights_df[2].str.get(0)\n",
    "\n",
    "\n",
    "    for l in range(clusters):\n",
    "        for v in range(n):# n = num of data points\n",
    "            product_c0=np.array(weights_df[[l]])*np.array(weights_df[[l]])*X[v]\n",
    "        product_c0_df=pd.DataFrame(product_c0)\n",
    "        #print('product_c0_df',product_c0_df)\n",
    "        productSum_df_c0=np.array(product_c0_df.sum(axis = 0))/np.sum(weights_df[l])\n",
    "        print('productSum_df_c0',productSum_df_c0)\n",
    "        #c_updated.append(productSum_df_c0)\n",
    "        if l==0:\n",
    "            c0=productSum_df_c0\n",
    "        if l==1:\n",
    "            c1=productSum_df_c0\n",
    "        if l==2:\n",
    "            c2=productSum_df_c0\n",
    "    c_updated = np.array(list(zip(c0,c1,c2)))\n",
    "    \n",
    "    \n",
    "    error = dist(c_old,c_updated)\n",
    "    c_old = c_updated\n",
    "    \n",
    "   \n",
    "\n",
    "\n",
    "    \n",
    "print(error)\n"
   ]
  },
  {
   "cell_type": "markdown",
   "metadata": {},
   "source": [
    "## 3.b "
   ]
  },
  {
   "cell_type": "code",
   "execution_count": null,
   "metadata": {},
   "outputs": [],
   "source": []
  }
 ],
 "metadata": {
  "kernelspec": {
   "display_name": "Python 3",
   "language": "python",
   "name": "python3"
  },
  "language_info": {
   "codemirror_mode": {
    "name": "ipython",
    "version": 3
   },
   "file_extension": ".py",
   "mimetype": "text/x-python",
   "name": "python",
   "nbconvert_exporter": "python",
   "pygments_lexer": "ipython3",
   "version": "3.7.0"
  }
 },
 "nbformat": 4,
 "nbformat_minor": 2
}
