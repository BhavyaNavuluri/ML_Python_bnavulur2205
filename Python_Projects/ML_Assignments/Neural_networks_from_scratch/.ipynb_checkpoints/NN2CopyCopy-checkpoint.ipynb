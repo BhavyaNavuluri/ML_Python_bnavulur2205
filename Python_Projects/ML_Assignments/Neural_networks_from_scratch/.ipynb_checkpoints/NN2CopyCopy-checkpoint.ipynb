{
 "cells": [
  {
   "cell_type": "code",
   "execution_count": 1795,
   "metadata": {},
   "outputs": [],
   "source": [
    "import numpy as np\n",
    "import pandas as pd \n",
    "import csv \n",
    "from sklearn.preprocessing import OneHotEncoder \n",
    "from sklearn.model_selection import train_test_split\n",
    "from scipy.io import loadmat\n",
    "import warnings\n",
    "warnings.simplefilter(\"ignore\")"
   ]
  },
  {
   "cell_type": "code",
   "execution_count": 1796,
   "metadata": {},
   "outputs": [
    {
     "data": {
      "text/plain": [
       "all_mcqs_avg_n20    False\n",
       "all_NBME_avg_n4     False\n",
       "CBSE_01             False\n",
       "CBSE_02             False\n",
       "LEVEL               False\n",
       "dtype: bool"
      ]
     },
     "execution_count": 1796,
     "metadata": {},
     "output_type": "execute_result"
    }
   ],
   "source": [
    "#  loading the data set \n",
    "file = pd.read_csv('BSOM_DataSet_for_HW3.csv')\n",
    "\n",
    "\n",
    "# to check whether there are any empty values or not \n",
    "df=file[['all_mcqs_avg_n20', 'all_NBME_avg_n4', 'CBSE_01',  'CBSE_02', 'LEVEL']]\n",
    "\n",
    "\n",
    "df['LEVEL'].fillna(value='A', inplace=True) \n",
    "\n",
    "df[['CBSE_02']].fillna(method ='bfill')\n",
    "#.fillna(52, inplace=True)\n",
    "df.fillna(df['CBSE_02'].mean(), inplace=True)\n",
    "\n",
    "df.isnull().any()\n"
   ]
  },
  {
   "cell_type": "code",
   "execution_count": 1797,
   "metadata": {},
   "outputs": [
    {
     "name": "stdout",
     "output_type": "stream",
     "text": [
      "     all_mcqs_avg_n20  all_NBME_avg_n4  CBSE_01  CBSE_02  LEVEL\n",
      "0               0.736           0.7700       42     68.0      2\n",
      "1               0.740           0.8000       44     67.0      3\n",
      "2               0.807           0.8125       41     78.0      1\n",
      "3               0.886           0.9250       68     91.0      1\n",
      "4               0.839           0.8550       57     74.0      2\n",
      "..                ...              ...      ...      ...    ...\n",
      "110             0.637           0.6825       45     52.0      3\n",
      "111             0.751           0.8150       53     60.0      3\n",
      "112             0.811           0.8325       50     77.0      2\n",
      "113             0.729           0.7275       43     68.0      3\n",
      "114             0.839           0.8625       54     73.0      2\n",
      "\n",
      "[115 rows x 5 columns]\n"
     ]
    }
   ],
   "source": [
    "LEVEL = {'A': 1,'B': 2,'C':3,'D':4}\n",
    "\n",
    "df.LEVEL = [LEVEL[item] for item in df.LEVEL] \n",
    "print(df) "
   ]
  },
  {
   "cell_type": "code",
   "execution_count": 1798,
   "metadata": {},
   "outputs": [],
   "source": [
    "# Transforming y to binary number using one-hot- encoding\n",
    "onhtencder = OneHotEncoder(categorical_features = [0]) \n",
    "data = onhtencder.fit_transform(df[['LEVEL']]).toarray() \n",
    "#data"
   ]
  },
  {
   "cell_type": "code",
   "execution_count": 1799,
   "metadata": {},
   "outputs": [
    {
     "name": "stdout",
     "output_type": "stream",
     "text": [
      "(92, 5)\n",
      "(23, 5)\n",
      "(92, 4)\n",
      "(23, 4)\n"
     ]
    }
   ],
   "source": [
    "X= df.iloc[:,:]\n",
    "\n",
    "target=df.iloc[:,-1]\n",
    "X_train, X_test, y_train, y_test = train_test_split(X,data, test_size=0.20)\n",
    "\n",
    "print(X_train.shape)\n",
    "print(X_test.shape)\n",
    "print(y_train.shape)\n",
    "print(y_test.shape)"
   ]
  },
  {
   "cell_type": "code",
   "execution_count": 1800,
   "metadata": {},
   "outputs": [],
   "source": [
    "\n",
    "Train_ip=np.array(X_train.iloc[:,:-1])\n",
    "Train_otpts=np.array(y_train)\n"
   ]
  },
  {
   "cell_type": "code",
   "execution_count": 1801,
   "metadata": {},
   "outputs": [
    {
     "name": "stdout",
     "output_type": "stream",
     "text": [
      "wt1 [[-0.9025665  -0.54685864  0.39251386 -0.71772535 -0.53881805]\n",
      " [ 0.38957531 -0.863269    0.45866493  0.25491587  0.30413215]\n",
      " [-0.35706621  0.07688599 -0.84243477 -0.43096759 -0.59426796]\n",
      " [ 0.02269614  0.3044185   0.23017354 -0.73272587 -0.63968931]\n",
      " [-0.00548657 -0.95990207  0.47227593  0.18484878 -0.68233345]]\n",
      "wt2 [[ 0.83462354  0.08745192  0.99552534 -0.91535132  0.62589296 -0.84523863]\n",
      " [ 0.88049392 -0.27712798  0.33322454  0.42921365  0.42619767  0.38790306]\n",
      " [-0.97670064 -0.55904875  0.59454374  0.57394054  0.60332412 -0.98434281]\n",
      " [-0.91730775 -0.85234779  0.7474953  -0.04512194  0.46344642 -0.56336649]]\n"
     ]
    }
   ],
   "source": [
    "# Initializing weights randomly\n",
    "\n",
    "#wt1 is the weights from input layer to the hidden layer\n",
    "wt1 = 2 * np.random.random((5,5))- 1  \n",
    "\n",
    "#wt2 is the weights from hidden layer to the  onput layer\n",
    "wt2 = 2 * np.random.random((4,6))- 1   \n",
    "\n",
    "# #unrolling the  params\n",
    "\n",
    "ttl_weits = np.hstack((wt1.ravel(order='F'), wt2.ravel(order='F')))    \n",
    "\n",
    "# layers configuration \n",
    "\n",
    "ip_lyr = 4\n",
    "hd_lyr = 5\n",
    "no_labls = 4\n",
    "#lmbda = 1\n",
    "print('wt1',wt1)\n",
    "print('wt2',wt2)\n",
    "\n"
   ]
  },
  {
   "cell_type": "code",
   "execution_count": 1802,
   "metadata": {},
   "outputs": [],
   "source": [
    "#print('ttl_weits',ttl_weits)"
   ]
  },
  {
   "cell_type": "code",
   "execution_count": 1803,
   "metadata": {},
   "outputs": [],
   "source": [
    "\n",
    "# Sigmoid  function \n",
    "def SIG(z):\n",
    "    return 1/(1+np.exp(-z))\n",
    "\n",
    "# Sigmoid derivatives to adjust the weights\n",
    "\n",
    "def SIGGrad(z):\n",
    "    return np.multiply(SIG(z), 1-SIG(z))"
   ]
  },
  {
   "cell_type": "code",
   "execution_count": 1804,
   "metadata": {},
   "outputs": [],
   "source": [
    "def Feedfrwd(ttl_weits, ip_lyr, hd_lyr, no_labls, X, y):\n",
    "    wt1 = np.reshape(ttl_weits[:hd_lyr*(ip_lyr+1)], (hd_lyr, ip_lyr+1), 'F')\n",
    "    wt2 = np.reshape(ttl_weits[hd_lyr*(ip_lyr+1):], (no_labls, hd_lyr+1), 'F')\n",
    " \n",
    "    l = len(Train_otpts)\n",
    "   \n",
    "    ones = np.ones((l,1))\n",
    "    \n",
    "    a1 = np.hstack((ones, Train_ip))\n",
    "    \n",
    "    a2 = SIG(a1 @ wt1.T)\n",
    "    \n",
    "    a2 = np.hstack((ones, a2))\n",
    "    \n",
    "    h = SIG(a2 @ wt2.T)\n",
    "    \n",
    "    cost = np.sum(np.multiply(y, np.log(h))+np.multiply(1-y, np.log(1-h)))\n",
    "    \n",
    "    s1 = np.sum(np.sum(np.power(wt1[:,1:],2), axis = 1))\n",
    "    \n",
    "    s2 = np.sum(np.sum(np.power(wt2[:,1:],2), axis = 1))\n",
    "    \n",
    "    return np.sum(cost / (-l)) + (s1 + s2) / (2*l)    \n",
    "    "
   ]
  },
  {
   "cell_type": "code",
   "execution_count": 1805,
   "metadata": {},
   "outputs": [],
   "source": [
    "cf_er = Feedfrwd(ttl_weits, ip_lyr, hd_lyr, no_labls, Train_ip,Train_otpts)\n"
   ]
  },
  {
   "cell_type": "code",
   "execution_count": 1806,
   "metadata": {},
   "outputs": [],
   "source": [
    "def rand_Init_Wgts(L_in, L_out):\n",
    "    epsilon = 0.10\n",
    "    return np.random.rand(L_out, L_in+1) * 2 * epsilon - epsilon\n",
    "\n",
    "initial_wt1 = rand_Init_Wgts(ip_lyr, hd_lyr)\n",
    "initial_wt2 = rand_Init_Wgts(hd_lyr, no_labls)\n",
    "\n",
    "\n",
    "ttl_initial_weights = np.hstack((initial_wt1.ravel(order='F'), initial_wt2.ravel(order='F')))"
   ]
  },
  {
   "cell_type": "code",
   "execution_count": 1807,
   "metadata": {},
   "outputs": [],
   "source": [
    "def Backwrd_prop(ttl_weits, ip_lyr, hd_lyr, no_labls, X, y):\n",
    "    \n",
    "    init_wt1 = np.reshape(ttl_weits[:hd_lyr*(ip_lyr+1)], (hd_lyr, ip_lyr+1), 'F')\n",
    "    initial_wt2 = np.reshape(ttl_weits[hd_lyr*(ip_lyr+1):], (no_labls, hd_lyr+1), 'F')\n",
    "    \n",
    "    D1 = np.zeros(init_wt1.shape)\n",
    "    D2 = np.zeros(initial_wt2.shape)\n",
    "    \n",
    "    l = len(y)\n",
    "\n",
    "    ones = np.ones((l,1))\n",
    "    \n",
    "    \n",
    "    a1 = np.hstack((ones, X))\n",
    "    z2 = a1 @ initial_wt1.T\n",
    "    a2 = np.hstack((ones, SIG(z2)))\n",
    "    z3 = a2 @ initial_wt2.T\n",
    "    a3 = SIG(z3)\n",
    "    \n",
    "    d3 = a3 - y\n",
    "    z2 = np.hstack((ones, z2))\n",
    "    d2 = np.multiply(initial_wt2.T @ d3.T, SIGGrad(z2).T)\n",
    "    D1 = D1 + d2[1:,:] @ a1\n",
    "    D2 = D2 + d3.T @ a2\n",
    "    \n",
    "   \n",
    "        \n",
    "    D1 /= l\n",
    "    D2 /= l\n",
    "    #print(D1.shape, D2.shape)\n",
    "    D1[:,1:] = D1[:,1:] + initial_wt1[:,1:] \n",
    "    D2[:,1:] = D2[:,1:] + initial_wt2[:,1:]  \n",
    "        \n",
    "    return np.hstack((D1.ravel(order='F'), D2.ravel(order='F')))"
   ]
  },
  {
   "cell_type": "code",
   "execution_count": 1808,
   "metadata": {},
   "outputs": [
    {
     "data": {
      "text/plain": [
       "array([-2.97291712e-05,  5.49182302e-04, -7.71368791e-04,  9.75880069e-06,\n",
       "       -3.44796600e-03, -1.12169208e-02,  3.66301270e-02,  5.64930964e-02,\n",
       "        9.81958650e-02, -5.84265105e-02,  9.77049966e-02, -7.26475100e-02,\n",
       "        8.16569884e-03,  9.82689736e-02,  8.83716127e-02, -4.40597892e-02,\n",
       "        3.21755079e-02, -1.35582555e-01, -1.68201716e-02, -6.41041582e-02,\n",
       "       -8.02229602e-02,  8.20789647e-02, -4.57159836e-02, -9.19353001e-02,\n",
       "       -2.63318364e-01,  2.65837494e-01,  1.01180633e-01,  2.20206396e-01,\n",
       "        4.44737440e-01,  2.67194371e-02,  1.81416927e-02, -7.55057495e-02,\n",
       "       -9.39077310e-02,  3.25959789e-01,  1.86356366e-01,  2.70103312e-01,\n",
       "        3.85632052e-01,  1.01282298e-01, -7.41529274e-03, -8.93670746e-02,\n",
       "       -5.80746099e-02, -5.83524270e-02,  2.37510775e-02,  8.83267152e-02,\n",
       "        4.26562363e-02,  2.18198029e-01,  7.31789398e-03,  2.63336512e-01,\n",
       "        3.10894709e-01])"
      ]
     },
     "execution_count": 1808,
     "metadata": {},
     "output_type": "execute_result"
    }
   ],
   "source": [
    "ttl_bckprop_weights = Backwrd_prop(ttl_initial_weights, ip_lyr, hd_lyr, no_labls,Train_ip,Train_otpts)\n",
    "\n",
    "ttl_bckprop_weights"
   ]
  },
  {
   "cell_type": "code",
   "execution_count": 1809,
   "metadata": {},
   "outputs": [],
   "source": [
    "\n",
    "def Gard_checking(ttl_initial_weights,ttl_bckprop_weights,ip_lyr, hd_lyr, no_labls,X,y):\n",
    "    epsilon = 0.001\n",
    "    frwd_we = ttl_initial_weights\n",
    "    \n",
    "    bkwrd_we = ttl_bckprop_weights\n",
    "    \n",
    "    l = len(frwd_we) \n",
    "    \n",
    "    for i in range(8):\n",
    "        x = int(np.random.rand()*l)\n",
    "        epsvec = np.zeros((l,1))\n",
    "        \n",
    "        epsvec[x] = epsilon\n",
    "        c1 = Feedfrwd(frwd_we + epsvec.flatten(),ip_lyr, hd_lyr, no_labls,X,y)\n",
    "        #print('c1',c1)\n",
    "        c2  = Feedfrwd(frwd_we - epsvec.flatten(),ip_lyr, hd_lyr, no_labls,X,y)\n",
    "        #print('c2',c2)\n",
    "        frm_frwd = (c1 - c2) / float(2*epsilon)\n",
    "        \n",
    "        print('frm_frwd',frm_frwd) \n",
    "        print('frm_bcwrd',bkwrd_we[x])\n",
    "        \n",
    "        \n",
    "        \n"
   ]
  },
  {
   "cell_type": "code",
   "execution_count": 1810,
   "metadata": {},
   "outputs": [
    {
     "name": "stdout",
     "output_type": "stream",
     "text": [
      "frm_frwd 0.0010857562167121415\n",
      "frm_bcwrd 0.08832671518073526\n",
      "frm_frwd 0.22020639444852996\n",
      "frm_bcwrd 0.22020639558824148\n",
      "frm_frwd -0.00014403356152214997\n",
      "frm_bcwrd -0.011216920772155387\n",
      "frm_frwd -0.06339858866377668\n",
      "frm_bcwrd -0.04571598355012428\n",
      "frm_frwd 0.0007896781073490899\n",
      "frm_bcwrd 0.03663012695332595\n",
      "frm_frwd -0.002774204510114231\n",
      "frm_bcwrd -0.08022296016591815\n",
      "frm_frwd 0.09907629330885293\n",
      "frm_bcwrd 0.18635636640258033\n",
      "frm_frwd 0.09907629330885293\n",
      "frm_bcwrd 0.18635636640258033\n"
     ]
    }
   ],
   "source": [
    "grad=Gard_checking(ttl_initial_weights,ttl_bckprop_weights,ip_lyr, hd_lyr, no_labls,Train_ip,Train_otpts)\n",
    "\n",
    "\n",
    "grad"
   ]
  },
  {
   "cell_type": "code",
   "execution_count": 1811,
   "metadata": {},
   "outputs": [
    {
     "name": "stdout",
     "output_type": "stream",
     "text": [
      "Warning: Desired error not necessarily achieved due to precision loss.\n",
      "         Current function value: 2.088239\n",
      "         Iterations: 2\n",
      "         Function evaluations: 110\n",
      "         Gradient evaluations: 98\n"
     ]
    }
   ],
   "source": [
    "import scipy.optimize as opt\n",
    "Final_weights = opt.fmin_cg(maxiter = 100, f = Feedfrwd, x0 = ttl_initial_weights, fprime = Backwrd_prop,\n",
    "                        args = (ip_lyr, hd_lyr, no_labls,Train_ip,Train_otpts))\n",
    "\n",
    "wt1_opt = np.reshape(Final_weights[:hd_lyr*(ip_lyr+1)], (hd_lyr, ip_lyr+1), 'F')\n",
    "wt2_opt = np.reshape(Final_weights[hd_lyr*(ip_lyr+1):], (no_labls, hd_lyr+1), 'F')"
   ]
  },
  {
   "cell_type": "code",
   "execution_count": 1812,
   "metadata": {},
   "outputs": [
    {
     "data": {
      "text/plain": [
       "(array([[ 0.03401474,  0.01568184, -0.13654381,  0.06189323,  0.11258428],\n",
       "        [ 0.01073163, -0.04956893,  0.10322378,  0.05403811,  0.02753253],\n",
       "        [-0.07625636, -0.07871232, -0.01116202,  0.2036356 ,  0.08704867],\n",
       "        [ 0.06091868, -0.13723672, -0.13733882,  0.02344264,  0.12838033],\n",
       "        [ 0.10790784,  0.08856666, -0.11631448,  0.50271786,  0.98952448]]),\n",
       " array([[-0.44629004, -0.01805807, -0.33944042, -0.07338833,  0.0386783 ,\n",
       "         -0.25848943],\n",
       "        [-0.14431959, -0.01222943, -0.17139438,  0.00352731, -0.01603238,\n",
       "         -0.04883128],\n",
       "        [-0.45521144,  0.05046106, -0.27376885,  0.05717857, -0.05896773,\n",
       "         -0.25899975],\n",
       "        [-0.85129779,  0.0625378 , -0.51705431,  0.03017435, -0.02877723,\n",
       "         -0.44479129]]))"
      ]
     },
     "execution_count": 1812,
     "metadata": {},
     "output_type": "execute_result"
    }
   ],
   "source": [
    "wt1_opt,wt2_opt"
   ]
  },
  {
   "cell_type": "code",
   "execution_count": 1813,
   "metadata": {},
   "outputs": [],
   "source": [
    "def predicting_y(wt1, wt2, X, y):\n",
    "    l = len(y)\n",
    "    ones = np.ones((l,1))\n",
    "    a1 = np.hstack((ones, X))\n",
    "    a2 = SIG(a1 @ wt1.T)\n",
    "    a2 = np.hstack((ones, a2))\n",
    "    h = SIG(a2 @ wt2.T)\n",
    "    return np.argmax(h, axis = 1) "
   ]
  },
  {
   "cell_type": "code",
   "execution_count": 1814,
   "metadata": {},
   "outputs": [
    {
     "data": {
      "text/plain": [
       "array([1, 1, 1, 1, 1, 1, 1, 1, 1, 1, 1, 1, 1, 1, 1, 1, 1, 1, 1, 1, 1, 1,\n",
       "       1], dtype=int64)"
      ]
     },
     "execution_count": 1814,
     "metadata": {},
     "output_type": "execute_result"
    }
   ],
   "source": [
    "pred = predicting_y(wt1_opt, wt2_opt, X_test.iloc[:,:-1], y_test)\n",
    "pred\n"
   ]
  },
  {
   "cell_type": "markdown",
   "metadata": {},
   "source": [
    "## RMSE"
   ]
  },
  {
   "cell_type": "code",
   "execution_count": 1815,
   "metadata": {},
   "outputs": [
    {
     "name": "stdout",
     "output_type": "stream",
     "text": [
      "1.285369173834303\n"
     ]
    },
    {
     "data": {
      "text/plain": [
       "1.6521739130434783"
      ]
     },
     "execution_count": 1815,
     "metadata": {},
     "output_type": "execute_result"
    }
   ],
   "source": [
    "y_actual=X_test.iloc[:,-1]\n",
    "\n",
    "rmse=np.sqrt( np.sum((pred-y_actual)**2) /len(y_actual))\n",
    "print(rmse)\n",
    "mse=np.sum((pred-y_actual)**2) /len(y_actual)\n",
    "mse"
   ]
  },
  {
   "cell_type": "code",
   "execution_count": 1816,
   "metadata": {},
   "outputs": [],
   "source": [
    "\n",
    "    #print('delta1',delta1)\n",
    "    #print('delta1 shape',delta1.shape)\n",
    "    #print('delta2',delta2)\n",
    "    #print('delta2 shape',delta2.shape)\n",
    "    #print('a1',a1)\n",
    "    #print('al shape',a1.shape) \n",
    "    #print('z2',z2)\n",
    "    #print('z2 sha',z2.shape)\n",
    "    #print('a2 ',a2)\n",
    "    #print('a2 ',a2.shape)  \n",
    "    #print('z3',z3)\n",
    "    #print('z3 ',z3.shape) \n",
    "    #print('a3',a3)\n",
    "    #print('a3',a3.shape)  \n",
    "    #print('d3',d3)\n",
    "    #print('d3',d3.shape)\n",
    "    #print('z2',z2)\n",
    "    #print('z2',z2.shape)\n",
    "    #print('d2',d2)\n",
    "    #print('d2',d2.shape)\n",
    "    #print('delta1',delta1)\n",
    "    #print('delta1',delta1.shape)\n",
    "    "
   ]
  }
 ],
 "metadata": {
  "kernelspec": {
   "display_name": "Python 3",
   "language": "python",
   "name": "python3"
  },
  "language_info": {
   "codemirror_mode": {
    "name": "ipython",
    "version": 3
   },
   "file_extension": ".py",
   "mimetype": "text/x-python",
   "name": "python",
   "nbconvert_exporter": "python",
   "pygments_lexer": "ipython3",
   "version": "3.7.0"
  }
 },
 "nbformat": 4,
 "nbformat_minor": 2
}
