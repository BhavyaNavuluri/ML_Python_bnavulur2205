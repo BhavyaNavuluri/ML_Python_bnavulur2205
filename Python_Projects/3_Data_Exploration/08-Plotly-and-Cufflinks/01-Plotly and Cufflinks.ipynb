{
 "cells": [
  {
   "cell_type": "markdown",
   "metadata": {},
   "source": [
    "Plotly is a library that allows you to create interactive plots that you can use in dashboards or websites (you can save them as html files or static images).\n",
    "\n",
    "## Installation\n",
    "\n",
    "    pip install plotly\n",
    "    pip install cufflinks\n",
    "\n",
    "** NOTE: Make sure you only have one installation of Python on your computer when you do this, otherwise the installation may not work. **\n",
    "\n",
    "## Imports and Set-up"
   ]
  },
  {
   "cell_type": "code",
   "execution_count": 9,
   "metadata": {},
   "outputs": [],
   "source": [
    "import pandas as pd\n",
    "import numpy as np\n",
    "%matplotlib inline"
   ]
  },
  {
   "cell_type": "code",
   "execution_count": 10,
   "metadata": {},
   "outputs": [
    {
     "name": "stdout",
     "output_type": "stream",
     "text": [
      "4.8.1\n"
     ]
    }
   ],
   "source": [
    "from plotly import __version__\n",
    "from plotly.offline import download_plotlyjs, init_notebook_mode, plot, iplot\n",
    "\n",
    "print(__version__) # requires version >= 1.9.0"
   ]
  },
  {
   "cell_type": "code",
   "execution_count": 11,
   "metadata": {},
   "outputs": [],
   "source": [
    "import cufflinks as cf"
   ]
  },
  {
   "cell_type": "code",
   "execution_count": 12,
   "metadata": {},
   "outputs": [
    {
     "data": {
      "text/html": [
       "        <script type=\"text/javascript\">\n",
       "        window.PlotlyConfig = {MathJaxConfig: 'local'};\n",
       "        if (window.MathJax) {MathJax.Hub.Config({SVG: {font: \"STIX-Web\"}});}\n",
       "        if (typeof require !== 'undefined') {\n",
       "        require.undef(\"plotly\");\n",
       "        requirejs.config({\n",
       "            paths: {\n",
       "                'plotly': ['https://cdn.plot.ly/plotly-latest.min']\n",
       "            }\n",
       "        });\n",
       "        require(['plotly'], function(Plotly) {\n",
       "            window._Plotly = Plotly;\n",
       "        });\n",
       "        }\n",
       "        </script>\n",
       "        "
      ]
     },
     "metadata": {},
     "output_type": "display_data"
    }
   ],
   "source": [
    "# For Notebooks\n",
    "init_notebook_mode(connected=True)"
   ]
  },
  {
   "cell_type": "code",
   "execution_count": 13,
   "metadata": {},
   "outputs": [
    {
     "data": {
      "text/html": [
       "        <script type=\"text/javascript\">\n",
       "        window.PlotlyConfig = {MathJaxConfig: 'local'};\n",
       "        if (window.MathJax) {MathJax.Hub.Config({SVG: {font: \"STIX-Web\"}});}\n",
       "        if (typeof require !== 'undefined') {\n",
       "        require.undef(\"plotly\");\n",
       "        requirejs.config({\n",
       "            paths: {\n",
       "                'plotly': ['https://cdn.plot.ly/plotly-latest.min']\n",
       "            }\n",
       "        });\n",
       "        require(['plotly'], function(Plotly) {\n",
       "            window._Plotly = Plotly;\n",
       "        });\n",
       "        }\n",
       "        </script>\n",
       "        "
      ]
     },
     "metadata": {},
     "output_type": "display_data"
    }
   ],
   "source": [
    "# For offline use\n",
    "cf.go_offline()"
   ]
  },
  {
   "cell_type": "markdown",
   "metadata": {},
   "source": [
    "### Fake Data"
   ]
  },
  {
   "cell_type": "code",
   "execution_count": 14,
   "metadata": {},
   "outputs": [],
   "source": [
    "df = pd.DataFrame(np.random.randn(100,4),columns='A B C D'.split())"
   ]
  },
  {
   "cell_type": "code",
   "execution_count": 15,
   "metadata": {},
   "outputs": [
    {
     "data": {
      "text/html": [
       "<div>\n",
       "<style scoped>\n",
       "    .dataframe tbody tr th:only-of-type {\n",
       "        vertical-align: middle;\n",
       "    }\n",
       "\n",
       "    .dataframe tbody tr th {\n",
       "        vertical-align: top;\n",
       "    }\n",
       "\n",
       "    .dataframe thead th {\n",
       "        text-align: right;\n",
       "    }\n",
       "</style>\n",
       "<table border=\"1\" class=\"dataframe\">\n",
       "  <thead>\n",
       "    <tr style=\"text-align: right;\">\n",
       "      <th></th>\n",
       "      <th>A</th>\n",
       "      <th>B</th>\n",
       "      <th>C</th>\n",
       "      <th>D</th>\n",
       "    </tr>\n",
       "  </thead>\n",
       "  <tbody>\n",
       "    <tr>\n",
       "      <th>0</th>\n",
       "      <td>-1.766472</td>\n",
       "      <td>0.725642</td>\n",
       "      <td>1.241070</td>\n",
       "      <td>-0.211301</td>\n",
       "    </tr>\n",
       "    <tr>\n",
       "      <th>1</th>\n",
       "      <td>1.372396</td>\n",
       "      <td>0.489136</td>\n",
       "      <td>-0.611240</td>\n",
       "      <td>1.531044</td>\n",
       "    </tr>\n",
       "    <tr>\n",
       "      <th>2</th>\n",
       "      <td>-0.168624</td>\n",
       "      <td>-0.021447</td>\n",
       "      <td>-1.208786</td>\n",
       "      <td>-0.383414</td>\n",
       "    </tr>\n",
       "    <tr>\n",
       "      <th>3</th>\n",
       "      <td>-0.468673</td>\n",
       "      <td>0.569919</td>\n",
       "      <td>0.007888</td>\n",
       "      <td>-1.783058</td>\n",
       "    </tr>\n",
       "    <tr>\n",
       "      <th>4</th>\n",
       "      <td>0.105245</td>\n",
       "      <td>0.798979</td>\n",
       "      <td>0.455304</td>\n",
       "      <td>-0.095959</td>\n",
       "    </tr>\n",
       "  </tbody>\n",
       "</table>\n",
       "</div>"
      ],
      "text/plain": [
       "          A         B         C         D\n",
       "0 -1.766472  0.725642  1.241070 -0.211301\n",
       "1  1.372396  0.489136 -0.611240  1.531044\n",
       "2 -0.168624 -0.021447 -1.208786 -0.383414\n",
       "3 -0.468673  0.569919  0.007888 -1.783058\n",
       "4  0.105245  0.798979  0.455304 -0.095959"
      ]
     },
     "execution_count": 15,
     "metadata": {},
     "output_type": "execute_result"
    }
   ],
   "source": [
    "df.head()"
   ]
  },
  {
   "cell_type": "code",
   "execution_count": 16,
   "metadata": {},
   "outputs": [],
   "source": [
    "df2 = pd.DataFrame({'Category':['A','B','C'],'Values':[32,43,50]})"
   ]
  },
  {
   "cell_type": "code",
   "execution_count": 17,
   "metadata": {},
   "outputs": [
    {
     "data": {
      "text/html": [
       "<div>\n",
       "<style scoped>\n",
       "    .dataframe tbody tr th:only-of-type {\n",
       "        vertical-align: middle;\n",
       "    }\n",
       "\n",
       "    .dataframe tbody tr th {\n",
       "        vertical-align: top;\n",
       "    }\n",
       "\n",
       "    .dataframe thead th {\n",
       "        text-align: right;\n",
       "    }\n",
       "</style>\n",
       "<table border=\"1\" class=\"dataframe\">\n",
       "  <thead>\n",
       "    <tr style=\"text-align: right;\">\n",
       "      <th></th>\n",
       "      <th>Category</th>\n",
       "      <th>Values</th>\n",
       "    </tr>\n",
       "  </thead>\n",
       "  <tbody>\n",
       "    <tr>\n",
       "      <th>0</th>\n",
       "      <td>A</td>\n",
       "      <td>32</td>\n",
       "    </tr>\n",
       "    <tr>\n",
       "      <th>1</th>\n",
       "      <td>B</td>\n",
       "      <td>43</td>\n",
       "    </tr>\n",
       "    <tr>\n",
       "      <th>2</th>\n",
       "      <td>C</td>\n",
       "      <td>50</td>\n",
       "    </tr>\n",
       "  </tbody>\n",
       "</table>\n",
       "</div>"
      ],
      "text/plain": [
       "  Category  Values\n",
       "0        A      32\n",
       "1        B      43\n",
       "2        C      50"
      ]
     },
     "execution_count": 17,
     "metadata": {},
     "output_type": "execute_result"
    }
   ],
   "source": [
    "df2.head()"
   ]
  },
  {
   "cell_type": "markdown",
   "metadata": {},
   "source": [
    "## Using Cufflinks and iplot()\n",
    "\n",
    "* scatter\n",
    "* bar\n",
    "* box\n",
    "* spread\n",
    "* ratio\n",
    "* heatmap\n",
    "* surface\n",
    "* histogram\n",
    "* bubble"
   ]
  },
  {
   "cell_type": "markdown",
   "metadata": {},
   "source": [
    "## Scatter"
   ]
  },
  {
   "cell_type": "code",
   "execution_count": 18,
   "metadata": {},
   "outputs": [
    {
     "data": {
      "application/vnd.plotly.v1+json": {
       "config": {
        "linkText": "Export to plot.ly",
        "plotlyServerURL": "https://plot.ly",
        "showLink": true
       },
       "data": [
        {
         "line": {
          "color": "rgba(255, 153, 51, 1.0)",
          "dash": "solid",
          "shape": "linear",
          "width": 1.3
         },
         "marker": {
          "size": 10,
          "symbol": "circle"
         },
         "mode": "markers",
         "name": "B",
         "text": "",
         "type": "scatter",
         "x": [
          -1.7664723391769375,
          1.3723961024111873,
          -0.16862382412950433,
          -0.4686727100182148,
          0.10524460974524735,
          -0.7962133829694761,
          -0.5298304180895901,
          0.6146238526515427,
          1.7292353993593634,
          0.07182212081760649,
          0.6684096748052933,
          -0.7800699149728171,
          1.5417320664306207,
          0.07871196129574386,
          -0.47912331954576354,
          0.49497874036995887,
          -0.8365379495421281,
          0.8100732064576514,
          1.504386579851412,
          1.3050146148625914,
          0.2327163067386028,
          -0.311794801754074,
          1.11803293083804,
          -0.2694022385891882,
          -1.9310046515278843,
          -0.7310345896030418,
          0.05597051235353513,
          -0.2670042140271307,
          -1.6328456299792342,
          1.6776349536213664,
          -0.8913226475416959,
          -0.20080795498403306,
          -2.0060384793844857,
          -0.16886522736983173,
          0.025069872614478645,
          -2.7983998538120525,
          -0.8296821954277036,
          -1.9867158696502034,
          0.2564426559057547,
          0.050771092269586864,
          0.06129118607457183,
          -1.4499164910285043,
          -0.7360201539756989,
          -1.2031929519207538,
          1.5075211502660624,
          0.9044128941163659,
          2.784660416932731,
          0.32705586003758896,
          -0.5137018289027601,
          -0.7574469128514296,
          -0.49514121798295785,
          -0.888912752461698,
          1.1174340171108508,
          1.907646220570275,
          -1.0537892813370076,
          0.425646641425545,
          -0.7082382696496868,
          -0.25756424708664577,
          -0.3605967100447902,
          -0.9910768416671183,
          0.6621518651077974,
          -0.3954043976512718,
          0.44955446684650807,
          1.0298175988968659,
          0.10641679029381493,
          0.9506947884212149,
          0.3278939302509376,
          -1.0602297237402718,
          0.11544492678947446,
          -1.0668802252218457,
          -1.9183668765571822,
          -0.8424470502410739,
          1.2075751433374757,
          0.7105708383905097,
          -0.3782733230042047,
          0.7870014181532221,
          0.08954649196791556,
          -1.166764582805965,
          0.6212228154843119,
          0.8308641409300191,
          -2.0347968071431044,
          1.2253581412652095,
          -0.9215248386855428,
          0.18688974053934473,
          0.30853112042580283,
          0.8420608730484123,
          -1.262211780112218,
          0.11362895802530086,
          0.62441011985385,
          -0.8495669500347244,
          -0.6409877413673586,
          0.5746315825425063,
          -1.9814150215828208,
          2.299270468997804,
          -0.5435018086035873,
          0.47492251312272793,
          0.34442197771751076,
          -1.6442326270930063,
          0.4553135548589679,
          0.4300313241505395
         ],
         "y": [
          0.7256419508353439,
          0.4891359318991245,
          -0.021446868697695354,
          0.5699189969135365,
          0.7989792641425312,
          -1.2851113711634663,
          1.279248718804933,
          0.4749243626656492,
          -1.1845154110032723,
          -1.9648371522917485,
          0.5417860210162163,
          -0.05673910016335068,
          0.0018623938866737526,
          0.5927262435852061,
          0.20216257918580935,
          0.018492048888641987,
          -0.8520453035630274,
          -0.7248018007763332,
          0.34726843746070557,
          0.17253064301206017,
          -1.1819637870114659,
          -0.6291814509893625,
          1.6199572666695972,
          0.650039467695885,
          -0.7283871457040803,
          1.4597335668062734,
          -0.36608342132309374,
          0.1328269564616293,
          0.7820912142809123,
          1.1274247601021,
          -0.7002588967779936,
          -0.030942292689513824,
          -1.5490479787927922,
          -0.9642215465178909,
          -1.6446231055376166,
          -1.9487704013656038,
          0.2694163481633915,
          -0.7433165541055985,
          -0.2861089515191114,
          -0.3708999899691444,
          -2.3375584256560025,
          0.5012563493125995,
          0.34715395702179985,
          0.024256749847415444,
          -0.3312328565998601,
          -1.044843498615884,
          0.31828001324412447,
          1.7381146592719325,
          0.3470207745920348,
          0.41222825484031134,
          -0.24605492900340303,
          1.5001702812430961,
          0.15281977465056046,
          -1.164278703957203,
          -0.017260272587306055,
          0.5073485068268082,
          -1.7104644016532617,
          1.25380445233376,
          -0.1785525841039943,
          -0.1932178660774815,
          0.6107610891492199,
          -0.4443632806386484,
          1.7931890763040588,
          -1.1616309130455214,
          -0.8551089592882165,
          -1.3710997856428642,
          -0.6733777419252835,
          -1.2024844159213874,
          -0.3212272102990379,
          -0.7677522239136005,
          0.7060261222801993,
          0.7042806007704804,
          2.2475715397569074,
          1.7570001108621793,
          -0.3459760349655492,
          -0.07203276847413792,
          1.3894267752811893,
          0.044803610782237366,
          -0.04569620946576732,
          -0.19048353847167335,
          -0.6333030971864758,
          1.0068296365388283,
          -2.729179981615213,
          0.8230205577553504,
          -0.39756656509869287,
          0.6253599249604785,
          -0.1371806460591855,
          -1.6587862639472124,
          -0.02175601899369613,
          -0.8234193356560962,
          -1.2165087892989863,
          -1.1186780154811298,
          0.1259983219990328,
          0.3721418360250379,
          1.2980171824511955,
          0.7596775122213181,
          -1.2705973080889903,
          -0.8090551467308078,
          -0.10521137722736196,
          -1.5136707297077323
         ]
        }
       ],
       "layout": {
        "legend": {
         "bgcolor": "#F5F6F9",
         "font": {
          "color": "#4D5663"
         }
        },
        "paper_bgcolor": "#F5F6F9",
        "plot_bgcolor": "#F5F6F9",
        "template": {
         "data": {
          "bar": [
           {
            "error_x": {
             "color": "#2a3f5f"
            },
            "error_y": {
             "color": "#2a3f5f"
            },
            "marker": {
             "line": {
              "color": "#E5ECF6",
              "width": 0.5
             }
            },
            "type": "bar"
           }
          ],
          "barpolar": [
           {
            "marker": {
             "line": {
              "color": "#E5ECF6",
              "width": 0.5
             }
            },
            "type": "barpolar"
           }
          ],
          "carpet": [
           {
            "aaxis": {
             "endlinecolor": "#2a3f5f",
             "gridcolor": "white",
             "linecolor": "white",
             "minorgridcolor": "white",
             "startlinecolor": "#2a3f5f"
            },
            "baxis": {
             "endlinecolor": "#2a3f5f",
             "gridcolor": "white",
             "linecolor": "white",
             "minorgridcolor": "white",
             "startlinecolor": "#2a3f5f"
            },
            "type": "carpet"
           }
          ],
          "choropleth": [
           {
            "colorbar": {
             "outlinewidth": 0,
             "ticks": ""
            },
            "type": "choropleth"
           }
          ],
          "contour": [
           {
            "colorbar": {
             "outlinewidth": 0,
             "ticks": ""
            },
            "colorscale": [
             [
              0,
              "#0d0887"
             ],
             [
              0.1111111111111111,
              "#46039f"
             ],
             [
              0.2222222222222222,
              "#7201a8"
             ],
             [
              0.3333333333333333,
              "#9c179e"
             ],
             [
              0.4444444444444444,
              "#bd3786"
             ],
             [
              0.5555555555555556,
              "#d8576b"
             ],
             [
              0.6666666666666666,
              "#ed7953"
             ],
             [
              0.7777777777777778,
              "#fb9f3a"
             ],
             [
              0.8888888888888888,
              "#fdca26"
             ],
             [
              1,
              "#f0f921"
             ]
            ],
            "type": "contour"
           }
          ],
          "contourcarpet": [
           {
            "colorbar": {
             "outlinewidth": 0,
             "ticks": ""
            },
            "type": "contourcarpet"
           }
          ],
          "heatmap": [
           {
            "colorbar": {
             "outlinewidth": 0,
             "ticks": ""
            },
            "colorscale": [
             [
              0,
              "#0d0887"
             ],
             [
              0.1111111111111111,
              "#46039f"
             ],
             [
              0.2222222222222222,
              "#7201a8"
             ],
             [
              0.3333333333333333,
              "#9c179e"
             ],
             [
              0.4444444444444444,
              "#bd3786"
             ],
             [
              0.5555555555555556,
              "#d8576b"
             ],
             [
              0.6666666666666666,
              "#ed7953"
             ],
             [
              0.7777777777777778,
              "#fb9f3a"
             ],
             [
              0.8888888888888888,
              "#fdca26"
             ],
             [
              1,
              "#f0f921"
             ]
            ],
            "type": "heatmap"
           }
          ],
          "heatmapgl": [
           {
            "colorbar": {
             "outlinewidth": 0,
             "ticks": ""
            },
            "colorscale": [
             [
              0,
              "#0d0887"
             ],
             [
              0.1111111111111111,
              "#46039f"
             ],
             [
              0.2222222222222222,
              "#7201a8"
             ],
             [
              0.3333333333333333,
              "#9c179e"
             ],
             [
              0.4444444444444444,
              "#bd3786"
             ],
             [
              0.5555555555555556,
              "#d8576b"
             ],
             [
              0.6666666666666666,
              "#ed7953"
             ],
             [
              0.7777777777777778,
              "#fb9f3a"
             ],
             [
              0.8888888888888888,
              "#fdca26"
             ],
             [
              1,
              "#f0f921"
             ]
            ],
            "type": "heatmapgl"
           }
          ],
          "histogram": [
           {
            "marker": {
             "colorbar": {
              "outlinewidth": 0,
              "ticks": ""
             }
            },
            "type": "histogram"
           }
          ],
          "histogram2d": [
           {
            "colorbar": {
             "outlinewidth": 0,
             "ticks": ""
            },
            "colorscale": [
             [
              0,
              "#0d0887"
             ],
             [
              0.1111111111111111,
              "#46039f"
             ],
             [
              0.2222222222222222,
              "#7201a8"
             ],
             [
              0.3333333333333333,
              "#9c179e"
             ],
             [
              0.4444444444444444,
              "#bd3786"
             ],
             [
              0.5555555555555556,
              "#d8576b"
             ],
             [
              0.6666666666666666,
              "#ed7953"
             ],
             [
              0.7777777777777778,
              "#fb9f3a"
             ],
             [
              0.8888888888888888,
              "#fdca26"
             ],
             [
              1,
              "#f0f921"
             ]
            ],
            "type": "histogram2d"
           }
          ],
          "histogram2dcontour": [
           {
            "colorbar": {
             "outlinewidth": 0,
             "ticks": ""
            },
            "colorscale": [
             [
              0,
              "#0d0887"
             ],
             [
              0.1111111111111111,
              "#46039f"
             ],
             [
              0.2222222222222222,
              "#7201a8"
             ],
             [
              0.3333333333333333,
              "#9c179e"
             ],
             [
              0.4444444444444444,
              "#bd3786"
             ],
             [
              0.5555555555555556,
              "#d8576b"
             ],
             [
              0.6666666666666666,
              "#ed7953"
             ],
             [
              0.7777777777777778,
              "#fb9f3a"
             ],
             [
              0.8888888888888888,
              "#fdca26"
             ],
             [
              1,
              "#f0f921"
             ]
            ],
            "type": "histogram2dcontour"
           }
          ],
          "mesh3d": [
           {
            "colorbar": {
             "outlinewidth": 0,
             "ticks": ""
            },
            "type": "mesh3d"
           }
          ],
          "parcoords": [
           {
            "line": {
             "colorbar": {
              "outlinewidth": 0,
              "ticks": ""
             }
            },
            "type": "parcoords"
           }
          ],
          "pie": [
           {
            "automargin": true,
            "type": "pie"
           }
          ],
          "scatter": [
           {
            "marker": {
             "colorbar": {
              "outlinewidth": 0,
              "ticks": ""
             }
            },
            "type": "scatter"
           }
          ],
          "scatter3d": [
           {
            "line": {
             "colorbar": {
              "outlinewidth": 0,
              "ticks": ""
             }
            },
            "marker": {
             "colorbar": {
              "outlinewidth": 0,
              "ticks": ""
             }
            },
            "type": "scatter3d"
           }
          ],
          "scattercarpet": [
           {
            "marker": {
             "colorbar": {
              "outlinewidth": 0,
              "ticks": ""
             }
            },
            "type": "scattercarpet"
           }
          ],
          "scattergeo": [
           {
            "marker": {
             "colorbar": {
              "outlinewidth": 0,
              "ticks": ""
             }
            },
            "type": "scattergeo"
           }
          ],
          "scattergl": [
           {
            "marker": {
             "colorbar": {
              "outlinewidth": 0,
              "ticks": ""
             }
            },
            "type": "scattergl"
           }
          ],
          "scattermapbox": [
           {
            "marker": {
             "colorbar": {
              "outlinewidth": 0,
              "ticks": ""
             }
            },
            "type": "scattermapbox"
           }
          ],
          "scatterpolar": [
           {
            "marker": {
             "colorbar": {
              "outlinewidth": 0,
              "ticks": ""
             }
            },
            "type": "scatterpolar"
           }
          ],
          "scatterpolargl": [
           {
            "marker": {
             "colorbar": {
              "outlinewidth": 0,
              "ticks": ""
             }
            },
            "type": "scatterpolargl"
           }
          ],
          "scatterternary": [
           {
            "marker": {
             "colorbar": {
              "outlinewidth": 0,
              "ticks": ""
             }
            },
            "type": "scatterternary"
           }
          ],
          "surface": [
           {
            "colorbar": {
             "outlinewidth": 0,
             "ticks": ""
            },
            "colorscale": [
             [
              0,
              "#0d0887"
             ],
             [
              0.1111111111111111,
              "#46039f"
             ],
             [
              0.2222222222222222,
              "#7201a8"
             ],
             [
              0.3333333333333333,
              "#9c179e"
             ],
             [
              0.4444444444444444,
              "#bd3786"
             ],
             [
              0.5555555555555556,
              "#d8576b"
             ],
             [
              0.6666666666666666,
              "#ed7953"
             ],
             [
              0.7777777777777778,
              "#fb9f3a"
             ],
             [
              0.8888888888888888,
              "#fdca26"
             ],
             [
              1,
              "#f0f921"
             ]
            ],
            "type": "surface"
           }
          ],
          "table": [
           {
            "cells": {
             "fill": {
              "color": "#EBF0F8"
             },
             "line": {
              "color": "white"
             }
            },
            "header": {
             "fill": {
              "color": "#C8D4E3"
             },
             "line": {
              "color": "white"
             }
            },
            "type": "table"
           }
          ]
         },
         "layout": {
          "annotationdefaults": {
           "arrowcolor": "#2a3f5f",
           "arrowhead": 0,
           "arrowwidth": 1
          },
          "coloraxis": {
           "colorbar": {
            "outlinewidth": 0,
            "ticks": ""
           }
          },
          "colorscale": {
           "diverging": [
            [
             0,
             "#8e0152"
            ],
            [
             0.1,
             "#c51b7d"
            ],
            [
             0.2,
             "#de77ae"
            ],
            [
             0.3,
             "#f1b6da"
            ],
            [
             0.4,
             "#fde0ef"
            ],
            [
             0.5,
             "#f7f7f7"
            ],
            [
             0.6,
             "#e6f5d0"
            ],
            [
             0.7,
             "#b8e186"
            ],
            [
             0.8,
             "#7fbc41"
            ],
            [
             0.9,
             "#4d9221"
            ],
            [
             1,
             "#276419"
            ]
           ],
           "sequential": [
            [
             0,
             "#0d0887"
            ],
            [
             0.1111111111111111,
             "#46039f"
            ],
            [
             0.2222222222222222,
             "#7201a8"
            ],
            [
             0.3333333333333333,
             "#9c179e"
            ],
            [
             0.4444444444444444,
             "#bd3786"
            ],
            [
             0.5555555555555556,
             "#d8576b"
            ],
            [
             0.6666666666666666,
             "#ed7953"
            ],
            [
             0.7777777777777778,
             "#fb9f3a"
            ],
            [
             0.8888888888888888,
             "#fdca26"
            ],
            [
             1,
             "#f0f921"
            ]
           ],
           "sequentialminus": [
            [
             0,
             "#0d0887"
            ],
            [
             0.1111111111111111,
             "#46039f"
            ],
            [
             0.2222222222222222,
             "#7201a8"
            ],
            [
             0.3333333333333333,
             "#9c179e"
            ],
            [
             0.4444444444444444,
             "#bd3786"
            ],
            [
             0.5555555555555556,
             "#d8576b"
            ],
            [
             0.6666666666666666,
             "#ed7953"
            ],
            [
             0.7777777777777778,
             "#fb9f3a"
            ],
            [
             0.8888888888888888,
             "#fdca26"
            ],
            [
             1,
             "#f0f921"
            ]
           ]
          },
          "colorway": [
           "#636efa",
           "#EF553B",
           "#00cc96",
           "#ab63fa",
           "#FFA15A",
           "#19d3f3",
           "#FF6692",
           "#B6E880",
           "#FF97FF",
           "#FECB52"
          ],
          "font": {
           "color": "#2a3f5f"
          },
          "geo": {
           "bgcolor": "white",
           "lakecolor": "white",
           "landcolor": "#E5ECF6",
           "showlakes": true,
           "showland": true,
           "subunitcolor": "white"
          },
          "hoverlabel": {
           "align": "left"
          },
          "hovermode": "closest",
          "mapbox": {
           "style": "light"
          },
          "paper_bgcolor": "white",
          "plot_bgcolor": "#E5ECF6",
          "polar": {
           "angularaxis": {
            "gridcolor": "white",
            "linecolor": "white",
            "ticks": ""
           },
           "bgcolor": "#E5ECF6",
           "radialaxis": {
            "gridcolor": "white",
            "linecolor": "white",
            "ticks": ""
           }
          },
          "scene": {
           "xaxis": {
            "backgroundcolor": "#E5ECF6",
            "gridcolor": "white",
            "gridwidth": 2,
            "linecolor": "white",
            "showbackground": true,
            "ticks": "",
            "zerolinecolor": "white"
           },
           "yaxis": {
            "backgroundcolor": "#E5ECF6",
            "gridcolor": "white",
            "gridwidth": 2,
            "linecolor": "white",
            "showbackground": true,
            "ticks": "",
            "zerolinecolor": "white"
           },
           "zaxis": {
            "backgroundcolor": "#E5ECF6",
            "gridcolor": "white",
            "gridwidth": 2,
            "linecolor": "white",
            "showbackground": true,
            "ticks": "",
            "zerolinecolor": "white"
           }
          },
          "shapedefaults": {
           "line": {
            "color": "#2a3f5f"
           }
          },
          "ternary": {
           "aaxis": {
            "gridcolor": "white",
            "linecolor": "white",
            "ticks": ""
           },
           "baxis": {
            "gridcolor": "white",
            "linecolor": "white",
            "ticks": ""
           },
           "bgcolor": "#E5ECF6",
           "caxis": {
            "gridcolor": "white",
            "linecolor": "white",
            "ticks": ""
           }
          },
          "title": {
           "x": 0.05
          },
          "xaxis": {
           "automargin": true,
           "gridcolor": "white",
           "linecolor": "white",
           "ticks": "",
           "title": {
            "standoff": 15
           },
           "zerolinecolor": "white",
           "zerolinewidth": 2
          },
          "yaxis": {
           "automargin": true,
           "gridcolor": "white",
           "linecolor": "white",
           "ticks": "",
           "title": {
            "standoff": 15
           },
           "zerolinecolor": "white",
           "zerolinewidth": 2
          }
         }
        },
        "title": {
         "font": {
          "color": "#4D5663"
         }
        },
        "xaxis": {
         "gridcolor": "#E1E5ED",
         "showgrid": true,
         "tickfont": {
          "color": "#4D5663"
         },
         "title": {
          "font": {
           "color": "#4D5663"
          },
          "text": ""
         },
         "zerolinecolor": "#E1E5ED"
        },
        "yaxis": {
         "gridcolor": "#E1E5ED",
         "showgrid": true,
         "tickfont": {
          "color": "#4D5663"
         },
         "title": {
          "font": {
           "color": "#4D5663"
          },
          "text": ""
         },
         "zerolinecolor": "#E1E5ED"
        }
       }
      },
      "text/html": [
       "<div>\n",
       "        \n",
       "        \n",
       "            <div id=\"435cc388-83c0-4146-8238-45c6b442cdfd\" class=\"plotly-graph-div\" style=\"height:525px; width:100%;\"></div>\n",
       "            <script type=\"text/javascript\">\n",
       "                require([\"plotly\"], function(Plotly) {\n",
       "                    window.PLOTLYENV=window.PLOTLYENV || {};\n",
       "                    window.PLOTLYENV.BASE_URL='https://plot.ly';\n",
       "                    \n",
       "                if (document.getElementById(\"435cc388-83c0-4146-8238-45c6b442cdfd\")) {\n",
       "                    Plotly.newPlot(\n",
       "                        '435cc388-83c0-4146-8238-45c6b442cdfd',\n",
       "                        [{\"line\": {\"color\": \"rgba(255, 153, 51, 1.0)\", \"dash\": \"solid\", \"shape\": \"linear\", \"width\": 1.3}, \"marker\": {\"size\": 10, \"symbol\": \"circle\"}, \"mode\": \"markers\", \"name\": \"B\", \"text\": \"\", \"type\": \"scatter\", \"x\": [-1.7664723391769375, 1.3723961024111873, -0.16862382412950433, -0.4686727100182148, 0.10524460974524735, -0.7962133829694761, -0.5298304180895901, 0.6146238526515427, 1.7292353993593634, 0.07182212081760649, 0.6684096748052933, -0.7800699149728171, 1.5417320664306207, 0.07871196129574386, -0.47912331954576354, 0.49497874036995887, -0.8365379495421281, 0.8100732064576514, 1.504386579851412, 1.3050146148625914, 0.2327163067386028, -0.311794801754074, 1.11803293083804, -0.2694022385891882, -1.9310046515278843, -0.7310345896030418, 0.05597051235353513, -0.2670042140271307, -1.6328456299792342, 1.6776349536213664, -0.8913226475416959, -0.20080795498403306, -2.0060384793844857, -0.16886522736983173, 0.025069872614478645, -2.7983998538120525, -0.8296821954277036, -1.9867158696502034, 0.2564426559057547, 0.050771092269586864, 0.06129118607457183, -1.4499164910285043, -0.7360201539756989, -1.2031929519207538, 1.5075211502660624, 0.9044128941163659, 2.784660416932731, 0.32705586003758896, -0.5137018289027601, -0.7574469128514296, -0.49514121798295785, -0.888912752461698, 1.1174340171108508, 1.907646220570275, -1.0537892813370076, 0.425646641425545, -0.7082382696496868, -0.25756424708664577, -0.3605967100447902, -0.9910768416671183, 0.6621518651077974, -0.3954043976512718, 0.44955446684650807, 1.0298175988968659, 0.10641679029381493, 0.9506947884212149, 0.3278939302509376, -1.0602297237402718, 0.11544492678947446, -1.0668802252218457, -1.9183668765571822, -0.8424470502410739, 1.2075751433374757, 0.7105708383905097, -0.3782733230042047, 0.7870014181532221, 0.08954649196791556, -1.166764582805965, 0.6212228154843119, 0.8308641409300191, -2.0347968071431044, 1.2253581412652095, -0.9215248386855428, 0.18688974053934473, 0.30853112042580283, 0.8420608730484123, -1.262211780112218, 0.11362895802530086, 0.62441011985385, -0.8495669500347244, -0.6409877413673586, 0.5746315825425063, -1.9814150215828208, 2.299270468997804, -0.5435018086035873, 0.47492251312272793, 0.34442197771751076, -1.6442326270930063, 0.4553135548589679, 0.4300313241505395], \"y\": [0.7256419508353439, 0.4891359318991245, -0.021446868697695354, 0.5699189969135365, 0.7989792641425312, -1.2851113711634663, 1.279248718804933, 0.4749243626656492, -1.1845154110032723, -1.9648371522917485, 0.5417860210162163, -0.05673910016335068, 0.0018623938866737526, 0.5927262435852061, 0.20216257918580935, 0.018492048888641987, -0.8520453035630274, -0.7248018007763332, 0.34726843746070557, 0.17253064301206017, -1.1819637870114659, -0.6291814509893625, 1.6199572666695972, 0.650039467695885, -0.7283871457040803, 1.4597335668062734, -0.36608342132309374, 0.1328269564616293, 0.7820912142809123, 1.1274247601021, -0.7002588967779936, -0.030942292689513824, -1.5490479787927922, -0.9642215465178909, -1.6446231055376166, -1.9487704013656038, 0.2694163481633915, -0.7433165541055985, -0.2861089515191114, -0.3708999899691444, -2.3375584256560025, 0.5012563493125995, 0.34715395702179985, 0.024256749847415444, -0.3312328565998601, -1.044843498615884, 0.31828001324412447, 1.7381146592719325, 0.3470207745920348, 0.41222825484031134, -0.24605492900340303, 1.5001702812430961, 0.15281977465056046, -1.164278703957203, -0.017260272587306055, 0.5073485068268082, -1.7104644016532617, 1.25380445233376, -0.1785525841039943, -0.1932178660774815, 0.6107610891492199, -0.4443632806386484, 1.7931890763040588, -1.1616309130455214, -0.8551089592882165, -1.3710997856428642, -0.6733777419252835, -1.2024844159213874, -0.3212272102990379, -0.7677522239136005, 0.7060261222801993, 0.7042806007704804, 2.2475715397569074, 1.7570001108621793, -0.3459760349655492, -0.07203276847413792, 1.3894267752811893, 0.044803610782237366, -0.04569620946576732, -0.19048353847167335, -0.6333030971864758, 1.0068296365388283, -2.729179981615213, 0.8230205577553504, -0.39756656509869287, 0.6253599249604785, -0.1371806460591855, -1.6587862639472124, -0.02175601899369613, -0.8234193356560962, -1.2165087892989863, -1.1186780154811298, 0.1259983219990328, 0.3721418360250379, 1.2980171824511955, 0.7596775122213181, -1.2705973080889903, -0.8090551467308078, -0.10521137722736196, -1.5136707297077323]}],\n",
       "                        {\"legend\": {\"bgcolor\": \"#F5F6F9\", \"font\": {\"color\": \"#4D5663\"}}, \"paper_bgcolor\": \"#F5F6F9\", \"plot_bgcolor\": \"#F5F6F9\", \"template\": {\"data\": {\"bar\": [{\"error_x\": {\"color\": \"#2a3f5f\"}, \"error_y\": {\"color\": \"#2a3f5f\"}, \"marker\": {\"line\": {\"color\": \"#E5ECF6\", \"width\": 0.5}}, \"type\": \"bar\"}], \"barpolar\": [{\"marker\": {\"line\": {\"color\": \"#E5ECF6\", \"width\": 0.5}}, \"type\": \"barpolar\"}], \"carpet\": [{\"aaxis\": {\"endlinecolor\": \"#2a3f5f\", \"gridcolor\": \"white\", \"linecolor\": \"white\", \"minorgridcolor\": \"white\", \"startlinecolor\": \"#2a3f5f\"}, \"baxis\": {\"endlinecolor\": \"#2a3f5f\", \"gridcolor\": \"white\", \"linecolor\": \"white\", \"minorgridcolor\": \"white\", \"startlinecolor\": \"#2a3f5f\"}, \"type\": \"carpet\"}], \"choropleth\": [{\"colorbar\": {\"outlinewidth\": 0, \"ticks\": \"\"}, \"type\": \"choropleth\"}], \"contour\": [{\"colorbar\": {\"outlinewidth\": 0, \"ticks\": \"\"}, \"colorscale\": [[0.0, \"#0d0887\"], [0.1111111111111111, \"#46039f\"], [0.2222222222222222, \"#7201a8\"], [0.3333333333333333, \"#9c179e\"], [0.4444444444444444, \"#bd3786\"], [0.5555555555555556, \"#d8576b\"], [0.6666666666666666, \"#ed7953\"], [0.7777777777777778, \"#fb9f3a\"], [0.8888888888888888, \"#fdca26\"], [1.0, \"#f0f921\"]], \"type\": \"contour\"}], \"contourcarpet\": [{\"colorbar\": {\"outlinewidth\": 0, \"ticks\": \"\"}, \"type\": \"contourcarpet\"}], \"heatmap\": [{\"colorbar\": {\"outlinewidth\": 0, \"ticks\": \"\"}, \"colorscale\": [[0.0, \"#0d0887\"], [0.1111111111111111, \"#46039f\"], [0.2222222222222222, \"#7201a8\"], [0.3333333333333333, \"#9c179e\"], [0.4444444444444444, \"#bd3786\"], [0.5555555555555556, \"#d8576b\"], [0.6666666666666666, \"#ed7953\"], [0.7777777777777778, \"#fb9f3a\"], [0.8888888888888888, \"#fdca26\"], [1.0, \"#f0f921\"]], \"type\": \"heatmap\"}], \"heatmapgl\": [{\"colorbar\": {\"outlinewidth\": 0, \"ticks\": \"\"}, \"colorscale\": [[0.0, \"#0d0887\"], [0.1111111111111111, \"#46039f\"], [0.2222222222222222, \"#7201a8\"], [0.3333333333333333, \"#9c179e\"], [0.4444444444444444, \"#bd3786\"], [0.5555555555555556, \"#d8576b\"], [0.6666666666666666, \"#ed7953\"], [0.7777777777777778, \"#fb9f3a\"], [0.8888888888888888, \"#fdca26\"], [1.0, \"#f0f921\"]], \"type\": \"heatmapgl\"}], \"histogram\": [{\"marker\": {\"colorbar\": {\"outlinewidth\": 0, \"ticks\": \"\"}}, \"type\": \"histogram\"}], \"histogram2d\": [{\"colorbar\": {\"outlinewidth\": 0, \"ticks\": \"\"}, \"colorscale\": [[0.0, \"#0d0887\"], [0.1111111111111111, \"#46039f\"], [0.2222222222222222, \"#7201a8\"], [0.3333333333333333, \"#9c179e\"], [0.4444444444444444, \"#bd3786\"], [0.5555555555555556, \"#d8576b\"], [0.6666666666666666, \"#ed7953\"], [0.7777777777777778, \"#fb9f3a\"], [0.8888888888888888, \"#fdca26\"], [1.0, \"#f0f921\"]], \"type\": \"histogram2d\"}], \"histogram2dcontour\": [{\"colorbar\": {\"outlinewidth\": 0, \"ticks\": \"\"}, \"colorscale\": [[0.0, \"#0d0887\"], [0.1111111111111111, \"#46039f\"], [0.2222222222222222, \"#7201a8\"], [0.3333333333333333, \"#9c179e\"], [0.4444444444444444, \"#bd3786\"], [0.5555555555555556, \"#d8576b\"], [0.6666666666666666, \"#ed7953\"], [0.7777777777777778, \"#fb9f3a\"], [0.8888888888888888, \"#fdca26\"], [1.0, \"#f0f921\"]], \"type\": \"histogram2dcontour\"}], \"mesh3d\": [{\"colorbar\": {\"outlinewidth\": 0, \"ticks\": \"\"}, \"type\": \"mesh3d\"}], \"parcoords\": [{\"line\": {\"colorbar\": {\"outlinewidth\": 0, \"ticks\": \"\"}}, \"type\": \"parcoords\"}], \"pie\": [{\"automargin\": true, \"type\": \"pie\"}], \"scatter\": [{\"marker\": {\"colorbar\": {\"outlinewidth\": 0, \"ticks\": \"\"}}, \"type\": \"scatter\"}], \"scatter3d\": [{\"line\": {\"colorbar\": {\"outlinewidth\": 0, \"ticks\": \"\"}}, \"marker\": {\"colorbar\": {\"outlinewidth\": 0, \"ticks\": \"\"}}, \"type\": \"scatter3d\"}], \"scattercarpet\": [{\"marker\": {\"colorbar\": {\"outlinewidth\": 0, \"ticks\": \"\"}}, \"type\": \"scattercarpet\"}], \"scattergeo\": [{\"marker\": {\"colorbar\": {\"outlinewidth\": 0, \"ticks\": \"\"}}, \"type\": \"scattergeo\"}], \"scattergl\": [{\"marker\": {\"colorbar\": {\"outlinewidth\": 0, \"ticks\": \"\"}}, \"type\": \"scattergl\"}], \"scattermapbox\": [{\"marker\": {\"colorbar\": {\"outlinewidth\": 0, \"ticks\": \"\"}}, \"type\": \"scattermapbox\"}], \"scatterpolar\": [{\"marker\": {\"colorbar\": {\"outlinewidth\": 0, \"ticks\": \"\"}}, \"type\": \"scatterpolar\"}], \"scatterpolargl\": [{\"marker\": {\"colorbar\": {\"outlinewidth\": 0, \"ticks\": \"\"}}, \"type\": \"scatterpolargl\"}], \"scatterternary\": [{\"marker\": {\"colorbar\": {\"outlinewidth\": 0, \"ticks\": \"\"}}, \"type\": \"scatterternary\"}], \"surface\": [{\"colorbar\": {\"outlinewidth\": 0, \"ticks\": \"\"}, \"colorscale\": [[0.0, \"#0d0887\"], [0.1111111111111111, \"#46039f\"], [0.2222222222222222, \"#7201a8\"], [0.3333333333333333, \"#9c179e\"], [0.4444444444444444, \"#bd3786\"], [0.5555555555555556, \"#d8576b\"], [0.6666666666666666, \"#ed7953\"], [0.7777777777777778, \"#fb9f3a\"], [0.8888888888888888, \"#fdca26\"], [1.0, \"#f0f921\"]], \"type\": \"surface\"}], \"table\": [{\"cells\": {\"fill\": {\"color\": \"#EBF0F8\"}, \"line\": {\"color\": \"white\"}}, \"header\": {\"fill\": {\"color\": \"#C8D4E3\"}, \"line\": {\"color\": \"white\"}}, \"type\": \"table\"}]}, \"layout\": {\"annotationdefaults\": {\"arrowcolor\": \"#2a3f5f\", \"arrowhead\": 0, \"arrowwidth\": 1}, \"coloraxis\": {\"colorbar\": {\"outlinewidth\": 0, \"ticks\": \"\"}}, \"colorscale\": {\"diverging\": [[0, \"#8e0152\"], [0.1, \"#c51b7d\"], [0.2, \"#de77ae\"], [0.3, \"#f1b6da\"], [0.4, \"#fde0ef\"], [0.5, \"#f7f7f7\"], [0.6, \"#e6f5d0\"], [0.7, \"#b8e186\"], [0.8, \"#7fbc41\"], [0.9, \"#4d9221\"], [1, \"#276419\"]], \"sequential\": [[0.0, \"#0d0887\"], [0.1111111111111111, \"#46039f\"], [0.2222222222222222, \"#7201a8\"], [0.3333333333333333, \"#9c179e\"], [0.4444444444444444, \"#bd3786\"], [0.5555555555555556, \"#d8576b\"], [0.6666666666666666, \"#ed7953\"], [0.7777777777777778, \"#fb9f3a\"], [0.8888888888888888, \"#fdca26\"], [1.0, \"#f0f921\"]], \"sequentialminus\": [[0.0, \"#0d0887\"], [0.1111111111111111, \"#46039f\"], [0.2222222222222222, \"#7201a8\"], [0.3333333333333333, \"#9c179e\"], [0.4444444444444444, \"#bd3786\"], [0.5555555555555556, \"#d8576b\"], [0.6666666666666666, \"#ed7953\"], [0.7777777777777778, \"#fb9f3a\"], [0.8888888888888888, \"#fdca26\"], [1.0, \"#f0f921\"]]}, \"colorway\": [\"#636efa\", \"#EF553B\", \"#00cc96\", \"#ab63fa\", \"#FFA15A\", \"#19d3f3\", \"#FF6692\", \"#B6E880\", \"#FF97FF\", \"#FECB52\"], \"font\": {\"color\": \"#2a3f5f\"}, \"geo\": {\"bgcolor\": \"white\", \"lakecolor\": \"white\", \"landcolor\": \"#E5ECF6\", \"showlakes\": true, \"showland\": true, \"subunitcolor\": \"white\"}, \"hoverlabel\": {\"align\": \"left\"}, \"hovermode\": \"closest\", \"mapbox\": {\"style\": \"light\"}, \"paper_bgcolor\": \"white\", \"plot_bgcolor\": \"#E5ECF6\", \"polar\": {\"angularaxis\": {\"gridcolor\": \"white\", \"linecolor\": \"white\", \"ticks\": \"\"}, \"bgcolor\": \"#E5ECF6\", \"radialaxis\": {\"gridcolor\": \"white\", \"linecolor\": \"white\", \"ticks\": \"\"}}, \"scene\": {\"xaxis\": {\"backgroundcolor\": \"#E5ECF6\", \"gridcolor\": \"white\", \"gridwidth\": 2, \"linecolor\": \"white\", \"showbackground\": true, \"ticks\": \"\", \"zerolinecolor\": \"white\"}, \"yaxis\": {\"backgroundcolor\": \"#E5ECF6\", \"gridcolor\": \"white\", \"gridwidth\": 2, \"linecolor\": \"white\", \"showbackground\": true, \"ticks\": \"\", \"zerolinecolor\": \"white\"}, \"zaxis\": {\"backgroundcolor\": \"#E5ECF6\", \"gridcolor\": \"white\", \"gridwidth\": 2, \"linecolor\": \"white\", \"showbackground\": true, \"ticks\": \"\", \"zerolinecolor\": \"white\"}}, \"shapedefaults\": {\"line\": {\"color\": \"#2a3f5f\"}}, \"ternary\": {\"aaxis\": {\"gridcolor\": \"white\", \"linecolor\": \"white\", \"ticks\": \"\"}, \"baxis\": {\"gridcolor\": \"white\", \"linecolor\": \"white\", \"ticks\": \"\"}, \"bgcolor\": \"#E5ECF6\", \"caxis\": {\"gridcolor\": \"white\", \"linecolor\": \"white\", \"ticks\": \"\"}}, \"title\": {\"x\": 0.05}, \"xaxis\": {\"automargin\": true, \"gridcolor\": \"white\", \"linecolor\": \"white\", \"ticks\": \"\", \"title\": {\"standoff\": 15}, \"zerolinecolor\": \"white\", \"zerolinewidth\": 2}, \"yaxis\": {\"automargin\": true, \"gridcolor\": \"white\", \"linecolor\": \"white\", \"ticks\": \"\", \"title\": {\"standoff\": 15}, \"zerolinecolor\": \"white\", \"zerolinewidth\": 2}}}, \"title\": {\"font\": {\"color\": \"#4D5663\"}}, \"xaxis\": {\"gridcolor\": \"#E1E5ED\", \"showgrid\": true, \"tickfont\": {\"color\": \"#4D5663\"}, \"title\": {\"font\": {\"color\": \"#4D5663\"}, \"text\": \"\"}, \"zerolinecolor\": \"#E1E5ED\"}, \"yaxis\": {\"gridcolor\": \"#E1E5ED\", \"showgrid\": true, \"tickfont\": {\"color\": \"#4D5663\"}, \"title\": {\"font\": {\"color\": \"#4D5663\"}, \"text\": \"\"}, \"zerolinecolor\": \"#E1E5ED\"}},\n",
       "                        {\"showLink\": true, \"linkText\": \"Export to plot.ly\", \"plotlyServerURL\": \"https://plot.ly\", \"responsive\": true}\n",
       "                    ).then(function(){\n",
       "                            \n",
       "var gd = document.getElementById('435cc388-83c0-4146-8238-45c6b442cdfd');\n",
       "var x = new MutationObserver(function (mutations, observer) {{\n",
       "        var display = window.getComputedStyle(gd).display;\n",
       "        if (!display || display === 'none') {{\n",
       "            console.log([gd, 'removed!']);\n",
       "            Plotly.purge(gd);\n",
       "            observer.disconnect();\n",
       "        }}\n",
       "}});\n",
       "\n",
       "// Listen for the removal of the full notebook cells\n",
       "var notebookContainer = gd.closest('#notebook-container');\n",
       "if (notebookContainer) {{\n",
       "    x.observe(notebookContainer, {childList: true});\n",
       "}}\n",
       "\n",
       "// Listen for the clearing of the current output cell\n",
       "var outputEl = gd.closest('.output');\n",
       "if (outputEl) {{\n",
       "    x.observe(outputEl, {childList: true});\n",
       "}}\n",
       "\n",
       "                        })\n",
       "                };\n",
       "                });\n",
       "            </script>\n",
       "        </div>"
      ]
     },
     "metadata": {},
     "output_type": "display_data"
    }
   ],
   "source": [
    "df.iplot(kind='scatter',x='A',y='B',mode='markers',size=10)"
   ]
  },
  {
   "cell_type": "markdown",
   "metadata": {},
   "source": [
    "## Bar Plots"
   ]
  },
  {
   "cell_type": "code",
   "execution_count": 19,
   "metadata": {},
   "outputs": [
    {
     "data": {
      "application/vnd.plotly.v1+json": {
       "config": {
        "linkText": "Export to plot.ly",
        "plotlyServerURL": "https://plot.ly",
        "showLink": true
       },
       "data": [
        {
         "marker": {
          "color": "rgba(255, 153, 51, 0.6)",
          "line": {
           "color": "rgba(255, 153, 51, 1.0)",
           "width": 1
          }
         },
         "name": "Values",
         "orientation": "v",
         "text": "",
         "type": "bar",
         "x": [
          "A",
          "B",
          "C"
         ],
         "y": [
          32,
          43,
          50
         ]
        }
       ],
       "layout": {
        "legend": {
         "bgcolor": "#F5F6F9",
         "font": {
          "color": "#4D5663"
         }
        },
        "paper_bgcolor": "#F5F6F9",
        "plot_bgcolor": "#F5F6F9",
        "template": {
         "data": {
          "bar": [
           {
            "error_x": {
             "color": "#2a3f5f"
            },
            "error_y": {
             "color": "#2a3f5f"
            },
            "marker": {
             "line": {
              "color": "#E5ECF6",
              "width": 0.5
             }
            },
            "type": "bar"
           }
          ],
          "barpolar": [
           {
            "marker": {
             "line": {
              "color": "#E5ECF6",
              "width": 0.5
             }
            },
            "type": "barpolar"
           }
          ],
          "carpet": [
           {
            "aaxis": {
             "endlinecolor": "#2a3f5f",
             "gridcolor": "white",
             "linecolor": "white",
             "minorgridcolor": "white",
             "startlinecolor": "#2a3f5f"
            },
            "baxis": {
             "endlinecolor": "#2a3f5f",
             "gridcolor": "white",
             "linecolor": "white",
             "minorgridcolor": "white",
             "startlinecolor": "#2a3f5f"
            },
            "type": "carpet"
           }
          ],
          "choropleth": [
           {
            "colorbar": {
             "outlinewidth": 0,
             "ticks": ""
            },
            "type": "choropleth"
           }
          ],
          "contour": [
           {
            "colorbar": {
             "outlinewidth": 0,
             "ticks": ""
            },
            "colorscale": [
             [
              0,
              "#0d0887"
             ],
             [
              0.1111111111111111,
              "#46039f"
             ],
             [
              0.2222222222222222,
              "#7201a8"
             ],
             [
              0.3333333333333333,
              "#9c179e"
             ],
             [
              0.4444444444444444,
              "#bd3786"
             ],
             [
              0.5555555555555556,
              "#d8576b"
             ],
             [
              0.6666666666666666,
              "#ed7953"
             ],
             [
              0.7777777777777778,
              "#fb9f3a"
             ],
             [
              0.8888888888888888,
              "#fdca26"
             ],
             [
              1,
              "#f0f921"
             ]
            ],
            "type": "contour"
           }
          ],
          "contourcarpet": [
           {
            "colorbar": {
             "outlinewidth": 0,
             "ticks": ""
            },
            "type": "contourcarpet"
           }
          ],
          "heatmap": [
           {
            "colorbar": {
             "outlinewidth": 0,
             "ticks": ""
            },
            "colorscale": [
             [
              0,
              "#0d0887"
             ],
             [
              0.1111111111111111,
              "#46039f"
             ],
             [
              0.2222222222222222,
              "#7201a8"
             ],
             [
              0.3333333333333333,
              "#9c179e"
             ],
             [
              0.4444444444444444,
              "#bd3786"
             ],
             [
              0.5555555555555556,
              "#d8576b"
             ],
             [
              0.6666666666666666,
              "#ed7953"
             ],
             [
              0.7777777777777778,
              "#fb9f3a"
             ],
             [
              0.8888888888888888,
              "#fdca26"
             ],
             [
              1,
              "#f0f921"
             ]
            ],
            "type": "heatmap"
           }
          ],
          "heatmapgl": [
           {
            "colorbar": {
             "outlinewidth": 0,
             "ticks": ""
            },
            "colorscale": [
             [
              0,
              "#0d0887"
             ],
             [
              0.1111111111111111,
              "#46039f"
             ],
             [
              0.2222222222222222,
              "#7201a8"
             ],
             [
              0.3333333333333333,
              "#9c179e"
             ],
             [
              0.4444444444444444,
              "#bd3786"
             ],
             [
              0.5555555555555556,
              "#d8576b"
             ],
             [
              0.6666666666666666,
              "#ed7953"
             ],
             [
              0.7777777777777778,
              "#fb9f3a"
             ],
             [
              0.8888888888888888,
              "#fdca26"
             ],
             [
              1,
              "#f0f921"
             ]
            ],
            "type": "heatmapgl"
           }
          ],
          "histogram": [
           {
            "marker": {
             "colorbar": {
              "outlinewidth": 0,
              "ticks": ""
             }
            },
            "type": "histogram"
           }
          ],
          "histogram2d": [
           {
            "colorbar": {
             "outlinewidth": 0,
             "ticks": ""
            },
            "colorscale": [
             [
              0,
              "#0d0887"
             ],
             [
              0.1111111111111111,
              "#46039f"
             ],
             [
              0.2222222222222222,
              "#7201a8"
             ],
             [
              0.3333333333333333,
              "#9c179e"
             ],
             [
              0.4444444444444444,
              "#bd3786"
             ],
             [
              0.5555555555555556,
              "#d8576b"
             ],
             [
              0.6666666666666666,
              "#ed7953"
             ],
             [
              0.7777777777777778,
              "#fb9f3a"
             ],
             [
              0.8888888888888888,
              "#fdca26"
             ],
             [
              1,
              "#f0f921"
             ]
            ],
            "type": "histogram2d"
           }
          ],
          "histogram2dcontour": [
           {
            "colorbar": {
             "outlinewidth": 0,
             "ticks": ""
            },
            "colorscale": [
             [
              0,
              "#0d0887"
             ],
             [
              0.1111111111111111,
              "#46039f"
             ],
             [
              0.2222222222222222,
              "#7201a8"
             ],
             [
              0.3333333333333333,
              "#9c179e"
             ],
             [
              0.4444444444444444,
              "#bd3786"
             ],
             [
              0.5555555555555556,
              "#d8576b"
             ],
             [
              0.6666666666666666,
              "#ed7953"
             ],
             [
              0.7777777777777778,
              "#fb9f3a"
             ],
             [
              0.8888888888888888,
              "#fdca26"
             ],
             [
              1,
              "#f0f921"
             ]
            ],
            "type": "histogram2dcontour"
           }
          ],
          "mesh3d": [
           {
            "colorbar": {
             "outlinewidth": 0,
             "ticks": ""
            },
            "type": "mesh3d"
           }
          ],
          "parcoords": [
           {
            "line": {
             "colorbar": {
              "outlinewidth": 0,
              "ticks": ""
             }
            },
            "type": "parcoords"
           }
          ],
          "pie": [
           {
            "automargin": true,
            "type": "pie"
           }
          ],
          "scatter": [
           {
            "marker": {
             "colorbar": {
              "outlinewidth": 0,
              "ticks": ""
             }
            },
            "type": "scatter"
           }
          ],
          "scatter3d": [
           {
            "line": {
             "colorbar": {
              "outlinewidth": 0,
              "ticks": ""
             }
            },
            "marker": {
             "colorbar": {
              "outlinewidth": 0,
              "ticks": ""
             }
            },
            "type": "scatter3d"
           }
          ],
          "scattercarpet": [
           {
            "marker": {
             "colorbar": {
              "outlinewidth": 0,
              "ticks": ""
             }
            },
            "type": "scattercarpet"
           }
          ],
          "scattergeo": [
           {
            "marker": {
             "colorbar": {
              "outlinewidth": 0,
              "ticks": ""
             }
            },
            "type": "scattergeo"
           }
          ],
          "scattergl": [
           {
            "marker": {
             "colorbar": {
              "outlinewidth": 0,
              "ticks": ""
             }
            },
            "type": "scattergl"
           }
          ],
          "scattermapbox": [
           {
            "marker": {
             "colorbar": {
              "outlinewidth": 0,
              "ticks": ""
             }
            },
            "type": "scattermapbox"
           }
          ],
          "scatterpolar": [
           {
            "marker": {
             "colorbar": {
              "outlinewidth": 0,
              "ticks": ""
             }
            },
            "type": "scatterpolar"
           }
          ],
          "scatterpolargl": [
           {
            "marker": {
             "colorbar": {
              "outlinewidth": 0,
              "ticks": ""
             }
            },
            "type": "scatterpolargl"
           }
          ],
          "scatterternary": [
           {
            "marker": {
             "colorbar": {
              "outlinewidth": 0,
              "ticks": ""
             }
            },
            "type": "scatterternary"
           }
          ],
          "surface": [
           {
            "colorbar": {
             "outlinewidth": 0,
             "ticks": ""
            },
            "colorscale": [
             [
              0,
              "#0d0887"
             ],
             [
              0.1111111111111111,
              "#46039f"
             ],
             [
              0.2222222222222222,
              "#7201a8"
             ],
             [
              0.3333333333333333,
              "#9c179e"
             ],
             [
              0.4444444444444444,
              "#bd3786"
             ],
             [
              0.5555555555555556,
              "#d8576b"
             ],
             [
              0.6666666666666666,
              "#ed7953"
             ],
             [
              0.7777777777777778,
              "#fb9f3a"
             ],
             [
              0.8888888888888888,
              "#fdca26"
             ],
             [
              1,
              "#f0f921"
             ]
            ],
            "type": "surface"
           }
          ],
          "table": [
           {
            "cells": {
             "fill": {
              "color": "#EBF0F8"
             },
             "line": {
              "color": "white"
             }
            },
            "header": {
             "fill": {
              "color": "#C8D4E3"
             },
             "line": {
              "color": "white"
             }
            },
            "type": "table"
           }
          ]
         },
         "layout": {
          "annotationdefaults": {
           "arrowcolor": "#2a3f5f",
           "arrowhead": 0,
           "arrowwidth": 1
          },
          "coloraxis": {
           "colorbar": {
            "outlinewidth": 0,
            "ticks": ""
           }
          },
          "colorscale": {
           "diverging": [
            [
             0,
             "#8e0152"
            ],
            [
             0.1,
             "#c51b7d"
            ],
            [
             0.2,
             "#de77ae"
            ],
            [
             0.3,
             "#f1b6da"
            ],
            [
             0.4,
             "#fde0ef"
            ],
            [
             0.5,
             "#f7f7f7"
            ],
            [
             0.6,
             "#e6f5d0"
            ],
            [
             0.7,
             "#b8e186"
            ],
            [
             0.8,
             "#7fbc41"
            ],
            [
             0.9,
             "#4d9221"
            ],
            [
             1,
             "#276419"
            ]
           ],
           "sequential": [
            [
             0,
             "#0d0887"
            ],
            [
             0.1111111111111111,
             "#46039f"
            ],
            [
             0.2222222222222222,
             "#7201a8"
            ],
            [
             0.3333333333333333,
             "#9c179e"
            ],
            [
             0.4444444444444444,
             "#bd3786"
            ],
            [
             0.5555555555555556,
             "#d8576b"
            ],
            [
             0.6666666666666666,
             "#ed7953"
            ],
            [
             0.7777777777777778,
             "#fb9f3a"
            ],
            [
             0.8888888888888888,
             "#fdca26"
            ],
            [
             1,
             "#f0f921"
            ]
           ],
           "sequentialminus": [
            [
             0,
             "#0d0887"
            ],
            [
             0.1111111111111111,
             "#46039f"
            ],
            [
             0.2222222222222222,
             "#7201a8"
            ],
            [
             0.3333333333333333,
             "#9c179e"
            ],
            [
             0.4444444444444444,
             "#bd3786"
            ],
            [
             0.5555555555555556,
             "#d8576b"
            ],
            [
             0.6666666666666666,
             "#ed7953"
            ],
            [
             0.7777777777777778,
             "#fb9f3a"
            ],
            [
             0.8888888888888888,
             "#fdca26"
            ],
            [
             1,
             "#f0f921"
            ]
           ]
          },
          "colorway": [
           "#636efa",
           "#EF553B",
           "#00cc96",
           "#ab63fa",
           "#FFA15A",
           "#19d3f3",
           "#FF6692",
           "#B6E880",
           "#FF97FF",
           "#FECB52"
          ],
          "font": {
           "color": "#2a3f5f"
          },
          "geo": {
           "bgcolor": "white",
           "lakecolor": "white",
           "landcolor": "#E5ECF6",
           "showlakes": true,
           "showland": true,
           "subunitcolor": "white"
          },
          "hoverlabel": {
           "align": "left"
          },
          "hovermode": "closest",
          "mapbox": {
           "style": "light"
          },
          "paper_bgcolor": "white",
          "plot_bgcolor": "#E5ECF6",
          "polar": {
           "angularaxis": {
            "gridcolor": "white",
            "linecolor": "white",
            "ticks": ""
           },
           "bgcolor": "#E5ECF6",
           "radialaxis": {
            "gridcolor": "white",
            "linecolor": "white",
            "ticks": ""
           }
          },
          "scene": {
           "xaxis": {
            "backgroundcolor": "#E5ECF6",
            "gridcolor": "white",
            "gridwidth": 2,
            "linecolor": "white",
            "showbackground": true,
            "ticks": "",
            "zerolinecolor": "white"
           },
           "yaxis": {
            "backgroundcolor": "#E5ECF6",
            "gridcolor": "white",
            "gridwidth": 2,
            "linecolor": "white",
            "showbackground": true,
            "ticks": "",
            "zerolinecolor": "white"
           },
           "zaxis": {
            "backgroundcolor": "#E5ECF6",
            "gridcolor": "white",
            "gridwidth": 2,
            "linecolor": "white",
            "showbackground": true,
            "ticks": "",
            "zerolinecolor": "white"
           }
          },
          "shapedefaults": {
           "line": {
            "color": "#2a3f5f"
           }
          },
          "ternary": {
           "aaxis": {
            "gridcolor": "white",
            "linecolor": "white",
            "ticks": ""
           },
           "baxis": {
            "gridcolor": "white",
            "linecolor": "white",
            "ticks": ""
           },
           "bgcolor": "#E5ECF6",
           "caxis": {
            "gridcolor": "white",
            "linecolor": "white",
            "ticks": ""
           }
          },
          "title": {
           "x": 0.05
          },
          "xaxis": {
           "automargin": true,
           "gridcolor": "white",
           "linecolor": "white",
           "ticks": "",
           "title": {
            "standoff": 15
           },
           "zerolinecolor": "white",
           "zerolinewidth": 2
          },
          "yaxis": {
           "automargin": true,
           "gridcolor": "white",
           "linecolor": "white",
           "ticks": "",
           "title": {
            "standoff": 15
           },
           "zerolinecolor": "white",
           "zerolinewidth": 2
          }
         }
        },
        "title": {
         "font": {
          "color": "#4D5663"
         }
        },
        "xaxis": {
         "gridcolor": "#E1E5ED",
         "showgrid": true,
         "tickfont": {
          "color": "#4D5663"
         },
         "title": {
          "font": {
           "color": "#4D5663"
          },
          "text": ""
         },
         "zerolinecolor": "#E1E5ED"
        },
        "yaxis": {
         "gridcolor": "#E1E5ED",
         "showgrid": true,
         "tickfont": {
          "color": "#4D5663"
         },
         "title": {
          "font": {
           "color": "#4D5663"
          },
          "text": ""
         },
         "zerolinecolor": "#E1E5ED"
        }
       }
      },
      "text/html": [
       "<div>\n",
       "        \n",
       "        \n",
       "            <div id=\"edeb8513-affd-4a33-a91b-67285ec461a9\" class=\"plotly-graph-div\" style=\"height:525px; width:100%;\"></div>\n",
       "            <script type=\"text/javascript\">\n",
       "                require([\"plotly\"], function(Plotly) {\n",
       "                    window.PLOTLYENV=window.PLOTLYENV || {};\n",
       "                    window.PLOTLYENV.BASE_URL='https://plot.ly';\n",
       "                    \n",
       "                if (document.getElementById(\"edeb8513-affd-4a33-a91b-67285ec461a9\")) {\n",
       "                    Plotly.newPlot(\n",
       "                        'edeb8513-affd-4a33-a91b-67285ec461a9',\n",
       "                        [{\"marker\": {\"color\": \"rgba(255, 153, 51, 0.6)\", \"line\": {\"color\": \"rgba(255, 153, 51, 1.0)\", \"width\": 1}}, \"name\": \"Values\", \"orientation\": \"v\", \"text\": \"\", \"type\": \"bar\", \"x\": [\"A\", \"B\", \"C\"], \"y\": [32, 43, 50]}],\n",
       "                        {\"legend\": {\"bgcolor\": \"#F5F6F9\", \"font\": {\"color\": \"#4D5663\"}}, \"paper_bgcolor\": \"#F5F6F9\", \"plot_bgcolor\": \"#F5F6F9\", \"template\": {\"data\": {\"bar\": [{\"error_x\": {\"color\": \"#2a3f5f\"}, \"error_y\": {\"color\": \"#2a3f5f\"}, \"marker\": {\"line\": {\"color\": \"#E5ECF6\", \"width\": 0.5}}, \"type\": \"bar\"}], \"barpolar\": [{\"marker\": {\"line\": {\"color\": \"#E5ECF6\", \"width\": 0.5}}, \"type\": \"barpolar\"}], \"carpet\": [{\"aaxis\": {\"endlinecolor\": \"#2a3f5f\", \"gridcolor\": \"white\", \"linecolor\": \"white\", \"minorgridcolor\": \"white\", \"startlinecolor\": \"#2a3f5f\"}, \"baxis\": {\"endlinecolor\": \"#2a3f5f\", \"gridcolor\": \"white\", \"linecolor\": \"white\", \"minorgridcolor\": \"white\", \"startlinecolor\": \"#2a3f5f\"}, \"type\": \"carpet\"}], \"choropleth\": [{\"colorbar\": {\"outlinewidth\": 0, \"ticks\": \"\"}, \"type\": \"choropleth\"}], \"contour\": [{\"colorbar\": {\"outlinewidth\": 0, \"ticks\": \"\"}, \"colorscale\": [[0.0, \"#0d0887\"], [0.1111111111111111, \"#46039f\"], [0.2222222222222222, \"#7201a8\"], [0.3333333333333333, \"#9c179e\"], [0.4444444444444444, \"#bd3786\"], [0.5555555555555556, \"#d8576b\"], [0.6666666666666666, \"#ed7953\"], [0.7777777777777778, \"#fb9f3a\"], [0.8888888888888888, \"#fdca26\"], [1.0, \"#f0f921\"]], \"type\": \"contour\"}], \"contourcarpet\": [{\"colorbar\": {\"outlinewidth\": 0, \"ticks\": \"\"}, \"type\": \"contourcarpet\"}], \"heatmap\": [{\"colorbar\": {\"outlinewidth\": 0, \"ticks\": \"\"}, \"colorscale\": [[0.0, \"#0d0887\"], [0.1111111111111111, \"#46039f\"], [0.2222222222222222, \"#7201a8\"], [0.3333333333333333, \"#9c179e\"], [0.4444444444444444, \"#bd3786\"], [0.5555555555555556, \"#d8576b\"], [0.6666666666666666, \"#ed7953\"], [0.7777777777777778, \"#fb9f3a\"], [0.8888888888888888, \"#fdca26\"], [1.0, \"#f0f921\"]], \"type\": \"heatmap\"}], \"heatmapgl\": [{\"colorbar\": {\"outlinewidth\": 0, \"ticks\": \"\"}, \"colorscale\": [[0.0, \"#0d0887\"], [0.1111111111111111, \"#46039f\"], [0.2222222222222222, \"#7201a8\"], [0.3333333333333333, \"#9c179e\"], [0.4444444444444444, \"#bd3786\"], [0.5555555555555556, \"#d8576b\"], [0.6666666666666666, \"#ed7953\"], [0.7777777777777778, \"#fb9f3a\"], [0.8888888888888888, \"#fdca26\"], [1.0, \"#f0f921\"]], \"type\": \"heatmapgl\"}], \"histogram\": [{\"marker\": {\"colorbar\": {\"outlinewidth\": 0, \"ticks\": \"\"}}, \"type\": \"histogram\"}], \"histogram2d\": [{\"colorbar\": {\"outlinewidth\": 0, \"ticks\": \"\"}, \"colorscale\": [[0.0, \"#0d0887\"], [0.1111111111111111, \"#46039f\"], [0.2222222222222222, \"#7201a8\"], [0.3333333333333333, \"#9c179e\"], [0.4444444444444444, \"#bd3786\"], [0.5555555555555556, \"#d8576b\"], [0.6666666666666666, \"#ed7953\"], [0.7777777777777778, \"#fb9f3a\"], [0.8888888888888888, \"#fdca26\"], [1.0, \"#f0f921\"]], \"type\": \"histogram2d\"}], \"histogram2dcontour\": [{\"colorbar\": {\"outlinewidth\": 0, \"ticks\": \"\"}, \"colorscale\": [[0.0, \"#0d0887\"], [0.1111111111111111, \"#46039f\"], [0.2222222222222222, \"#7201a8\"], [0.3333333333333333, \"#9c179e\"], [0.4444444444444444, \"#bd3786\"], [0.5555555555555556, \"#d8576b\"], [0.6666666666666666, \"#ed7953\"], [0.7777777777777778, \"#fb9f3a\"], [0.8888888888888888, \"#fdca26\"], [1.0, \"#f0f921\"]], \"type\": \"histogram2dcontour\"}], \"mesh3d\": [{\"colorbar\": {\"outlinewidth\": 0, \"ticks\": \"\"}, \"type\": \"mesh3d\"}], \"parcoords\": [{\"line\": {\"colorbar\": {\"outlinewidth\": 0, \"ticks\": \"\"}}, \"type\": \"parcoords\"}], \"pie\": [{\"automargin\": true, \"type\": \"pie\"}], \"scatter\": [{\"marker\": {\"colorbar\": {\"outlinewidth\": 0, \"ticks\": \"\"}}, \"type\": \"scatter\"}], \"scatter3d\": [{\"line\": {\"colorbar\": {\"outlinewidth\": 0, \"ticks\": \"\"}}, \"marker\": {\"colorbar\": {\"outlinewidth\": 0, \"ticks\": \"\"}}, \"type\": \"scatter3d\"}], \"scattercarpet\": [{\"marker\": {\"colorbar\": {\"outlinewidth\": 0, \"ticks\": \"\"}}, \"type\": \"scattercarpet\"}], \"scattergeo\": [{\"marker\": {\"colorbar\": {\"outlinewidth\": 0, \"ticks\": \"\"}}, \"type\": \"scattergeo\"}], \"scattergl\": [{\"marker\": {\"colorbar\": {\"outlinewidth\": 0, \"ticks\": \"\"}}, \"type\": \"scattergl\"}], \"scattermapbox\": [{\"marker\": {\"colorbar\": {\"outlinewidth\": 0, \"ticks\": \"\"}}, \"type\": \"scattermapbox\"}], \"scatterpolar\": [{\"marker\": {\"colorbar\": {\"outlinewidth\": 0, \"ticks\": \"\"}}, \"type\": \"scatterpolar\"}], \"scatterpolargl\": [{\"marker\": {\"colorbar\": {\"outlinewidth\": 0, \"ticks\": \"\"}}, \"type\": \"scatterpolargl\"}], \"scatterternary\": [{\"marker\": {\"colorbar\": {\"outlinewidth\": 0, \"ticks\": \"\"}}, \"type\": \"scatterternary\"}], \"surface\": [{\"colorbar\": {\"outlinewidth\": 0, \"ticks\": \"\"}, \"colorscale\": [[0.0, \"#0d0887\"], [0.1111111111111111, \"#46039f\"], [0.2222222222222222, \"#7201a8\"], [0.3333333333333333, \"#9c179e\"], [0.4444444444444444, \"#bd3786\"], [0.5555555555555556, \"#d8576b\"], [0.6666666666666666, \"#ed7953\"], [0.7777777777777778, \"#fb9f3a\"], [0.8888888888888888, \"#fdca26\"], [1.0, \"#f0f921\"]], \"type\": \"surface\"}], \"table\": [{\"cells\": {\"fill\": {\"color\": \"#EBF0F8\"}, \"line\": {\"color\": \"white\"}}, \"header\": {\"fill\": {\"color\": \"#C8D4E3\"}, \"line\": {\"color\": \"white\"}}, \"type\": \"table\"}]}, \"layout\": {\"annotationdefaults\": {\"arrowcolor\": \"#2a3f5f\", \"arrowhead\": 0, \"arrowwidth\": 1}, \"coloraxis\": {\"colorbar\": {\"outlinewidth\": 0, \"ticks\": \"\"}}, \"colorscale\": {\"diverging\": [[0, \"#8e0152\"], [0.1, \"#c51b7d\"], [0.2, \"#de77ae\"], [0.3, \"#f1b6da\"], [0.4, \"#fde0ef\"], [0.5, \"#f7f7f7\"], [0.6, \"#e6f5d0\"], [0.7, \"#b8e186\"], [0.8, \"#7fbc41\"], [0.9, \"#4d9221\"], [1, \"#276419\"]], \"sequential\": [[0.0, \"#0d0887\"], [0.1111111111111111, \"#46039f\"], [0.2222222222222222, \"#7201a8\"], [0.3333333333333333, \"#9c179e\"], [0.4444444444444444, \"#bd3786\"], [0.5555555555555556, \"#d8576b\"], [0.6666666666666666, \"#ed7953\"], [0.7777777777777778, \"#fb9f3a\"], [0.8888888888888888, \"#fdca26\"], [1.0, \"#f0f921\"]], \"sequentialminus\": [[0.0, \"#0d0887\"], [0.1111111111111111, \"#46039f\"], [0.2222222222222222, \"#7201a8\"], [0.3333333333333333, \"#9c179e\"], [0.4444444444444444, \"#bd3786\"], [0.5555555555555556, \"#d8576b\"], [0.6666666666666666, \"#ed7953\"], [0.7777777777777778, \"#fb9f3a\"], [0.8888888888888888, \"#fdca26\"], [1.0, \"#f0f921\"]]}, \"colorway\": [\"#636efa\", \"#EF553B\", \"#00cc96\", \"#ab63fa\", \"#FFA15A\", \"#19d3f3\", \"#FF6692\", \"#B6E880\", \"#FF97FF\", \"#FECB52\"], \"font\": {\"color\": \"#2a3f5f\"}, \"geo\": {\"bgcolor\": \"white\", \"lakecolor\": \"white\", \"landcolor\": \"#E5ECF6\", \"showlakes\": true, \"showland\": true, \"subunitcolor\": \"white\"}, \"hoverlabel\": {\"align\": \"left\"}, \"hovermode\": \"closest\", \"mapbox\": {\"style\": \"light\"}, \"paper_bgcolor\": \"white\", \"plot_bgcolor\": \"#E5ECF6\", \"polar\": {\"angularaxis\": {\"gridcolor\": \"white\", \"linecolor\": \"white\", \"ticks\": \"\"}, \"bgcolor\": \"#E5ECF6\", \"radialaxis\": {\"gridcolor\": \"white\", \"linecolor\": \"white\", \"ticks\": \"\"}}, \"scene\": {\"xaxis\": {\"backgroundcolor\": \"#E5ECF6\", \"gridcolor\": \"white\", \"gridwidth\": 2, \"linecolor\": \"white\", \"showbackground\": true, \"ticks\": \"\", \"zerolinecolor\": \"white\"}, \"yaxis\": {\"backgroundcolor\": \"#E5ECF6\", \"gridcolor\": \"white\", \"gridwidth\": 2, \"linecolor\": \"white\", \"showbackground\": true, \"ticks\": \"\", \"zerolinecolor\": \"white\"}, \"zaxis\": {\"backgroundcolor\": \"#E5ECF6\", \"gridcolor\": \"white\", \"gridwidth\": 2, \"linecolor\": \"white\", \"showbackground\": true, \"ticks\": \"\", \"zerolinecolor\": \"white\"}}, \"shapedefaults\": {\"line\": {\"color\": \"#2a3f5f\"}}, \"ternary\": {\"aaxis\": {\"gridcolor\": \"white\", \"linecolor\": \"white\", \"ticks\": \"\"}, \"baxis\": {\"gridcolor\": \"white\", \"linecolor\": \"white\", \"ticks\": \"\"}, \"bgcolor\": \"#E5ECF6\", \"caxis\": {\"gridcolor\": \"white\", \"linecolor\": \"white\", \"ticks\": \"\"}}, \"title\": {\"x\": 0.05}, \"xaxis\": {\"automargin\": true, \"gridcolor\": \"white\", \"linecolor\": \"white\", \"ticks\": \"\", \"title\": {\"standoff\": 15}, \"zerolinecolor\": \"white\", \"zerolinewidth\": 2}, \"yaxis\": {\"automargin\": true, \"gridcolor\": \"white\", \"linecolor\": \"white\", \"ticks\": \"\", \"title\": {\"standoff\": 15}, \"zerolinecolor\": \"white\", \"zerolinewidth\": 2}}}, \"title\": {\"font\": {\"color\": \"#4D5663\"}}, \"xaxis\": {\"gridcolor\": \"#E1E5ED\", \"showgrid\": true, \"tickfont\": {\"color\": \"#4D5663\"}, \"title\": {\"font\": {\"color\": \"#4D5663\"}, \"text\": \"\"}, \"zerolinecolor\": \"#E1E5ED\"}, \"yaxis\": {\"gridcolor\": \"#E1E5ED\", \"showgrid\": true, \"tickfont\": {\"color\": \"#4D5663\"}, \"title\": {\"font\": {\"color\": \"#4D5663\"}, \"text\": \"\"}, \"zerolinecolor\": \"#E1E5ED\"}},\n",
       "                        {\"showLink\": true, \"linkText\": \"Export to plot.ly\", \"plotlyServerURL\": \"https://plot.ly\", \"responsive\": true}\n",
       "                    ).then(function(){\n",
       "                            \n",
       "var gd = document.getElementById('edeb8513-affd-4a33-a91b-67285ec461a9');\n",
       "var x = new MutationObserver(function (mutations, observer) {{\n",
       "        var display = window.getComputedStyle(gd).display;\n",
       "        if (!display || display === 'none') {{\n",
       "            console.log([gd, 'removed!']);\n",
       "            Plotly.purge(gd);\n",
       "            observer.disconnect();\n",
       "        }}\n",
       "}});\n",
       "\n",
       "// Listen for the removal of the full notebook cells\n",
       "var notebookContainer = gd.closest('#notebook-container');\n",
       "if (notebookContainer) {{\n",
       "    x.observe(notebookContainer, {childList: true});\n",
       "}}\n",
       "\n",
       "// Listen for the clearing of the current output cell\n",
       "var outputEl = gd.closest('.output');\n",
       "if (outputEl) {{\n",
       "    x.observe(outputEl, {childList: true});\n",
       "}}\n",
       "\n",
       "                        })\n",
       "                };\n",
       "                });\n",
       "            </script>\n",
       "        </div>"
      ]
     },
     "metadata": {},
     "output_type": "display_data"
    }
   ],
   "source": [
    "df2.iplot(kind='bar',x='Category',y='Values')"
   ]
  },
  {
   "cell_type": "code",
   "execution_count": 20,
   "metadata": {},
   "outputs": [
    {
     "data": {
      "application/vnd.plotly.v1+json": {
       "config": {
        "linkText": "Export to plot.ly",
        "plotlyServerURL": "https://plot.ly",
        "showLink": true
       },
       "data": [
        {
         "marker": {
          "color": "rgba(255, 153, 51, 0.6)",
          "line": {
           "color": "rgba(255, 153, 51, 1.0)",
           "width": 1
          }
         },
         "name": "None",
         "orientation": "v",
         "text": "",
         "type": "bar",
         "x": [
          "A",
          "B",
          "C",
          "D"
         ],
         "y": [
          100,
          100,
          100,
          100
         ]
        }
       ],
       "layout": {
        "legend": {
         "bgcolor": "#F5F6F9",
         "font": {
          "color": "#4D5663"
         }
        },
        "paper_bgcolor": "#F5F6F9",
        "plot_bgcolor": "#F5F6F9",
        "template": {
         "data": {
          "bar": [
           {
            "error_x": {
             "color": "#2a3f5f"
            },
            "error_y": {
             "color": "#2a3f5f"
            },
            "marker": {
             "line": {
              "color": "#E5ECF6",
              "width": 0.5
             }
            },
            "type": "bar"
           }
          ],
          "barpolar": [
           {
            "marker": {
             "line": {
              "color": "#E5ECF6",
              "width": 0.5
             }
            },
            "type": "barpolar"
           }
          ],
          "carpet": [
           {
            "aaxis": {
             "endlinecolor": "#2a3f5f",
             "gridcolor": "white",
             "linecolor": "white",
             "minorgridcolor": "white",
             "startlinecolor": "#2a3f5f"
            },
            "baxis": {
             "endlinecolor": "#2a3f5f",
             "gridcolor": "white",
             "linecolor": "white",
             "minorgridcolor": "white",
             "startlinecolor": "#2a3f5f"
            },
            "type": "carpet"
           }
          ],
          "choropleth": [
           {
            "colorbar": {
             "outlinewidth": 0,
             "ticks": ""
            },
            "type": "choropleth"
           }
          ],
          "contour": [
           {
            "colorbar": {
             "outlinewidth": 0,
             "ticks": ""
            },
            "colorscale": [
             [
              0,
              "#0d0887"
             ],
             [
              0.1111111111111111,
              "#46039f"
             ],
             [
              0.2222222222222222,
              "#7201a8"
             ],
             [
              0.3333333333333333,
              "#9c179e"
             ],
             [
              0.4444444444444444,
              "#bd3786"
             ],
             [
              0.5555555555555556,
              "#d8576b"
             ],
             [
              0.6666666666666666,
              "#ed7953"
             ],
             [
              0.7777777777777778,
              "#fb9f3a"
             ],
             [
              0.8888888888888888,
              "#fdca26"
             ],
             [
              1,
              "#f0f921"
             ]
            ],
            "type": "contour"
           }
          ],
          "contourcarpet": [
           {
            "colorbar": {
             "outlinewidth": 0,
             "ticks": ""
            },
            "type": "contourcarpet"
           }
          ],
          "heatmap": [
           {
            "colorbar": {
             "outlinewidth": 0,
             "ticks": ""
            },
            "colorscale": [
             [
              0,
              "#0d0887"
             ],
             [
              0.1111111111111111,
              "#46039f"
             ],
             [
              0.2222222222222222,
              "#7201a8"
             ],
             [
              0.3333333333333333,
              "#9c179e"
             ],
             [
              0.4444444444444444,
              "#bd3786"
             ],
             [
              0.5555555555555556,
              "#d8576b"
             ],
             [
              0.6666666666666666,
              "#ed7953"
             ],
             [
              0.7777777777777778,
              "#fb9f3a"
             ],
             [
              0.8888888888888888,
              "#fdca26"
             ],
             [
              1,
              "#f0f921"
             ]
            ],
            "type": "heatmap"
           }
          ],
          "heatmapgl": [
           {
            "colorbar": {
             "outlinewidth": 0,
             "ticks": ""
            },
            "colorscale": [
             [
              0,
              "#0d0887"
             ],
             [
              0.1111111111111111,
              "#46039f"
             ],
             [
              0.2222222222222222,
              "#7201a8"
             ],
             [
              0.3333333333333333,
              "#9c179e"
             ],
             [
              0.4444444444444444,
              "#bd3786"
             ],
             [
              0.5555555555555556,
              "#d8576b"
             ],
             [
              0.6666666666666666,
              "#ed7953"
             ],
             [
              0.7777777777777778,
              "#fb9f3a"
             ],
             [
              0.8888888888888888,
              "#fdca26"
             ],
             [
              1,
              "#f0f921"
             ]
            ],
            "type": "heatmapgl"
           }
          ],
          "histogram": [
           {
            "marker": {
             "colorbar": {
              "outlinewidth": 0,
              "ticks": ""
             }
            },
            "type": "histogram"
           }
          ],
          "histogram2d": [
           {
            "colorbar": {
             "outlinewidth": 0,
             "ticks": ""
            },
            "colorscale": [
             [
              0,
              "#0d0887"
             ],
             [
              0.1111111111111111,
              "#46039f"
             ],
             [
              0.2222222222222222,
              "#7201a8"
             ],
             [
              0.3333333333333333,
              "#9c179e"
             ],
             [
              0.4444444444444444,
              "#bd3786"
             ],
             [
              0.5555555555555556,
              "#d8576b"
             ],
             [
              0.6666666666666666,
              "#ed7953"
             ],
             [
              0.7777777777777778,
              "#fb9f3a"
             ],
             [
              0.8888888888888888,
              "#fdca26"
             ],
             [
              1,
              "#f0f921"
             ]
            ],
            "type": "histogram2d"
           }
          ],
          "histogram2dcontour": [
           {
            "colorbar": {
             "outlinewidth": 0,
             "ticks": ""
            },
            "colorscale": [
             [
              0,
              "#0d0887"
             ],
             [
              0.1111111111111111,
              "#46039f"
             ],
             [
              0.2222222222222222,
              "#7201a8"
             ],
             [
              0.3333333333333333,
              "#9c179e"
             ],
             [
              0.4444444444444444,
              "#bd3786"
             ],
             [
              0.5555555555555556,
              "#d8576b"
             ],
             [
              0.6666666666666666,
              "#ed7953"
             ],
             [
              0.7777777777777778,
              "#fb9f3a"
             ],
             [
              0.8888888888888888,
              "#fdca26"
             ],
             [
              1,
              "#f0f921"
             ]
            ],
            "type": "histogram2dcontour"
           }
          ],
          "mesh3d": [
           {
            "colorbar": {
             "outlinewidth": 0,
             "ticks": ""
            },
            "type": "mesh3d"
           }
          ],
          "parcoords": [
           {
            "line": {
             "colorbar": {
              "outlinewidth": 0,
              "ticks": ""
             }
            },
            "type": "parcoords"
           }
          ],
          "pie": [
           {
            "automargin": true,
            "type": "pie"
           }
          ],
          "scatter": [
           {
            "marker": {
             "colorbar": {
              "outlinewidth": 0,
              "ticks": ""
             }
            },
            "type": "scatter"
           }
          ],
          "scatter3d": [
           {
            "line": {
             "colorbar": {
              "outlinewidth": 0,
              "ticks": ""
             }
            },
            "marker": {
             "colorbar": {
              "outlinewidth": 0,
              "ticks": ""
             }
            },
            "type": "scatter3d"
           }
          ],
          "scattercarpet": [
           {
            "marker": {
             "colorbar": {
              "outlinewidth": 0,
              "ticks": ""
             }
            },
            "type": "scattercarpet"
           }
          ],
          "scattergeo": [
           {
            "marker": {
             "colorbar": {
              "outlinewidth": 0,
              "ticks": ""
             }
            },
            "type": "scattergeo"
           }
          ],
          "scattergl": [
           {
            "marker": {
             "colorbar": {
              "outlinewidth": 0,
              "ticks": ""
             }
            },
            "type": "scattergl"
           }
          ],
          "scattermapbox": [
           {
            "marker": {
             "colorbar": {
              "outlinewidth": 0,
              "ticks": ""
             }
            },
            "type": "scattermapbox"
           }
          ],
          "scatterpolar": [
           {
            "marker": {
             "colorbar": {
              "outlinewidth": 0,
              "ticks": ""
             }
            },
            "type": "scatterpolar"
           }
          ],
          "scatterpolargl": [
           {
            "marker": {
             "colorbar": {
              "outlinewidth": 0,
              "ticks": ""
             }
            },
            "type": "scatterpolargl"
           }
          ],
          "scatterternary": [
           {
            "marker": {
             "colorbar": {
              "outlinewidth": 0,
              "ticks": ""
             }
            },
            "type": "scatterternary"
           }
          ],
          "surface": [
           {
            "colorbar": {
             "outlinewidth": 0,
             "ticks": ""
            },
            "colorscale": [
             [
              0,
              "#0d0887"
             ],
             [
              0.1111111111111111,
              "#46039f"
             ],
             [
              0.2222222222222222,
              "#7201a8"
             ],
             [
              0.3333333333333333,
              "#9c179e"
             ],
             [
              0.4444444444444444,
              "#bd3786"
             ],
             [
              0.5555555555555556,
              "#d8576b"
             ],
             [
              0.6666666666666666,
              "#ed7953"
             ],
             [
              0.7777777777777778,
              "#fb9f3a"
             ],
             [
              0.8888888888888888,
              "#fdca26"
             ],
             [
              1,
              "#f0f921"
             ]
            ],
            "type": "surface"
           }
          ],
          "table": [
           {
            "cells": {
             "fill": {
              "color": "#EBF0F8"
             },
             "line": {
              "color": "white"
             }
            },
            "header": {
             "fill": {
              "color": "#C8D4E3"
             },
             "line": {
              "color": "white"
             }
            },
            "type": "table"
           }
          ]
         },
         "layout": {
          "annotationdefaults": {
           "arrowcolor": "#2a3f5f",
           "arrowhead": 0,
           "arrowwidth": 1
          },
          "coloraxis": {
           "colorbar": {
            "outlinewidth": 0,
            "ticks": ""
           }
          },
          "colorscale": {
           "diverging": [
            [
             0,
             "#8e0152"
            ],
            [
             0.1,
             "#c51b7d"
            ],
            [
             0.2,
             "#de77ae"
            ],
            [
             0.3,
             "#f1b6da"
            ],
            [
             0.4,
             "#fde0ef"
            ],
            [
             0.5,
             "#f7f7f7"
            ],
            [
             0.6,
             "#e6f5d0"
            ],
            [
             0.7,
             "#b8e186"
            ],
            [
             0.8,
             "#7fbc41"
            ],
            [
             0.9,
             "#4d9221"
            ],
            [
             1,
             "#276419"
            ]
           ],
           "sequential": [
            [
             0,
             "#0d0887"
            ],
            [
             0.1111111111111111,
             "#46039f"
            ],
            [
             0.2222222222222222,
             "#7201a8"
            ],
            [
             0.3333333333333333,
             "#9c179e"
            ],
            [
             0.4444444444444444,
             "#bd3786"
            ],
            [
             0.5555555555555556,
             "#d8576b"
            ],
            [
             0.6666666666666666,
             "#ed7953"
            ],
            [
             0.7777777777777778,
             "#fb9f3a"
            ],
            [
             0.8888888888888888,
             "#fdca26"
            ],
            [
             1,
             "#f0f921"
            ]
           ],
           "sequentialminus": [
            [
             0,
             "#0d0887"
            ],
            [
             0.1111111111111111,
             "#46039f"
            ],
            [
             0.2222222222222222,
             "#7201a8"
            ],
            [
             0.3333333333333333,
             "#9c179e"
            ],
            [
             0.4444444444444444,
             "#bd3786"
            ],
            [
             0.5555555555555556,
             "#d8576b"
            ],
            [
             0.6666666666666666,
             "#ed7953"
            ],
            [
             0.7777777777777778,
             "#fb9f3a"
            ],
            [
             0.8888888888888888,
             "#fdca26"
            ],
            [
             1,
             "#f0f921"
            ]
           ]
          },
          "colorway": [
           "#636efa",
           "#EF553B",
           "#00cc96",
           "#ab63fa",
           "#FFA15A",
           "#19d3f3",
           "#FF6692",
           "#B6E880",
           "#FF97FF",
           "#FECB52"
          ],
          "font": {
           "color": "#2a3f5f"
          },
          "geo": {
           "bgcolor": "white",
           "lakecolor": "white",
           "landcolor": "#E5ECF6",
           "showlakes": true,
           "showland": true,
           "subunitcolor": "white"
          },
          "hoverlabel": {
           "align": "left"
          },
          "hovermode": "closest",
          "mapbox": {
           "style": "light"
          },
          "paper_bgcolor": "white",
          "plot_bgcolor": "#E5ECF6",
          "polar": {
           "angularaxis": {
            "gridcolor": "white",
            "linecolor": "white",
            "ticks": ""
           },
           "bgcolor": "#E5ECF6",
           "radialaxis": {
            "gridcolor": "white",
            "linecolor": "white",
            "ticks": ""
           }
          },
          "scene": {
           "xaxis": {
            "backgroundcolor": "#E5ECF6",
            "gridcolor": "white",
            "gridwidth": 2,
            "linecolor": "white",
            "showbackground": true,
            "ticks": "",
            "zerolinecolor": "white"
           },
           "yaxis": {
            "backgroundcolor": "#E5ECF6",
            "gridcolor": "white",
            "gridwidth": 2,
            "linecolor": "white",
            "showbackground": true,
            "ticks": "",
            "zerolinecolor": "white"
           },
           "zaxis": {
            "backgroundcolor": "#E5ECF6",
            "gridcolor": "white",
            "gridwidth": 2,
            "linecolor": "white",
            "showbackground": true,
            "ticks": "",
            "zerolinecolor": "white"
           }
          },
          "shapedefaults": {
           "line": {
            "color": "#2a3f5f"
           }
          },
          "ternary": {
           "aaxis": {
            "gridcolor": "white",
            "linecolor": "white",
            "ticks": ""
           },
           "baxis": {
            "gridcolor": "white",
            "linecolor": "white",
            "ticks": ""
           },
           "bgcolor": "#E5ECF6",
           "caxis": {
            "gridcolor": "white",
            "linecolor": "white",
            "ticks": ""
           }
          },
          "title": {
           "x": 0.05
          },
          "xaxis": {
           "automargin": true,
           "gridcolor": "white",
           "linecolor": "white",
           "ticks": "",
           "title": {
            "standoff": 15
           },
           "zerolinecolor": "white",
           "zerolinewidth": 2
          },
          "yaxis": {
           "automargin": true,
           "gridcolor": "white",
           "linecolor": "white",
           "ticks": "",
           "title": {
            "standoff": 15
           },
           "zerolinecolor": "white",
           "zerolinewidth": 2
          }
         }
        },
        "title": {
         "font": {
          "color": "#4D5663"
         }
        },
        "xaxis": {
         "gridcolor": "#E1E5ED",
         "showgrid": true,
         "tickfont": {
          "color": "#4D5663"
         },
         "title": {
          "font": {
           "color": "#4D5663"
          },
          "text": ""
         },
         "zerolinecolor": "#E1E5ED"
        },
        "yaxis": {
         "gridcolor": "#E1E5ED",
         "showgrid": true,
         "tickfont": {
          "color": "#4D5663"
         },
         "title": {
          "font": {
           "color": "#4D5663"
          },
          "text": ""
         },
         "zerolinecolor": "#E1E5ED"
        }
       }
      },
      "text/html": [
       "<div>\n",
       "        \n",
       "        \n",
       "            <div id=\"8dc22555-5af8-430c-8a15-6e53c5175eea\" class=\"plotly-graph-div\" style=\"height:525px; width:100%;\"></div>\n",
       "            <script type=\"text/javascript\">\n",
       "                require([\"plotly\"], function(Plotly) {\n",
       "                    window.PLOTLYENV=window.PLOTLYENV || {};\n",
       "                    window.PLOTLYENV.BASE_URL='https://plot.ly';\n",
       "                    \n",
       "                if (document.getElementById(\"8dc22555-5af8-430c-8a15-6e53c5175eea\")) {\n",
       "                    Plotly.newPlot(\n",
       "                        '8dc22555-5af8-430c-8a15-6e53c5175eea',\n",
       "                        [{\"marker\": {\"color\": \"rgba(255, 153, 51, 0.6)\", \"line\": {\"color\": \"rgba(255, 153, 51, 1.0)\", \"width\": 1}}, \"name\": \"None\", \"orientation\": \"v\", \"text\": \"\", \"type\": \"bar\", \"x\": [\"A\", \"B\", \"C\", \"D\"], \"y\": [100, 100, 100, 100]}],\n",
       "                        {\"legend\": {\"bgcolor\": \"#F5F6F9\", \"font\": {\"color\": \"#4D5663\"}}, \"paper_bgcolor\": \"#F5F6F9\", \"plot_bgcolor\": \"#F5F6F9\", \"template\": {\"data\": {\"bar\": [{\"error_x\": {\"color\": \"#2a3f5f\"}, \"error_y\": {\"color\": \"#2a3f5f\"}, \"marker\": {\"line\": {\"color\": \"#E5ECF6\", \"width\": 0.5}}, \"type\": \"bar\"}], \"barpolar\": [{\"marker\": {\"line\": {\"color\": \"#E5ECF6\", \"width\": 0.5}}, \"type\": \"barpolar\"}], \"carpet\": [{\"aaxis\": {\"endlinecolor\": \"#2a3f5f\", \"gridcolor\": \"white\", \"linecolor\": \"white\", \"minorgridcolor\": \"white\", \"startlinecolor\": \"#2a3f5f\"}, \"baxis\": {\"endlinecolor\": \"#2a3f5f\", \"gridcolor\": \"white\", \"linecolor\": \"white\", \"minorgridcolor\": \"white\", \"startlinecolor\": \"#2a3f5f\"}, \"type\": \"carpet\"}], \"choropleth\": [{\"colorbar\": {\"outlinewidth\": 0, \"ticks\": \"\"}, \"type\": \"choropleth\"}], \"contour\": [{\"colorbar\": {\"outlinewidth\": 0, \"ticks\": \"\"}, \"colorscale\": [[0.0, \"#0d0887\"], [0.1111111111111111, \"#46039f\"], [0.2222222222222222, \"#7201a8\"], [0.3333333333333333, \"#9c179e\"], [0.4444444444444444, \"#bd3786\"], [0.5555555555555556, \"#d8576b\"], [0.6666666666666666, \"#ed7953\"], [0.7777777777777778, \"#fb9f3a\"], [0.8888888888888888, \"#fdca26\"], [1.0, \"#f0f921\"]], \"type\": \"contour\"}], \"contourcarpet\": [{\"colorbar\": {\"outlinewidth\": 0, \"ticks\": \"\"}, \"type\": \"contourcarpet\"}], \"heatmap\": [{\"colorbar\": {\"outlinewidth\": 0, \"ticks\": \"\"}, \"colorscale\": [[0.0, \"#0d0887\"], [0.1111111111111111, \"#46039f\"], [0.2222222222222222, \"#7201a8\"], [0.3333333333333333, \"#9c179e\"], [0.4444444444444444, \"#bd3786\"], [0.5555555555555556, \"#d8576b\"], [0.6666666666666666, \"#ed7953\"], [0.7777777777777778, \"#fb9f3a\"], [0.8888888888888888, \"#fdca26\"], [1.0, \"#f0f921\"]], \"type\": \"heatmap\"}], \"heatmapgl\": [{\"colorbar\": {\"outlinewidth\": 0, \"ticks\": \"\"}, \"colorscale\": [[0.0, \"#0d0887\"], [0.1111111111111111, \"#46039f\"], [0.2222222222222222, \"#7201a8\"], [0.3333333333333333, \"#9c179e\"], [0.4444444444444444, \"#bd3786\"], [0.5555555555555556, \"#d8576b\"], [0.6666666666666666, \"#ed7953\"], [0.7777777777777778, \"#fb9f3a\"], [0.8888888888888888, \"#fdca26\"], [1.0, \"#f0f921\"]], \"type\": \"heatmapgl\"}], \"histogram\": [{\"marker\": {\"colorbar\": {\"outlinewidth\": 0, \"ticks\": \"\"}}, \"type\": \"histogram\"}], \"histogram2d\": [{\"colorbar\": {\"outlinewidth\": 0, \"ticks\": \"\"}, \"colorscale\": [[0.0, \"#0d0887\"], [0.1111111111111111, \"#46039f\"], [0.2222222222222222, \"#7201a8\"], [0.3333333333333333, \"#9c179e\"], [0.4444444444444444, \"#bd3786\"], [0.5555555555555556, \"#d8576b\"], [0.6666666666666666, \"#ed7953\"], [0.7777777777777778, \"#fb9f3a\"], [0.8888888888888888, \"#fdca26\"], [1.0, \"#f0f921\"]], \"type\": \"histogram2d\"}], \"histogram2dcontour\": [{\"colorbar\": {\"outlinewidth\": 0, \"ticks\": \"\"}, \"colorscale\": [[0.0, \"#0d0887\"], [0.1111111111111111, \"#46039f\"], [0.2222222222222222, \"#7201a8\"], [0.3333333333333333, \"#9c179e\"], [0.4444444444444444, \"#bd3786\"], [0.5555555555555556, \"#d8576b\"], [0.6666666666666666, \"#ed7953\"], [0.7777777777777778, \"#fb9f3a\"], [0.8888888888888888, \"#fdca26\"], [1.0, \"#f0f921\"]], \"type\": \"histogram2dcontour\"}], \"mesh3d\": [{\"colorbar\": {\"outlinewidth\": 0, \"ticks\": \"\"}, \"type\": \"mesh3d\"}], \"parcoords\": [{\"line\": {\"colorbar\": {\"outlinewidth\": 0, \"ticks\": \"\"}}, \"type\": \"parcoords\"}], \"pie\": [{\"automargin\": true, \"type\": \"pie\"}], \"scatter\": [{\"marker\": {\"colorbar\": {\"outlinewidth\": 0, \"ticks\": \"\"}}, \"type\": \"scatter\"}], \"scatter3d\": [{\"line\": {\"colorbar\": {\"outlinewidth\": 0, \"ticks\": \"\"}}, \"marker\": {\"colorbar\": {\"outlinewidth\": 0, \"ticks\": \"\"}}, \"type\": \"scatter3d\"}], \"scattercarpet\": [{\"marker\": {\"colorbar\": {\"outlinewidth\": 0, \"ticks\": \"\"}}, \"type\": \"scattercarpet\"}], \"scattergeo\": [{\"marker\": {\"colorbar\": {\"outlinewidth\": 0, \"ticks\": \"\"}}, \"type\": \"scattergeo\"}], \"scattergl\": [{\"marker\": {\"colorbar\": {\"outlinewidth\": 0, \"ticks\": \"\"}}, \"type\": \"scattergl\"}], \"scattermapbox\": [{\"marker\": {\"colorbar\": {\"outlinewidth\": 0, \"ticks\": \"\"}}, \"type\": \"scattermapbox\"}], \"scatterpolar\": [{\"marker\": {\"colorbar\": {\"outlinewidth\": 0, \"ticks\": \"\"}}, \"type\": \"scatterpolar\"}], \"scatterpolargl\": [{\"marker\": {\"colorbar\": {\"outlinewidth\": 0, \"ticks\": \"\"}}, \"type\": \"scatterpolargl\"}], \"scatterternary\": [{\"marker\": {\"colorbar\": {\"outlinewidth\": 0, \"ticks\": \"\"}}, \"type\": \"scatterternary\"}], \"surface\": [{\"colorbar\": {\"outlinewidth\": 0, \"ticks\": \"\"}, \"colorscale\": [[0.0, \"#0d0887\"], [0.1111111111111111, \"#46039f\"], [0.2222222222222222, \"#7201a8\"], [0.3333333333333333, \"#9c179e\"], [0.4444444444444444, \"#bd3786\"], [0.5555555555555556, \"#d8576b\"], [0.6666666666666666, \"#ed7953\"], [0.7777777777777778, \"#fb9f3a\"], [0.8888888888888888, \"#fdca26\"], [1.0, \"#f0f921\"]], \"type\": \"surface\"}], \"table\": [{\"cells\": {\"fill\": {\"color\": \"#EBF0F8\"}, \"line\": {\"color\": \"white\"}}, \"header\": {\"fill\": {\"color\": \"#C8D4E3\"}, \"line\": {\"color\": \"white\"}}, \"type\": \"table\"}]}, \"layout\": {\"annotationdefaults\": {\"arrowcolor\": \"#2a3f5f\", \"arrowhead\": 0, \"arrowwidth\": 1}, \"coloraxis\": {\"colorbar\": {\"outlinewidth\": 0, \"ticks\": \"\"}}, \"colorscale\": {\"diverging\": [[0, \"#8e0152\"], [0.1, \"#c51b7d\"], [0.2, \"#de77ae\"], [0.3, \"#f1b6da\"], [0.4, \"#fde0ef\"], [0.5, \"#f7f7f7\"], [0.6, \"#e6f5d0\"], [0.7, \"#b8e186\"], [0.8, \"#7fbc41\"], [0.9, \"#4d9221\"], [1, \"#276419\"]], \"sequential\": [[0.0, \"#0d0887\"], [0.1111111111111111, \"#46039f\"], [0.2222222222222222, \"#7201a8\"], [0.3333333333333333, \"#9c179e\"], [0.4444444444444444, \"#bd3786\"], [0.5555555555555556, \"#d8576b\"], [0.6666666666666666, \"#ed7953\"], [0.7777777777777778, \"#fb9f3a\"], [0.8888888888888888, \"#fdca26\"], [1.0, \"#f0f921\"]], \"sequentialminus\": [[0.0, \"#0d0887\"], [0.1111111111111111, \"#46039f\"], [0.2222222222222222, \"#7201a8\"], [0.3333333333333333, \"#9c179e\"], [0.4444444444444444, \"#bd3786\"], [0.5555555555555556, \"#d8576b\"], [0.6666666666666666, \"#ed7953\"], [0.7777777777777778, \"#fb9f3a\"], [0.8888888888888888, \"#fdca26\"], [1.0, \"#f0f921\"]]}, \"colorway\": [\"#636efa\", \"#EF553B\", \"#00cc96\", \"#ab63fa\", \"#FFA15A\", \"#19d3f3\", \"#FF6692\", \"#B6E880\", \"#FF97FF\", \"#FECB52\"], \"font\": {\"color\": \"#2a3f5f\"}, \"geo\": {\"bgcolor\": \"white\", \"lakecolor\": \"white\", \"landcolor\": \"#E5ECF6\", \"showlakes\": true, \"showland\": true, \"subunitcolor\": \"white\"}, \"hoverlabel\": {\"align\": \"left\"}, \"hovermode\": \"closest\", \"mapbox\": {\"style\": \"light\"}, \"paper_bgcolor\": \"white\", \"plot_bgcolor\": \"#E5ECF6\", \"polar\": {\"angularaxis\": {\"gridcolor\": \"white\", \"linecolor\": \"white\", \"ticks\": \"\"}, \"bgcolor\": \"#E5ECF6\", \"radialaxis\": {\"gridcolor\": \"white\", \"linecolor\": \"white\", \"ticks\": \"\"}}, \"scene\": {\"xaxis\": {\"backgroundcolor\": \"#E5ECF6\", \"gridcolor\": \"white\", \"gridwidth\": 2, \"linecolor\": \"white\", \"showbackground\": true, \"ticks\": \"\", \"zerolinecolor\": \"white\"}, \"yaxis\": {\"backgroundcolor\": \"#E5ECF6\", \"gridcolor\": \"white\", \"gridwidth\": 2, \"linecolor\": \"white\", \"showbackground\": true, \"ticks\": \"\", \"zerolinecolor\": \"white\"}, \"zaxis\": {\"backgroundcolor\": \"#E5ECF6\", \"gridcolor\": \"white\", \"gridwidth\": 2, \"linecolor\": \"white\", \"showbackground\": true, \"ticks\": \"\", \"zerolinecolor\": \"white\"}}, \"shapedefaults\": {\"line\": {\"color\": \"#2a3f5f\"}}, \"ternary\": {\"aaxis\": {\"gridcolor\": \"white\", \"linecolor\": \"white\", \"ticks\": \"\"}, \"baxis\": {\"gridcolor\": \"white\", \"linecolor\": \"white\", \"ticks\": \"\"}, \"bgcolor\": \"#E5ECF6\", \"caxis\": {\"gridcolor\": \"white\", \"linecolor\": \"white\", \"ticks\": \"\"}}, \"title\": {\"x\": 0.05}, \"xaxis\": {\"automargin\": true, \"gridcolor\": \"white\", \"linecolor\": \"white\", \"ticks\": \"\", \"title\": {\"standoff\": 15}, \"zerolinecolor\": \"white\", \"zerolinewidth\": 2}, \"yaxis\": {\"automargin\": true, \"gridcolor\": \"white\", \"linecolor\": \"white\", \"ticks\": \"\", \"title\": {\"standoff\": 15}, \"zerolinecolor\": \"white\", \"zerolinewidth\": 2}}}, \"title\": {\"font\": {\"color\": \"#4D5663\"}}, \"xaxis\": {\"gridcolor\": \"#E1E5ED\", \"showgrid\": true, \"tickfont\": {\"color\": \"#4D5663\"}, \"title\": {\"font\": {\"color\": \"#4D5663\"}, \"text\": \"\"}, \"zerolinecolor\": \"#E1E5ED\"}, \"yaxis\": {\"gridcolor\": \"#E1E5ED\", \"showgrid\": true, \"tickfont\": {\"color\": \"#4D5663\"}, \"title\": {\"font\": {\"color\": \"#4D5663\"}, \"text\": \"\"}, \"zerolinecolor\": \"#E1E5ED\"}},\n",
       "                        {\"showLink\": true, \"linkText\": \"Export to plot.ly\", \"plotlyServerURL\": \"https://plot.ly\", \"responsive\": true}\n",
       "                    ).then(function(){\n",
       "                            \n",
       "var gd = document.getElementById('8dc22555-5af8-430c-8a15-6e53c5175eea');\n",
       "var x = new MutationObserver(function (mutations, observer) {{\n",
       "        var display = window.getComputedStyle(gd).display;\n",
       "        if (!display || display === 'none') {{\n",
       "            console.log([gd, 'removed!']);\n",
       "            Plotly.purge(gd);\n",
       "            observer.disconnect();\n",
       "        }}\n",
       "}});\n",
       "\n",
       "// Listen for the removal of the full notebook cells\n",
       "var notebookContainer = gd.closest('#notebook-container');\n",
       "if (notebookContainer) {{\n",
       "    x.observe(notebookContainer, {childList: true});\n",
       "}}\n",
       "\n",
       "// Listen for the clearing of the current output cell\n",
       "var outputEl = gd.closest('.output');\n",
       "if (outputEl) {{\n",
       "    x.observe(outputEl, {childList: true});\n",
       "}}\n",
       "\n",
       "                        })\n",
       "                };\n",
       "                });\n",
       "            </script>\n",
       "        </div>"
      ]
     },
     "metadata": {},
     "output_type": "display_data"
    }
   ],
   "source": [
    "df.count().iplot(kind='bar')"
   ]
  },
  {
   "cell_type": "markdown",
   "metadata": {},
   "source": [
    "## Boxplots"
   ]
  },
  {
   "cell_type": "code",
   "execution_count": 21,
   "metadata": {},
   "outputs": [
    {
     "data": {
      "application/vnd.plotly.v1+json": {
       "config": {
        "linkText": "Export to plot.ly",
        "plotlyServerURL": "https://plot.ly",
        "showLink": true
       },
       "data": [
        {
         "boxpoints": false,
         "line": {
          "width": 1.3
         },
         "marker": {
          "color": "rgba(255, 153, 51, 1.0)"
         },
         "name": "A",
         "orientation": "v",
         "type": "box",
         "y": [
          -1.7664723391769375,
          1.3723961024111873,
          -0.16862382412950433,
          -0.4686727100182148,
          0.10524460974524735,
          -0.7962133829694761,
          -0.5298304180895901,
          0.6146238526515427,
          1.7292353993593634,
          0.07182212081760649,
          0.6684096748052933,
          -0.7800699149728171,
          1.5417320664306207,
          0.07871196129574386,
          -0.47912331954576354,
          0.49497874036995887,
          -0.8365379495421281,
          0.8100732064576514,
          1.504386579851412,
          1.3050146148625914,
          0.2327163067386028,
          -0.311794801754074,
          1.11803293083804,
          -0.2694022385891882,
          -1.9310046515278843,
          -0.7310345896030418,
          0.05597051235353513,
          -0.2670042140271307,
          -1.6328456299792342,
          1.6776349536213664,
          -0.8913226475416959,
          -0.20080795498403306,
          -2.0060384793844857,
          -0.16886522736983173,
          0.025069872614478645,
          -2.7983998538120525,
          -0.8296821954277036,
          -1.9867158696502034,
          0.2564426559057547,
          0.050771092269586864,
          0.06129118607457183,
          -1.4499164910285043,
          -0.7360201539756989,
          -1.2031929519207538,
          1.5075211502660624,
          0.9044128941163659,
          2.784660416932731,
          0.32705586003758896,
          -0.5137018289027601,
          -0.7574469128514296,
          -0.49514121798295785,
          -0.888912752461698,
          1.1174340171108508,
          1.907646220570275,
          -1.0537892813370076,
          0.425646641425545,
          -0.7082382696496868,
          -0.25756424708664577,
          -0.3605967100447902,
          -0.9910768416671183,
          0.6621518651077974,
          -0.3954043976512718,
          0.44955446684650807,
          1.0298175988968659,
          0.10641679029381493,
          0.9506947884212149,
          0.3278939302509376,
          -1.0602297237402718,
          0.11544492678947446,
          -1.0668802252218457,
          -1.9183668765571822,
          -0.8424470502410739,
          1.2075751433374757,
          0.7105708383905097,
          -0.3782733230042047,
          0.7870014181532221,
          0.08954649196791556,
          -1.166764582805965,
          0.6212228154843119,
          0.8308641409300191,
          -2.0347968071431044,
          1.2253581412652095,
          -0.9215248386855428,
          0.18688974053934473,
          0.30853112042580283,
          0.8420608730484123,
          -1.262211780112218,
          0.11362895802530086,
          0.62441011985385,
          -0.8495669500347244,
          -0.6409877413673586,
          0.5746315825425063,
          -1.9814150215828208,
          2.299270468997804,
          -0.5435018086035873,
          0.47492251312272793,
          0.34442197771751076,
          -1.6442326270930063,
          0.4553135548589679,
          0.4300313241505395
         ]
        },
        {
         "boxpoints": false,
         "line": {
          "width": 1.3
         },
         "marker": {
          "color": "rgba(55, 128, 191, 1.0)"
         },
         "name": "B",
         "orientation": "v",
         "type": "box",
         "y": [
          0.7256419508353439,
          0.4891359318991245,
          -0.021446868697695354,
          0.5699189969135365,
          0.7989792641425312,
          -1.2851113711634663,
          1.279248718804933,
          0.4749243626656492,
          -1.1845154110032723,
          -1.9648371522917485,
          0.5417860210162163,
          -0.05673910016335068,
          0.0018623938866737526,
          0.5927262435852061,
          0.20216257918580935,
          0.018492048888641987,
          -0.8520453035630274,
          -0.7248018007763332,
          0.34726843746070557,
          0.17253064301206017,
          -1.1819637870114659,
          -0.6291814509893625,
          1.6199572666695972,
          0.650039467695885,
          -0.7283871457040803,
          1.4597335668062734,
          -0.36608342132309374,
          0.1328269564616293,
          0.7820912142809123,
          1.1274247601021,
          -0.7002588967779936,
          -0.030942292689513824,
          -1.5490479787927922,
          -0.9642215465178909,
          -1.6446231055376166,
          -1.9487704013656038,
          0.2694163481633915,
          -0.7433165541055985,
          -0.2861089515191114,
          -0.3708999899691444,
          -2.3375584256560025,
          0.5012563493125995,
          0.34715395702179985,
          0.024256749847415444,
          -0.3312328565998601,
          -1.044843498615884,
          0.31828001324412447,
          1.7381146592719325,
          0.3470207745920348,
          0.41222825484031134,
          -0.24605492900340303,
          1.5001702812430961,
          0.15281977465056046,
          -1.164278703957203,
          -0.017260272587306055,
          0.5073485068268082,
          -1.7104644016532617,
          1.25380445233376,
          -0.1785525841039943,
          -0.1932178660774815,
          0.6107610891492199,
          -0.4443632806386484,
          1.7931890763040588,
          -1.1616309130455214,
          -0.8551089592882165,
          -1.3710997856428642,
          -0.6733777419252835,
          -1.2024844159213874,
          -0.3212272102990379,
          -0.7677522239136005,
          0.7060261222801993,
          0.7042806007704804,
          2.2475715397569074,
          1.7570001108621793,
          -0.3459760349655492,
          -0.07203276847413792,
          1.3894267752811893,
          0.044803610782237366,
          -0.04569620946576732,
          -0.19048353847167335,
          -0.6333030971864758,
          1.0068296365388283,
          -2.729179981615213,
          0.8230205577553504,
          -0.39756656509869287,
          0.6253599249604785,
          -0.1371806460591855,
          -1.6587862639472124,
          -0.02175601899369613,
          -0.8234193356560962,
          -1.2165087892989863,
          -1.1186780154811298,
          0.1259983219990328,
          0.3721418360250379,
          1.2980171824511955,
          0.7596775122213181,
          -1.2705973080889903,
          -0.8090551467308078,
          -0.10521137722736196,
          -1.5136707297077323
         ]
        },
        {
         "boxpoints": false,
         "line": {
          "width": 1.3
         },
         "marker": {
          "color": "rgba(50, 171, 96, 1.0)"
         },
         "name": "C",
         "orientation": "v",
         "type": "box",
         "y": [
          1.24107014904874,
          -0.611240496227224,
          -1.2087856326271955,
          0.007887977979965525,
          0.45530406329591044,
          0.9662102884582526,
          0.16530206534505026,
          0.018561415038707438,
          -0.5136745811377624,
          -0.10906323011831386,
          0.6258065546348593,
          1.2349310951818517,
          -0.23105097485187231,
          3.125706384009117,
          -0.9049261842041133,
          0.7571954881377901,
          -1.676623639083392,
          -0.9114029887249526,
          -1.075394381987722,
          -0.5893655249688883,
          0.48947874751818854,
          0.9988050355199353,
          0.06320750148936695,
          0.13870019395278757,
          -0.04222966403459234,
          -0.5597428400337586,
          -1.4146817083981773,
          -1.0182699125056986,
          -0.42133931455905155,
          -0.6369396776035443,
          -0.4125163879618978,
          -0.6488127386871908,
          -0.2127917661991761,
          -0.5080007599359846,
          0.015526570223989147,
          -0.0068068158603496595,
          0.9148513049044882,
          -0.327213992027883,
          -0.5415355368831904,
          -1.7043140658741291,
          0.7754594628923063,
          -0.00021453980782884546,
          -0.4219142594508613,
          -1.647637289687369,
          0.6780438674669387,
          1.703715767681509,
          -0.2788109602508351,
          -1.0930397432676628,
          -0.15414641131908355,
          -1.601105095297968,
          0.3320772914777862,
          0.029595919526291262,
          -0.08838027805191064,
          -0.8366535047849263,
          -0.26316337428891723,
          -0.5671449249457002,
          -0.2721118679767741,
          0.5189386804420562,
          -1.6582995800222964,
          1.2631348079807885,
          1.27666002021344,
          -0.8589550254243083,
          0.46634531012107827,
          -1.257704038325947,
          0.479138194580177,
          -0.8428621403839799,
          -1.7219608378986446,
          -1.931827582451364,
          0.27815937470993274,
          -0.25578974988429726,
          -2.3154945600322225,
          -1.0088001199520606,
          1.5674637203693342,
          1.1621409912280656,
          1.7729800459653005,
          -0.37893573922449547,
          -0.07613740258747217,
          0.027891754870857734,
          -0.27095543985522147,
          -0.21814217413978765,
          0.8843606153801192,
          0.7159754465306131,
          0.6384105233149503,
          0.3141051976146513,
          1.3342394514357405,
          -0.25979896763607424,
          0.6941534813237661,
          -1.6428476965039251,
          0.19340573682335543,
          -0.8684552363058707,
          -1.7020988665954402,
          -0.36646963519035697,
          0.15204373823973857,
          -1.0137394735715417,
          1.028017354715253,
          -0.12175412181320286,
          0.7896643062570945,
          1.198492264950016,
          1.4254762802990666,
          -1.704416711083291
         ]
        },
        {
         "boxpoints": false,
         "line": {
          "width": 1.3
         },
         "marker": {
          "color": "rgba(128, 0, 128, 1.0)"
         },
         "name": "D",
         "orientation": "v",
         "type": "box",
         "y": [
          -0.2113011841916001,
          1.5310440227332927,
          -0.3834137565189133,
          -1.7830575663441992,
          -0.09595931657541742,
          1.8191570203135914,
          0.6595738774636903,
          0.5592695522698317,
          -0.642518908690727,
          1.4710563233804466,
          0.47865556748074345,
          -1.1589839076249726,
          1.1137689782739313,
          -1.0505516785412163,
          -0.3636557457218735,
          -0.1530347712178531,
          -0.5608020883350007,
          0.26166310724840885,
          1.070306755332397,
          0.18198486727131435,
          1.2527157443894705,
          0.22061429747230762,
          -0.2602262012224047,
          -1.0691121404414958,
          -0.6848232570932521,
          0.8162589369960171,
          -0.7582059599396165,
          0.4456582882933635,
          1.1981958921037437,
          -0.0559637091670608,
          -0.8202289572408519,
          -1.2997836861662195,
          0.4938121986847556,
          -0.8186303354719257,
          0.8769007198929809,
          0.2660485146731749,
          -1.2877287717588837,
          0.3907351577803678,
          -1.0586545351939451,
          -1.0999050331881057,
          -1.1617514210615016,
          -1.0770061145053005,
          0.46986897620852475,
          -0.9247312869991977,
          -0.2581198645729674,
          0.7939542942469635,
          -0.7214464958466277,
          0.11641094429099247,
          -0.733351978335377,
          -1.9611502880222196,
          1.2551004661310663,
          -0.7922597826813551,
          -0.6896309349761818,
          -0.1404930061894985,
          1.6472546239243409,
          -1.4612770935449146,
          0.9993093632789172,
          -0.044446698278709854,
          0.3671324429849293,
          0.41654323547329597,
          0.5563761670680994,
          -1.673864070885013,
          -1.4423548692148238,
          -1.4140915067667619,
          -1.326567080833016,
          0.4433836803039138,
          1.286715647535771,
          -1.3648208324013256,
          0.3619462293342259,
          0.3726200050044374,
          -1.3024183272749836,
          0.5016568745452399,
          -1.098803926726156,
          0.7330841032859847,
          -1.5488356761348343,
          1.2034589978405723,
          0.12042373705812841,
          0.05368522072003816,
          -0.543273060365583,
          0.2803483211856537,
          -0.6396496703817736,
          -0.1434764378346883,
          -1.5814796382610632,
          0.16810012805924957,
          -1.498112667423833,
          1.4583129050451265,
          -0.08148007011420712,
          1.0686443906494367,
          0.8130177247945064,
          -1.5364481333517526,
          -0.07468533410211131,
          1.2516811303215438,
          0.02020116203176951,
          0.9749727712415192,
          -0.44058042148343957,
          -1.0516806951025282,
          -0.4696546419268447,
          -0.046152043744718825,
          0.46770062083353575,
          -0.9913931075320418
         ]
        }
       ],
       "layout": {
        "legend": {
         "bgcolor": "#F5F6F9",
         "font": {
          "color": "#4D5663"
         }
        },
        "paper_bgcolor": "#F5F6F9",
        "plot_bgcolor": "#F5F6F9",
        "template": {
         "data": {
          "bar": [
           {
            "error_x": {
             "color": "#2a3f5f"
            },
            "error_y": {
             "color": "#2a3f5f"
            },
            "marker": {
             "line": {
              "color": "#E5ECF6",
              "width": 0.5
             }
            },
            "type": "bar"
           }
          ],
          "barpolar": [
           {
            "marker": {
             "line": {
              "color": "#E5ECF6",
              "width": 0.5
             }
            },
            "type": "barpolar"
           }
          ],
          "carpet": [
           {
            "aaxis": {
             "endlinecolor": "#2a3f5f",
             "gridcolor": "white",
             "linecolor": "white",
             "minorgridcolor": "white",
             "startlinecolor": "#2a3f5f"
            },
            "baxis": {
             "endlinecolor": "#2a3f5f",
             "gridcolor": "white",
             "linecolor": "white",
             "minorgridcolor": "white",
             "startlinecolor": "#2a3f5f"
            },
            "type": "carpet"
           }
          ],
          "choropleth": [
           {
            "colorbar": {
             "outlinewidth": 0,
             "ticks": ""
            },
            "type": "choropleth"
           }
          ],
          "contour": [
           {
            "colorbar": {
             "outlinewidth": 0,
             "ticks": ""
            },
            "colorscale": [
             [
              0,
              "#0d0887"
             ],
             [
              0.1111111111111111,
              "#46039f"
             ],
             [
              0.2222222222222222,
              "#7201a8"
             ],
             [
              0.3333333333333333,
              "#9c179e"
             ],
             [
              0.4444444444444444,
              "#bd3786"
             ],
             [
              0.5555555555555556,
              "#d8576b"
             ],
             [
              0.6666666666666666,
              "#ed7953"
             ],
             [
              0.7777777777777778,
              "#fb9f3a"
             ],
             [
              0.8888888888888888,
              "#fdca26"
             ],
             [
              1,
              "#f0f921"
             ]
            ],
            "type": "contour"
           }
          ],
          "contourcarpet": [
           {
            "colorbar": {
             "outlinewidth": 0,
             "ticks": ""
            },
            "type": "contourcarpet"
           }
          ],
          "heatmap": [
           {
            "colorbar": {
             "outlinewidth": 0,
             "ticks": ""
            },
            "colorscale": [
             [
              0,
              "#0d0887"
             ],
             [
              0.1111111111111111,
              "#46039f"
             ],
             [
              0.2222222222222222,
              "#7201a8"
             ],
             [
              0.3333333333333333,
              "#9c179e"
             ],
             [
              0.4444444444444444,
              "#bd3786"
             ],
             [
              0.5555555555555556,
              "#d8576b"
             ],
             [
              0.6666666666666666,
              "#ed7953"
             ],
             [
              0.7777777777777778,
              "#fb9f3a"
             ],
             [
              0.8888888888888888,
              "#fdca26"
             ],
             [
              1,
              "#f0f921"
             ]
            ],
            "type": "heatmap"
           }
          ],
          "heatmapgl": [
           {
            "colorbar": {
             "outlinewidth": 0,
             "ticks": ""
            },
            "colorscale": [
             [
              0,
              "#0d0887"
             ],
             [
              0.1111111111111111,
              "#46039f"
             ],
             [
              0.2222222222222222,
              "#7201a8"
             ],
             [
              0.3333333333333333,
              "#9c179e"
             ],
             [
              0.4444444444444444,
              "#bd3786"
             ],
             [
              0.5555555555555556,
              "#d8576b"
             ],
             [
              0.6666666666666666,
              "#ed7953"
             ],
             [
              0.7777777777777778,
              "#fb9f3a"
             ],
             [
              0.8888888888888888,
              "#fdca26"
             ],
             [
              1,
              "#f0f921"
             ]
            ],
            "type": "heatmapgl"
           }
          ],
          "histogram": [
           {
            "marker": {
             "colorbar": {
              "outlinewidth": 0,
              "ticks": ""
             }
            },
            "type": "histogram"
           }
          ],
          "histogram2d": [
           {
            "colorbar": {
             "outlinewidth": 0,
             "ticks": ""
            },
            "colorscale": [
             [
              0,
              "#0d0887"
             ],
             [
              0.1111111111111111,
              "#46039f"
             ],
             [
              0.2222222222222222,
              "#7201a8"
             ],
             [
              0.3333333333333333,
              "#9c179e"
             ],
             [
              0.4444444444444444,
              "#bd3786"
             ],
             [
              0.5555555555555556,
              "#d8576b"
             ],
             [
              0.6666666666666666,
              "#ed7953"
             ],
             [
              0.7777777777777778,
              "#fb9f3a"
             ],
             [
              0.8888888888888888,
              "#fdca26"
             ],
             [
              1,
              "#f0f921"
             ]
            ],
            "type": "histogram2d"
           }
          ],
          "histogram2dcontour": [
           {
            "colorbar": {
             "outlinewidth": 0,
             "ticks": ""
            },
            "colorscale": [
             [
              0,
              "#0d0887"
             ],
             [
              0.1111111111111111,
              "#46039f"
             ],
             [
              0.2222222222222222,
              "#7201a8"
             ],
             [
              0.3333333333333333,
              "#9c179e"
             ],
             [
              0.4444444444444444,
              "#bd3786"
             ],
             [
              0.5555555555555556,
              "#d8576b"
             ],
             [
              0.6666666666666666,
              "#ed7953"
             ],
             [
              0.7777777777777778,
              "#fb9f3a"
             ],
             [
              0.8888888888888888,
              "#fdca26"
             ],
             [
              1,
              "#f0f921"
             ]
            ],
            "type": "histogram2dcontour"
           }
          ],
          "mesh3d": [
           {
            "colorbar": {
             "outlinewidth": 0,
             "ticks": ""
            },
            "type": "mesh3d"
           }
          ],
          "parcoords": [
           {
            "line": {
             "colorbar": {
              "outlinewidth": 0,
              "ticks": ""
             }
            },
            "type": "parcoords"
           }
          ],
          "pie": [
           {
            "automargin": true,
            "type": "pie"
           }
          ],
          "scatter": [
           {
            "marker": {
             "colorbar": {
              "outlinewidth": 0,
              "ticks": ""
             }
            },
            "type": "scatter"
           }
          ],
          "scatter3d": [
           {
            "line": {
             "colorbar": {
              "outlinewidth": 0,
              "ticks": ""
             }
            },
            "marker": {
             "colorbar": {
              "outlinewidth": 0,
              "ticks": ""
             }
            },
            "type": "scatter3d"
           }
          ],
          "scattercarpet": [
           {
            "marker": {
             "colorbar": {
              "outlinewidth": 0,
              "ticks": ""
             }
            },
            "type": "scattercarpet"
           }
          ],
          "scattergeo": [
           {
            "marker": {
             "colorbar": {
              "outlinewidth": 0,
              "ticks": ""
             }
            },
            "type": "scattergeo"
           }
          ],
          "scattergl": [
           {
            "marker": {
             "colorbar": {
              "outlinewidth": 0,
              "ticks": ""
             }
            },
            "type": "scattergl"
           }
          ],
          "scattermapbox": [
           {
            "marker": {
             "colorbar": {
              "outlinewidth": 0,
              "ticks": ""
             }
            },
            "type": "scattermapbox"
           }
          ],
          "scatterpolar": [
           {
            "marker": {
             "colorbar": {
              "outlinewidth": 0,
              "ticks": ""
             }
            },
            "type": "scatterpolar"
           }
          ],
          "scatterpolargl": [
           {
            "marker": {
             "colorbar": {
              "outlinewidth": 0,
              "ticks": ""
             }
            },
            "type": "scatterpolargl"
           }
          ],
          "scatterternary": [
           {
            "marker": {
             "colorbar": {
              "outlinewidth": 0,
              "ticks": ""
             }
            },
            "type": "scatterternary"
           }
          ],
          "surface": [
           {
            "colorbar": {
             "outlinewidth": 0,
             "ticks": ""
            },
            "colorscale": [
             [
              0,
              "#0d0887"
             ],
             [
              0.1111111111111111,
              "#46039f"
             ],
             [
              0.2222222222222222,
              "#7201a8"
             ],
             [
              0.3333333333333333,
              "#9c179e"
             ],
             [
              0.4444444444444444,
              "#bd3786"
             ],
             [
              0.5555555555555556,
              "#d8576b"
             ],
             [
              0.6666666666666666,
              "#ed7953"
             ],
             [
              0.7777777777777778,
              "#fb9f3a"
             ],
             [
              0.8888888888888888,
              "#fdca26"
             ],
             [
              1,
              "#f0f921"
             ]
            ],
            "type": "surface"
           }
          ],
          "table": [
           {
            "cells": {
             "fill": {
              "color": "#EBF0F8"
             },
             "line": {
              "color": "white"
             }
            },
            "header": {
             "fill": {
              "color": "#C8D4E3"
             },
             "line": {
              "color": "white"
             }
            },
            "type": "table"
           }
          ]
         },
         "layout": {
          "annotationdefaults": {
           "arrowcolor": "#2a3f5f",
           "arrowhead": 0,
           "arrowwidth": 1
          },
          "coloraxis": {
           "colorbar": {
            "outlinewidth": 0,
            "ticks": ""
           }
          },
          "colorscale": {
           "diverging": [
            [
             0,
             "#8e0152"
            ],
            [
             0.1,
             "#c51b7d"
            ],
            [
             0.2,
             "#de77ae"
            ],
            [
             0.3,
             "#f1b6da"
            ],
            [
             0.4,
             "#fde0ef"
            ],
            [
             0.5,
             "#f7f7f7"
            ],
            [
             0.6,
             "#e6f5d0"
            ],
            [
             0.7,
             "#b8e186"
            ],
            [
             0.8,
             "#7fbc41"
            ],
            [
             0.9,
             "#4d9221"
            ],
            [
             1,
             "#276419"
            ]
           ],
           "sequential": [
            [
             0,
             "#0d0887"
            ],
            [
             0.1111111111111111,
             "#46039f"
            ],
            [
             0.2222222222222222,
             "#7201a8"
            ],
            [
             0.3333333333333333,
             "#9c179e"
            ],
            [
             0.4444444444444444,
             "#bd3786"
            ],
            [
             0.5555555555555556,
             "#d8576b"
            ],
            [
             0.6666666666666666,
             "#ed7953"
            ],
            [
             0.7777777777777778,
             "#fb9f3a"
            ],
            [
             0.8888888888888888,
             "#fdca26"
            ],
            [
             1,
             "#f0f921"
            ]
           ],
           "sequentialminus": [
            [
             0,
             "#0d0887"
            ],
            [
             0.1111111111111111,
             "#46039f"
            ],
            [
             0.2222222222222222,
             "#7201a8"
            ],
            [
             0.3333333333333333,
             "#9c179e"
            ],
            [
             0.4444444444444444,
             "#bd3786"
            ],
            [
             0.5555555555555556,
             "#d8576b"
            ],
            [
             0.6666666666666666,
             "#ed7953"
            ],
            [
             0.7777777777777778,
             "#fb9f3a"
            ],
            [
             0.8888888888888888,
             "#fdca26"
            ],
            [
             1,
             "#f0f921"
            ]
           ]
          },
          "colorway": [
           "#636efa",
           "#EF553B",
           "#00cc96",
           "#ab63fa",
           "#FFA15A",
           "#19d3f3",
           "#FF6692",
           "#B6E880",
           "#FF97FF",
           "#FECB52"
          ],
          "font": {
           "color": "#2a3f5f"
          },
          "geo": {
           "bgcolor": "white",
           "lakecolor": "white",
           "landcolor": "#E5ECF6",
           "showlakes": true,
           "showland": true,
           "subunitcolor": "white"
          },
          "hoverlabel": {
           "align": "left"
          },
          "hovermode": "closest",
          "mapbox": {
           "style": "light"
          },
          "paper_bgcolor": "white",
          "plot_bgcolor": "#E5ECF6",
          "polar": {
           "angularaxis": {
            "gridcolor": "white",
            "linecolor": "white",
            "ticks": ""
           },
           "bgcolor": "#E5ECF6",
           "radialaxis": {
            "gridcolor": "white",
            "linecolor": "white",
            "ticks": ""
           }
          },
          "scene": {
           "xaxis": {
            "backgroundcolor": "#E5ECF6",
            "gridcolor": "white",
            "gridwidth": 2,
            "linecolor": "white",
            "showbackground": true,
            "ticks": "",
            "zerolinecolor": "white"
           },
           "yaxis": {
            "backgroundcolor": "#E5ECF6",
            "gridcolor": "white",
            "gridwidth": 2,
            "linecolor": "white",
            "showbackground": true,
            "ticks": "",
            "zerolinecolor": "white"
           },
           "zaxis": {
            "backgroundcolor": "#E5ECF6",
            "gridcolor": "white",
            "gridwidth": 2,
            "linecolor": "white",
            "showbackground": true,
            "ticks": "",
            "zerolinecolor": "white"
           }
          },
          "shapedefaults": {
           "line": {
            "color": "#2a3f5f"
           }
          },
          "ternary": {
           "aaxis": {
            "gridcolor": "white",
            "linecolor": "white",
            "ticks": ""
           },
           "baxis": {
            "gridcolor": "white",
            "linecolor": "white",
            "ticks": ""
           },
           "bgcolor": "#E5ECF6",
           "caxis": {
            "gridcolor": "white",
            "linecolor": "white",
            "ticks": ""
           }
          },
          "title": {
           "x": 0.05
          },
          "xaxis": {
           "automargin": true,
           "gridcolor": "white",
           "linecolor": "white",
           "ticks": "",
           "title": {
            "standoff": 15
           },
           "zerolinecolor": "white",
           "zerolinewidth": 2
          },
          "yaxis": {
           "automargin": true,
           "gridcolor": "white",
           "linecolor": "white",
           "ticks": "",
           "title": {
            "standoff": 15
           },
           "zerolinecolor": "white",
           "zerolinewidth": 2
          }
         }
        },
        "title": {
         "font": {
          "color": "#4D5663"
         }
        },
        "xaxis": {
         "gridcolor": "#E1E5ED",
         "showgrid": true,
         "tickfont": {
          "color": "#4D5663"
         },
         "title": {
          "font": {
           "color": "#4D5663"
          },
          "text": ""
         },
         "zerolinecolor": "#E1E5ED"
        },
        "yaxis": {
         "gridcolor": "#E1E5ED",
         "showgrid": true,
         "tickfont": {
          "color": "#4D5663"
         },
         "title": {
          "font": {
           "color": "#4D5663"
          },
          "text": ""
         },
         "zerolinecolor": "#E1E5ED"
        }
       }
      },
      "text/html": [
       "<div>\n",
       "        \n",
       "        \n",
       "            <div id=\"4bde0ab4-01ab-4ca5-b85f-6dcdca6719eb\" class=\"plotly-graph-div\" style=\"height:525px; width:100%;\"></div>\n",
       "            <script type=\"text/javascript\">\n",
       "                require([\"plotly\"], function(Plotly) {\n",
       "                    window.PLOTLYENV=window.PLOTLYENV || {};\n",
       "                    window.PLOTLYENV.BASE_URL='https://plot.ly';\n",
       "                    \n",
       "                if (document.getElementById(\"4bde0ab4-01ab-4ca5-b85f-6dcdca6719eb\")) {\n",
       "                    Plotly.newPlot(\n",
       "                        '4bde0ab4-01ab-4ca5-b85f-6dcdca6719eb',\n",
       "                        [{\"boxpoints\": false, \"line\": {\"width\": 1.3}, \"marker\": {\"color\": \"rgba(255, 153, 51, 1.0)\"}, \"name\": \"A\", \"orientation\": \"v\", \"type\": \"box\", \"y\": [-1.7664723391769375, 1.3723961024111873, -0.16862382412950433, -0.4686727100182148, 0.10524460974524735, -0.7962133829694761, -0.5298304180895901, 0.6146238526515427, 1.7292353993593634, 0.07182212081760649, 0.6684096748052933, -0.7800699149728171, 1.5417320664306207, 0.07871196129574386, -0.47912331954576354, 0.49497874036995887, -0.8365379495421281, 0.8100732064576514, 1.504386579851412, 1.3050146148625914, 0.2327163067386028, -0.311794801754074, 1.11803293083804, -0.2694022385891882, -1.9310046515278843, -0.7310345896030418, 0.05597051235353513, -0.2670042140271307, -1.6328456299792342, 1.6776349536213664, -0.8913226475416959, -0.20080795498403306, -2.0060384793844857, -0.16886522736983173, 0.025069872614478645, -2.7983998538120525, -0.8296821954277036, -1.9867158696502034, 0.2564426559057547, 0.050771092269586864, 0.06129118607457183, -1.4499164910285043, -0.7360201539756989, -1.2031929519207538, 1.5075211502660624, 0.9044128941163659, 2.784660416932731, 0.32705586003758896, -0.5137018289027601, -0.7574469128514296, -0.49514121798295785, -0.888912752461698, 1.1174340171108508, 1.907646220570275, -1.0537892813370076, 0.425646641425545, -0.7082382696496868, -0.25756424708664577, -0.3605967100447902, -0.9910768416671183, 0.6621518651077974, -0.3954043976512718, 0.44955446684650807, 1.0298175988968659, 0.10641679029381493, 0.9506947884212149, 0.3278939302509376, -1.0602297237402718, 0.11544492678947446, -1.0668802252218457, -1.9183668765571822, -0.8424470502410739, 1.2075751433374757, 0.7105708383905097, -0.3782733230042047, 0.7870014181532221, 0.08954649196791556, -1.166764582805965, 0.6212228154843119, 0.8308641409300191, -2.0347968071431044, 1.2253581412652095, -0.9215248386855428, 0.18688974053934473, 0.30853112042580283, 0.8420608730484123, -1.262211780112218, 0.11362895802530086, 0.62441011985385, -0.8495669500347244, -0.6409877413673586, 0.5746315825425063, -1.9814150215828208, 2.299270468997804, -0.5435018086035873, 0.47492251312272793, 0.34442197771751076, -1.6442326270930063, 0.4553135548589679, 0.4300313241505395]}, {\"boxpoints\": false, \"line\": {\"width\": 1.3}, \"marker\": {\"color\": \"rgba(55, 128, 191, 1.0)\"}, \"name\": \"B\", \"orientation\": \"v\", \"type\": \"box\", \"y\": [0.7256419508353439, 0.4891359318991245, -0.021446868697695354, 0.5699189969135365, 0.7989792641425312, -1.2851113711634663, 1.279248718804933, 0.4749243626656492, -1.1845154110032723, -1.9648371522917485, 0.5417860210162163, -0.05673910016335068, 0.0018623938866737526, 0.5927262435852061, 0.20216257918580935, 0.018492048888641987, -0.8520453035630274, -0.7248018007763332, 0.34726843746070557, 0.17253064301206017, -1.1819637870114659, -0.6291814509893625, 1.6199572666695972, 0.650039467695885, -0.7283871457040803, 1.4597335668062734, -0.36608342132309374, 0.1328269564616293, 0.7820912142809123, 1.1274247601021, -0.7002588967779936, -0.030942292689513824, -1.5490479787927922, -0.9642215465178909, -1.6446231055376166, -1.9487704013656038, 0.2694163481633915, -0.7433165541055985, -0.2861089515191114, -0.3708999899691444, -2.3375584256560025, 0.5012563493125995, 0.34715395702179985, 0.024256749847415444, -0.3312328565998601, -1.044843498615884, 0.31828001324412447, 1.7381146592719325, 0.3470207745920348, 0.41222825484031134, -0.24605492900340303, 1.5001702812430961, 0.15281977465056046, -1.164278703957203, -0.017260272587306055, 0.5073485068268082, -1.7104644016532617, 1.25380445233376, -0.1785525841039943, -0.1932178660774815, 0.6107610891492199, -0.4443632806386484, 1.7931890763040588, -1.1616309130455214, -0.8551089592882165, -1.3710997856428642, -0.6733777419252835, -1.2024844159213874, -0.3212272102990379, -0.7677522239136005, 0.7060261222801993, 0.7042806007704804, 2.2475715397569074, 1.7570001108621793, -0.3459760349655492, -0.07203276847413792, 1.3894267752811893, 0.044803610782237366, -0.04569620946576732, -0.19048353847167335, -0.6333030971864758, 1.0068296365388283, -2.729179981615213, 0.8230205577553504, -0.39756656509869287, 0.6253599249604785, -0.1371806460591855, -1.6587862639472124, -0.02175601899369613, -0.8234193356560962, -1.2165087892989863, -1.1186780154811298, 0.1259983219990328, 0.3721418360250379, 1.2980171824511955, 0.7596775122213181, -1.2705973080889903, -0.8090551467308078, -0.10521137722736196, -1.5136707297077323]}, {\"boxpoints\": false, \"line\": {\"width\": 1.3}, \"marker\": {\"color\": \"rgba(50, 171, 96, 1.0)\"}, \"name\": \"C\", \"orientation\": \"v\", \"type\": \"box\", \"y\": [1.24107014904874, -0.611240496227224, -1.2087856326271955, 0.007887977979965525, 0.45530406329591044, 0.9662102884582526, 0.16530206534505026, 0.018561415038707438, -0.5136745811377624, -0.10906323011831386, 0.6258065546348593, 1.2349310951818517, -0.23105097485187231, 3.125706384009117, -0.9049261842041133, 0.7571954881377901, -1.676623639083392, -0.9114029887249526, -1.075394381987722, -0.5893655249688883, 0.48947874751818854, 0.9988050355199353, 0.06320750148936695, 0.13870019395278757, -0.04222966403459234, -0.5597428400337586, -1.4146817083981773, -1.0182699125056986, -0.42133931455905155, -0.6369396776035443, -0.4125163879618978, -0.6488127386871908, -0.2127917661991761, -0.5080007599359846, 0.015526570223989147, -0.0068068158603496595, 0.9148513049044882, -0.327213992027883, -0.5415355368831904, -1.7043140658741291, 0.7754594628923063, -0.00021453980782884546, -0.4219142594508613, -1.647637289687369, 0.6780438674669387, 1.703715767681509, -0.2788109602508351, -1.0930397432676628, -0.15414641131908355, -1.601105095297968, 0.3320772914777862, 0.029595919526291262, -0.08838027805191064, -0.8366535047849263, -0.26316337428891723, -0.5671449249457002, -0.2721118679767741, 0.5189386804420562, -1.6582995800222964, 1.2631348079807885, 1.27666002021344, -0.8589550254243083, 0.46634531012107827, -1.257704038325947, 0.479138194580177, -0.8428621403839799, -1.7219608378986446, -1.931827582451364, 0.27815937470993274, -0.25578974988429726, -2.3154945600322225, -1.0088001199520606, 1.5674637203693342, 1.1621409912280656, 1.7729800459653005, -0.37893573922449547, -0.07613740258747217, 0.027891754870857734, -0.27095543985522147, -0.21814217413978765, 0.8843606153801192, 0.7159754465306131, 0.6384105233149503, 0.3141051976146513, 1.3342394514357405, -0.25979896763607424, 0.6941534813237661, -1.6428476965039251, 0.19340573682335543, -0.8684552363058707, -1.7020988665954402, -0.36646963519035697, 0.15204373823973857, -1.0137394735715417, 1.028017354715253, -0.12175412181320286, 0.7896643062570945, 1.198492264950016, 1.4254762802990666, -1.704416711083291]}, {\"boxpoints\": false, \"line\": {\"width\": 1.3}, \"marker\": {\"color\": \"rgba(128, 0, 128, 1.0)\"}, \"name\": \"D\", \"orientation\": \"v\", \"type\": \"box\", \"y\": [-0.2113011841916001, 1.5310440227332927, -0.3834137565189133, -1.7830575663441992, -0.09595931657541742, 1.8191570203135914, 0.6595738774636903, 0.5592695522698317, -0.642518908690727, 1.4710563233804466, 0.47865556748074345, -1.1589839076249726, 1.1137689782739313, -1.0505516785412163, -0.3636557457218735, -0.1530347712178531, -0.5608020883350007, 0.26166310724840885, 1.070306755332397, 0.18198486727131435, 1.2527157443894705, 0.22061429747230762, -0.2602262012224047, -1.0691121404414958, -0.6848232570932521, 0.8162589369960171, -0.7582059599396165, 0.4456582882933635, 1.1981958921037437, -0.0559637091670608, -0.8202289572408519, -1.2997836861662195, 0.4938121986847556, -0.8186303354719257, 0.8769007198929809, 0.2660485146731749, -1.2877287717588837, 0.3907351577803678, -1.0586545351939451, -1.0999050331881057, -1.1617514210615016, -1.0770061145053005, 0.46986897620852475, -0.9247312869991977, -0.2581198645729674, 0.7939542942469635, -0.7214464958466277, 0.11641094429099247, -0.733351978335377, -1.9611502880222196, 1.2551004661310663, -0.7922597826813551, -0.6896309349761818, -0.1404930061894985, 1.6472546239243409, -1.4612770935449146, 0.9993093632789172, -0.044446698278709854, 0.3671324429849293, 0.41654323547329597, 0.5563761670680994, -1.673864070885013, -1.4423548692148238, -1.4140915067667619, -1.326567080833016, 0.4433836803039138, 1.286715647535771, -1.3648208324013256, 0.3619462293342259, 0.3726200050044374, -1.3024183272749836, 0.5016568745452399, -1.098803926726156, 0.7330841032859847, -1.5488356761348343, 1.2034589978405723, 0.12042373705812841, 0.05368522072003816, -0.543273060365583, 0.2803483211856537, -0.6396496703817736, -0.1434764378346883, -1.5814796382610632, 0.16810012805924957, -1.498112667423833, 1.4583129050451265, -0.08148007011420712, 1.0686443906494367, 0.8130177247945064, -1.5364481333517526, -0.07468533410211131, 1.2516811303215438, 0.02020116203176951, 0.9749727712415192, -0.44058042148343957, -1.0516806951025282, -0.4696546419268447, -0.046152043744718825, 0.46770062083353575, -0.9913931075320418]}],\n",
       "                        {\"legend\": {\"bgcolor\": \"#F5F6F9\", \"font\": {\"color\": \"#4D5663\"}}, \"paper_bgcolor\": \"#F5F6F9\", \"plot_bgcolor\": \"#F5F6F9\", \"template\": {\"data\": {\"bar\": [{\"error_x\": {\"color\": \"#2a3f5f\"}, \"error_y\": {\"color\": \"#2a3f5f\"}, \"marker\": {\"line\": {\"color\": \"#E5ECF6\", \"width\": 0.5}}, \"type\": \"bar\"}], \"barpolar\": [{\"marker\": {\"line\": {\"color\": \"#E5ECF6\", \"width\": 0.5}}, \"type\": \"barpolar\"}], \"carpet\": [{\"aaxis\": {\"endlinecolor\": \"#2a3f5f\", \"gridcolor\": \"white\", \"linecolor\": \"white\", \"minorgridcolor\": \"white\", \"startlinecolor\": \"#2a3f5f\"}, \"baxis\": {\"endlinecolor\": \"#2a3f5f\", \"gridcolor\": \"white\", \"linecolor\": \"white\", \"minorgridcolor\": \"white\", \"startlinecolor\": \"#2a3f5f\"}, \"type\": \"carpet\"}], \"choropleth\": [{\"colorbar\": {\"outlinewidth\": 0, \"ticks\": \"\"}, \"type\": \"choropleth\"}], \"contour\": [{\"colorbar\": {\"outlinewidth\": 0, \"ticks\": \"\"}, \"colorscale\": [[0.0, \"#0d0887\"], [0.1111111111111111, \"#46039f\"], [0.2222222222222222, \"#7201a8\"], [0.3333333333333333, \"#9c179e\"], [0.4444444444444444, \"#bd3786\"], [0.5555555555555556, \"#d8576b\"], [0.6666666666666666, \"#ed7953\"], [0.7777777777777778, \"#fb9f3a\"], [0.8888888888888888, \"#fdca26\"], [1.0, \"#f0f921\"]], \"type\": \"contour\"}], \"contourcarpet\": [{\"colorbar\": {\"outlinewidth\": 0, \"ticks\": \"\"}, \"type\": \"contourcarpet\"}], \"heatmap\": [{\"colorbar\": {\"outlinewidth\": 0, \"ticks\": \"\"}, \"colorscale\": [[0.0, \"#0d0887\"], [0.1111111111111111, \"#46039f\"], [0.2222222222222222, \"#7201a8\"], [0.3333333333333333, \"#9c179e\"], [0.4444444444444444, \"#bd3786\"], [0.5555555555555556, \"#d8576b\"], [0.6666666666666666, \"#ed7953\"], [0.7777777777777778, \"#fb9f3a\"], [0.8888888888888888, \"#fdca26\"], [1.0, \"#f0f921\"]], \"type\": \"heatmap\"}], \"heatmapgl\": [{\"colorbar\": {\"outlinewidth\": 0, \"ticks\": \"\"}, \"colorscale\": [[0.0, \"#0d0887\"], [0.1111111111111111, \"#46039f\"], [0.2222222222222222, \"#7201a8\"], [0.3333333333333333, \"#9c179e\"], [0.4444444444444444, \"#bd3786\"], [0.5555555555555556, \"#d8576b\"], [0.6666666666666666, \"#ed7953\"], [0.7777777777777778, \"#fb9f3a\"], [0.8888888888888888, \"#fdca26\"], [1.0, \"#f0f921\"]], \"type\": \"heatmapgl\"}], \"histogram\": [{\"marker\": {\"colorbar\": {\"outlinewidth\": 0, \"ticks\": \"\"}}, \"type\": \"histogram\"}], \"histogram2d\": [{\"colorbar\": {\"outlinewidth\": 0, \"ticks\": \"\"}, \"colorscale\": [[0.0, \"#0d0887\"], [0.1111111111111111, \"#46039f\"], [0.2222222222222222, \"#7201a8\"], [0.3333333333333333, \"#9c179e\"], [0.4444444444444444, \"#bd3786\"], [0.5555555555555556, \"#d8576b\"], [0.6666666666666666, \"#ed7953\"], [0.7777777777777778, \"#fb9f3a\"], [0.8888888888888888, \"#fdca26\"], [1.0, \"#f0f921\"]], \"type\": \"histogram2d\"}], \"histogram2dcontour\": [{\"colorbar\": {\"outlinewidth\": 0, \"ticks\": \"\"}, \"colorscale\": [[0.0, \"#0d0887\"], [0.1111111111111111, \"#46039f\"], [0.2222222222222222, \"#7201a8\"], [0.3333333333333333, \"#9c179e\"], [0.4444444444444444, \"#bd3786\"], [0.5555555555555556, \"#d8576b\"], [0.6666666666666666, \"#ed7953\"], [0.7777777777777778, \"#fb9f3a\"], [0.8888888888888888, \"#fdca26\"], [1.0, \"#f0f921\"]], \"type\": \"histogram2dcontour\"}], \"mesh3d\": [{\"colorbar\": {\"outlinewidth\": 0, \"ticks\": \"\"}, \"type\": \"mesh3d\"}], \"parcoords\": [{\"line\": {\"colorbar\": {\"outlinewidth\": 0, \"ticks\": \"\"}}, \"type\": \"parcoords\"}], \"pie\": [{\"automargin\": true, \"type\": \"pie\"}], \"scatter\": [{\"marker\": {\"colorbar\": {\"outlinewidth\": 0, \"ticks\": \"\"}}, \"type\": \"scatter\"}], \"scatter3d\": [{\"line\": {\"colorbar\": {\"outlinewidth\": 0, \"ticks\": \"\"}}, \"marker\": {\"colorbar\": {\"outlinewidth\": 0, \"ticks\": \"\"}}, \"type\": \"scatter3d\"}], \"scattercarpet\": [{\"marker\": {\"colorbar\": {\"outlinewidth\": 0, \"ticks\": \"\"}}, \"type\": \"scattercarpet\"}], \"scattergeo\": [{\"marker\": {\"colorbar\": {\"outlinewidth\": 0, \"ticks\": \"\"}}, \"type\": \"scattergeo\"}], \"scattergl\": [{\"marker\": {\"colorbar\": {\"outlinewidth\": 0, \"ticks\": \"\"}}, \"type\": \"scattergl\"}], \"scattermapbox\": [{\"marker\": {\"colorbar\": {\"outlinewidth\": 0, \"ticks\": \"\"}}, \"type\": \"scattermapbox\"}], \"scatterpolar\": [{\"marker\": {\"colorbar\": {\"outlinewidth\": 0, \"ticks\": \"\"}}, \"type\": \"scatterpolar\"}], \"scatterpolargl\": [{\"marker\": {\"colorbar\": {\"outlinewidth\": 0, \"ticks\": \"\"}}, \"type\": \"scatterpolargl\"}], \"scatterternary\": [{\"marker\": {\"colorbar\": {\"outlinewidth\": 0, \"ticks\": \"\"}}, \"type\": \"scatterternary\"}], \"surface\": [{\"colorbar\": {\"outlinewidth\": 0, \"ticks\": \"\"}, \"colorscale\": [[0.0, \"#0d0887\"], [0.1111111111111111, \"#46039f\"], [0.2222222222222222, \"#7201a8\"], [0.3333333333333333, \"#9c179e\"], [0.4444444444444444, \"#bd3786\"], [0.5555555555555556, \"#d8576b\"], [0.6666666666666666, \"#ed7953\"], [0.7777777777777778, \"#fb9f3a\"], [0.8888888888888888, \"#fdca26\"], [1.0, \"#f0f921\"]], \"type\": \"surface\"}], \"table\": [{\"cells\": {\"fill\": {\"color\": \"#EBF0F8\"}, \"line\": {\"color\": \"white\"}}, \"header\": {\"fill\": {\"color\": \"#C8D4E3\"}, \"line\": {\"color\": \"white\"}}, \"type\": \"table\"}]}, \"layout\": {\"annotationdefaults\": {\"arrowcolor\": \"#2a3f5f\", \"arrowhead\": 0, \"arrowwidth\": 1}, \"coloraxis\": {\"colorbar\": {\"outlinewidth\": 0, \"ticks\": \"\"}}, \"colorscale\": {\"diverging\": [[0, \"#8e0152\"], [0.1, \"#c51b7d\"], [0.2, \"#de77ae\"], [0.3, \"#f1b6da\"], [0.4, \"#fde0ef\"], [0.5, \"#f7f7f7\"], [0.6, \"#e6f5d0\"], [0.7, \"#b8e186\"], [0.8, \"#7fbc41\"], [0.9, \"#4d9221\"], [1, \"#276419\"]], \"sequential\": [[0.0, \"#0d0887\"], [0.1111111111111111, \"#46039f\"], [0.2222222222222222, \"#7201a8\"], [0.3333333333333333, \"#9c179e\"], [0.4444444444444444, \"#bd3786\"], [0.5555555555555556, \"#d8576b\"], [0.6666666666666666, \"#ed7953\"], [0.7777777777777778, \"#fb9f3a\"], [0.8888888888888888, \"#fdca26\"], [1.0, \"#f0f921\"]], \"sequentialminus\": [[0.0, \"#0d0887\"], [0.1111111111111111, \"#46039f\"], [0.2222222222222222, \"#7201a8\"], [0.3333333333333333, \"#9c179e\"], [0.4444444444444444, \"#bd3786\"], [0.5555555555555556, \"#d8576b\"], [0.6666666666666666, \"#ed7953\"], [0.7777777777777778, \"#fb9f3a\"], [0.8888888888888888, \"#fdca26\"], [1.0, \"#f0f921\"]]}, \"colorway\": [\"#636efa\", \"#EF553B\", \"#00cc96\", \"#ab63fa\", \"#FFA15A\", \"#19d3f3\", \"#FF6692\", \"#B6E880\", \"#FF97FF\", \"#FECB52\"], \"font\": {\"color\": \"#2a3f5f\"}, \"geo\": {\"bgcolor\": \"white\", \"lakecolor\": \"white\", \"landcolor\": \"#E5ECF6\", \"showlakes\": true, \"showland\": true, \"subunitcolor\": \"white\"}, \"hoverlabel\": {\"align\": \"left\"}, \"hovermode\": \"closest\", \"mapbox\": {\"style\": \"light\"}, \"paper_bgcolor\": \"white\", \"plot_bgcolor\": \"#E5ECF6\", \"polar\": {\"angularaxis\": {\"gridcolor\": \"white\", \"linecolor\": \"white\", \"ticks\": \"\"}, \"bgcolor\": \"#E5ECF6\", \"radialaxis\": {\"gridcolor\": \"white\", \"linecolor\": \"white\", \"ticks\": \"\"}}, \"scene\": {\"xaxis\": {\"backgroundcolor\": \"#E5ECF6\", \"gridcolor\": \"white\", \"gridwidth\": 2, \"linecolor\": \"white\", \"showbackground\": true, \"ticks\": \"\", \"zerolinecolor\": \"white\"}, \"yaxis\": {\"backgroundcolor\": \"#E5ECF6\", \"gridcolor\": \"white\", \"gridwidth\": 2, \"linecolor\": \"white\", \"showbackground\": true, \"ticks\": \"\", \"zerolinecolor\": \"white\"}, \"zaxis\": {\"backgroundcolor\": \"#E5ECF6\", \"gridcolor\": \"white\", \"gridwidth\": 2, \"linecolor\": \"white\", \"showbackground\": true, \"ticks\": \"\", \"zerolinecolor\": \"white\"}}, \"shapedefaults\": {\"line\": {\"color\": \"#2a3f5f\"}}, \"ternary\": {\"aaxis\": {\"gridcolor\": \"white\", \"linecolor\": \"white\", \"ticks\": \"\"}, \"baxis\": {\"gridcolor\": \"white\", \"linecolor\": \"white\", \"ticks\": \"\"}, \"bgcolor\": \"#E5ECF6\", \"caxis\": {\"gridcolor\": \"white\", \"linecolor\": \"white\", \"ticks\": \"\"}}, \"title\": {\"x\": 0.05}, \"xaxis\": {\"automargin\": true, \"gridcolor\": \"white\", \"linecolor\": \"white\", \"ticks\": \"\", \"title\": {\"standoff\": 15}, \"zerolinecolor\": \"white\", \"zerolinewidth\": 2}, \"yaxis\": {\"automargin\": true, \"gridcolor\": \"white\", \"linecolor\": \"white\", \"ticks\": \"\", \"title\": {\"standoff\": 15}, \"zerolinecolor\": \"white\", \"zerolinewidth\": 2}}}, \"title\": {\"font\": {\"color\": \"#4D5663\"}}, \"xaxis\": {\"gridcolor\": \"#E1E5ED\", \"showgrid\": true, \"tickfont\": {\"color\": \"#4D5663\"}, \"title\": {\"font\": {\"color\": \"#4D5663\"}, \"text\": \"\"}, \"zerolinecolor\": \"#E1E5ED\"}, \"yaxis\": {\"gridcolor\": \"#E1E5ED\", \"showgrid\": true, \"tickfont\": {\"color\": \"#4D5663\"}, \"title\": {\"font\": {\"color\": \"#4D5663\"}, \"text\": \"\"}, \"zerolinecolor\": \"#E1E5ED\"}},\n",
       "                        {\"showLink\": true, \"linkText\": \"Export to plot.ly\", \"plotlyServerURL\": \"https://plot.ly\", \"responsive\": true}\n",
       "                    ).then(function(){\n",
       "                            \n",
       "var gd = document.getElementById('4bde0ab4-01ab-4ca5-b85f-6dcdca6719eb');\n",
       "var x = new MutationObserver(function (mutations, observer) {{\n",
       "        var display = window.getComputedStyle(gd).display;\n",
       "        if (!display || display === 'none') {{\n",
       "            console.log([gd, 'removed!']);\n",
       "            Plotly.purge(gd);\n",
       "            observer.disconnect();\n",
       "        }}\n",
       "}});\n",
       "\n",
       "// Listen for the removal of the full notebook cells\n",
       "var notebookContainer = gd.closest('#notebook-container');\n",
       "if (notebookContainer) {{\n",
       "    x.observe(notebookContainer, {childList: true});\n",
       "}}\n",
       "\n",
       "// Listen for the clearing of the current output cell\n",
       "var outputEl = gd.closest('.output');\n",
       "if (outputEl) {{\n",
       "    x.observe(outputEl, {childList: true});\n",
       "}}\n",
       "\n",
       "                        })\n",
       "                };\n",
       "                });\n",
       "            </script>\n",
       "        </div>"
      ]
     },
     "metadata": {},
     "output_type": "display_data"
    }
   ],
   "source": [
    "df.iplot(kind='box')"
   ]
  },
  {
   "cell_type": "markdown",
   "metadata": {},
   "source": [
    "## 3d Surface"
   ]
  },
  {
   "cell_type": "code",
   "execution_count": 22,
   "metadata": {},
   "outputs": [
    {
     "data": {
      "application/vnd.plotly.v1+json": {
       "config": {
        "linkText": "Export to plot.ly",
        "plotlyServerURL": "https://plot.ly",
        "showLink": true
       },
       "data": [
        {
         "colorscale": [
          [
           0,
           "rgb(165,0,38)"
          ],
          [
           0.1,
           "rgb(215,48,39)"
          ],
          [
           0.2,
           "rgb(244,109,67)"
          ],
          [
           0.3,
           "rgb(253,174,97)"
          ],
          [
           0.4,
           "rgb(254,224,144)"
          ],
          [
           0.5,
           "rgb(255,255,191)"
          ],
          [
           0.6,
           "rgb(224,243,248)"
          ],
          [
           0.7,
           "rgb(171,217,233)"
          ],
          [
           0.8,
           "rgb(116,173,209)"
          ],
          [
           0.9,
           "rgb(69,117,180)"
          ],
          [
           1,
           "rgb(49,54,149)"
          ]
         ],
         "type": "surface",
         "x": [
          0,
          1,
          2,
          3,
          4
         ],
         "y": [
          "x",
          "y",
          "z"
         ],
         "z": [
          [
           1,
           2,
           3,
           4,
           5
          ],
          [
           10,
           20,
           30,
           20,
           10
          ],
          [
           5,
           4,
           3,
           2,
           1
          ]
         ]
        }
       ],
       "layout": {
        "legend": {
         "bgcolor": "#F5F6F9",
         "font": {
          "color": "#4D5663"
         }
        },
        "paper_bgcolor": "#F5F6F9",
        "plot_bgcolor": "#F5F6F9",
        "template": {
         "data": {
          "bar": [
           {
            "error_x": {
             "color": "#2a3f5f"
            },
            "error_y": {
             "color": "#2a3f5f"
            },
            "marker": {
             "line": {
              "color": "#E5ECF6",
              "width": 0.5
             }
            },
            "type": "bar"
           }
          ],
          "barpolar": [
           {
            "marker": {
             "line": {
              "color": "#E5ECF6",
              "width": 0.5
             }
            },
            "type": "barpolar"
           }
          ],
          "carpet": [
           {
            "aaxis": {
             "endlinecolor": "#2a3f5f",
             "gridcolor": "white",
             "linecolor": "white",
             "minorgridcolor": "white",
             "startlinecolor": "#2a3f5f"
            },
            "baxis": {
             "endlinecolor": "#2a3f5f",
             "gridcolor": "white",
             "linecolor": "white",
             "minorgridcolor": "white",
             "startlinecolor": "#2a3f5f"
            },
            "type": "carpet"
           }
          ],
          "choropleth": [
           {
            "colorbar": {
             "outlinewidth": 0,
             "ticks": ""
            },
            "type": "choropleth"
           }
          ],
          "contour": [
           {
            "colorbar": {
             "outlinewidth": 0,
             "ticks": ""
            },
            "colorscale": [
             [
              0,
              "#0d0887"
             ],
             [
              0.1111111111111111,
              "#46039f"
             ],
             [
              0.2222222222222222,
              "#7201a8"
             ],
             [
              0.3333333333333333,
              "#9c179e"
             ],
             [
              0.4444444444444444,
              "#bd3786"
             ],
             [
              0.5555555555555556,
              "#d8576b"
             ],
             [
              0.6666666666666666,
              "#ed7953"
             ],
             [
              0.7777777777777778,
              "#fb9f3a"
             ],
             [
              0.8888888888888888,
              "#fdca26"
             ],
             [
              1,
              "#f0f921"
             ]
            ],
            "type": "contour"
           }
          ],
          "contourcarpet": [
           {
            "colorbar": {
             "outlinewidth": 0,
             "ticks": ""
            },
            "type": "contourcarpet"
           }
          ],
          "heatmap": [
           {
            "colorbar": {
             "outlinewidth": 0,
             "ticks": ""
            },
            "colorscale": [
             [
              0,
              "#0d0887"
             ],
             [
              0.1111111111111111,
              "#46039f"
             ],
             [
              0.2222222222222222,
              "#7201a8"
             ],
             [
              0.3333333333333333,
              "#9c179e"
             ],
             [
              0.4444444444444444,
              "#bd3786"
             ],
             [
              0.5555555555555556,
              "#d8576b"
             ],
             [
              0.6666666666666666,
              "#ed7953"
             ],
             [
              0.7777777777777778,
              "#fb9f3a"
             ],
             [
              0.8888888888888888,
              "#fdca26"
             ],
             [
              1,
              "#f0f921"
             ]
            ],
            "type": "heatmap"
           }
          ],
          "heatmapgl": [
           {
            "colorbar": {
             "outlinewidth": 0,
             "ticks": ""
            },
            "colorscale": [
             [
              0,
              "#0d0887"
             ],
             [
              0.1111111111111111,
              "#46039f"
             ],
             [
              0.2222222222222222,
              "#7201a8"
             ],
             [
              0.3333333333333333,
              "#9c179e"
             ],
             [
              0.4444444444444444,
              "#bd3786"
             ],
             [
              0.5555555555555556,
              "#d8576b"
             ],
             [
              0.6666666666666666,
              "#ed7953"
             ],
             [
              0.7777777777777778,
              "#fb9f3a"
             ],
             [
              0.8888888888888888,
              "#fdca26"
             ],
             [
              1,
              "#f0f921"
             ]
            ],
            "type": "heatmapgl"
           }
          ],
          "histogram": [
           {
            "marker": {
             "colorbar": {
              "outlinewidth": 0,
              "ticks": ""
             }
            },
            "type": "histogram"
           }
          ],
          "histogram2d": [
           {
            "colorbar": {
             "outlinewidth": 0,
             "ticks": ""
            },
            "colorscale": [
             [
              0,
              "#0d0887"
             ],
             [
              0.1111111111111111,
              "#46039f"
             ],
             [
              0.2222222222222222,
              "#7201a8"
             ],
             [
              0.3333333333333333,
              "#9c179e"
             ],
             [
              0.4444444444444444,
              "#bd3786"
             ],
             [
              0.5555555555555556,
              "#d8576b"
             ],
             [
              0.6666666666666666,
              "#ed7953"
             ],
             [
              0.7777777777777778,
              "#fb9f3a"
             ],
             [
              0.8888888888888888,
              "#fdca26"
             ],
             [
              1,
              "#f0f921"
             ]
            ],
            "type": "histogram2d"
           }
          ],
          "histogram2dcontour": [
           {
            "colorbar": {
             "outlinewidth": 0,
             "ticks": ""
            },
            "colorscale": [
             [
              0,
              "#0d0887"
             ],
             [
              0.1111111111111111,
              "#46039f"
             ],
             [
              0.2222222222222222,
              "#7201a8"
             ],
             [
              0.3333333333333333,
              "#9c179e"
             ],
             [
              0.4444444444444444,
              "#bd3786"
             ],
             [
              0.5555555555555556,
              "#d8576b"
             ],
             [
              0.6666666666666666,
              "#ed7953"
             ],
             [
              0.7777777777777778,
              "#fb9f3a"
             ],
             [
              0.8888888888888888,
              "#fdca26"
             ],
             [
              1,
              "#f0f921"
             ]
            ],
            "type": "histogram2dcontour"
           }
          ],
          "mesh3d": [
           {
            "colorbar": {
             "outlinewidth": 0,
             "ticks": ""
            },
            "type": "mesh3d"
           }
          ],
          "parcoords": [
           {
            "line": {
             "colorbar": {
              "outlinewidth": 0,
              "ticks": ""
             }
            },
            "type": "parcoords"
           }
          ],
          "pie": [
           {
            "automargin": true,
            "type": "pie"
           }
          ],
          "scatter": [
           {
            "marker": {
             "colorbar": {
              "outlinewidth": 0,
              "ticks": ""
             }
            },
            "type": "scatter"
           }
          ],
          "scatter3d": [
           {
            "line": {
             "colorbar": {
              "outlinewidth": 0,
              "ticks": ""
             }
            },
            "marker": {
             "colorbar": {
              "outlinewidth": 0,
              "ticks": ""
             }
            },
            "type": "scatter3d"
           }
          ],
          "scattercarpet": [
           {
            "marker": {
             "colorbar": {
              "outlinewidth": 0,
              "ticks": ""
             }
            },
            "type": "scattercarpet"
           }
          ],
          "scattergeo": [
           {
            "marker": {
             "colorbar": {
              "outlinewidth": 0,
              "ticks": ""
             }
            },
            "type": "scattergeo"
           }
          ],
          "scattergl": [
           {
            "marker": {
             "colorbar": {
              "outlinewidth": 0,
              "ticks": ""
             }
            },
            "type": "scattergl"
           }
          ],
          "scattermapbox": [
           {
            "marker": {
             "colorbar": {
              "outlinewidth": 0,
              "ticks": ""
             }
            },
            "type": "scattermapbox"
           }
          ],
          "scatterpolar": [
           {
            "marker": {
             "colorbar": {
              "outlinewidth": 0,
              "ticks": ""
             }
            },
            "type": "scatterpolar"
           }
          ],
          "scatterpolargl": [
           {
            "marker": {
             "colorbar": {
              "outlinewidth": 0,
              "ticks": ""
             }
            },
            "type": "scatterpolargl"
           }
          ],
          "scatterternary": [
           {
            "marker": {
             "colorbar": {
              "outlinewidth": 0,
              "ticks": ""
             }
            },
            "type": "scatterternary"
           }
          ],
          "surface": [
           {
            "colorbar": {
             "outlinewidth": 0,
             "ticks": ""
            },
            "colorscale": [
             [
              0,
              "#0d0887"
             ],
             [
              0.1111111111111111,
              "#46039f"
             ],
             [
              0.2222222222222222,
              "#7201a8"
             ],
             [
              0.3333333333333333,
              "#9c179e"
             ],
             [
              0.4444444444444444,
              "#bd3786"
             ],
             [
              0.5555555555555556,
              "#d8576b"
             ],
             [
              0.6666666666666666,
              "#ed7953"
             ],
             [
              0.7777777777777778,
              "#fb9f3a"
             ],
             [
              0.8888888888888888,
              "#fdca26"
             ],
             [
              1,
              "#f0f921"
             ]
            ],
            "type": "surface"
           }
          ],
          "table": [
           {
            "cells": {
             "fill": {
              "color": "#EBF0F8"
             },
             "line": {
              "color": "white"
             }
            },
            "header": {
             "fill": {
              "color": "#C8D4E3"
             },
             "line": {
              "color": "white"
             }
            },
            "type": "table"
           }
          ]
         },
         "layout": {
          "annotationdefaults": {
           "arrowcolor": "#2a3f5f",
           "arrowhead": 0,
           "arrowwidth": 1
          },
          "coloraxis": {
           "colorbar": {
            "outlinewidth": 0,
            "ticks": ""
           }
          },
          "colorscale": {
           "diverging": [
            [
             0,
             "#8e0152"
            ],
            [
             0.1,
             "#c51b7d"
            ],
            [
             0.2,
             "#de77ae"
            ],
            [
             0.3,
             "#f1b6da"
            ],
            [
             0.4,
             "#fde0ef"
            ],
            [
             0.5,
             "#f7f7f7"
            ],
            [
             0.6,
             "#e6f5d0"
            ],
            [
             0.7,
             "#b8e186"
            ],
            [
             0.8,
             "#7fbc41"
            ],
            [
             0.9,
             "#4d9221"
            ],
            [
             1,
             "#276419"
            ]
           ],
           "sequential": [
            [
             0,
             "#0d0887"
            ],
            [
             0.1111111111111111,
             "#46039f"
            ],
            [
             0.2222222222222222,
             "#7201a8"
            ],
            [
             0.3333333333333333,
             "#9c179e"
            ],
            [
             0.4444444444444444,
             "#bd3786"
            ],
            [
             0.5555555555555556,
             "#d8576b"
            ],
            [
             0.6666666666666666,
             "#ed7953"
            ],
            [
             0.7777777777777778,
             "#fb9f3a"
            ],
            [
             0.8888888888888888,
             "#fdca26"
            ],
            [
             1,
             "#f0f921"
            ]
           ],
           "sequentialminus": [
            [
             0,
             "#0d0887"
            ],
            [
             0.1111111111111111,
             "#46039f"
            ],
            [
             0.2222222222222222,
             "#7201a8"
            ],
            [
             0.3333333333333333,
             "#9c179e"
            ],
            [
             0.4444444444444444,
             "#bd3786"
            ],
            [
             0.5555555555555556,
             "#d8576b"
            ],
            [
             0.6666666666666666,
             "#ed7953"
            ],
            [
             0.7777777777777778,
             "#fb9f3a"
            ],
            [
             0.8888888888888888,
             "#fdca26"
            ],
            [
             1,
             "#f0f921"
            ]
           ]
          },
          "colorway": [
           "#636efa",
           "#EF553B",
           "#00cc96",
           "#ab63fa",
           "#FFA15A",
           "#19d3f3",
           "#FF6692",
           "#B6E880",
           "#FF97FF",
           "#FECB52"
          ],
          "font": {
           "color": "#2a3f5f"
          },
          "geo": {
           "bgcolor": "white",
           "lakecolor": "white",
           "landcolor": "#E5ECF6",
           "showlakes": true,
           "showland": true,
           "subunitcolor": "white"
          },
          "hoverlabel": {
           "align": "left"
          },
          "hovermode": "closest",
          "mapbox": {
           "style": "light"
          },
          "paper_bgcolor": "white",
          "plot_bgcolor": "#E5ECF6",
          "polar": {
           "angularaxis": {
            "gridcolor": "white",
            "linecolor": "white",
            "ticks": ""
           },
           "bgcolor": "#E5ECF6",
           "radialaxis": {
            "gridcolor": "white",
            "linecolor": "white",
            "ticks": ""
           }
          },
          "scene": {
           "xaxis": {
            "backgroundcolor": "#E5ECF6",
            "gridcolor": "white",
            "gridwidth": 2,
            "linecolor": "white",
            "showbackground": true,
            "ticks": "",
            "zerolinecolor": "white"
           },
           "yaxis": {
            "backgroundcolor": "#E5ECF6",
            "gridcolor": "white",
            "gridwidth": 2,
            "linecolor": "white",
            "showbackground": true,
            "ticks": "",
            "zerolinecolor": "white"
           },
           "zaxis": {
            "backgroundcolor": "#E5ECF6",
            "gridcolor": "white",
            "gridwidth": 2,
            "linecolor": "white",
            "showbackground": true,
            "ticks": "",
            "zerolinecolor": "white"
           }
          },
          "shapedefaults": {
           "line": {
            "color": "#2a3f5f"
           }
          },
          "ternary": {
           "aaxis": {
            "gridcolor": "white",
            "linecolor": "white",
            "ticks": ""
           },
           "baxis": {
            "gridcolor": "white",
            "linecolor": "white",
            "ticks": ""
           },
           "bgcolor": "#E5ECF6",
           "caxis": {
            "gridcolor": "white",
            "linecolor": "white",
            "ticks": ""
           }
          },
          "title": {
           "x": 0.05
          },
          "xaxis": {
           "automargin": true,
           "gridcolor": "white",
           "linecolor": "white",
           "ticks": "",
           "title": {
            "standoff": 15
           },
           "zerolinecolor": "white",
           "zerolinewidth": 2
          },
          "yaxis": {
           "automargin": true,
           "gridcolor": "white",
           "linecolor": "white",
           "ticks": "",
           "title": {
            "standoff": 15
           },
           "zerolinecolor": "white",
           "zerolinewidth": 2
          }
         }
        },
        "title": {
         "font": {
          "color": "#4D5663"
         }
        },
        "xaxis": {
         "gridcolor": "#E1E5ED",
         "showgrid": true,
         "tickfont": {
          "color": "#4D5663"
         },
         "title": {
          "font": {
           "color": "#4D5663"
          },
          "text": ""
         },
         "zerolinecolor": "#E1E5ED"
        },
        "yaxis": {
         "gridcolor": "#E1E5ED",
         "showgrid": true,
         "tickfont": {
          "color": "#4D5663"
         },
         "title": {
          "font": {
           "color": "#4D5663"
          },
          "text": ""
         },
         "zerolinecolor": "#E1E5ED"
        }
       }
      },
      "text/html": [
       "<div>\n",
       "        \n",
       "        \n",
       "            <div id=\"1b9b595e-f2f4-400b-aa7e-279a6d516596\" class=\"plotly-graph-div\" style=\"height:525px; width:100%;\"></div>\n",
       "            <script type=\"text/javascript\">\n",
       "                require([\"plotly\"], function(Plotly) {\n",
       "                    window.PLOTLYENV=window.PLOTLYENV || {};\n",
       "                    window.PLOTLYENV.BASE_URL='https://plot.ly';\n",
       "                    \n",
       "                if (document.getElementById(\"1b9b595e-f2f4-400b-aa7e-279a6d516596\")) {\n",
       "                    Plotly.newPlot(\n",
       "                        '1b9b595e-f2f4-400b-aa7e-279a6d516596',\n",
       "                        [{\"colorscale\": [[0.0, \"rgb(165,0,38)\"], [0.1, \"rgb(215,48,39)\"], [0.2, \"rgb(244,109,67)\"], [0.3, \"rgb(253,174,97)\"], [0.4, \"rgb(254,224,144)\"], [0.5, \"rgb(255,255,191)\"], [0.6, \"rgb(224,243,248)\"], [0.7, \"rgb(171,217,233)\"], [0.8, \"rgb(116,173,209)\"], [0.9, \"rgb(69,117,180)\"], [1.0, \"rgb(49,54,149)\"]], \"type\": \"surface\", \"x\": [0, 1, 2, 3, 4], \"y\": [\"x\", \"y\", \"z\"], \"z\": [[1, 2, 3, 4, 5], [10, 20, 30, 20, 10], [5, 4, 3, 2, 1]]}],\n",
       "                        {\"legend\": {\"bgcolor\": \"#F5F6F9\", \"font\": {\"color\": \"#4D5663\"}}, \"paper_bgcolor\": \"#F5F6F9\", \"plot_bgcolor\": \"#F5F6F9\", \"template\": {\"data\": {\"bar\": [{\"error_x\": {\"color\": \"#2a3f5f\"}, \"error_y\": {\"color\": \"#2a3f5f\"}, \"marker\": {\"line\": {\"color\": \"#E5ECF6\", \"width\": 0.5}}, \"type\": \"bar\"}], \"barpolar\": [{\"marker\": {\"line\": {\"color\": \"#E5ECF6\", \"width\": 0.5}}, \"type\": \"barpolar\"}], \"carpet\": [{\"aaxis\": {\"endlinecolor\": \"#2a3f5f\", \"gridcolor\": \"white\", \"linecolor\": \"white\", \"minorgridcolor\": \"white\", \"startlinecolor\": \"#2a3f5f\"}, \"baxis\": {\"endlinecolor\": \"#2a3f5f\", \"gridcolor\": \"white\", \"linecolor\": \"white\", \"minorgridcolor\": \"white\", \"startlinecolor\": \"#2a3f5f\"}, \"type\": \"carpet\"}], \"choropleth\": [{\"colorbar\": {\"outlinewidth\": 0, \"ticks\": \"\"}, \"type\": \"choropleth\"}], \"contour\": [{\"colorbar\": {\"outlinewidth\": 0, \"ticks\": \"\"}, \"colorscale\": [[0.0, \"#0d0887\"], [0.1111111111111111, \"#46039f\"], [0.2222222222222222, \"#7201a8\"], [0.3333333333333333, \"#9c179e\"], [0.4444444444444444, \"#bd3786\"], [0.5555555555555556, \"#d8576b\"], [0.6666666666666666, \"#ed7953\"], [0.7777777777777778, \"#fb9f3a\"], [0.8888888888888888, \"#fdca26\"], [1.0, \"#f0f921\"]], \"type\": \"contour\"}], \"contourcarpet\": [{\"colorbar\": {\"outlinewidth\": 0, \"ticks\": \"\"}, \"type\": \"contourcarpet\"}], \"heatmap\": [{\"colorbar\": {\"outlinewidth\": 0, \"ticks\": \"\"}, \"colorscale\": [[0.0, \"#0d0887\"], [0.1111111111111111, \"#46039f\"], [0.2222222222222222, \"#7201a8\"], [0.3333333333333333, \"#9c179e\"], [0.4444444444444444, \"#bd3786\"], [0.5555555555555556, \"#d8576b\"], [0.6666666666666666, \"#ed7953\"], [0.7777777777777778, \"#fb9f3a\"], [0.8888888888888888, \"#fdca26\"], [1.0, \"#f0f921\"]], \"type\": \"heatmap\"}], \"heatmapgl\": [{\"colorbar\": {\"outlinewidth\": 0, \"ticks\": \"\"}, \"colorscale\": [[0.0, \"#0d0887\"], [0.1111111111111111, \"#46039f\"], [0.2222222222222222, \"#7201a8\"], [0.3333333333333333, \"#9c179e\"], [0.4444444444444444, \"#bd3786\"], [0.5555555555555556, \"#d8576b\"], [0.6666666666666666, \"#ed7953\"], [0.7777777777777778, \"#fb9f3a\"], [0.8888888888888888, \"#fdca26\"], [1.0, \"#f0f921\"]], \"type\": \"heatmapgl\"}], \"histogram\": [{\"marker\": {\"colorbar\": {\"outlinewidth\": 0, \"ticks\": \"\"}}, \"type\": \"histogram\"}], \"histogram2d\": [{\"colorbar\": {\"outlinewidth\": 0, \"ticks\": \"\"}, \"colorscale\": [[0.0, \"#0d0887\"], [0.1111111111111111, \"#46039f\"], [0.2222222222222222, \"#7201a8\"], [0.3333333333333333, \"#9c179e\"], [0.4444444444444444, \"#bd3786\"], [0.5555555555555556, \"#d8576b\"], [0.6666666666666666, \"#ed7953\"], [0.7777777777777778, \"#fb9f3a\"], [0.8888888888888888, \"#fdca26\"], [1.0, \"#f0f921\"]], \"type\": \"histogram2d\"}], \"histogram2dcontour\": [{\"colorbar\": {\"outlinewidth\": 0, \"ticks\": \"\"}, \"colorscale\": [[0.0, \"#0d0887\"], [0.1111111111111111, \"#46039f\"], [0.2222222222222222, \"#7201a8\"], [0.3333333333333333, \"#9c179e\"], [0.4444444444444444, \"#bd3786\"], [0.5555555555555556, \"#d8576b\"], [0.6666666666666666, \"#ed7953\"], [0.7777777777777778, \"#fb9f3a\"], [0.8888888888888888, \"#fdca26\"], [1.0, \"#f0f921\"]], \"type\": \"histogram2dcontour\"}], \"mesh3d\": [{\"colorbar\": {\"outlinewidth\": 0, \"ticks\": \"\"}, \"type\": \"mesh3d\"}], \"parcoords\": [{\"line\": {\"colorbar\": {\"outlinewidth\": 0, \"ticks\": \"\"}}, \"type\": \"parcoords\"}], \"pie\": [{\"automargin\": true, \"type\": \"pie\"}], \"scatter\": [{\"marker\": {\"colorbar\": {\"outlinewidth\": 0, \"ticks\": \"\"}}, \"type\": \"scatter\"}], \"scatter3d\": [{\"line\": {\"colorbar\": {\"outlinewidth\": 0, \"ticks\": \"\"}}, \"marker\": {\"colorbar\": {\"outlinewidth\": 0, \"ticks\": \"\"}}, \"type\": \"scatter3d\"}], \"scattercarpet\": [{\"marker\": {\"colorbar\": {\"outlinewidth\": 0, \"ticks\": \"\"}}, \"type\": \"scattercarpet\"}], \"scattergeo\": [{\"marker\": {\"colorbar\": {\"outlinewidth\": 0, \"ticks\": \"\"}}, \"type\": \"scattergeo\"}], \"scattergl\": [{\"marker\": {\"colorbar\": {\"outlinewidth\": 0, \"ticks\": \"\"}}, \"type\": \"scattergl\"}], \"scattermapbox\": [{\"marker\": {\"colorbar\": {\"outlinewidth\": 0, \"ticks\": \"\"}}, \"type\": \"scattermapbox\"}], \"scatterpolar\": [{\"marker\": {\"colorbar\": {\"outlinewidth\": 0, \"ticks\": \"\"}}, \"type\": \"scatterpolar\"}], \"scatterpolargl\": [{\"marker\": {\"colorbar\": {\"outlinewidth\": 0, \"ticks\": \"\"}}, \"type\": \"scatterpolargl\"}], \"scatterternary\": [{\"marker\": {\"colorbar\": {\"outlinewidth\": 0, \"ticks\": \"\"}}, \"type\": \"scatterternary\"}], \"surface\": [{\"colorbar\": {\"outlinewidth\": 0, \"ticks\": \"\"}, \"colorscale\": [[0.0, \"#0d0887\"], [0.1111111111111111, \"#46039f\"], [0.2222222222222222, \"#7201a8\"], [0.3333333333333333, \"#9c179e\"], [0.4444444444444444, \"#bd3786\"], [0.5555555555555556, \"#d8576b\"], [0.6666666666666666, \"#ed7953\"], [0.7777777777777778, \"#fb9f3a\"], [0.8888888888888888, \"#fdca26\"], [1.0, \"#f0f921\"]], \"type\": \"surface\"}], \"table\": [{\"cells\": {\"fill\": {\"color\": \"#EBF0F8\"}, \"line\": {\"color\": \"white\"}}, \"header\": {\"fill\": {\"color\": \"#C8D4E3\"}, \"line\": {\"color\": \"white\"}}, \"type\": \"table\"}]}, \"layout\": {\"annotationdefaults\": {\"arrowcolor\": \"#2a3f5f\", \"arrowhead\": 0, \"arrowwidth\": 1}, \"coloraxis\": {\"colorbar\": {\"outlinewidth\": 0, \"ticks\": \"\"}}, \"colorscale\": {\"diverging\": [[0, \"#8e0152\"], [0.1, \"#c51b7d\"], [0.2, \"#de77ae\"], [0.3, \"#f1b6da\"], [0.4, \"#fde0ef\"], [0.5, \"#f7f7f7\"], [0.6, \"#e6f5d0\"], [0.7, \"#b8e186\"], [0.8, \"#7fbc41\"], [0.9, \"#4d9221\"], [1, \"#276419\"]], \"sequential\": [[0.0, \"#0d0887\"], [0.1111111111111111, \"#46039f\"], [0.2222222222222222, \"#7201a8\"], [0.3333333333333333, \"#9c179e\"], [0.4444444444444444, \"#bd3786\"], [0.5555555555555556, \"#d8576b\"], [0.6666666666666666, \"#ed7953\"], [0.7777777777777778, \"#fb9f3a\"], [0.8888888888888888, \"#fdca26\"], [1.0, \"#f0f921\"]], \"sequentialminus\": [[0.0, \"#0d0887\"], [0.1111111111111111, \"#46039f\"], [0.2222222222222222, \"#7201a8\"], [0.3333333333333333, \"#9c179e\"], [0.4444444444444444, \"#bd3786\"], [0.5555555555555556, \"#d8576b\"], [0.6666666666666666, \"#ed7953\"], [0.7777777777777778, \"#fb9f3a\"], [0.8888888888888888, \"#fdca26\"], [1.0, \"#f0f921\"]]}, \"colorway\": [\"#636efa\", \"#EF553B\", \"#00cc96\", \"#ab63fa\", \"#FFA15A\", \"#19d3f3\", \"#FF6692\", \"#B6E880\", \"#FF97FF\", \"#FECB52\"], \"font\": {\"color\": \"#2a3f5f\"}, \"geo\": {\"bgcolor\": \"white\", \"lakecolor\": \"white\", \"landcolor\": \"#E5ECF6\", \"showlakes\": true, \"showland\": true, \"subunitcolor\": \"white\"}, \"hoverlabel\": {\"align\": \"left\"}, \"hovermode\": \"closest\", \"mapbox\": {\"style\": \"light\"}, \"paper_bgcolor\": \"white\", \"plot_bgcolor\": \"#E5ECF6\", \"polar\": {\"angularaxis\": {\"gridcolor\": \"white\", \"linecolor\": \"white\", \"ticks\": \"\"}, \"bgcolor\": \"#E5ECF6\", \"radialaxis\": {\"gridcolor\": \"white\", \"linecolor\": \"white\", \"ticks\": \"\"}}, \"scene\": {\"xaxis\": {\"backgroundcolor\": \"#E5ECF6\", \"gridcolor\": \"white\", \"gridwidth\": 2, \"linecolor\": \"white\", \"showbackground\": true, \"ticks\": \"\", \"zerolinecolor\": \"white\"}, \"yaxis\": {\"backgroundcolor\": \"#E5ECF6\", \"gridcolor\": \"white\", \"gridwidth\": 2, \"linecolor\": \"white\", \"showbackground\": true, \"ticks\": \"\", \"zerolinecolor\": \"white\"}, \"zaxis\": {\"backgroundcolor\": \"#E5ECF6\", \"gridcolor\": \"white\", \"gridwidth\": 2, \"linecolor\": \"white\", \"showbackground\": true, \"ticks\": \"\", \"zerolinecolor\": \"white\"}}, \"shapedefaults\": {\"line\": {\"color\": \"#2a3f5f\"}}, \"ternary\": {\"aaxis\": {\"gridcolor\": \"white\", \"linecolor\": \"white\", \"ticks\": \"\"}, \"baxis\": {\"gridcolor\": \"white\", \"linecolor\": \"white\", \"ticks\": \"\"}, \"bgcolor\": \"#E5ECF6\", \"caxis\": {\"gridcolor\": \"white\", \"linecolor\": \"white\", \"ticks\": \"\"}}, \"title\": {\"x\": 0.05}, \"xaxis\": {\"automargin\": true, \"gridcolor\": \"white\", \"linecolor\": \"white\", \"ticks\": \"\", \"title\": {\"standoff\": 15}, \"zerolinecolor\": \"white\", \"zerolinewidth\": 2}, \"yaxis\": {\"automargin\": true, \"gridcolor\": \"white\", \"linecolor\": \"white\", \"ticks\": \"\", \"title\": {\"standoff\": 15}, \"zerolinecolor\": \"white\", \"zerolinewidth\": 2}}}, \"title\": {\"font\": {\"color\": \"#4D5663\"}}, \"xaxis\": {\"gridcolor\": \"#E1E5ED\", \"showgrid\": true, \"tickfont\": {\"color\": \"#4D5663\"}, \"title\": {\"font\": {\"color\": \"#4D5663\"}, \"text\": \"\"}, \"zerolinecolor\": \"#E1E5ED\"}, \"yaxis\": {\"gridcolor\": \"#E1E5ED\", \"showgrid\": true, \"tickfont\": {\"color\": \"#4D5663\"}, \"title\": {\"font\": {\"color\": \"#4D5663\"}, \"text\": \"\"}, \"zerolinecolor\": \"#E1E5ED\"}},\n",
       "                        {\"showLink\": true, \"linkText\": \"Export to plot.ly\", \"plotlyServerURL\": \"https://plot.ly\", \"responsive\": true}\n",
       "                    ).then(function(){\n",
       "                            \n",
       "var gd = document.getElementById('1b9b595e-f2f4-400b-aa7e-279a6d516596');\n",
       "var x = new MutationObserver(function (mutations, observer) {{\n",
       "        var display = window.getComputedStyle(gd).display;\n",
       "        if (!display || display === 'none') {{\n",
       "            console.log([gd, 'removed!']);\n",
       "            Plotly.purge(gd);\n",
       "            observer.disconnect();\n",
       "        }}\n",
       "}});\n",
       "\n",
       "// Listen for the removal of the full notebook cells\n",
       "var notebookContainer = gd.closest('#notebook-container');\n",
       "if (notebookContainer) {{\n",
       "    x.observe(notebookContainer, {childList: true});\n",
       "}}\n",
       "\n",
       "// Listen for the clearing of the current output cell\n",
       "var outputEl = gd.closest('.output');\n",
       "if (outputEl) {{\n",
       "    x.observe(outputEl, {childList: true});\n",
       "}}\n",
       "\n",
       "                        })\n",
       "                };\n",
       "                });\n",
       "            </script>\n",
       "        </div>"
      ]
     },
     "metadata": {},
     "output_type": "display_data"
    }
   ],
   "source": [
    "df3 = pd.DataFrame({'x':[1,2,3,4,5],'y':[10,20,30,20,10],'z':[5,4,3,2,1]})\n",
    "df3.iplot(kind='surface',colorscale='rdylbu')"
   ]
  },
  {
   "cell_type": "markdown",
   "metadata": {},
   "source": [
    "## Spread"
   ]
  },
  {
   "cell_type": "code",
   "execution_count": 23,
   "metadata": {},
   "outputs": [
    {
     "name": "stderr",
     "output_type": "stream",
     "text": [
      "C:\\ANACONDA_EXECUTABLE\\lib\\site-packages\\cufflinks\\plotlytools.py:849: FutureWarning:\n",
      "\n",
      "The pandas.np module is deprecated and will be removed from pandas in a future version. Import numpy directly instead\n",
      "\n",
      "C:\\ANACONDA_EXECUTABLE\\lib\\site-packages\\cufflinks\\plotlytools.py:850: FutureWarning:\n",
      "\n",
      "The pandas.np module is deprecated and will be removed from pandas in a future version. Import numpy directly instead\n",
      "\n"
     ]
    },
    {
     "data": {
      "application/vnd.plotly.v1+json": {
       "config": {
        "linkText": "Export to plot.ly",
        "plotlyServerURL": "https://plot.ly",
        "showLink": true
       },
       "data": [
        {
         "line": {
          "color": "rgba(255, 153, 51, 1.0)",
          "dash": "solid",
          "shape": "linear",
          "width": 1.3
         },
         "mode": "lines",
         "name": "A",
         "text": "",
         "type": "scatter",
         "x": [
          0,
          1,
          2,
          3,
          4,
          5,
          6,
          7,
          8,
          9,
          10,
          11,
          12,
          13,
          14,
          15,
          16,
          17,
          18,
          19,
          20,
          21,
          22,
          23,
          24,
          25,
          26,
          27,
          28,
          29,
          30,
          31,
          32,
          33,
          34,
          35,
          36,
          37,
          38,
          39,
          40,
          41,
          42,
          43,
          44,
          45,
          46,
          47,
          48,
          49,
          50,
          51,
          52,
          53,
          54,
          55,
          56,
          57,
          58,
          59,
          60,
          61,
          62,
          63,
          64,
          65,
          66,
          67,
          68,
          69,
          70,
          71,
          72,
          73,
          74,
          75,
          76,
          77,
          78,
          79,
          80,
          81,
          82,
          83,
          84,
          85,
          86,
          87,
          88,
          89,
          90,
          91,
          92,
          93,
          94,
          95,
          96,
          97,
          98,
          99
         ],
         "y": [
          -1.7664723391769375,
          1.3723961024111873,
          -0.16862382412950433,
          -0.4686727100182148,
          0.10524460974524735,
          -0.7962133829694761,
          -0.5298304180895901,
          0.6146238526515427,
          1.7292353993593634,
          0.07182212081760649,
          0.6684096748052933,
          -0.7800699149728171,
          1.5417320664306207,
          0.07871196129574386,
          -0.47912331954576354,
          0.49497874036995887,
          -0.8365379495421281,
          0.8100732064576514,
          1.504386579851412,
          1.3050146148625914,
          0.2327163067386028,
          -0.311794801754074,
          1.11803293083804,
          -0.2694022385891882,
          -1.9310046515278843,
          -0.7310345896030418,
          0.05597051235353513,
          -0.2670042140271307,
          -1.6328456299792342,
          1.6776349536213664,
          -0.8913226475416959,
          -0.20080795498403306,
          -2.0060384793844857,
          -0.16886522736983173,
          0.025069872614478645,
          -2.7983998538120525,
          -0.8296821954277036,
          -1.9867158696502034,
          0.2564426559057547,
          0.050771092269586864,
          0.06129118607457183,
          -1.4499164910285043,
          -0.7360201539756989,
          -1.2031929519207538,
          1.5075211502660624,
          0.9044128941163659,
          2.784660416932731,
          0.32705586003758896,
          -0.5137018289027601,
          -0.7574469128514296,
          -0.49514121798295785,
          -0.888912752461698,
          1.1174340171108508,
          1.907646220570275,
          -1.0537892813370076,
          0.425646641425545,
          -0.7082382696496868,
          -0.25756424708664577,
          -0.3605967100447902,
          -0.9910768416671183,
          0.6621518651077974,
          -0.3954043976512718,
          0.44955446684650807,
          1.0298175988968659,
          0.10641679029381493,
          0.9506947884212149,
          0.3278939302509376,
          -1.0602297237402718,
          0.11544492678947446,
          -1.0668802252218457,
          -1.9183668765571822,
          -0.8424470502410739,
          1.2075751433374757,
          0.7105708383905097,
          -0.3782733230042047,
          0.7870014181532221,
          0.08954649196791556,
          -1.166764582805965,
          0.6212228154843119,
          0.8308641409300191,
          -2.0347968071431044,
          1.2253581412652095,
          -0.9215248386855428,
          0.18688974053934473,
          0.30853112042580283,
          0.8420608730484123,
          -1.262211780112218,
          0.11362895802530086,
          0.62441011985385,
          -0.8495669500347244,
          -0.6409877413673586,
          0.5746315825425063,
          -1.9814150215828208,
          2.299270468997804,
          -0.5435018086035873,
          0.47492251312272793,
          0.34442197771751076,
          -1.6442326270930063,
          0.4553135548589679,
          0.4300313241505395
         ]
        },
        {
         "line": {
          "color": "rgba(55, 128, 191, 1.0)",
          "dash": "solid",
          "shape": "linear",
          "width": 1.3
         },
         "mode": "lines",
         "name": "B",
         "text": "",
         "type": "scatter",
         "x": [
          0,
          1,
          2,
          3,
          4,
          5,
          6,
          7,
          8,
          9,
          10,
          11,
          12,
          13,
          14,
          15,
          16,
          17,
          18,
          19,
          20,
          21,
          22,
          23,
          24,
          25,
          26,
          27,
          28,
          29,
          30,
          31,
          32,
          33,
          34,
          35,
          36,
          37,
          38,
          39,
          40,
          41,
          42,
          43,
          44,
          45,
          46,
          47,
          48,
          49,
          50,
          51,
          52,
          53,
          54,
          55,
          56,
          57,
          58,
          59,
          60,
          61,
          62,
          63,
          64,
          65,
          66,
          67,
          68,
          69,
          70,
          71,
          72,
          73,
          74,
          75,
          76,
          77,
          78,
          79,
          80,
          81,
          82,
          83,
          84,
          85,
          86,
          87,
          88,
          89,
          90,
          91,
          92,
          93,
          94,
          95,
          96,
          97,
          98,
          99
         ],
         "y": [
          0.7256419508353439,
          0.4891359318991245,
          -0.021446868697695354,
          0.5699189969135365,
          0.7989792641425312,
          -1.2851113711634663,
          1.279248718804933,
          0.4749243626656492,
          -1.1845154110032723,
          -1.9648371522917485,
          0.5417860210162163,
          -0.05673910016335068,
          0.0018623938866737526,
          0.5927262435852061,
          0.20216257918580935,
          0.018492048888641987,
          -0.8520453035630274,
          -0.7248018007763332,
          0.34726843746070557,
          0.17253064301206017,
          -1.1819637870114659,
          -0.6291814509893625,
          1.6199572666695972,
          0.650039467695885,
          -0.7283871457040803,
          1.4597335668062734,
          -0.36608342132309374,
          0.1328269564616293,
          0.7820912142809123,
          1.1274247601021,
          -0.7002588967779936,
          -0.030942292689513824,
          -1.5490479787927922,
          -0.9642215465178909,
          -1.6446231055376166,
          -1.9487704013656038,
          0.2694163481633915,
          -0.7433165541055985,
          -0.2861089515191114,
          -0.3708999899691444,
          -2.3375584256560025,
          0.5012563493125995,
          0.34715395702179985,
          0.024256749847415444,
          -0.3312328565998601,
          -1.044843498615884,
          0.31828001324412447,
          1.7381146592719325,
          0.3470207745920348,
          0.41222825484031134,
          -0.24605492900340303,
          1.5001702812430961,
          0.15281977465056046,
          -1.164278703957203,
          -0.017260272587306055,
          0.5073485068268082,
          -1.7104644016532617,
          1.25380445233376,
          -0.1785525841039943,
          -0.1932178660774815,
          0.6107610891492199,
          -0.4443632806386484,
          1.7931890763040588,
          -1.1616309130455214,
          -0.8551089592882165,
          -1.3710997856428642,
          -0.6733777419252835,
          -1.2024844159213874,
          -0.3212272102990379,
          -0.7677522239136005,
          0.7060261222801993,
          0.7042806007704804,
          2.2475715397569074,
          1.7570001108621793,
          -0.3459760349655492,
          -0.07203276847413792,
          1.3894267752811893,
          0.044803610782237366,
          -0.04569620946576732,
          -0.19048353847167335,
          -0.6333030971864758,
          1.0068296365388283,
          -2.729179981615213,
          0.8230205577553504,
          -0.39756656509869287,
          0.6253599249604785,
          -0.1371806460591855,
          -1.6587862639472124,
          -0.02175601899369613,
          -0.8234193356560962,
          -1.2165087892989863,
          -1.1186780154811298,
          0.1259983219990328,
          0.3721418360250379,
          1.2980171824511955,
          0.7596775122213181,
          -1.2705973080889903,
          -0.8090551467308078,
          -0.10521137722736196,
          -1.5136707297077323
         ]
        },
        {
         "connectgaps": false,
         "fill": "tozeroy",
         "line": {
          "color": "green",
          "dash": "solid",
          "shape": "linear",
          "width": 0.5
         },
         "mode": "lines",
         "name": "Spread",
         "showlegend": false,
         "type": "scatter",
         "x": [
          0,
          1,
          2,
          3,
          4,
          5,
          6,
          7,
          8,
          9,
          10,
          11,
          12,
          13,
          14,
          15,
          16,
          17,
          18,
          19,
          20,
          21,
          22,
          23,
          24,
          25,
          26,
          27,
          28,
          29,
          30,
          31,
          32,
          33,
          34,
          35,
          36,
          37,
          38,
          39,
          40,
          41,
          42,
          43,
          44,
          45,
          46,
          47,
          48,
          49,
          50,
          51,
          52,
          53,
          54,
          55,
          56,
          57,
          58,
          59,
          60,
          61,
          62,
          63,
          64,
          65,
          66,
          67,
          68,
          69,
          70,
          71,
          72,
          73,
          74,
          75,
          76,
          77,
          78,
          79,
          80,
          81,
          82,
          83,
          84,
          85,
          86,
          87,
          88,
          89,
          90,
          91,
          92,
          93,
          94,
          95,
          96,
          97,
          98,
          99
         ],
         "xaxis": "x2",
         "y": [
          "",
          0.8832601705120627,
          "",
          "",
          "",
          0.4888979881939902,
          "",
          0.13969948998589354,
          2.913750810362636,
          2.036659273109355,
          0.12662365378907703,
          "",
          1.539869672543947,
          "",
          "",
          0.4764866914813169,
          0.015507354020899311,
          1.5348750072339845,
          1.1571181423907064,
          1.1324839718505313,
          1.4146800937500688,
          0.31738664923528853,
          "",
          "",
          "",
          "",
          0.42205393367662886,
          "",
          "",
          0.5502101935192665,
          "",
          "",
          "",
          0.7953563191480593,
          1.6696929781520953,
          "",
          "",
          "",
          0.5425516074248662,
          0.4216710822387313,
          2.3988496117305744,
          "",
          "",
          "",
          1.8387540068659225,
          1.94925639273225,
          2.4663804036886066,
          "",
          "",
          "",
          "",
          "",
          0.9646142424602904,
          3.071924924527478,
          "",
          "",
          1.002226132003575,
          "",
          "",
          "",
          0.05139077595857755,
          0.048958882987376606,
          "",
          2.1914485119423874,
          0.9615257495820314,
          2.321794574064079,
          1.0012716721762212,
          0.14225469218111564,
          0.4366721370885124,
          "",
          "",
          "",
          "",
          "",
          "",
          0.8590341866273601,
          "",
          "",
          0.6669190249500793,
          1.0213476794016925,
          "",
          0.2185285047263812,
          1.8076551429296701,
          "",
          0.7060976855244957,
          0.21670094808793372,
          "",
          1.7724152219725133,
          0.6461661388475461,
          "",
          0.5755210479316277,
          1.6933095980236361,
          "",
          1.9271286329727662,
          "",
          "",
          1.6150192858065011,
          "",
          0.5605249320863299,
          1.9437020538582719
         ],
         "yaxis": "y2"
        },
        {
         "connectgaps": false,
         "fill": "tozeroy",
         "line": {
          "color": "red",
          "dash": "solid",
          "shape": "linear",
          "width": 0.5
         },
         "mode": "lines",
         "name": "Spread",
         "showlegend": false,
         "type": "scatter",
         "x": [
          0,
          1,
          2,
          3,
          4,
          5,
          6,
          7,
          8,
          9,
          10,
          11,
          12,
          13,
          14,
          15,
          16,
          17,
          18,
          19,
          20,
          21,
          22,
          23,
          24,
          25,
          26,
          27,
          28,
          29,
          30,
          31,
          32,
          33,
          34,
          35,
          36,
          37,
          38,
          39,
          40,
          41,
          42,
          43,
          44,
          45,
          46,
          47,
          48,
          49,
          50,
          51,
          52,
          53,
          54,
          55,
          56,
          57,
          58,
          59,
          60,
          61,
          62,
          63,
          64,
          65,
          66,
          67,
          68,
          69,
          70,
          71,
          72,
          73,
          74,
          75,
          76,
          77,
          78,
          79,
          80,
          81,
          82,
          83,
          84,
          85,
          86,
          87,
          88,
          89,
          90,
          91,
          92,
          93,
          94,
          95,
          96,
          97,
          98,
          99
         ],
         "xaxis": "x2",
         "y": [
          -2.4921142900122812,
          "",
          -0.14717695543180898,
          -1.0385917069317514,
          -0.6937346543972838,
          "",
          -1.8090791368945232,
          "",
          "",
          "",
          "",
          -0.7233308148094664,
          "",
          -0.5140142822894622,
          -0.6812858987315729,
          "",
          "",
          "",
          "",
          "",
          "",
          "",
          -0.5019243358315573,
          -0.9194417062850733,
          -1.202617505823804,
          -2.190768156409315,
          "",
          -0.39983117048876,
          -2.4149368442601467,
          "",
          -0.1910637507637023,
          -0.16986566229451924,
          -0.45699050059169344,
          "",
          "",
          -0.8496294524464487,
          -1.0990985435910952,
          -1.2433993155446048,
          "",
          "",
          "",
          -1.951172840341104,
          -1.0831741109974988,
          -1.2274497017681694,
          "",
          "",
          "",
          -1.4110587992343435,
          -0.8607226034947948,
          -1.169675167691741,
          -0.24908628897955482,
          -2.389083033704794,
          "",
          "",
          -1.0365290087497014,
          -0.08170186540126323,
          "",
          -1.5113686994204056,
          -0.18204412594079591,
          -0.7978589755896368,
          "",
          "",
          -1.3436346094575506,
          "",
          "",
          "",
          "",
          "",
          "",
          -0.29912800130824513,
          -2.6243929988373815,
          -1.5467276510115542,
          -1.0399963964194316,
          -1.0464292724716695,
          -0.0322972880386555,
          "",
          -1.2998802833132737,
          -1.2115681935882023,
          "",
          "",
          -1.4014937099566285,
          "",
          "",
          -0.6361308172160057,
          "",
          "",
          -1.1250311340530323,
          "",
          "",
          -0.026147614378628226,
          "",
          "",
          -2.1074133435818534,
          "",
          -1.841518991054783,
          -0.28475499909859014,
          "",
          -0.8351774803621985,
          "",
          ""
         ],
         "yaxis": "y2"
        }
       ],
       "layout": {
        "hovermode": "x",
        "legend": {
         "bgcolor": "#F5F6F9",
         "font": {
          "color": "#4D5663"
         }
        },
        "paper_bgcolor": "#F5F6F9",
        "plot_bgcolor": "#F5F6F9",
        "template": {
         "data": {
          "bar": [
           {
            "error_x": {
             "color": "#2a3f5f"
            },
            "error_y": {
             "color": "#2a3f5f"
            },
            "marker": {
             "line": {
              "color": "#E5ECF6",
              "width": 0.5
             }
            },
            "type": "bar"
           }
          ],
          "barpolar": [
           {
            "marker": {
             "line": {
              "color": "#E5ECF6",
              "width": 0.5
             }
            },
            "type": "barpolar"
           }
          ],
          "carpet": [
           {
            "aaxis": {
             "endlinecolor": "#2a3f5f",
             "gridcolor": "white",
             "linecolor": "white",
             "minorgridcolor": "white",
             "startlinecolor": "#2a3f5f"
            },
            "baxis": {
             "endlinecolor": "#2a3f5f",
             "gridcolor": "white",
             "linecolor": "white",
             "minorgridcolor": "white",
             "startlinecolor": "#2a3f5f"
            },
            "type": "carpet"
           }
          ],
          "choropleth": [
           {
            "colorbar": {
             "outlinewidth": 0,
             "ticks": ""
            },
            "type": "choropleth"
           }
          ],
          "contour": [
           {
            "colorbar": {
             "outlinewidth": 0,
             "ticks": ""
            },
            "colorscale": [
             [
              0,
              "#0d0887"
             ],
             [
              0.1111111111111111,
              "#46039f"
             ],
             [
              0.2222222222222222,
              "#7201a8"
             ],
             [
              0.3333333333333333,
              "#9c179e"
             ],
             [
              0.4444444444444444,
              "#bd3786"
             ],
             [
              0.5555555555555556,
              "#d8576b"
             ],
             [
              0.6666666666666666,
              "#ed7953"
             ],
             [
              0.7777777777777778,
              "#fb9f3a"
             ],
             [
              0.8888888888888888,
              "#fdca26"
             ],
             [
              1,
              "#f0f921"
             ]
            ],
            "type": "contour"
           }
          ],
          "contourcarpet": [
           {
            "colorbar": {
             "outlinewidth": 0,
             "ticks": ""
            },
            "type": "contourcarpet"
           }
          ],
          "heatmap": [
           {
            "colorbar": {
             "outlinewidth": 0,
             "ticks": ""
            },
            "colorscale": [
             [
              0,
              "#0d0887"
             ],
             [
              0.1111111111111111,
              "#46039f"
             ],
             [
              0.2222222222222222,
              "#7201a8"
             ],
             [
              0.3333333333333333,
              "#9c179e"
             ],
             [
              0.4444444444444444,
              "#bd3786"
             ],
             [
              0.5555555555555556,
              "#d8576b"
             ],
             [
              0.6666666666666666,
              "#ed7953"
             ],
             [
              0.7777777777777778,
              "#fb9f3a"
             ],
             [
              0.8888888888888888,
              "#fdca26"
             ],
             [
              1,
              "#f0f921"
             ]
            ],
            "type": "heatmap"
           }
          ],
          "heatmapgl": [
           {
            "colorbar": {
             "outlinewidth": 0,
             "ticks": ""
            },
            "colorscale": [
             [
              0,
              "#0d0887"
             ],
             [
              0.1111111111111111,
              "#46039f"
             ],
             [
              0.2222222222222222,
              "#7201a8"
             ],
             [
              0.3333333333333333,
              "#9c179e"
             ],
             [
              0.4444444444444444,
              "#bd3786"
             ],
             [
              0.5555555555555556,
              "#d8576b"
             ],
             [
              0.6666666666666666,
              "#ed7953"
             ],
             [
              0.7777777777777778,
              "#fb9f3a"
             ],
             [
              0.8888888888888888,
              "#fdca26"
             ],
             [
              1,
              "#f0f921"
             ]
            ],
            "type": "heatmapgl"
           }
          ],
          "histogram": [
           {
            "marker": {
             "colorbar": {
              "outlinewidth": 0,
              "ticks": ""
             }
            },
            "type": "histogram"
           }
          ],
          "histogram2d": [
           {
            "colorbar": {
             "outlinewidth": 0,
             "ticks": ""
            },
            "colorscale": [
             [
              0,
              "#0d0887"
             ],
             [
              0.1111111111111111,
              "#46039f"
             ],
             [
              0.2222222222222222,
              "#7201a8"
             ],
             [
              0.3333333333333333,
              "#9c179e"
             ],
             [
              0.4444444444444444,
              "#bd3786"
             ],
             [
              0.5555555555555556,
              "#d8576b"
             ],
             [
              0.6666666666666666,
              "#ed7953"
             ],
             [
              0.7777777777777778,
              "#fb9f3a"
             ],
             [
              0.8888888888888888,
              "#fdca26"
             ],
             [
              1,
              "#f0f921"
             ]
            ],
            "type": "histogram2d"
           }
          ],
          "histogram2dcontour": [
           {
            "colorbar": {
             "outlinewidth": 0,
             "ticks": ""
            },
            "colorscale": [
             [
              0,
              "#0d0887"
             ],
             [
              0.1111111111111111,
              "#46039f"
             ],
             [
              0.2222222222222222,
              "#7201a8"
             ],
             [
              0.3333333333333333,
              "#9c179e"
             ],
             [
              0.4444444444444444,
              "#bd3786"
             ],
             [
              0.5555555555555556,
              "#d8576b"
             ],
             [
              0.6666666666666666,
              "#ed7953"
             ],
             [
              0.7777777777777778,
              "#fb9f3a"
             ],
             [
              0.8888888888888888,
              "#fdca26"
             ],
             [
              1,
              "#f0f921"
             ]
            ],
            "type": "histogram2dcontour"
           }
          ],
          "mesh3d": [
           {
            "colorbar": {
             "outlinewidth": 0,
             "ticks": ""
            },
            "type": "mesh3d"
           }
          ],
          "parcoords": [
           {
            "line": {
             "colorbar": {
              "outlinewidth": 0,
              "ticks": ""
             }
            },
            "type": "parcoords"
           }
          ],
          "pie": [
           {
            "automargin": true,
            "type": "pie"
           }
          ],
          "scatter": [
           {
            "marker": {
             "colorbar": {
              "outlinewidth": 0,
              "ticks": ""
             }
            },
            "type": "scatter"
           }
          ],
          "scatter3d": [
           {
            "line": {
             "colorbar": {
              "outlinewidth": 0,
              "ticks": ""
             }
            },
            "marker": {
             "colorbar": {
              "outlinewidth": 0,
              "ticks": ""
             }
            },
            "type": "scatter3d"
           }
          ],
          "scattercarpet": [
           {
            "marker": {
             "colorbar": {
              "outlinewidth": 0,
              "ticks": ""
             }
            },
            "type": "scattercarpet"
           }
          ],
          "scattergeo": [
           {
            "marker": {
             "colorbar": {
              "outlinewidth": 0,
              "ticks": ""
             }
            },
            "type": "scattergeo"
           }
          ],
          "scattergl": [
           {
            "marker": {
             "colorbar": {
              "outlinewidth": 0,
              "ticks": ""
             }
            },
            "type": "scattergl"
           }
          ],
          "scattermapbox": [
           {
            "marker": {
             "colorbar": {
              "outlinewidth": 0,
              "ticks": ""
             }
            },
            "type": "scattermapbox"
           }
          ],
          "scatterpolar": [
           {
            "marker": {
             "colorbar": {
              "outlinewidth": 0,
              "ticks": ""
             }
            },
            "type": "scatterpolar"
           }
          ],
          "scatterpolargl": [
           {
            "marker": {
             "colorbar": {
              "outlinewidth": 0,
              "ticks": ""
             }
            },
            "type": "scatterpolargl"
           }
          ],
          "scatterternary": [
           {
            "marker": {
             "colorbar": {
              "outlinewidth": 0,
              "ticks": ""
             }
            },
            "type": "scatterternary"
           }
          ],
          "surface": [
           {
            "colorbar": {
             "outlinewidth": 0,
             "ticks": ""
            },
            "colorscale": [
             [
              0,
              "#0d0887"
             ],
             [
              0.1111111111111111,
              "#46039f"
             ],
             [
              0.2222222222222222,
              "#7201a8"
             ],
             [
              0.3333333333333333,
              "#9c179e"
             ],
             [
              0.4444444444444444,
              "#bd3786"
             ],
             [
              0.5555555555555556,
              "#d8576b"
             ],
             [
              0.6666666666666666,
              "#ed7953"
             ],
             [
              0.7777777777777778,
              "#fb9f3a"
             ],
             [
              0.8888888888888888,
              "#fdca26"
             ],
             [
              1,
              "#f0f921"
             ]
            ],
            "type": "surface"
           }
          ],
          "table": [
           {
            "cells": {
             "fill": {
              "color": "#EBF0F8"
             },
             "line": {
              "color": "white"
             }
            },
            "header": {
             "fill": {
              "color": "#C8D4E3"
             },
             "line": {
              "color": "white"
             }
            },
            "type": "table"
           }
          ]
         },
         "layout": {
          "annotationdefaults": {
           "arrowcolor": "#2a3f5f",
           "arrowhead": 0,
           "arrowwidth": 1
          },
          "coloraxis": {
           "colorbar": {
            "outlinewidth": 0,
            "ticks": ""
           }
          },
          "colorscale": {
           "diverging": [
            [
             0,
             "#8e0152"
            ],
            [
             0.1,
             "#c51b7d"
            ],
            [
             0.2,
             "#de77ae"
            ],
            [
             0.3,
             "#f1b6da"
            ],
            [
             0.4,
             "#fde0ef"
            ],
            [
             0.5,
             "#f7f7f7"
            ],
            [
             0.6,
             "#e6f5d0"
            ],
            [
             0.7,
             "#b8e186"
            ],
            [
             0.8,
             "#7fbc41"
            ],
            [
             0.9,
             "#4d9221"
            ],
            [
             1,
             "#276419"
            ]
           ],
           "sequential": [
            [
             0,
             "#0d0887"
            ],
            [
             0.1111111111111111,
             "#46039f"
            ],
            [
             0.2222222222222222,
             "#7201a8"
            ],
            [
             0.3333333333333333,
             "#9c179e"
            ],
            [
             0.4444444444444444,
             "#bd3786"
            ],
            [
             0.5555555555555556,
             "#d8576b"
            ],
            [
             0.6666666666666666,
             "#ed7953"
            ],
            [
             0.7777777777777778,
             "#fb9f3a"
            ],
            [
             0.8888888888888888,
             "#fdca26"
            ],
            [
             1,
             "#f0f921"
            ]
           ],
           "sequentialminus": [
            [
             0,
             "#0d0887"
            ],
            [
             0.1111111111111111,
             "#46039f"
            ],
            [
             0.2222222222222222,
             "#7201a8"
            ],
            [
             0.3333333333333333,
             "#9c179e"
            ],
            [
             0.4444444444444444,
             "#bd3786"
            ],
            [
             0.5555555555555556,
             "#d8576b"
            ],
            [
             0.6666666666666666,
             "#ed7953"
            ],
            [
             0.7777777777777778,
             "#fb9f3a"
            ],
            [
             0.8888888888888888,
             "#fdca26"
            ],
            [
             1,
             "#f0f921"
            ]
           ]
          },
          "colorway": [
           "#636efa",
           "#EF553B",
           "#00cc96",
           "#ab63fa",
           "#FFA15A",
           "#19d3f3",
           "#FF6692",
           "#B6E880",
           "#FF97FF",
           "#FECB52"
          ],
          "font": {
           "color": "#2a3f5f"
          },
          "geo": {
           "bgcolor": "white",
           "lakecolor": "white",
           "landcolor": "#E5ECF6",
           "showlakes": true,
           "showland": true,
           "subunitcolor": "white"
          },
          "hoverlabel": {
           "align": "left"
          },
          "hovermode": "closest",
          "mapbox": {
           "style": "light"
          },
          "paper_bgcolor": "white",
          "plot_bgcolor": "#E5ECF6",
          "polar": {
           "angularaxis": {
            "gridcolor": "white",
            "linecolor": "white",
            "ticks": ""
           },
           "bgcolor": "#E5ECF6",
           "radialaxis": {
            "gridcolor": "white",
            "linecolor": "white",
            "ticks": ""
           }
          },
          "scene": {
           "xaxis": {
            "backgroundcolor": "#E5ECF6",
            "gridcolor": "white",
            "gridwidth": 2,
            "linecolor": "white",
            "showbackground": true,
            "ticks": "",
            "zerolinecolor": "white"
           },
           "yaxis": {
            "backgroundcolor": "#E5ECF6",
            "gridcolor": "white",
            "gridwidth": 2,
            "linecolor": "white",
            "showbackground": true,
            "ticks": "",
            "zerolinecolor": "white"
           },
           "zaxis": {
            "backgroundcolor": "#E5ECF6",
            "gridcolor": "white",
            "gridwidth": 2,
            "linecolor": "white",
            "showbackground": true,
            "ticks": "",
            "zerolinecolor": "white"
           }
          },
          "shapedefaults": {
           "line": {
            "color": "#2a3f5f"
           }
          },
          "ternary": {
           "aaxis": {
            "gridcolor": "white",
            "linecolor": "white",
            "ticks": ""
           },
           "baxis": {
            "gridcolor": "white",
            "linecolor": "white",
            "ticks": ""
           },
           "bgcolor": "#E5ECF6",
           "caxis": {
            "gridcolor": "white",
            "linecolor": "white",
            "ticks": ""
           }
          },
          "title": {
           "x": 0.05
          },
          "xaxis": {
           "automargin": true,
           "gridcolor": "white",
           "linecolor": "white",
           "ticks": "",
           "title": {
            "standoff": 15
           },
           "zerolinecolor": "white",
           "zerolinewidth": 2
          },
          "yaxis": {
           "automargin": true,
           "gridcolor": "white",
           "linecolor": "white",
           "ticks": "",
           "title": {
            "standoff": 15
           },
           "zerolinecolor": "white",
           "zerolinewidth": 2
          }
         }
        },
        "title": {
         "font": {
          "color": "#4D5663"
         }
        },
        "xaxis": {
         "gridcolor": "#E1E5ED",
         "showgrid": true,
         "tickfont": {
          "color": "#4D5663"
         },
         "title": {
          "font": {
           "color": "#4D5663"
          },
          "text": ""
         },
         "zerolinecolor": "#E1E5ED"
        },
        "xaxis2": {
         "anchor": "y2",
         "gridcolor": "#E1E5ED",
         "showgrid": true,
         "showticklabels": false,
         "tickfont": {
          "color": "#4D5663"
         },
         "title": {
          "font": {
           "color": "#4D5663"
          },
          "text": ""
         },
         "zerolinecolor": "#E1E5ED"
        },
        "yaxis": {
         "domain": [
          0.3,
          1
         ],
         "gridcolor": "#E1E5ED",
         "showgrid": true,
         "tickfont": {
          "color": "#4D5663"
         },
         "title": {
          "font": {
           "color": "#4D5663"
          },
          "text": ""
         },
         "zerolinecolor": "#E1E5ED"
        },
        "yaxis2": {
         "domain": [
          0,
          0.25
         ],
         "gridcolor": "#E1E5ED",
         "showgrid": true,
         "tickfont": {
          "color": "#4D5663"
         },
         "title": {
          "font": {
           "color": "#4D5663"
          },
          "text": "Spread"
         },
         "zerolinecolor": "#E1E5ED"
        }
       }
      },
      "text/html": [
       "<div>\n",
       "        \n",
       "        \n",
       "            <div id=\"0de7c730-44e7-489d-ad79-f42da691737c\" class=\"plotly-graph-div\" style=\"height:525px; width:100%;\"></div>\n",
       "            <script type=\"text/javascript\">\n",
       "                require([\"plotly\"], function(Plotly) {\n",
       "                    window.PLOTLYENV=window.PLOTLYENV || {};\n",
       "                    window.PLOTLYENV.BASE_URL='https://plot.ly';\n",
       "                    \n",
       "                if (document.getElementById(\"0de7c730-44e7-489d-ad79-f42da691737c\")) {\n",
       "                    Plotly.newPlot(\n",
       "                        '0de7c730-44e7-489d-ad79-f42da691737c',\n",
       "                        [{\"line\": {\"color\": \"rgba(255, 153, 51, 1.0)\", \"dash\": \"solid\", \"shape\": \"linear\", \"width\": 1.3}, \"mode\": \"lines\", \"name\": \"A\", \"text\": \"\", \"type\": \"scatter\", \"x\": [0, 1, 2, 3, 4, 5, 6, 7, 8, 9, 10, 11, 12, 13, 14, 15, 16, 17, 18, 19, 20, 21, 22, 23, 24, 25, 26, 27, 28, 29, 30, 31, 32, 33, 34, 35, 36, 37, 38, 39, 40, 41, 42, 43, 44, 45, 46, 47, 48, 49, 50, 51, 52, 53, 54, 55, 56, 57, 58, 59, 60, 61, 62, 63, 64, 65, 66, 67, 68, 69, 70, 71, 72, 73, 74, 75, 76, 77, 78, 79, 80, 81, 82, 83, 84, 85, 86, 87, 88, 89, 90, 91, 92, 93, 94, 95, 96, 97, 98, 99], \"y\": [-1.7664723391769375, 1.3723961024111873, -0.16862382412950433, -0.4686727100182148, 0.10524460974524735, -0.7962133829694761, -0.5298304180895901, 0.6146238526515427, 1.7292353993593634, 0.07182212081760649, 0.6684096748052933, -0.7800699149728171, 1.5417320664306207, 0.07871196129574386, -0.47912331954576354, 0.49497874036995887, -0.8365379495421281, 0.8100732064576514, 1.504386579851412, 1.3050146148625914, 0.2327163067386028, -0.311794801754074, 1.11803293083804, -0.2694022385891882, -1.9310046515278843, -0.7310345896030418, 0.05597051235353513, -0.2670042140271307, -1.6328456299792342, 1.6776349536213664, -0.8913226475416959, -0.20080795498403306, -2.0060384793844857, -0.16886522736983173, 0.025069872614478645, -2.7983998538120525, -0.8296821954277036, -1.9867158696502034, 0.2564426559057547, 0.050771092269586864, 0.06129118607457183, -1.4499164910285043, -0.7360201539756989, -1.2031929519207538, 1.5075211502660624, 0.9044128941163659, 2.784660416932731, 0.32705586003758896, -0.5137018289027601, -0.7574469128514296, -0.49514121798295785, -0.888912752461698, 1.1174340171108508, 1.907646220570275, -1.0537892813370076, 0.425646641425545, -0.7082382696496868, -0.25756424708664577, -0.3605967100447902, -0.9910768416671183, 0.6621518651077974, -0.3954043976512718, 0.44955446684650807, 1.0298175988968659, 0.10641679029381493, 0.9506947884212149, 0.3278939302509376, -1.0602297237402718, 0.11544492678947446, -1.0668802252218457, -1.9183668765571822, -0.8424470502410739, 1.2075751433374757, 0.7105708383905097, -0.3782733230042047, 0.7870014181532221, 0.08954649196791556, -1.166764582805965, 0.6212228154843119, 0.8308641409300191, -2.0347968071431044, 1.2253581412652095, -0.9215248386855428, 0.18688974053934473, 0.30853112042580283, 0.8420608730484123, -1.262211780112218, 0.11362895802530086, 0.62441011985385, -0.8495669500347244, -0.6409877413673586, 0.5746315825425063, -1.9814150215828208, 2.299270468997804, -0.5435018086035873, 0.47492251312272793, 0.34442197771751076, -1.6442326270930063, 0.4553135548589679, 0.4300313241505395]}, {\"line\": {\"color\": \"rgba(55, 128, 191, 1.0)\", \"dash\": \"solid\", \"shape\": \"linear\", \"width\": 1.3}, \"mode\": \"lines\", \"name\": \"B\", \"text\": \"\", \"type\": \"scatter\", \"x\": [0, 1, 2, 3, 4, 5, 6, 7, 8, 9, 10, 11, 12, 13, 14, 15, 16, 17, 18, 19, 20, 21, 22, 23, 24, 25, 26, 27, 28, 29, 30, 31, 32, 33, 34, 35, 36, 37, 38, 39, 40, 41, 42, 43, 44, 45, 46, 47, 48, 49, 50, 51, 52, 53, 54, 55, 56, 57, 58, 59, 60, 61, 62, 63, 64, 65, 66, 67, 68, 69, 70, 71, 72, 73, 74, 75, 76, 77, 78, 79, 80, 81, 82, 83, 84, 85, 86, 87, 88, 89, 90, 91, 92, 93, 94, 95, 96, 97, 98, 99], \"y\": [0.7256419508353439, 0.4891359318991245, -0.021446868697695354, 0.5699189969135365, 0.7989792641425312, -1.2851113711634663, 1.279248718804933, 0.4749243626656492, -1.1845154110032723, -1.9648371522917485, 0.5417860210162163, -0.05673910016335068, 0.0018623938866737526, 0.5927262435852061, 0.20216257918580935, 0.018492048888641987, -0.8520453035630274, -0.7248018007763332, 0.34726843746070557, 0.17253064301206017, -1.1819637870114659, -0.6291814509893625, 1.6199572666695972, 0.650039467695885, -0.7283871457040803, 1.4597335668062734, -0.36608342132309374, 0.1328269564616293, 0.7820912142809123, 1.1274247601021, -0.7002588967779936, -0.030942292689513824, -1.5490479787927922, -0.9642215465178909, -1.6446231055376166, -1.9487704013656038, 0.2694163481633915, -0.7433165541055985, -0.2861089515191114, -0.3708999899691444, -2.3375584256560025, 0.5012563493125995, 0.34715395702179985, 0.024256749847415444, -0.3312328565998601, -1.044843498615884, 0.31828001324412447, 1.7381146592719325, 0.3470207745920348, 0.41222825484031134, -0.24605492900340303, 1.5001702812430961, 0.15281977465056046, -1.164278703957203, -0.017260272587306055, 0.5073485068268082, -1.7104644016532617, 1.25380445233376, -0.1785525841039943, -0.1932178660774815, 0.6107610891492199, -0.4443632806386484, 1.7931890763040588, -1.1616309130455214, -0.8551089592882165, -1.3710997856428642, -0.6733777419252835, -1.2024844159213874, -0.3212272102990379, -0.7677522239136005, 0.7060261222801993, 0.7042806007704804, 2.2475715397569074, 1.7570001108621793, -0.3459760349655492, -0.07203276847413792, 1.3894267752811893, 0.044803610782237366, -0.04569620946576732, -0.19048353847167335, -0.6333030971864758, 1.0068296365388283, -2.729179981615213, 0.8230205577553504, -0.39756656509869287, 0.6253599249604785, -0.1371806460591855, -1.6587862639472124, -0.02175601899369613, -0.8234193356560962, -1.2165087892989863, -1.1186780154811298, 0.1259983219990328, 0.3721418360250379, 1.2980171824511955, 0.7596775122213181, -1.2705973080889903, -0.8090551467308078, -0.10521137722736196, -1.5136707297077323]}, {\"connectgaps\": false, \"fill\": \"tozeroy\", \"line\": {\"color\": \"green\", \"dash\": \"solid\", \"shape\": \"linear\", \"width\": 0.5}, \"mode\": \"lines\", \"name\": \"Spread\", \"showlegend\": false, \"type\": \"scatter\", \"x\": [0, 1, 2, 3, 4, 5, 6, 7, 8, 9, 10, 11, 12, 13, 14, 15, 16, 17, 18, 19, 20, 21, 22, 23, 24, 25, 26, 27, 28, 29, 30, 31, 32, 33, 34, 35, 36, 37, 38, 39, 40, 41, 42, 43, 44, 45, 46, 47, 48, 49, 50, 51, 52, 53, 54, 55, 56, 57, 58, 59, 60, 61, 62, 63, 64, 65, 66, 67, 68, 69, 70, 71, 72, 73, 74, 75, 76, 77, 78, 79, 80, 81, 82, 83, 84, 85, 86, 87, 88, 89, 90, 91, 92, 93, 94, 95, 96, 97, 98, 99], \"xaxis\": \"x2\", \"y\": [\"\", 0.8832601705120627, \"\", \"\", \"\", 0.4888979881939902, \"\", 0.13969948998589354, 2.913750810362636, 2.036659273109355, 0.12662365378907703, \"\", 1.539869672543947, \"\", \"\", 0.4764866914813169, 0.015507354020899311, 1.5348750072339845, 1.1571181423907064, 1.1324839718505313, 1.4146800937500688, 0.31738664923528853, \"\", \"\", \"\", \"\", 0.42205393367662886, \"\", \"\", 0.5502101935192665, \"\", \"\", \"\", 0.7953563191480593, 1.6696929781520953, \"\", \"\", \"\", 0.5425516074248662, 0.4216710822387313, 2.3988496117305744, \"\", \"\", \"\", 1.8387540068659225, 1.94925639273225, 2.4663804036886066, \"\", \"\", \"\", \"\", \"\", 0.9646142424602904, 3.071924924527478, \"\", \"\", 1.002226132003575, \"\", \"\", \"\", 0.05139077595857755, 0.048958882987376606, \"\", 2.1914485119423874, 0.9615257495820314, 2.321794574064079, 1.0012716721762212, 0.14225469218111564, 0.4366721370885124, \"\", \"\", \"\", \"\", \"\", \"\", 0.8590341866273601, \"\", \"\", 0.6669190249500793, 1.0213476794016925, \"\", 0.2185285047263812, 1.8076551429296701, \"\", 0.7060976855244957, 0.21670094808793372, \"\", 1.7724152219725133, 0.6461661388475461, \"\", 0.5755210479316277, 1.6933095980236361, \"\", 1.9271286329727662, \"\", \"\", 1.6150192858065011, \"\", 0.5605249320863299, 1.9437020538582719], \"yaxis\": \"y2\"}, {\"connectgaps\": false, \"fill\": \"tozeroy\", \"line\": {\"color\": \"red\", \"dash\": \"solid\", \"shape\": \"linear\", \"width\": 0.5}, \"mode\": \"lines\", \"name\": \"Spread\", \"showlegend\": false, \"type\": \"scatter\", \"x\": [0, 1, 2, 3, 4, 5, 6, 7, 8, 9, 10, 11, 12, 13, 14, 15, 16, 17, 18, 19, 20, 21, 22, 23, 24, 25, 26, 27, 28, 29, 30, 31, 32, 33, 34, 35, 36, 37, 38, 39, 40, 41, 42, 43, 44, 45, 46, 47, 48, 49, 50, 51, 52, 53, 54, 55, 56, 57, 58, 59, 60, 61, 62, 63, 64, 65, 66, 67, 68, 69, 70, 71, 72, 73, 74, 75, 76, 77, 78, 79, 80, 81, 82, 83, 84, 85, 86, 87, 88, 89, 90, 91, 92, 93, 94, 95, 96, 97, 98, 99], \"xaxis\": \"x2\", \"y\": [-2.4921142900122812, \"\", -0.14717695543180898, -1.0385917069317514, -0.6937346543972838, \"\", -1.8090791368945232, \"\", \"\", \"\", \"\", -0.7233308148094664, \"\", -0.5140142822894622, -0.6812858987315729, \"\", \"\", \"\", \"\", \"\", \"\", \"\", -0.5019243358315573, -0.9194417062850733, -1.202617505823804, -2.190768156409315, \"\", -0.39983117048876, -2.4149368442601467, \"\", -0.1910637507637023, -0.16986566229451924, -0.45699050059169344, \"\", \"\", -0.8496294524464487, -1.0990985435910952, -1.2433993155446048, \"\", \"\", \"\", -1.951172840341104, -1.0831741109974988, -1.2274497017681694, \"\", \"\", \"\", -1.4110587992343435, -0.8607226034947948, -1.169675167691741, -0.24908628897955482, -2.389083033704794, \"\", \"\", -1.0365290087497014, -0.08170186540126323, \"\", -1.5113686994204056, -0.18204412594079591, -0.7978589755896368, \"\", \"\", -1.3436346094575506, \"\", \"\", \"\", \"\", \"\", \"\", -0.29912800130824513, -2.6243929988373815, -1.5467276510115542, -1.0399963964194316, -1.0464292724716695, -0.0322972880386555, \"\", -1.2998802833132737, -1.2115681935882023, \"\", \"\", -1.4014937099566285, \"\", \"\", -0.6361308172160057, \"\", \"\", -1.1250311340530323, \"\", \"\", -0.026147614378628226, \"\", \"\", -2.1074133435818534, \"\", -1.841518991054783, -0.28475499909859014, \"\", -0.8351774803621985, \"\", \"\"], \"yaxis\": \"y2\"}],\n",
       "                        {\"hovermode\": \"x\", \"legend\": {\"bgcolor\": \"#F5F6F9\", \"font\": {\"color\": \"#4D5663\"}}, \"paper_bgcolor\": \"#F5F6F9\", \"plot_bgcolor\": \"#F5F6F9\", \"template\": {\"data\": {\"bar\": [{\"error_x\": {\"color\": \"#2a3f5f\"}, \"error_y\": {\"color\": \"#2a3f5f\"}, \"marker\": {\"line\": {\"color\": \"#E5ECF6\", \"width\": 0.5}}, \"type\": \"bar\"}], \"barpolar\": [{\"marker\": {\"line\": {\"color\": \"#E5ECF6\", \"width\": 0.5}}, \"type\": \"barpolar\"}], \"carpet\": [{\"aaxis\": {\"endlinecolor\": \"#2a3f5f\", \"gridcolor\": \"white\", \"linecolor\": \"white\", \"minorgridcolor\": \"white\", \"startlinecolor\": \"#2a3f5f\"}, \"baxis\": {\"endlinecolor\": \"#2a3f5f\", \"gridcolor\": \"white\", \"linecolor\": \"white\", \"minorgridcolor\": \"white\", \"startlinecolor\": \"#2a3f5f\"}, \"type\": \"carpet\"}], \"choropleth\": [{\"colorbar\": {\"outlinewidth\": 0, \"ticks\": \"\"}, \"type\": \"choropleth\"}], \"contour\": [{\"colorbar\": {\"outlinewidth\": 0, \"ticks\": \"\"}, \"colorscale\": [[0.0, \"#0d0887\"], [0.1111111111111111, \"#46039f\"], [0.2222222222222222, \"#7201a8\"], [0.3333333333333333, \"#9c179e\"], [0.4444444444444444, \"#bd3786\"], [0.5555555555555556, \"#d8576b\"], [0.6666666666666666, \"#ed7953\"], [0.7777777777777778, \"#fb9f3a\"], [0.8888888888888888, \"#fdca26\"], [1.0, \"#f0f921\"]], \"type\": \"contour\"}], \"contourcarpet\": [{\"colorbar\": {\"outlinewidth\": 0, \"ticks\": \"\"}, \"type\": \"contourcarpet\"}], \"heatmap\": [{\"colorbar\": {\"outlinewidth\": 0, \"ticks\": \"\"}, \"colorscale\": [[0.0, \"#0d0887\"], [0.1111111111111111, \"#46039f\"], [0.2222222222222222, \"#7201a8\"], [0.3333333333333333, \"#9c179e\"], [0.4444444444444444, \"#bd3786\"], [0.5555555555555556, \"#d8576b\"], [0.6666666666666666, \"#ed7953\"], [0.7777777777777778, \"#fb9f3a\"], [0.8888888888888888, \"#fdca26\"], [1.0, \"#f0f921\"]], \"type\": \"heatmap\"}], \"heatmapgl\": [{\"colorbar\": {\"outlinewidth\": 0, \"ticks\": \"\"}, \"colorscale\": [[0.0, \"#0d0887\"], [0.1111111111111111, \"#46039f\"], [0.2222222222222222, \"#7201a8\"], [0.3333333333333333, \"#9c179e\"], [0.4444444444444444, \"#bd3786\"], [0.5555555555555556, \"#d8576b\"], [0.6666666666666666, \"#ed7953\"], [0.7777777777777778, \"#fb9f3a\"], [0.8888888888888888, \"#fdca26\"], [1.0, \"#f0f921\"]], \"type\": \"heatmapgl\"}], \"histogram\": [{\"marker\": {\"colorbar\": {\"outlinewidth\": 0, \"ticks\": \"\"}}, \"type\": \"histogram\"}], \"histogram2d\": [{\"colorbar\": {\"outlinewidth\": 0, \"ticks\": \"\"}, \"colorscale\": [[0.0, \"#0d0887\"], [0.1111111111111111, \"#46039f\"], [0.2222222222222222, \"#7201a8\"], [0.3333333333333333, \"#9c179e\"], [0.4444444444444444, \"#bd3786\"], [0.5555555555555556, \"#d8576b\"], [0.6666666666666666, \"#ed7953\"], [0.7777777777777778, \"#fb9f3a\"], [0.8888888888888888, \"#fdca26\"], [1.0, \"#f0f921\"]], \"type\": \"histogram2d\"}], \"histogram2dcontour\": [{\"colorbar\": {\"outlinewidth\": 0, \"ticks\": \"\"}, \"colorscale\": [[0.0, \"#0d0887\"], [0.1111111111111111, \"#46039f\"], [0.2222222222222222, \"#7201a8\"], [0.3333333333333333, \"#9c179e\"], [0.4444444444444444, \"#bd3786\"], [0.5555555555555556, \"#d8576b\"], [0.6666666666666666, \"#ed7953\"], [0.7777777777777778, \"#fb9f3a\"], [0.8888888888888888, \"#fdca26\"], [1.0, \"#f0f921\"]], \"type\": \"histogram2dcontour\"}], \"mesh3d\": [{\"colorbar\": {\"outlinewidth\": 0, \"ticks\": \"\"}, \"type\": \"mesh3d\"}], \"parcoords\": [{\"line\": {\"colorbar\": {\"outlinewidth\": 0, \"ticks\": \"\"}}, \"type\": \"parcoords\"}], \"pie\": [{\"automargin\": true, \"type\": \"pie\"}], \"scatter\": [{\"marker\": {\"colorbar\": {\"outlinewidth\": 0, \"ticks\": \"\"}}, \"type\": \"scatter\"}], \"scatter3d\": [{\"line\": {\"colorbar\": {\"outlinewidth\": 0, \"ticks\": \"\"}}, \"marker\": {\"colorbar\": {\"outlinewidth\": 0, \"ticks\": \"\"}}, \"type\": \"scatter3d\"}], \"scattercarpet\": [{\"marker\": {\"colorbar\": {\"outlinewidth\": 0, \"ticks\": \"\"}}, \"type\": \"scattercarpet\"}], \"scattergeo\": [{\"marker\": {\"colorbar\": {\"outlinewidth\": 0, \"ticks\": \"\"}}, \"type\": \"scattergeo\"}], \"scattergl\": [{\"marker\": {\"colorbar\": {\"outlinewidth\": 0, \"ticks\": \"\"}}, \"type\": \"scattergl\"}], \"scattermapbox\": [{\"marker\": {\"colorbar\": {\"outlinewidth\": 0, \"ticks\": \"\"}}, \"type\": \"scattermapbox\"}], \"scatterpolar\": [{\"marker\": {\"colorbar\": {\"outlinewidth\": 0, \"ticks\": \"\"}}, \"type\": \"scatterpolar\"}], \"scatterpolargl\": [{\"marker\": {\"colorbar\": {\"outlinewidth\": 0, \"ticks\": \"\"}}, \"type\": \"scatterpolargl\"}], \"scatterternary\": [{\"marker\": {\"colorbar\": {\"outlinewidth\": 0, \"ticks\": \"\"}}, \"type\": \"scatterternary\"}], \"surface\": [{\"colorbar\": {\"outlinewidth\": 0, \"ticks\": \"\"}, \"colorscale\": [[0.0, \"#0d0887\"], [0.1111111111111111, \"#46039f\"], [0.2222222222222222, \"#7201a8\"], [0.3333333333333333, \"#9c179e\"], [0.4444444444444444, \"#bd3786\"], [0.5555555555555556, \"#d8576b\"], [0.6666666666666666, \"#ed7953\"], [0.7777777777777778, \"#fb9f3a\"], [0.8888888888888888, \"#fdca26\"], [1.0, \"#f0f921\"]], \"type\": \"surface\"}], \"table\": [{\"cells\": {\"fill\": {\"color\": \"#EBF0F8\"}, \"line\": {\"color\": \"white\"}}, \"header\": {\"fill\": {\"color\": \"#C8D4E3\"}, \"line\": {\"color\": \"white\"}}, \"type\": \"table\"}]}, \"layout\": {\"annotationdefaults\": {\"arrowcolor\": \"#2a3f5f\", \"arrowhead\": 0, \"arrowwidth\": 1}, \"coloraxis\": {\"colorbar\": {\"outlinewidth\": 0, \"ticks\": \"\"}}, \"colorscale\": {\"diverging\": [[0, \"#8e0152\"], [0.1, \"#c51b7d\"], [0.2, \"#de77ae\"], [0.3, \"#f1b6da\"], [0.4, \"#fde0ef\"], [0.5, \"#f7f7f7\"], [0.6, \"#e6f5d0\"], [0.7, \"#b8e186\"], [0.8, \"#7fbc41\"], [0.9, \"#4d9221\"], [1, \"#276419\"]], \"sequential\": [[0.0, \"#0d0887\"], [0.1111111111111111, \"#46039f\"], [0.2222222222222222, \"#7201a8\"], [0.3333333333333333, \"#9c179e\"], [0.4444444444444444, \"#bd3786\"], [0.5555555555555556, \"#d8576b\"], [0.6666666666666666, \"#ed7953\"], [0.7777777777777778, \"#fb9f3a\"], [0.8888888888888888, \"#fdca26\"], [1.0, \"#f0f921\"]], \"sequentialminus\": [[0.0, \"#0d0887\"], [0.1111111111111111, \"#46039f\"], [0.2222222222222222, \"#7201a8\"], [0.3333333333333333, \"#9c179e\"], [0.4444444444444444, \"#bd3786\"], [0.5555555555555556, \"#d8576b\"], [0.6666666666666666, \"#ed7953\"], [0.7777777777777778, \"#fb9f3a\"], [0.8888888888888888, \"#fdca26\"], [1.0, \"#f0f921\"]]}, \"colorway\": [\"#636efa\", \"#EF553B\", \"#00cc96\", \"#ab63fa\", \"#FFA15A\", \"#19d3f3\", \"#FF6692\", \"#B6E880\", \"#FF97FF\", \"#FECB52\"], \"font\": {\"color\": \"#2a3f5f\"}, \"geo\": {\"bgcolor\": \"white\", \"lakecolor\": \"white\", \"landcolor\": \"#E5ECF6\", \"showlakes\": true, \"showland\": true, \"subunitcolor\": \"white\"}, \"hoverlabel\": {\"align\": \"left\"}, \"hovermode\": \"closest\", \"mapbox\": {\"style\": \"light\"}, \"paper_bgcolor\": \"white\", \"plot_bgcolor\": \"#E5ECF6\", \"polar\": {\"angularaxis\": {\"gridcolor\": \"white\", \"linecolor\": \"white\", \"ticks\": \"\"}, \"bgcolor\": \"#E5ECF6\", \"radialaxis\": {\"gridcolor\": \"white\", \"linecolor\": \"white\", \"ticks\": \"\"}}, \"scene\": {\"xaxis\": {\"backgroundcolor\": \"#E5ECF6\", \"gridcolor\": \"white\", \"gridwidth\": 2, \"linecolor\": \"white\", \"showbackground\": true, \"ticks\": \"\", \"zerolinecolor\": \"white\"}, \"yaxis\": {\"backgroundcolor\": \"#E5ECF6\", \"gridcolor\": \"white\", \"gridwidth\": 2, \"linecolor\": \"white\", \"showbackground\": true, \"ticks\": \"\", \"zerolinecolor\": \"white\"}, \"zaxis\": {\"backgroundcolor\": \"#E5ECF6\", \"gridcolor\": \"white\", \"gridwidth\": 2, \"linecolor\": \"white\", \"showbackground\": true, \"ticks\": \"\", \"zerolinecolor\": \"white\"}}, \"shapedefaults\": {\"line\": {\"color\": \"#2a3f5f\"}}, \"ternary\": {\"aaxis\": {\"gridcolor\": \"white\", \"linecolor\": \"white\", \"ticks\": \"\"}, \"baxis\": {\"gridcolor\": \"white\", \"linecolor\": \"white\", \"ticks\": \"\"}, \"bgcolor\": \"#E5ECF6\", \"caxis\": {\"gridcolor\": \"white\", \"linecolor\": \"white\", \"ticks\": \"\"}}, \"title\": {\"x\": 0.05}, \"xaxis\": {\"automargin\": true, \"gridcolor\": \"white\", \"linecolor\": \"white\", \"ticks\": \"\", \"title\": {\"standoff\": 15}, \"zerolinecolor\": \"white\", \"zerolinewidth\": 2}, \"yaxis\": {\"automargin\": true, \"gridcolor\": \"white\", \"linecolor\": \"white\", \"ticks\": \"\", \"title\": {\"standoff\": 15}, \"zerolinecolor\": \"white\", \"zerolinewidth\": 2}}}, \"title\": {\"font\": {\"color\": \"#4D5663\"}}, \"xaxis\": {\"gridcolor\": \"#E1E5ED\", \"showgrid\": true, \"tickfont\": {\"color\": \"#4D5663\"}, \"title\": {\"font\": {\"color\": \"#4D5663\"}, \"text\": \"\"}, \"zerolinecolor\": \"#E1E5ED\"}, \"xaxis2\": {\"anchor\": \"y2\", \"gridcolor\": \"#E1E5ED\", \"showgrid\": true, \"showticklabels\": false, \"tickfont\": {\"color\": \"#4D5663\"}, \"title\": {\"font\": {\"color\": \"#4D5663\"}, \"text\": \"\"}, \"zerolinecolor\": \"#E1E5ED\"}, \"yaxis\": {\"domain\": [0.3, 1], \"gridcolor\": \"#E1E5ED\", \"showgrid\": true, \"tickfont\": {\"color\": \"#4D5663\"}, \"title\": {\"font\": {\"color\": \"#4D5663\"}, \"text\": \"\"}, \"zerolinecolor\": \"#E1E5ED\"}, \"yaxis2\": {\"domain\": [0, 0.25], \"gridcolor\": \"#E1E5ED\", \"showgrid\": true, \"tickfont\": {\"color\": \"#4D5663\"}, \"title\": {\"font\": {\"color\": \"#4D5663\"}, \"text\": \"Spread\"}, \"zerolinecolor\": \"#E1E5ED\"}},\n",
       "                        {\"showLink\": true, \"linkText\": \"Export to plot.ly\", \"plotlyServerURL\": \"https://plot.ly\", \"responsive\": true}\n",
       "                    ).then(function(){\n",
       "                            \n",
       "var gd = document.getElementById('0de7c730-44e7-489d-ad79-f42da691737c');\n",
       "var x = new MutationObserver(function (mutations, observer) {{\n",
       "        var display = window.getComputedStyle(gd).display;\n",
       "        if (!display || display === 'none') {{\n",
       "            console.log([gd, 'removed!']);\n",
       "            Plotly.purge(gd);\n",
       "            observer.disconnect();\n",
       "        }}\n",
       "}});\n",
       "\n",
       "// Listen for the removal of the full notebook cells\n",
       "var notebookContainer = gd.closest('#notebook-container');\n",
       "if (notebookContainer) {{\n",
       "    x.observe(notebookContainer, {childList: true});\n",
       "}}\n",
       "\n",
       "// Listen for the clearing of the current output cell\n",
       "var outputEl = gd.closest('.output');\n",
       "if (outputEl) {{\n",
       "    x.observe(outputEl, {childList: true});\n",
       "}}\n",
       "\n",
       "                        })\n",
       "                };\n",
       "                });\n",
       "            </script>\n",
       "        </div>"
      ]
     },
     "metadata": {},
     "output_type": "display_data"
    }
   ],
   "source": [
    "df[['A','B']].iplot(kind='spread')"
   ]
  },
  {
   "cell_type": "markdown",
   "metadata": {},
   "source": [
    "## histogram"
   ]
  },
  {
   "cell_type": "code",
   "execution_count": 24,
   "metadata": {},
   "outputs": [
    {
     "data": {
      "application/vnd.plotly.v1+json": {
       "config": {
        "linkText": "Export to plot.ly",
        "plotlyServerURL": "https://plot.ly",
        "showLink": true
       },
       "data": [
        {
         "histfunc": "count",
         "histnorm": "",
         "marker": {
          "color": "rgba(255, 153, 51, 1.0)",
          "line": {
           "color": "#4D5663",
           "width": 1.3
          }
         },
         "name": "A",
         "nbinsx": 25,
         "opacity": 0.8,
         "orientation": "v",
         "type": "histogram",
         "x": [
          -1.7664723391769375,
          1.3723961024111873,
          -0.16862382412950433,
          -0.4686727100182148,
          0.10524460974524735,
          -0.7962133829694761,
          -0.5298304180895901,
          0.6146238526515427,
          1.7292353993593634,
          0.07182212081760649,
          0.6684096748052933,
          -0.7800699149728171,
          1.5417320664306207,
          0.07871196129574386,
          -0.47912331954576354,
          0.49497874036995887,
          -0.8365379495421281,
          0.8100732064576514,
          1.504386579851412,
          1.3050146148625914,
          0.2327163067386028,
          -0.311794801754074,
          1.11803293083804,
          -0.2694022385891882,
          -1.9310046515278843,
          -0.7310345896030418,
          0.05597051235353513,
          -0.2670042140271307,
          -1.6328456299792342,
          1.6776349536213664,
          -0.8913226475416959,
          -0.20080795498403306,
          -2.0060384793844857,
          -0.16886522736983173,
          0.025069872614478645,
          -2.7983998538120525,
          -0.8296821954277036,
          -1.9867158696502034,
          0.2564426559057547,
          0.050771092269586864,
          0.06129118607457183,
          -1.4499164910285043,
          -0.7360201539756989,
          -1.2031929519207538,
          1.5075211502660624,
          0.9044128941163659,
          2.784660416932731,
          0.32705586003758896,
          -0.5137018289027601,
          -0.7574469128514296,
          -0.49514121798295785,
          -0.888912752461698,
          1.1174340171108508,
          1.907646220570275,
          -1.0537892813370076,
          0.425646641425545,
          -0.7082382696496868,
          -0.25756424708664577,
          -0.3605967100447902,
          -0.9910768416671183,
          0.6621518651077974,
          -0.3954043976512718,
          0.44955446684650807,
          1.0298175988968659,
          0.10641679029381493,
          0.9506947884212149,
          0.3278939302509376,
          -1.0602297237402718,
          0.11544492678947446,
          -1.0668802252218457,
          -1.9183668765571822,
          -0.8424470502410739,
          1.2075751433374757,
          0.7105708383905097,
          -0.3782733230042047,
          0.7870014181532221,
          0.08954649196791556,
          -1.166764582805965,
          0.6212228154843119,
          0.8308641409300191,
          -2.0347968071431044,
          1.2253581412652095,
          -0.9215248386855428,
          0.18688974053934473,
          0.30853112042580283,
          0.8420608730484123,
          -1.262211780112218,
          0.11362895802530086,
          0.62441011985385,
          -0.8495669500347244,
          -0.6409877413673586,
          0.5746315825425063,
          -1.9814150215828208,
          2.299270468997804,
          -0.5435018086035873,
          0.47492251312272793,
          0.34442197771751076,
          -1.6442326270930063,
          0.4553135548589679,
          0.4300313241505395
         ]
        }
       ],
       "layout": {
        "barmode": "overlay",
        "legend": {
         "bgcolor": "#F5F6F9",
         "font": {
          "color": "#4D5663"
         }
        },
        "paper_bgcolor": "#F5F6F9",
        "plot_bgcolor": "#F5F6F9",
        "template": {
         "data": {
          "bar": [
           {
            "error_x": {
             "color": "#2a3f5f"
            },
            "error_y": {
             "color": "#2a3f5f"
            },
            "marker": {
             "line": {
              "color": "#E5ECF6",
              "width": 0.5
             }
            },
            "type": "bar"
           }
          ],
          "barpolar": [
           {
            "marker": {
             "line": {
              "color": "#E5ECF6",
              "width": 0.5
             }
            },
            "type": "barpolar"
           }
          ],
          "carpet": [
           {
            "aaxis": {
             "endlinecolor": "#2a3f5f",
             "gridcolor": "white",
             "linecolor": "white",
             "minorgridcolor": "white",
             "startlinecolor": "#2a3f5f"
            },
            "baxis": {
             "endlinecolor": "#2a3f5f",
             "gridcolor": "white",
             "linecolor": "white",
             "minorgridcolor": "white",
             "startlinecolor": "#2a3f5f"
            },
            "type": "carpet"
           }
          ],
          "choropleth": [
           {
            "colorbar": {
             "outlinewidth": 0,
             "ticks": ""
            },
            "type": "choropleth"
           }
          ],
          "contour": [
           {
            "colorbar": {
             "outlinewidth": 0,
             "ticks": ""
            },
            "colorscale": [
             [
              0,
              "#0d0887"
             ],
             [
              0.1111111111111111,
              "#46039f"
             ],
             [
              0.2222222222222222,
              "#7201a8"
             ],
             [
              0.3333333333333333,
              "#9c179e"
             ],
             [
              0.4444444444444444,
              "#bd3786"
             ],
             [
              0.5555555555555556,
              "#d8576b"
             ],
             [
              0.6666666666666666,
              "#ed7953"
             ],
             [
              0.7777777777777778,
              "#fb9f3a"
             ],
             [
              0.8888888888888888,
              "#fdca26"
             ],
             [
              1,
              "#f0f921"
             ]
            ],
            "type": "contour"
           }
          ],
          "contourcarpet": [
           {
            "colorbar": {
             "outlinewidth": 0,
             "ticks": ""
            },
            "type": "contourcarpet"
           }
          ],
          "heatmap": [
           {
            "colorbar": {
             "outlinewidth": 0,
             "ticks": ""
            },
            "colorscale": [
             [
              0,
              "#0d0887"
             ],
             [
              0.1111111111111111,
              "#46039f"
             ],
             [
              0.2222222222222222,
              "#7201a8"
             ],
             [
              0.3333333333333333,
              "#9c179e"
             ],
             [
              0.4444444444444444,
              "#bd3786"
             ],
             [
              0.5555555555555556,
              "#d8576b"
             ],
             [
              0.6666666666666666,
              "#ed7953"
             ],
             [
              0.7777777777777778,
              "#fb9f3a"
             ],
             [
              0.8888888888888888,
              "#fdca26"
             ],
             [
              1,
              "#f0f921"
             ]
            ],
            "type": "heatmap"
           }
          ],
          "heatmapgl": [
           {
            "colorbar": {
             "outlinewidth": 0,
             "ticks": ""
            },
            "colorscale": [
             [
              0,
              "#0d0887"
             ],
             [
              0.1111111111111111,
              "#46039f"
             ],
             [
              0.2222222222222222,
              "#7201a8"
             ],
             [
              0.3333333333333333,
              "#9c179e"
             ],
             [
              0.4444444444444444,
              "#bd3786"
             ],
             [
              0.5555555555555556,
              "#d8576b"
             ],
             [
              0.6666666666666666,
              "#ed7953"
             ],
             [
              0.7777777777777778,
              "#fb9f3a"
             ],
             [
              0.8888888888888888,
              "#fdca26"
             ],
             [
              1,
              "#f0f921"
             ]
            ],
            "type": "heatmapgl"
           }
          ],
          "histogram": [
           {
            "marker": {
             "colorbar": {
              "outlinewidth": 0,
              "ticks": ""
             }
            },
            "type": "histogram"
           }
          ],
          "histogram2d": [
           {
            "colorbar": {
             "outlinewidth": 0,
             "ticks": ""
            },
            "colorscale": [
             [
              0,
              "#0d0887"
             ],
             [
              0.1111111111111111,
              "#46039f"
             ],
             [
              0.2222222222222222,
              "#7201a8"
             ],
             [
              0.3333333333333333,
              "#9c179e"
             ],
             [
              0.4444444444444444,
              "#bd3786"
             ],
             [
              0.5555555555555556,
              "#d8576b"
             ],
             [
              0.6666666666666666,
              "#ed7953"
             ],
             [
              0.7777777777777778,
              "#fb9f3a"
             ],
             [
              0.8888888888888888,
              "#fdca26"
             ],
             [
              1,
              "#f0f921"
             ]
            ],
            "type": "histogram2d"
           }
          ],
          "histogram2dcontour": [
           {
            "colorbar": {
             "outlinewidth": 0,
             "ticks": ""
            },
            "colorscale": [
             [
              0,
              "#0d0887"
             ],
             [
              0.1111111111111111,
              "#46039f"
             ],
             [
              0.2222222222222222,
              "#7201a8"
             ],
             [
              0.3333333333333333,
              "#9c179e"
             ],
             [
              0.4444444444444444,
              "#bd3786"
             ],
             [
              0.5555555555555556,
              "#d8576b"
             ],
             [
              0.6666666666666666,
              "#ed7953"
             ],
             [
              0.7777777777777778,
              "#fb9f3a"
             ],
             [
              0.8888888888888888,
              "#fdca26"
             ],
             [
              1,
              "#f0f921"
             ]
            ],
            "type": "histogram2dcontour"
           }
          ],
          "mesh3d": [
           {
            "colorbar": {
             "outlinewidth": 0,
             "ticks": ""
            },
            "type": "mesh3d"
           }
          ],
          "parcoords": [
           {
            "line": {
             "colorbar": {
              "outlinewidth": 0,
              "ticks": ""
             }
            },
            "type": "parcoords"
           }
          ],
          "pie": [
           {
            "automargin": true,
            "type": "pie"
           }
          ],
          "scatter": [
           {
            "marker": {
             "colorbar": {
              "outlinewidth": 0,
              "ticks": ""
             }
            },
            "type": "scatter"
           }
          ],
          "scatter3d": [
           {
            "line": {
             "colorbar": {
              "outlinewidth": 0,
              "ticks": ""
             }
            },
            "marker": {
             "colorbar": {
              "outlinewidth": 0,
              "ticks": ""
             }
            },
            "type": "scatter3d"
           }
          ],
          "scattercarpet": [
           {
            "marker": {
             "colorbar": {
              "outlinewidth": 0,
              "ticks": ""
             }
            },
            "type": "scattercarpet"
           }
          ],
          "scattergeo": [
           {
            "marker": {
             "colorbar": {
              "outlinewidth": 0,
              "ticks": ""
             }
            },
            "type": "scattergeo"
           }
          ],
          "scattergl": [
           {
            "marker": {
             "colorbar": {
              "outlinewidth": 0,
              "ticks": ""
             }
            },
            "type": "scattergl"
           }
          ],
          "scattermapbox": [
           {
            "marker": {
             "colorbar": {
              "outlinewidth": 0,
              "ticks": ""
             }
            },
            "type": "scattermapbox"
           }
          ],
          "scatterpolar": [
           {
            "marker": {
             "colorbar": {
              "outlinewidth": 0,
              "ticks": ""
             }
            },
            "type": "scatterpolar"
           }
          ],
          "scatterpolargl": [
           {
            "marker": {
             "colorbar": {
              "outlinewidth": 0,
              "ticks": ""
             }
            },
            "type": "scatterpolargl"
           }
          ],
          "scatterternary": [
           {
            "marker": {
             "colorbar": {
              "outlinewidth": 0,
              "ticks": ""
             }
            },
            "type": "scatterternary"
           }
          ],
          "surface": [
           {
            "colorbar": {
             "outlinewidth": 0,
             "ticks": ""
            },
            "colorscale": [
             [
              0,
              "#0d0887"
             ],
             [
              0.1111111111111111,
              "#46039f"
             ],
             [
              0.2222222222222222,
              "#7201a8"
             ],
             [
              0.3333333333333333,
              "#9c179e"
             ],
             [
              0.4444444444444444,
              "#bd3786"
             ],
             [
              0.5555555555555556,
              "#d8576b"
             ],
             [
              0.6666666666666666,
              "#ed7953"
             ],
             [
              0.7777777777777778,
              "#fb9f3a"
             ],
             [
              0.8888888888888888,
              "#fdca26"
             ],
             [
              1,
              "#f0f921"
             ]
            ],
            "type": "surface"
           }
          ],
          "table": [
           {
            "cells": {
             "fill": {
              "color": "#EBF0F8"
             },
             "line": {
              "color": "white"
             }
            },
            "header": {
             "fill": {
              "color": "#C8D4E3"
             },
             "line": {
              "color": "white"
             }
            },
            "type": "table"
           }
          ]
         },
         "layout": {
          "annotationdefaults": {
           "arrowcolor": "#2a3f5f",
           "arrowhead": 0,
           "arrowwidth": 1
          },
          "coloraxis": {
           "colorbar": {
            "outlinewidth": 0,
            "ticks": ""
           }
          },
          "colorscale": {
           "diverging": [
            [
             0,
             "#8e0152"
            ],
            [
             0.1,
             "#c51b7d"
            ],
            [
             0.2,
             "#de77ae"
            ],
            [
             0.3,
             "#f1b6da"
            ],
            [
             0.4,
             "#fde0ef"
            ],
            [
             0.5,
             "#f7f7f7"
            ],
            [
             0.6,
             "#e6f5d0"
            ],
            [
             0.7,
             "#b8e186"
            ],
            [
             0.8,
             "#7fbc41"
            ],
            [
             0.9,
             "#4d9221"
            ],
            [
             1,
             "#276419"
            ]
           ],
           "sequential": [
            [
             0,
             "#0d0887"
            ],
            [
             0.1111111111111111,
             "#46039f"
            ],
            [
             0.2222222222222222,
             "#7201a8"
            ],
            [
             0.3333333333333333,
             "#9c179e"
            ],
            [
             0.4444444444444444,
             "#bd3786"
            ],
            [
             0.5555555555555556,
             "#d8576b"
            ],
            [
             0.6666666666666666,
             "#ed7953"
            ],
            [
             0.7777777777777778,
             "#fb9f3a"
            ],
            [
             0.8888888888888888,
             "#fdca26"
            ],
            [
             1,
             "#f0f921"
            ]
           ],
           "sequentialminus": [
            [
             0,
             "#0d0887"
            ],
            [
             0.1111111111111111,
             "#46039f"
            ],
            [
             0.2222222222222222,
             "#7201a8"
            ],
            [
             0.3333333333333333,
             "#9c179e"
            ],
            [
             0.4444444444444444,
             "#bd3786"
            ],
            [
             0.5555555555555556,
             "#d8576b"
            ],
            [
             0.6666666666666666,
             "#ed7953"
            ],
            [
             0.7777777777777778,
             "#fb9f3a"
            ],
            [
             0.8888888888888888,
             "#fdca26"
            ],
            [
             1,
             "#f0f921"
            ]
           ]
          },
          "colorway": [
           "#636efa",
           "#EF553B",
           "#00cc96",
           "#ab63fa",
           "#FFA15A",
           "#19d3f3",
           "#FF6692",
           "#B6E880",
           "#FF97FF",
           "#FECB52"
          ],
          "font": {
           "color": "#2a3f5f"
          },
          "geo": {
           "bgcolor": "white",
           "lakecolor": "white",
           "landcolor": "#E5ECF6",
           "showlakes": true,
           "showland": true,
           "subunitcolor": "white"
          },
          "hoverlabel": {
           "align": "left"
          },
          "hovermode": "closest",
          "mapbox": {
           "style": "light"
          },
          "paper_bgcolor": "white",
          "plot_bgcolor": "#E5ECF6",
          "polar": {
           "angularaxis": {
            "gridcolor": "white",
            "linecolor": "white",
            "ticks": ""
           },
           "bgcolor": "#E5ECF6",
           "radialaxis": {
            "gridcolor": "white",
            "linecolor": "white",
            "ticks": ""
           }
          },
          "scene": {
           "xaxis": {
            "backgroundcolor": "#E5ECF6",
            "gridcolor": "white",
            "gridwidth": 2,
            "linecolor": "white",
            "showbackground": true,
            "ticks": "",
            "zerolinecolor": "white"
           },
           "yaxis": {
            "backgroundcolor": "#E5ECF6",
            "gridcolor": "white",
            "gridwidth": 2,
            "linecolor": "white",
            "showbackground": true,
            "ticks": "",
            "zerolinecolor": "white"
           },
           "zaxis": {
            "backgroundcolor": "#E5ECF6",
            "gridcolor": "white",
            "gridwidth": 2,
            "linecolor": "white",
            "showbackground": true,
            "ticks": "",
            "zerolinecolor": "white"
           }
          },
          "shapedefaults": {
           "line": {
            "color": "#2a3f5f"
           }
          },
          "ternary": {
           "aaxis": {
            "gridcolor": "white",
            "linecolor": "white",
            "ticks": ""
           },
           "baxis": {
            "gridcolor": "white",
            "linecolor": "white",
            "ticks": ""
           },
           "bgcolor": "#E5ECF6",
           "caxis": {
            "gridcolor": "white",
            "linecolor": "white",
            "ticks": ""
           }
          },
          "title": {
           "x": 0.05
          },
          "xaxis": {
           "automargin": true,
           "gridcolor": "white",
           "linecolor": "white",
           "ticks": "",
           "title": {
            "standoff": 15
           },
           "zerolinecolor": "white",
           "zerolinewidth": 2
          },
          "yaxis": {
           "automargin": true,
           "gridcolor": "white",
           "linecolor": "white",
           "ticks": "",
           "title": {
            "standoff": 15
           },
           "zerolinecolor": "white",
           "zerolinewidth": 2
          }
         }
        },
        "title": {
         "font": {
          "color": "#4D5663"
         }
        },
        "xaxis": {
         "gridcolor": "#E1E5ED",
         "showgrid": true,
         "tickfont": {
          "color": "#4D5663"
         },
         "title": {
          "font": {
           "color": "#4D5663"
          },
          "text": ""
         },
         "zerolinecolor": "#E1E5ED"
        },
        "yaxis": {
         "gridcolor": "#E1E5ED",
         "showgrid": true,
         "tickfont": {
          "color": "#4D5663"
         },
         "title": {
          "font": {
           "color": "#4D5663"
          },
          "text": ""
         },
         "zerolinecolor": "#E1E5ED"
        }
       }
      },
      "text/html": [
       "<div>\n",
       "        \n",
       "        \n",
       "            <div id=\"ca32fe5d-362d-48da-b349-17e1935d52c8\" class=\"plotly-graph-div\" style=\"height:525px; width:100%;\"></div>\n",
       "            <script type=\"text/javascript\">\n",
       "                require([\"plotly\"], function(Plotly) {\n",
       "                    window.PLOTLYENV=window.PLOTLYENV || {};\n",
       "                    window.PLOTLYENV.BASE_URL='https://plot.ly';\n",
       "                    \n",
       "                if (document.getElementById(\"ca32fe5d-362d-48da-b349-17e1935d52c8\")) {\n",
       "                    Plotly.newPlot(\n",
       "                        'ca32fe5d-362d-48da-b349-17e1935d52c8',\n",
       "                        [{\"histfunc\": \"count\", \"histnorm\": \"\", \"marker\": {\"color\": \"rgba(255, 153, 51, 1.0)\", \"line\": {\"color\": \"#4D5663\", \"width\": 1.3}}, \"name\": \"A\", \"nbinsx\": 25, \"opacity\": 0.8, \"orientation\": \"v\", \"type\": \"histogram\", \"x\": [-1.7664723391769375, 1.3723961024111873, -0.16862382412950433, -0.4686727100182148, 0.10524460974524735, -0.7962133829694761, -0.5298304180895901, 0.6146238526515427, 1.7292353993593634, 0.07182212081760649, 0.6684096748052933, -0.7800699149728171, 1.5417320664306207, 0.07871196129574386, -0.47912331954576354, 0.49497874036995887, -0.8365379495421281, 0.8100732064576514, 1.504386579851412, 1.3050146148625914, 0.2327163067386028, -0.311794801754074, 1.11803293083804, -0.2694022385891882, -1.9310046515278843, -0.7310345896030418, 0.05597051235353513, -0.2670042140271307, -1.6328456299792342, 1.6776349536213664, -0.8913226475416959, -0.20080795498403306, -2.0060384793844857, -0.16886522736983173, 0.025069872614478645, -2.7983998538120525, -0.8296821954277036, -1.9867158696502034, 0.2564426559057547, 0.050771092269586864, 0.06129118607457183, -1.4499164910285043, -0.7360201539756989, -1.2031929519207538, 1.5075211502660624, 0.9044128941163659, 2.784660416932731, 0.32705586003758896, -0.5137018289027601, -0.7574469128514296, -0.49514121798295785, -0.888912752461698, 1.1174340171108508, 1.907646220570275, -1.0537892813370076, 0.425646641425545, -0.7082382696496868, -0.25756424708664577, -0.3605967100447902, -0.9910768416671183, 0.6621518651077974, -0.3954043976512718, 0.44955446684650807, 1.0298175988968659, 0.10641679029381493, 0.9506947884212149, 0.3278939302509376, -1.0602297237402718, 0.11544492678947446, -1.0668802252218457, -1.9183668765571822, -0.8424470502410739, 1.2075751433374757, 0.7105708383905097, -0.3782733230042047, 0.7870014181532221, 0.08954649196791556, -1.166764582805965, 0.6212228154843119, 0.8308641409300191, -2.0347968071431044, 1.2253581412652095, -0.9215248386855428, 0.18688974053934473, 0.30853112042580283, 0.8420608730484123, -1.262211780112218, 0.11362895802530086, 0.62441011985385, -0.8495669500347244, -0.6409877413673586, 0.5746315825425063, -1.9814150215828208, 2.299270468997804, -0.5435018086035873, 0.47492251312272793, 0.34442197771751076, -1.6442326270930063, 0.4553135548589679, 0.4300313241505395]}],\n",
       "                        {\"barmode\": \"overlay\", \"legend\": {\"bgcolor\": \"#F5F6F9\", \"font\": {\"color\": \"#4D5663\"}}, \"paper_bgcolor\": \"#F5F6F9\", \"plot_bgcolor\": \"#F5F6F9\", \"template\": {\"data\": {\"bar\": [{\"error_x\": {\"color\": \"#2a3f5f\"}, \"error_y\": {\"color\": \"#2a3f5f\"}, \"marker\": {\"line\": {\"color\": \"#E5ECF6\", \"width\": 0.5}}, \"type\": \"bar\"}], \"barpolar\": [{\"marker\": {\"line\": {\"color\": \"#E5ECF6\", \"width\": 0.5}}, \"type\": \"barpolar\"}], \"carpet\": [{\"aaxis\": {\"endlinecolor\": \"#2a3f5f\", \"gridcolor\": \"white\", \"linecolor\": \"white\", \"minorgridcolor\": \"white\", \"startlinecolor\": \"#2a3f5f\"}, \"baxis\": {\"endlinecolor\": \"#2a3f5f\", \"gridcolor\": \"white\", \"linecolor\": \"white\", \"minorgridcolor\": \"white\", \"startlinecolor\": \"#2a3f5f\"}, \"type\": \"carpet\"}], \"choropleth\": [{\"colorbar\": {\"outlinewidth\": 0, \"ticks\": \"\"}, \"type\": \"choropleth\"}], \"contour\": [{\"colorbar\": {\"outlinewidth\": 0, \"ticks\": \"\"}, \"colorscale\": [[0.0, \"#0d0887\"], [0.1111111111111111, \"#46039f\"], [0.2222222222222222, \"#7201a8\"], [0.3333333333333333, \"#9c179e\"], [0.4444444444444444, \"#bd3786\"], [0.5555555555555556, \"#d8576b\"], [0.6666666666666666, \"#ed7953\"], [0.7777777777777778, \"#fb9f3a\"], [0.8888888888888888, \"#fdca26\"], [1.0, \"#f0f921\"]], \"type\": \"contour\"}], \"contourcarpet\": [{\"colorbar\": {\"outlinewidth\": 0, \"ticks\": \"\"}, \"type\": \"contourcarpet\"}], \"heatmap\": [{\"colorbar\": {\"outlinewidth\": 0, \"ticks\": \"\"}, \"colorscale\": [[0.0, \"#0d0887\"], [0.1111111111111111, \"#46039f\"], [0.2222222222222222, \"#7201a8\"], [0.3333333333333333, \"#9c179e\"], [0.4444444444444444, \"#bd3786\"], [0.5555555555555556, \"#d8576b\"], [0.6666666666666666, \"#ed7953\"], [0.7777777777777778, \"#fb9f3a\"], [0.8888888888888888, \"#fdca26\"], [1.0, \"#f0f921\"]], \"type\": \"heatmap\"}], \"heatmapgl\": [{\"colorbar\": {\"outlinewidth\": 0, \"ticks\": \"\"}, \"colorscale\": [[0.0, \"#0d0887\"], [0.1111111111111111, \"#46039f\"], [0.2222222222222222, \"#7201a8\"], [0.3333333333333333, \"#9c179e\"], [0.4444444444444444, \"#bd3786\"], [0.5555555555555556, \"#d8576b\"], [0.6666666666666666, \"#ed7953\"], [0.7777777777777778, \"#fb9f3a\"], [0.8888888888888888, \"#fdca26\"], [1.0, \"#f0f921\"]], \"type\": \"heatmapgl\"}], \"histogram\": [{\"marker\": {\"colorbar\": {\"outlinewidth\": 0, \"ticks\": \"\"}}, \"type\": \"histogram\"}], \"histogram2d\": [{\"colorbar\": {\"outlinewidth\": 0, \"ticks\": \"\"}, \"colorscale\": [[0.0, \"#0d0887\"], [0.1111111111111111, \"#46039f\"], [0.2222222222222222, \"#7201a8\"], [0.3333333333333333, \"#9c179e\"], [0.4444444444444444, \"#bd3786\"], [0.5555555555555556, \"#d8576b\"], [0.6666666666666666, \"#ed7953\"], [0.7777777777777778, \"#fb9f3a\"], [0.8888888888888888, \"#fdca26\"], [1.0, \"#f0f921\"]], \"type\": \"histogram2d\"}], \"histogram2dcontour\": [{\"colorbar\": {\"outlinewidth\": 0, \"ticks\": \"\"}, \"colorscale\": [[0.0, \"#0d0887\"], [0.1111111111111111, \"#46039f\"], [0.2222222222222222, \"#7201a8\"], [0.3333333333333333, \"#9c179e\"], [0.4444444444444444, \"#bd3786\"], [0.5555555555555556, \"#d8576b\"], [0.6666666666666666, \"#ed7953\"], [0.7777777777777778, \"#fb9f3a\"], [0.8888888888888888, \"#fdca26\"], [1.0, \"#f0f921\"]], \"type\": \"histogram2dcontour\"}], \"mesh3d\": [{\"colorbar\": {\"outlinewidth\": 0, \"ticks\": \"\"}, \"type\": \"mesh3d\"}], \"parcoords\": [{\"line\": {\"colorbar\": {\"outlinewidth\": 0, \"ticks\": \"\"}}, \"type\": \"parcoords\"}], \"pie\": [{\"automargin\": true, \"type\": \"pie\"}], \"scatter\": [{\"marker\": {\"colorbar\": {\"outlinewidth\": 0, \"ticks\": \"\"}}, \"type\": \"scatter\"}], \"scatter3d\": [{\"line\": {\"colorbar\": {\"outlinewidth\": 0, \"ticks\": \"\"}}, \"marker\": {\"colorbar\": {\"outlinewidth\": 0, \"ticks\": \"\"}}, \"type\": \"scatter3d\"}], \"scattercarpet\": [{\"marker\": {\"colorbar\": {\"outlinewidth\": 0, \"ticks\": \"\"}}, \"type\": \"scattercarpet\"}], \"scattergeo\": [{\"marker\": {\"colorbar\": {\"outlinewidth\": 0, \"ticks\": \"\"}}, \"type\": \"scattergeo\"}], \"scattergl\": [{\"marker\": {\"colorbar\": {\"outlinewidth\": 0, \"ticks\": \"\"}}, \"type\": \"scattergl\"}], \"scattermapbox\": [{\"marker\": {\"colorbar\": {\"outlinewidth\": 0, \"ticks\": \"\"}}, \"type\": \"scattermapbox\"}], \"scatterpolar\": [{\"marker\": {\"colorbar\": {\"outlinewidth\": 0, \"ticks\": \"\"}}, \"type\": \"scatterpolar\"}], \"scatterpolargl\": [{\"marker\": {\"colorbar\": {\"outlinewidth\": 0, \"ticks\": \"\"}}, \"type\": \"scatterpolargl\"}], \"scatterternary\": [{\"marker\": {\"colorbar\": {\"outlinewidth\": 0, \"ticks\": \"\"}}, \"type\": \"scatterternary\"}], \"surface\": [{\"colorbar\": {\"outlinewidth\": 0, \"ticks\": \"\"}, \"colorscale\": [[0.0, \"#0d0887\"], [0.1111111111111111, \"#46039f\"], [0.2222222222222222, \"#7201a8\"], [0.3333333333333333, \"#9c179e\"], [0.4444444444444444, \"#bd3786\"], [0.5555555555555556, \"#d8576b\"], [0.6666666666666666, \"#ed7953\"], [0.7777777777777778, \"#fb9f3a\"], [0.8888888888888888, \"#fdca26\"], [1.0, \"#f0f921\"]], \"type\": \"surface\"}], \"table\": [{\"cells\": {\"fill\": {\"color\": \"#EBF0F8\"}, \"line\": {\"color\": \"white\"}}, \"header\": {\"fill\": {\"color\": \"#C8D4E3\"}, \"line\": {\"color\": \"white\"}}, \"type\": \"table\"}]}, \"layout\": {\"annotationdefaults\": {\"arrowcolor\": \"#2a3f5f\", \"arrowhead\": 0, \"arrowwidth\": 1}, \"coloraxis\": {\"colorbar\": {\"outlinewidth\": 0, \"ticks\": \"\"}}, \"colorscale\": {\"diverging\": [[0, \"#8e0152\"], [0.1, \"#c51b7d\"], [0.2, \"#de77ae\"], [0.3, \"#f1b6da\"], [0.4, \"#fde0ef\"], [0.5, \"#f7f7f7\"], [0.6, \"#e6f5d0\"], [0.7, \"#b8e186\"], [0.8, \"#7fbc41\"], [0.9, \"#4d9221\"], [1, \"#276419\"]], \"sequential\": [[0.0, \"#0d0887\"], [0.1111111111111111, \"#46039f\"], [0.2222222222222222, \"#7201a8\"], [0.3333333333333333, \"#9c179e\"], [0.4444444444444444, \"#bd3786\"], [0.5555555555555556, \"#d8576b\"], [0.6666666666666666, \"#ed7953\"], [0.7777777777777778, \"#fb9f3a\"], [0.8888888888888888, \"#fdca26\"], [1.0, \"#f0f921\"]], \"sequentialminus\": [[0.0, \"#0d0887\"], [0.1111111111111111, \"#46039f\"], [0.2222222222222222, \"#7201a8\"], [0.3333333333333333, \"#9c179e\"], [0.4444444444444444, \"#bd3786\"], [0.5555555555555556, \"#d8576b\"], [0.6666666666666666, \"#ed7953\"], [0.7777777777777778, \"#fb9f3a\"], [0.8888888888888888, \"#fdca26\"], [1.0, \"#f0f921\"]]}, \"colorway\": [\"#636efa\", \"#EF553B\", \"#00cc96\", \"#ab63fa\", \"#FFA15A\", \"#19d3f3\", \"#FF6692\", \"#B6E880\", \"#FF97FF\", \"#FECB52\"], \"font\": {\"color\": \"#2a3f5f\"}, \"geo\": {\"bgcolor\": \"white\", \"lakecolor\": \"white\", \"landcolor\": \"#E5ECF6\", \"showlakes\": true, \"showland\": true, \"subunitcolor\": \"white\"}, \"hoverlabel\": {\"align\": \"left\"}, \"hovermode\": \"closest\", \"mapbox\": {\"style\": \"light\"}, \"paper_bgcolor\": \"white\", \"plot_bgcolor\": \"#E5ECF6\", \"polar\": {\"angularaxis\": {\"gridcolor\": \"white\", \"linecolor\": \"white\", \"ticks\": \"\"}, \"bgcolor\": \"#E5ECF6\", \"radialaxis\": {\"gridcolor\": \"white\", \"linecolor\": \"white\", \"ticks\": \"\"}}, \"scene\": {\"xaxis\": {\"backgroundcolor\": \"#E5ECF6\", \"gridcolor\": \"white\", \"gridwidth\": 2, \"linecolor\": \"white\", \"showbackground\": true, \"ticks\": \"\", \"zerolinecolor\": \"white\"}, \"yaxis\": {\"backgroundcolor\": \"#E5ECF6\", \"gridcolor\": \"white\", \"gridwidth\": 2, \"linecolor\": \"white\", \"showbackground\": true, \"ticks\": \"\", \"zerolinecolor\": \"white\"}, \"zaxis\": {\"backgroundcolor\": \"#E5ECF6\", \"gridcolor\": \"white\", \"gridwidth\": 2, \"linecolor\": \"white\", \"showbackground\": true, \"ticks\": \"\", \"zerolinecolor\": \"white\"}}, \"shapedefaults\": {\"line\": {\"color\": \"#2a3f5f\"}}, \"ternary\": {\"aaxis\": {\"gridcolor\": \"white\", \"linecolor\": \"white\", \"ticks\": \"\"}, \"baxis\": {\"gridcolor\": \"white\", \"linecolor\": \"white\", \"ticks\": \"\"}, \"bgcolor\": \"#E5ECF6\", \"caxis\": {\"gridcolor\": \"white\", \"linecolor\": \"white\", \"ticks\": \"\"}}, \"title\": {\"x\": 0.05}, \"xaxis\": {\"automargin\": true, \"gridcolor\": \"white\", \"linecolor\": \"white\", \"ticks\": \"\", \"title\": {\"standoff\": 15}, \"zerolinecolor\": \"white\", \"zerolinewidth\": 2}, \"yaxis\": {\"automargin\": true, \"gridcolor\": \"white\", \"linecolor\": \"white\", \"ticks\": \"\", \"title\": {\"standoff\": 15}, \"zerolinecolor\": \"white\", \"zerolinewidth\": 2}}}, \"title\": {\"font\": {\"color\": \"#4D5663\"}}, \"xaxis\": {\"gridcolor\": \"#E1E5ED\", \"showgrid\": true, \"tickfont\": {\"color\": \"#4D5663\"}, \"title\": {\"font\": {\"color\": \"#4D5663\"}, \"text\": \"\"}, \"zerolinecolor\": \"#E1E5ED\"}, \"yaxis\": {\"gridcolor\": \"#E1E5ED\", \"showgrid\": true, \"tickfont\": {\"color\": \"#4D5663\"}, \"title\": {\"font\": {\"color\": \"#4D5663\"}, \"text\": \"\"}, \"zerolinecolor\": \"#E1E5ED\"}},\n",
       "                        {\"showLink\": true, \"linkText\": \"Export to plot.ly\", \"plotlyServerURL\": \"https://plot.ly\", \"responsive\": true}\n",
       "                    ).then(function(){\n",
       "                            \n",
       "var gd = document.getElementById('ca32fe5d-362d-48da-b349-17e1935d52c8');\n",
       "var x = new MutationObserver(function (mutations, observer) {{\n",
       "        var display = window.getComputedStyle(gd).display;\n",
       "        if (!display || display === 'none') {{\n",
       "            console.log([gd, 'removed!']);\n",
       "            Plotly.purge(gd);\n",
       "            observer.disconnect();\n",
       "        }}\n",
       "}});\n",
       "\n",
       "// Listen for the removal of the full notebook cells\n",
       "var notebookContainer = gd.closest('#notebook-container');\n",
       "if (notebookContainer) {{\n",
       "    x.observe(notebookContainer, {childList: true});\n",
       "}}\n",
       "\n",
       "// Listen for the clearing of the current output cell\n",
       "var outputEl = gd.closest('.output');\n",
       "if (outputEl) {{\n",
       "    x.observe(outputEl, {childList: true});\n",
       "}}\n",
       "\n",
       "                        })\n",
       "                };\n",
       "                });\n",
       "            </script>\n",
       "        </div>"
      ]
     },
     "metadata": {},
     "output_type": "display_data"
    }
   ],
   "source": [
    "df['A'].iplot(kind='hist',bins=25)"
   ]
  },
  {
   "cell_type": "code",
   "execution_count": 25,
   "metadata": {},
   "outputs": [
    {
     "data": {
      "application/vnd.plotly.v1+json": {
       "config": {
        "linkText": "Export to plot.ly",
        "plotlyServerURL": "https://plot.ly",
        "showLink": true
       },
       "data": [
        {
         "marker": {
          "color": [
           "rgb(255, 153, 51)",
           "rgb(55, 128, 191)",
           "rgb(50, 171, 96)",
           "rgb(128, 0, 128)",
           "rgb(219, 64, 82)",
           "rgb(0, 128, 128)",
           "rgb(255, 255, 51)",
           "rgb(128, 128, 0)",
           "rgb(251, 128, 114)",
           "rgb(128, 177, 211)"
          ],
          "line": {
           "width": 1.3
          },
          "size": [
           77,
           43,
           32,
           54,
           62,
           72,
           57,
           54,
           45,
           52,
           66,
           77,
           50,
           112,
           37,
           68,
           23,
           37,
           34,
           43,
           63,
           72,
           55,
           57,
           53,
           44,
           28,
           35,
           46,
           42,
           46,
           42,
           50,
           45,
           54,
           54,
           71,
           48,
           44,
           23,
           68,
           54,
           46,
           24,
           67,
           85,
           49,
           34,
           51,
           25,
           60,
           55,
           52,
           39,
           49,
           44,
           49,
           64,
           24,
           77,
           78,
           38,
           63,
           31,
           63,
           39,
           22,
           19,
           59,
           49,
           12,
           36,
           83,
           75,
           87,
           47,
           53,
           55,
           49,
           50,
           70,
           67,
           66,
           60,
           79,
           49,
           67,
           24,
           58,
           38,
           23,
           47,
           57,
           35,
           73,
           52,
           69,
           76,
           80,
           23
          ],
          "symbol": "circle"
         },
         "mode": "markers",
         "text": "",
         "type": "scatter",
         "x": [
          -1.7664723391769375,
          1.3723961024111873,
          -0.16862382412950433,
          -0.4686727100182148,
          0.10524460974524735,
          -0.7962133829694761,
          -0.5298304180895901,
          0.6146238526515427,
          1.7292353993593634,
          0.07182212081760649,
          0.6684096748052933,
          -0.7800699149728171,
          1.5417320664306207,
          0.07871196129574386,
          -0.47912331954576354,
          0.49497874036995887,
          -0.8365379495421281,
          0.8100732064576514,
          1.504386579851412,
          1.3050146148625914,
          0.2327163067386028,
          -0.311794801754074,
          1.11803293083804,
          -0.2694022385891882,
          -1.9310046515278843,
          -0.7310345896030418,
          0.05597051235353513,
          -0.2670042140271307,
          -1.6328456299792342,
          1.6776349536213664,
          -0.8913226475416959,
          -0.20080795498403306,
          -2.0060384793844857,
          -0.16886522736983173,
          0.025069872614478645,
          -2.7983998538120525,
          -0.8296821954277036,
          -1.9867158696502034,
          0.2564426559057547,
          0.050771092269586864,
          0.06129118607457183,
          -1.4499164910285043,
          -0.7360201539756989,
          -1.2031929519207538,
          1.5075211502660624,
          0.9044128941163659,
          2.784660416932731,
          0.32705586003758896,
          -0.5137018289027601,
          -0.7574469128514296,
          -0.49514121798295785,
          -0.888912752461698,
          1.1174340171108508,
          1.907646220570275,
          -1.0537892813370076,
          0.425646641425545,
          -0.7082382696496868,
          -0.25756424708664577,
          -0.3605967100447902,
          -0.9910768416671183,
          0.6621518651077974,
          -0.3954043976512718,
          0.44955446684650807,
          1.0298175988968659,
          0.10641679029381493,
          0.9506947884212149,
          0.3278939302509376,
          -1.0602297237402718,
          0.11544492678947446,
          -1.0668802252218457,
          -1.9183668765571822,
          -0.8424470502410739,
          1.2075751433374757,
          0.7105708383905097,
          -0.3782733230042047,
          0.7870014181532221,
          0.08954649196791556,
          -1.166764582805965,
          0.6212228154843119,
          0.8308641409300191,
          -2.0347968071431044,
          1.2253581412652095,
          -0.9215248386855428,
          0.18688974053934473,
          0.30853112042580283,
          0.8420608730484123,
          -1.262211780112218,
          0.11362895802530086,
          0.62441011985385,
          -0.8495669500347244,
          -0.6409877413673586,
          0.5746315825425063,
          -1.9814150215828208,
          2.299270468997804,
          -0.5435018086035873,
          0.47492251312272793,
          0.34442197771751076,
          -1.6442326270930063,
          0.4553135548589679,
          0.4300313241505395
         ],
         "y": [
          0.7256419508353439,
          0.4891359318991245,
          -0.021446868697695354,
          0.5699189969135365,
          0.7989792641425312,
          -1.2851113711634663,
          1.279248718804933,
          0.4749243626656492,
          -1.1845154110032723,
          -1.9648371522917485,
          0.5417860210162163,
          -0.05673910016335068,
          0.0018623938866737526,
          0.5927262435852061,
          0.20216257918580935,
          0.018492048888641987,
          -0.8520453035630274,
          -0.7248018007763332,
          0.34726843746070557,
          0.17253064301206017,
          -1.1819637870114659,
          -0.6291814509893625,
          1.6199572666695972,
          0.650039467695885,
          -0.7283871457040803,
          1.4597335668062734,
          -0.36608342132309374,
          0.1328269564616293,
          0.7820912142809123,
          1.1274247601021,
          -0.7002588967779936,
          -0.030942292689513824,
          -1.5490479787927922,
          -0.9642215465178909,
          -1.6446231055376166,
          -1.9487704013656038,
          0.2694163481633915,
          -0.7433165541055985,
          -0.2861089515191114,
          -0.3708999899691444,
          -2.3375584256560025,
          0.5012563493125995,
          0.34715395702179985,
          0.024256749847415444,
          -0.3312328565998601,
          -1.044843498615884,
          0.31828001324412447,
          1.7381146592719325,
          0.3470207745920348,
          0.41222825484031134,
          -0.24605492900340303,
          1.5001702812430961,
          0.15281977465056046,
          -1.164278703957203,
          -0.017260272587306055,
          0.5073485068268082,
          -1.7104644016532617,
          1.25380445233376,
          -0.1785525841039943,
          -0.1932178660774815,
          0.6107610891492199,
          -0.4443632806386484,
          1.7931890763040588,
          -1.1616309130455214,
          -0.8551089592882165,
          -1.3710997856428642,
          -0.6733777419252835,
          -1.2024844159213874,
          -0.3212272102990379,
          -0.7677522239136005,
          0.7060261222801993,
          0.7042806007704804,
          2.2475715397569074,
          1.7570001108621793,
          -0.3459760349655492,
          -0.07203276847413792,
          1.3894267752811893,
          0.044803610782237366,
          -0.04569620946576732,
          -0.19048353847167335,
          -0.6333030971864758,
          1.0068296365388283,
          -2.729179981615213,
          0.8230205577553504,
          -0.39756656509869287,
          0.6253599249604785,
          -0.1371806460591855,
          -1.6587862639472124,
          -0.02175601899369613,
          -0.8234193356560962,
          -1.2165087892989863,
          -1.1186780154811298,
          0.1259983219990328,
          0.3721418360250379,
          1.2980171824511955,
          0.7596775122213181,
          -1.2705973080889903,
          -0.8090551467308078,
          -0.10521137722736196,
          -1.5136707297077323
         ]
        }
       ],
       "layout": {
        "legend": {
         "bgcolor": "#F5F6F9",
         "font": {
          "color": "#4D5663"
         }
        },
        "paper_bgcolor": "#F5F6F9",
        "plot_bgcolor": "#F5F6F9",
        "template": {
         "data": {
          "bar": [
           {
            "error_x": {
             "color": "#2a3f5f"
            },
            "error_y": {
             "color": "#2a3f5f"
            },
            "marker": {
             "line": {
              "color": "#E5ECF6",
              "width": 0.5
             }
            },
            "type": "bar"
           }
          ],
          "barpolar": [
           {
            "marker": {
             "line": {
              "color": "#E5ECF6",
              "width": 0.5
             }
            },
            "type": "barpolar"
           }
          ],
          "carpet": [
           {
            "aaxis": {
             "endlinecolor": "#2a3f5f",
             "gridcolor": "white",
             "linecolor": "white",
             "minorgridcolor": "white",
             "startlinecolor": "#2a3f5f"
            },
            "baxis": {
             "endlinecolor": "#2a3f5f",
             "gridcolor": "white",
             "linecolor": "white",
             "minorgridcolor": "white",
             "startlinecolor": "#2a3f5f"
            },
            "type": "carpet"
           }
          ],
          "choropleth": [
           {
            "colorbar": {
             "outlinewidth": 0,
             "ticks": ""
            },
            "type": "choropleth"
           }
          ],
          "contour": [
           {
            "colorbar": {
             "outlinewidth": 0,
             "ticks": ""
            },
            "colorscale": [
             [
              0,
              "#0d0887"
             ],
             [
              0.1111111111111111,
              "#46039f"
             ],
             [
              0.2222222222222222,
              "#7201a8"
             ],
             [
              0.3333333333333333,
              "#9c179e"
             ],
             [
              0.4444444444444444,
              "#bd3786"
             ],
             [
              0.5555555555555556,
              "#d8576b"
             ],
             [
              0.6666666666666666,
              "#ed7953"
             ],
             [
              0.7777777777777778,
              "#fb9f3a"
             ],
             [
              0.8888888888888888,
              "#fdca26"
             ],
             [
              1,
              "#f0f921"
             ]
            ],
            "type": "contour"
           }
          ],
          "contourcarpet": [
           {
            "colorbar": {
             "outlinewidth": 0,
             "ticks": ""
            },
            "type": "contourcarpet"
           }
          ],
          "heatmap": [
           {
            "colorbar": {
             "outlinewidth": 0,
             "ticks": ""
            },
            "colorscale": [
             [
              0,
              "#0d0887"
             ],
             [
              0.1111111111111111,
              "#46039f"
             ],
             [
              0.2222222222222222,
              "#7201a8"
             ],
             [
              0.3333333333333333,
              "#9c179e"
             ],
             [
              0.4444444444444444,
              "#bd3786"
             ],
             [
              0.5555555555555556,
              "#d8576b"
             ],
             [
              0.6666666666666666,
              "#ed7953"
             ],
             [
              0.7777777777777778,
              "#fb9f3a"
             ],
             [
              0.8888888888888888,
              "#fdca26"
             ],
             [
              1,
              "#f0f921"
             ]
            ],
            "type": "heatmap"
           }
          ],
          "heatmapgl": [
           {
            "colorbar": {
             "outlinewidth": 0,
             "ticks": ""
            },
            "colorscale": [
             [
              0,
              "#0d0887"
             ],
             [
              0.1111111111111111,
              "#46039f"
             ],
             [
              0.2222222222222222,
              "#7201a8"
             ],
             [
              0.3333333333333333,
              "#9c179e"
             ],
             [
              0.4444444444444444,
              "#bd3786"
             ],
             [
              0.5555555555555556,
              "#d8576b"
             ],
             [
              0.6666666666666666,
              "#ed7953"
             ],
             [
              0.7777777777777778,
              "#fb9f3a"
             ],
             [
              0.8888888888888888,
              "#fdca26"
             ],
             [
              1,
              "#f0f921"
             ]
            ],
            "type": "heatmapgl"
           }
          ],
          "histogram": [
           {
            "marker": {
             "colorbar": {
              "outlinewidth": 0,
              "ticks": ""
             }
            },
            "type": "histogram"
           }
          ],
          "histogram2d": [
           {
            "colorbar": {
             "outlinewidth": 0,
             "ticks": ""
            },
            "colorscale": [
             [
              0,
              "#0d0887"
             ],
             [
              0.1111111111111111,
              "#46039f"
             ],
             [
              0.2222222222222222,
              "#7201a8"
             ],
             [
              0.3333333333333333,
              "#9c179e"
             ],
             [
              0.4444444444444444,
              "#bd3786"
             ],
             [
              0.5555555555555556,
              "#d8576b"
             ],
             [
              0.6666666666666666,
              "#ed7953"
             ],
             [
              0.7777777777777778,
              "#fb9f3a"
             ],
             [
              0.8888888888888888,
              "#fdca26"
             ],
             [
              1,
              "#f0f921"
             ]
            ],
            "type": "histogram2d"
           }
          ],
          "histogram2dcontour": [
           {
            "colorbar": {
             "outlinewidth": 0,
             "ticks": ""
            },
            "colorscale": [
             [
              0,
              "#0d0887"
             ],
             [
              0.1111111111111111,
              "#46039f"
             ],
             [
              0.2222222222222222,
              "#7201a8"
             ],
             [
              0.3333333333333333,
              "#9c179e"
             ],
             [
              0.4444444444444444,
              "#bd3786"
             ],
             [
              0.5555555555555556,
              "#d8576b"
             ],
             [
              0.6666666666666666,
              "#ed7953"
             ],
             [
              0.7777777777777778,
              "#fb9f3a"
             ],
             [
              0.8888888888888888,
              "#fdca26"
             ],
             [
              1,
              "#f0f921"
             ]
            ],
            "type": "histogram2dcontour"
           }
          ],
          "mesh3d": [
           {
            "colorbar": {
             "outlinewidth": 0,
             "ticks": ""
            },
            "type": "mesh3d"
           }
          ],
          "parcoords": [
           {
            "line": {
             "colorbar": {
              "outlinewidth": 0,
              "ticks": ""
             }
            },
            "type": "parcoords"
           }
          ],
          "pie": [
           {
            "automargin": true,
            "type": "pie"
           }
          ],
          "scatter": [
           {
            "marker": {
             "colorbar": {
              "outlinewidth": 0,
              "ticks": ""
             }
            },
            "type": "scatter"
           }
          ],
          "scatter3d": [
           {
            "line": {
             "colorbar": {
              "outlinewidth": 0,
              "ticks": ""
             }
            },
            "marker": {
             "colorbar": {
              "outlinewidth": 0,
              "ticks": ""
             }
            },
            "type": "scatter3d"
           }
          ],
          "scattercarpet": [
           {
            "marker": {
             "colorbar": {
              "outlinewidth": 0,
              "ticks": ""
             }
            },
            "type": "scattercarpet"
           }
          ],
          "scattergeo": [
           {
            "marker": {
             "colorbar": {
              "outlinewidth": 0,
              "ticks": ""
             }
            },
            "type": "scattergeo"
           }
          ],
          "scattergl": [
           {
            "marker": {
             "colorbar": {
              "outlinewidth": 0,
              "ticks": ""
             }
            },
            "type": "scattergl"
           }
          ],
          "scattermapbox": [
           {
            "marker": {
             "colorbar": {
              "outlinewidth": 0,
              "ticks": ""
             }
            },
            "type": "scattermapbox"
           }
          ],
          "scatterpolar": [
           {
            "marker": {
             "colorbar": {
              "outlinewidth": 0,
              "ticks": ""
             }
            },
            "type": "scatterpolar"
           }
          ],
          "scatterpolargl": [
           {
            "marker": {
             "colorbar": {
              "outlinewidth": 0,
              "ticks": ""
             }
            },
            "type": "scatterpolargl"
           }
          ],
          "scatterternary": [
           {
            "marker": {
             "colorbar": {
              "outlinewidth": 0,
              "ticks": ""
             }
            },
            "type": "scatterternary"
           }
          ],
          "surface": [
           {
            "colorbar": {
             "outlinewidth": 0,
             "ticks": ""
            },
            "colorscale": [
             [
              0,
              "#0d0887"
             ],
             [
              0.1111111111111111,
              "#46039f"
             ],
             [
              0.2222222222222222,
              "#7201a8"
             ],
             [
              0.3333333333333333,
              "#9c179e"
             ],
             [
              0.4444444444444444,
              "#bd3786"
             ],
             [
              0.5555555555555556,
              "#d8576b"
             ],
             [
              0.6666666666666666,
              "#ed7953"
             ],
             [
              0.7777777777777778,
              "#fb9f3a"
             ],
             [
              0.8888888888888888,
              "#fdca26"
             ],
             [
              1,
              "#f0f921"
             ]
            ],
            "type": "surface"
           }
          ],
          "table": [
           {
            "cells": {
             "fill": {
              "color": "#EBF0F8"
             },
             "line": {
              "color": "white"
             }
            },
            "header": {
             "fill": {
              "color": "#C8D4E3"
             },
             "line": {
              "color": "white"
             }
            },
            "type": "table"
           }
          ]
         },
         "layout": {
          "annotationdefaults": {
           "arrowcolor": "#2a3f5f",
           "arrowhead": 0,
           "arrowwidth": 1
          },
          "coloraxis": {
           "colorbar": {
            "outlinewidth": 0,
            "ticks": ""
           }
          },
          "colorscale": {
           "diverging": [
            [
             0,
             "#8e0152"
            ],
            [
             0.1,
             "#c51b7d"
            ],
            [
             0.2,
             "#de77ae"
            ],
            [
             0.3,
             "#f1b6da"
            ],
            [
             0.4,
             "#fde0ef"
            ],
            [
             0.5,
             "#f7f7f7"
            ],
            [
             0.6,
             "#e6f5d0"
            ],
            [
             0.7,
             "#b8e186"
            ],
            [
             0.8,
             "#7fbc41"
            ],
            [
             0.9,
             "#4d9221"
            ],
            [
             1,
             "#276419"
            ]
           ],
           "sequential": [
            [
             0,
             "#0d0887"
            ],
            [
             0.1111111111111111,
             "#46039f"
            ],
            [
             0.2222222222222222,
             "#7201a8"
            ],
            [
             0.3333333333333333,
             "#9c179e"
            ],
            [
             0.4444444444444444,
             "#bd3786"
            ],
            [
             0.5555555555555556,
             "#d8576b"
            ],
            [
             0.6666666666666666,
             "#ed7953"
            ],
            [
             0.7777777777777778,
             "#fb9f3a"
            ],
            [
             0.8888888888888888,
             "#fdca26"
            ],
            [
             1,
             "#f0f921"
            ]
           ],
           "sequentialminus": [
            [
             0,
             "#0d0887"
            ],
            [
             0.1111111111111111,
             "#46039f"
            ],
            [
             0.2222222222222222,
             "#7201a8"
            ],
            [
             0.3333333333333333,
             "#9c179e"
            ],
            [
             0.4444444444444444,
             "#bd3786"
            ],
            [
             0.5555555555555556,
             "#d8576b"
            ],
            [
             0.6666666666666666,
             "#ed7953"
            ],
            [
             0.7777777777777778,
             "#fb9f3a"
            ],
            [
             0.8888888888888888,
             "#fdca26"
            ],
            [
             1,
             "#f0f921"
            ]
           ]
          },
          "colorway": [
           "#636efa",
           "#EF553B",
           "#00cc96",
           "#ab63fa",
           "#FFA15A",
           "#19d3f3",
           "#FF6692",
           "#B6E880",
           "#FF97FF",
           "#FECB52"
          ],
          "font": {
           "color": "#2a3f5f"
          },
          "geo": {
           "bgcolor": "white",
           "lakecolor": "white",
           "landcolor": "#E5ECF6",
           "showlakes": true,
           "showland": true,
           "subunitcolor": "white"
          },
          "hoverlabel": {
           "align": "left"
          },
          "hovermode": "closest",
          "mapbox": {
           "style": "light"
          },
          "paper_bgcolor": "white",
          "plot_bgcolor": "#E5ECF6",
          "polar": {
           "angularaxis": {
            "gridcolor": "white",
            "linecolor": "white",
            "ticks": ""
           },
           "bgcolor": "#E5ECF6",
           "radialaxis": {
            "gridcolor": "white",
            "linecolor": "white",
            "ticks": ""
           }
          },
          "scene": {
           "xaxis": {
            "backgroundcolor": "#E5ECF6",
            "gridcolor": "white",
            "gridwidth": 2,
            "linecolor": "white",
            "showbackground": true,
            "ticks": "",
            "zerolinecolor": "white"
           },
           "yaxis": {
            "backgroundcolor": "#E5ECF6",
            "gridcolor": "white",
            "gridwidth": 2,
            "linecolor": "white",
            "showbackground": true,
            "ticks": "",
            "zerolinecolor": "white"
           },
           "zaxis": {
            "backgroundcolor": "#E5ECF6",
            "gridcolor": "white",
            "gridwidth": 2,
            "linecolor": "white",
            "showbackground": true,
            "ticks": "",
            "zerolinecolor": "white"
           }
          },
          "shapedefaults": {
           "line": {
            "color": "#2a3f5f"
           }
          },
          "ternary": {
           "aaxis": {
            "gridcolor": "white",
            "linecolor": "white",
            "ticks": ""
           },
           "baxis": {
            "gridcolor": "white",
            "linecolor": "white",
            "ticks": ""
           },
           "bgcolor": "#E5ECF6",
           "caxis": {
            "gridcolor": "white",
            "linecolor": "white",
            "ticks": ""
           }
          },
          "title": {
           "x": 0.05
          },
          "xaxis": {
           "automargin": true,
           "gridcolor": "white",
           "linecolor": "white",
           "ticks": "",
           "title": {
            "standoff": 15
           },
           "zerolinecolor": "white",
           "zerolinewidth": 2
          },
          "yaxis": {
           "automargin": true,
           "gridcolor": "white",
           "linecolor": "white",
           "ticks": "",
           "title": {
            "standoff": 15
           },
           "zerolinecolor": "white",
           "zerolinewidth": 2
          }
         }
        },
        "title": {
         "font": {
          "color": "#4D5663"
         }
        },
        "xaxis": {
         "gridcolor": "#E1E5ED",
         "showgrid": true,
         "tickfont": {
          "color": "#4D5663"
         },
         "title": {
          "font": {
           "color": "#4D5663"
          },
          "text": ""
         },
         "zerolinecolor": "#E1E5ED"
        },
        "yaxis": {
         "gridcolor": "#E1E5ED",
         "showgrid": true,
         "tickfont": {
          "color": "#4D5663"
         },
         "title": {
          "font": {
           "color": "#4D5663"
          },
          "text": ""
         },
         "zerolinecolor": "#E1E5ED"
        }
       }
      },
      "text/html": [
       "<div>\n",
       "        \n",
       "        \n",
       "            <div id=\"3ed96631-61c0-450c-97e9-753d74fcc56c\" class=\"plotly-graph-div\" style=\"height:525px; width:100%;\"></div>\n",
       "            <script type=\"text/javascript\">\n",
       "                require([\"plotly\"], function(Plotly) {\n",
       "                    window.PLOTLYENV=window.PLOTLYENV || {};\n",
       "                    window.PLOTLYENV.BASE_URL='https://plot.ly';\n",
       "                    \n",
       "                if (document.getElementById(\"3ed96631-61c0-450c-97e9-753d74fcc56c\")) {\n",
       "                    Plotly.newPlot(\n",
       "                        '3ed96631-61c0-450c-97e9-753d74fcc56c',\n",
       "                        [{\"marker\": {\"color\": [\"rgb(255, 153, 51)\", \"rgb(55, 128, 191)\", \"rgb(50, 171, 96)\", \"rgb(128, 0, 128)\", \"rgb(219, 64, 82)\", \"rgb(0, 128, 128)\", \"rgb(255, 255, 51)\", \"rgb(128, 128, 0)\", \"rgb(251, 128, 114)\", \"rgb(128, 177, 211)\"], \"line\": {\"width\": 1.3}, \"size\": [77, 43, 32, 54, 62, 72, 57, 54, 45, 52, 66, 77, 50, 112, 37, 68, 23, 37, 34, 43, 63, 72, 55, 57, 53, 44, 28, 35, 46, 42, 46, 42, 50, 45, 54, 54, 71, 48, 44, 23, 68, 54, 46, 24, 67, 85, 49, 34, 51, 25, 60, 55, 52, 39, 49, 44, 49, 64, 24, 77, 78, 38, 63, 31, 63, 39, 22, 19, 59, 49, 12, 36, 83, 75, 87, 47, 53, 55, 49, 50, 70, 67, 66, 60, 79, 49, 67, 24, 58, 38, 23, 47, 57, 35, 73, 52, 69, 76, 80, 23], \"symbol\": \"circle\"}, \"mode\": \"markers\", \"text\": \"\", \"type\": \"scatter\", \"x\": [-1.7664723391769375, 1.3723961024111873, -0.16862382412950433, -0.4686727100182148, 0.10524460974524735, -0.7962133829694761, -0.5298304180895901, 0.6146238526515427, 1.7292353993593634, 0.07182212081760649, 0.6684096748052933, -0.7800699149728171, 1.5417320664306207, 0.07871196129574386, -0.47912331954576354, 0.49497874036995887, -0.8365379495421281, 0.8100732064576514, 1.504386579851412, 1.3050146148625914, 0.2327163067386028, -0.311794801754074, 1.11803293083804, -0.2694022385891882, -1.9310046515278843, -0.7310345896030418, 0.05597051235353513, -0.2670042140271307, -1.6328456299792342, 1.6776349536213664, -0.8913226475416959, -0.20080795498403306, -2.0060384793844857, -0.16886522736983173, 0.025069872614478645, -2.7983998538120525, -0.8296821954277036, -1.9867158696502034, 0.2564426559057547, 0.050771092269586864, 0.06129118607457183, -1.4499164910285043, -0.7360201539756989, -1.2031929519207538, 1.5075211502660624, 0.9044128941163659, 2.784660416932731, 0.32705586003758896, -0.5137018289027601, -0.7574469128514296, -0.49514121798295785, -0.888912752461698, 1.1174340171108508, 1.907646220570275, -1.0537892813370076, 0.425646641425545, -0.7082382696496868, -0.25756424708664577, -0.3605967100447902, -0.9910768416671183, 0.6621518651077974, -0.3954043976512718, 0.44955446684650807, 1.0298175988968659, 0.10641679029381493, 0.9506947884212149, 0.3278939302509376, -1.0602297237402718, 0.11544492678947446, -1.0668802252218457, -1.9183668765571822, -0.8424470502410739, 1.2075751433374757, 0.7105708383905097, -0.3782733230042047, 0.7870014181532221, 0.08954649196791556, -1.166764582805965, 0.6212228154843119, 0.8308641409300191, -2.0347968071431044, 1.2253581412652095, -0.9215248386855428, 0.18688974053934473, 0.30853112042580283, 0.8420608730484123, -1.262211780112218, 0.11362895802530086, 0.62441011985385, -0.8495669500347244, -0.6409877413673586, 0.5746315825425063, -1.9814150215828208, 2.299270468997804, -0.5435018086035873, 0.47492251312272793, 0.34442197771751076, -1.6442326270930063, 0.4553135548589679, 0.4300313241505395], \"y\": [0.7256419508353439, 0.4891359318991245, -0.021446868697695354, 0.5699189969135365, 0.7989792641425312, -1.2851113711634663, 1.279248718804933, 0.4749243626656492, -1.1845154110032723, -1.9648371522917485, 0.5417860210162163, -0.05673910016335068, 0.0018623938866737526, 0.5927262435852061, 0.20216257918580935, 0.018492048888641987, -0.8520453035630274, -0.7248018007763332, 0.34726843746070557, 0.17253064301206017, -1.1819637870114659, -0.6291814509893625, 1.6199572666695972, 0.650039467695885, -0.7283871457040803, 1.4597335668062734, -0.36608342132309374, 0.1328269564616293, 0.7820912142809123, 1.1274247601021, -0.7002588967779936, -0.030942292689513824, -1.5490479787927922, -0.9642215465178909, -1.6446231055376166, -1.9487704013656038, 0.2694163481633915, -0.7433165541055985, -0.2861089515191114, -0.3708999899691444, -2.3375584256560025, 0.5012563493125995, 0.34715395702179985, 0.024256749847415444, -0.3312328565998601, -1.044843498615884, 0.31828001324412447, 1.7381146592719325, 0.3470207745920348, 0.41222825484031134, -0.24605492900340303, 1.5001702812430961, 0.15281977465056046, -1.164278703957203, -0.017260272587306055, 0.5073485068268082, -1.7104644016532617, 1.25380445233376, -0.1785525841039943, -0.1932178660774815, 0.6107610891492199, -0.4443632806386484, 1.7931890763040588, -1.1616309130455214, -0.8551089592882165, -1.3710997856428642, -0.6733777419252835, -1.2024844159213874, -0.3212272102990379, -0.7677522239136005, 0.7060261222801993, 0.7042806007704804, 2.2475715397569074, 1.7570001108621793, -0.3459760349655492, -0.07203276847413792, 1.3894267752811893, 0.044803610782237366, -0.04569620946576732, -0.19048353847167335, -0.6333030971864758, 1.0068296365388283, -2.729179981615213, 0.8230205577553504, -0.39756656509869287, 0.6253599249604785, -0.1371806460591855, -1.6587862639472124, -0.02175601899369613, -0.8234193356560962, -1.2165087892989863, -1.1186780154811298, 0.1259983219990328, 0.3721418360250379, 1.2980171824511955, 0.7596775122213181, -1.2705973080889903, -0.8090551467308078, -0.10521137722736196, -1.5136707297077323]}],\n",
       "                        {\"legend\": {\"bgcolor\": \"#F5F6F9\", \"font\": {\"color\": \"#4D5663\"}}, \"paper_bgcolor\": \"#F5F6F9\", \"plot_bgcolor\": \"#F5F6F9\", \"template\": {\"data\": {\"bar\": [{\"error_x\": {\"color\": \"#2a3f5f\"}, \"error_y\": {\"color\": \"#2a3f5f\"}, \"marker\": {\"line\": {\"color\": \"#E5ECF6\", \"width\": 0.5}}, \"type\": \"bar\"}], \"barpolar\": [{\"marker\": {\"line\": {\"color\": \"#E5ECF6\", \"width\": 0.5}}, \"type\": \"barpolar\"}], \"carpet\": [{\"aaxis\": {\"endlinecolor\": \"#2a3f5f\", \"gridcolor\": \"white\", \"linecolor\": \"white\", \"minorgridcolor\": \"white\", \"startlinecolor\": \"#2a3f5f\"}, \"baxis\": {\"endlinecolor\": \"#2a3f5f\", \"gridcolor\": \"white\", \"linecolor\": \"white\", \"minorgridcolor\": \"white\", \"startlinecolor\": \"#2a3f5f\"}, \"type\": \"carpet\"}], \"choropleth\": [{\"colorbar\": {\"outlinewidth\": 0, \"ticks\": \"\"}, \"type\": \"choropleth\"}], \"contour\": [{\"colorbar\": {\"outlinewidth\": 0, \"ticks\": \"\"}, \"colorscale\": [[0.0, \"#0d0887\"], [0.1111111111111111, \"#46039f\"], [0.2222222222222222, \"#7201a8\"], [0.3333333333333333, \"#9c179e\"], [0.4444444444444444, \"#bd3786\"], [0.5555555555555556, \"#d8576b\"], [0.6666666666666666, \"#ed7953\"], [0.7777777777777778, \"#fb9f3a\"], [0.8888888888888888, \"#fdca26\"], [1.0, \"#f0f921\"]], \"type\": \"contour\"}], \"contourcarpet\": [{\"colorbar\": {\"outlinewidth\": 0, \"ticks\": \"\"}, \"type\": \"contourcarpet\"}], \"heatmap\": [{\"colorbar\": {\"outlinewidth\": 0, \"ticks\": \"\"}, \"colorscale\": [[0.0, \"#0d0887\"], [0.1111111111111111, \"#46039f\"], [0.2222222222222222, \"#7201a8\"], [0.3333333333333333, \"#9c179e\"], [0.4444444444444444, \"#bd3786\"], [0.5555555555555556, \"#d8576b\"], [0.6666666666666666, \"#ed7953\"], [0.7777777777777778, \"#fb9f3a\"], [0.8888888888888888, \"#fdca26\"], [1.0, \"#f0f921\"]], \"type\": \"heatmap\"}], \"heatmapgl\": [{\"colorbar\": {\"outlinewidth\": 0, \"ticks\": \"\"}, \"colorscale\": [[0.0, \"#0d0887\"], [0.1111111111111111, \"#46039f\"], [0.2222222222222222, \"#7201a8\"], [0.3333333333333333, \"#9c179e\"], [0.4444444444444444, \"#bd3786\"], [0.5555555555555556, \"#d8576b\"], [0.6666666666666666, \"#ed7953\"], [0.7777777777777778, \"#fb9f3a\"], [0.8888888888888888, \"#fdca26\"], [1.0, \"#f0f921\"]], \"type\": \"heatmapgl\"}], \"histogram\": [{\"marker\": {\"colorbar\": {\"outlinewidth\": 0, \"ticks\": \"\"}}, \"type\": \"histogram\"}], \"histogram2d\": [{\"colorbar\": {\"outlinewidth\": 0, \"ticks\": \"\"}, \"colorscale\": [[0.0, \"#0d0887\"], [0.1111111111111111, \"#46039f\"], [0.2222222222222222, \"#7201a8\"], [0.3333333333333333, \"#9c179e\"], [0.4444444444444444, \"#bd3786\"], [0.5555555555555556, \"#d8576b\"], [0.6666666666666666, \"#ed7953\"], [0.7777777777777778, \"#fb9f3a\"], [0.8888888888888888, \"#fdca26\"], [1.0, \"#f0f921\"]], \"type\": \"histogram2d\"}], \"histogram2dcontour\": [{\"colorbar\": {\"outlinewidth\": 0, \"ticks\": \"\"}, \"colorscale\": [[0.0, \"#0d0887\"], [0.1111111111111111, \"#46039f\"], [0.2222222222222222, \"#7201a8\"], [0.3333333333333333, \"#9c179e\"], [0.4444444444444444, \"#bd3786\"], [0.5555555555555556, \"#d8576b\"], [0.6666666666666666, \"#ed7953\"], [0.7777777777777778, \"#fb9f3a\"], [0.8888888888888888, \"#fdca26\"], [1.0, \"#f0f921\"]], \"type\": \"histogram2dcontour\"}], \"mesh3d\": [{\"colorbar\": {\"outlinewidth\": 0, \"ticks\": \"\"}, \"type\": \"mesh3d\"}], \"parcoords\": [{\"line\": {\"colorbar\": {\"outlinewidth\": 0, \"ticks\": \"\"}}, \"type\": \"parcoords\"}], \"pie\": [{\"automargin\": true, \"type\": \"pie\"}], \"scatter\": [{\"marker\": {\"colorbar\": {\"outlinewidth\": 0, \"ticks\": \"\"}}, \"type\": \"scatter\"}], \"scatter3d\": [{\"line\": {\"colorbar\": {\"outlinewidth\": 0, \"ticks\": \"\"}}, \"marker\": {\"colorbar\": {\"outlinewidth\": 0, \"ticks\": \"\"}}, \"type\": \"scatter3d\"}], \"scattercarpet\": [{\"marker\": {\"colorbar\": {\"outlinewidth\": 0, \"ticks\": \"\"}}, \"type\": \"scattercarpet\"}], \"scattergeo\": [{\"marker\": {\"colorbar\": {\"outlinewidth\": 0, \"ticks\": \"\"}}, \"type\": \"scattergeo\"}], \"scattergl\": [{\"marker\": {\"colorbar\": {\"outlinewidth\": 0, \"ticks\": \"\"}}, \"type\": \"scattergl\"}], \"scattermapbox\": [{\"marker\": {\"colorbar\": {\"outlinewidth\": 0, \"ticks\": \"\"}}, \"type\": \"scattermapbox\"}], \"scatterpolar\": [{\"marker\": {\"colorbar\": {\"outlinewidth\": 0, \"ticks\": \"\"}}, \"type\": \"scatterpolar\"}], \"scatterpolargl\": [{\"marker\": {\"colorbar\": {\"outlinewidth\": 0, \"ticks\": \"\"}}, \"type\": \"scatterpolargl\"}], \"scatterternary\": [{\"marker\": {\"colorbar\": {\"outlinewidth\": 0, \"ticks\": \"\"}}, \"type\": \"scatterternary\"}], \"surface\": [{\"colorbar\": {\"outlinewidth\": 0, \"ticks\": \"\"}, \"colorscale\": [[0.0, \"#0d0887\"], [0.1111111111111111, \"#46039f\"], [0.2222222222222222, \"#7201a8\"], [0.3333333333333333, \"#9c179e\"], [0.4444444444444444, \"#bd3786\"], [0.5555555555555556, \"#d8576b\"], [0.6666666666666666, \"#ed7953\"], [0.7777777777777778, \"#fb9f3a\"], [0.8888888888888888, \"#fdca26\"], [1.0, \"#f0f921\"]], \"type\": \"surface\"}], \"table\": [{\"cells\": {\"fill\": {\"color\": \"#EBF0F8\"}, \"line\": {\"color\": \"white\"}}, \"header\": {\"fill\": {\"color\": \"#C8D4E3\"}, \"line\": {\"color\": \"white\"}}, \"type\": \"table\"}]}, \"layout\": {\"annotationdefaults\": {\"arrowcolor\": \"#2a3f5f\", \"arrowhead\": 0, \"arrowwidth\": 1}, \"coloraxis\": {\"colorbar\": {\"outlinewidth\": 0, \"ticks\": \"\"}}, \"colorscale\": {\"diverging\": [[0, \"#8e0152\"], [0.1, \"#c51b7d\"], [0.2, \"#de77ae\"], [0.3, \"#f1b6da\"], [0.4, \"#fde0ef\"], [0.5, \"#f7f7f7\"], [0.6, \"#e6f5d0\"], [0.7, \"#b8e186\"], [0.8, \"#7fbc41\"], [0.9, \"#4d9221\"], [1, \"#276419\"]], \"sequential\": [[0.0, \"#0d0887\"], [0.1111111111111111, \"#46039f\"], [0.2222222222222222, \"#7201a8\"], [0.3333333333333333, \"#9c179e\"], [0.4444444444444444, \"#bd3786\"], [0.5555555555555556, \"#d8576b\"], [0.6666666666666666, \"#ed7953\"], [0.7777777777777778, \"#fb9f3a\"], [0.8888888888888888, \"#fdca26\"], [1.0, \"#f0f921\"]], \"sequentialminus\": [[0.0, \"#0d0887\"], [0.1111111111111111, \"#46039f\"], [0.2222222222222222, \"#7201a8\"], [0.3333333333333333, \"#9c179e\"], [0.4444444444444444, \"#bd3786\"], [0.5555555555555556, \"#d8576b\"], [0.6666666666666666, \"#ed7953\"], [0.7777777777777778, \"#fb9f3a\"], [0.8888888888888888, \"#fdca26\"], [1.0, \"#f0f921\"]]}, \"colorway\": [\"#636efa\", \"#EF553B\", \"#00cc96\", \"#ab63fa\", \"#FFA15A\", \"#19d3f3\", \"#FF6692\", \"#B6E880\", \"#FF97FF\", \"#FECB52\"], \"font\": {\"color\": \"#2a3f5f\"}, \"geo\": {\"bgcolor\": \"white\", \"lakecolor\": \"white\", \"landcolor\": \"#E5ECF6\", \"showlakes\": true, \"showland\": true, \"subunitcolor\": \"white\"}, \"hoverlabel\": {\"align\": \"left\"}, \"hovermode\": \"closest\", \"mapbox\": {\"style\": \"light\"}, \"paper_bgcolor\": \"white\", \"plot_bgcolor\": \"#E5ECF6\", \"polar\": {\"angularaxis\": {\"gridcolor\": \"white\", \"linecolor\": \"white\", \"ticks\": \"\"}, \"bgcolor\": \"#E5ECF6\", \"radialaxis\": {\"gridcolor\": \"white\", \"linecolor\": \"white\", \"ticks\": \"\"}}, \"scene\": {\"xaxis\": {\"backgroundcolor\": \"#E5ECF6\", \"gridcolor\": \"white\", \"gridwidth\": 2, \"linecolor\": \"white\", \"showbackground\": true, \"ticks\": \"\", \"zerolinecolor\": \"white\"}, \"yaxis\": {\"backgroundcolor\": \"#E5ECF6\", \"gridcolor\": \"white\", \"gridwidth\": 2, \"linecolor\": \"white\", \"showbackground\": true, \"ticks\": \"\", \"zerolinecolor\": \"white\"}, \"zaxis\": {\"backgroundcolor\": \"#E5ECF6\", \"gridcolor\": \"white\", \"gridwidth\": 2, \"linecolor\": \"white\", \"showbackground\": true, \"ticks\": \"\", \"zerolinecolor\": \"white\"}}, \"shapedefaults\": {\"line\": {\"color\": \"#2a3f5f\"}}, \"ternary\": {\"aaxis\": {\"gridcolor\": \"white\", \"linecolor\": \"white\", \"ticks\": \"\"}, \"baxis\": {\"gridcolor\": \"white\", \"linecolor\": \"white\", \"ticks\": \"\"}, \"bgcolor\": \"#E5ECF6\", \"caxis\": {\"gridcolor\": \"white\", \"linecolor\": \"white\", \"ticks\": \"\"}}, \"title\": {\"x\": 0.05}, \"xaxis\": {\"automargin\": true, \"gridcolor\": \"white\", \"linecolor\": \"white\", \"ticks\": \"\", \"title\": {\"standoff\": 15}, \"zerolinecolor\": \"white\", \"zerolinewidth\": 2}, \"yaxis\": {\"automargin\": true, \"gridcolor\": \"white\", \"linecolor\": \"white\", \"ticks\": \"\", \"title\": {\"standoff\": 15}, \"zerolinecolor\": \"white\", \"zerolinewidth\": 2}}}, \"title\": {\"font\": {\"color\": \"#4D5663\"}}, \"xaxis\": {\"gridcolor\": \"#E1E5ED\", \"showgrid\": true, \"tickfont\": {\"color\": \"#4D5663\"}, \"title\": {\"font\": {\"color\": \"#4D5663\"}, \"text\": \"\"}, \"zerolinecolor\": \"#E1E5ED\"}, \"yaxis\": {\"gridcolor\": \"#E1E5ED\", \"showgrid\": true, \"tickfont\": {\"color\": \"#4D5663\"}, \"title\": {\"font\": {\"color\": \"#4D5663\"}, \"text\": \"\"}, \"zerolinecolor\": \"#E1E5ED\"}},\n",
       "                        {\"showLink\": true, \"linkText\": \"Export to plot.ly\", \"plotlyServerURL\": \"https://plot.ly\", \"responsive\": true}\n",
       "                    ).then(function(){\n",
       "                            \n",
       "var gd = document.getElementById('3ed96631-61c0-450c-97e9-753d74fcc56c');\n",
       "var x = new MutationObserver(function (mutations, observer) {{\n",
       "        var display = window.getComputedStyle(gd).display;\n",
       "        if (!display || display === 'none') {{\n",
       "            console.log([gd, 'removed!']);\n",
       "            Plotly.purge(gd);\n",
       "            observer.disconnect();\n",
       "        }}\n",
       "}});\n",
       "\n",
       "// Listen for the removal of the full notebook cells\n",
       "var notebookContainer = gd.closest('#notebook-container');\n",
       "if (notebookContainer) {{\n",
       "    x.observe(notebookContainer, {childList: true});\n",
       "}}\n",
       "\n",
       "// Listen for the clearing of the current output cell\n",
       "var outputEl = gd.closest('.output');\n",
       "if (outputEl) {{\n",
       "    x.observe(outputEl, {childList: true});\n",
       "}}\n",
       "\n",
       "                        })\n",
       "                };\n",
       "                });\n",
       "            </script>\n",
       "        </div>"
      ]
     },
     "metadata": {},
     "output_type": "display_data"
    }
   ],
   "source": [
    "df.iplot(kind='bubble',x='A',y='B',size='C')"
   ]
  },
  {
   "cell_type": "markdown",
   "metadata": {},
   "source": [
    "## scatter_matrix()\n",
    "\n",
    "Similar to sns.pairplot()"
   ]
  },
  {
   "cell_type": "code",
   "execution_count": 26,
   "metadata": {},
   "outputs": [
    {
     "data": {
      "application/vnd.plotly.v1+json": {
       "config": {
        "linkText": "Export to plot.ly",
        "plotlyServerURL": "https://plot.ly",
        "showLink": true
       },
       "data": [
        {
         "histfunc": "count",
         "histnorm": "",
         "marker": {
          "color": "rgba(255, 153, 51, 1.0)",
          "line": {
           "color": "#4D5663",
           "width": 1.3
          }
         },
         "name": "A",
         "nbinsx": 10,
         "opacity": 0.8,
         "orientation": "v",
         "type": "histogram",
         "x": [
          -1.7664723391769375,
          1.3723961024111873,
          -0.16862382412950433,
          -0.4686727100182148,
          0.10524460974524735,
          -0.7962133829694761,
          -0.5298304180895901,
          0.6146238526515427,
          1.7292353993593634,
          0.07182212081760649,
          0.6684096748052933,
          -0.7800699149728171,
          1.5417320664306207,
          0.07871196129574386,
          -0.47912331954576354,
          0.49497874036995887,
          -0.8365379495421281,
          0.8100732064576514,
          1.504386579851412,
          1.3050146148625914,
          0.2327163067386028,
          -0.311794801754074,
          1.11803293083804,
          -0.2694022385891882,
          -1.9310046515278843,
          -0.7310345896030418,
          0.05597051235353513,
          -0.2670042140271307,
          -1.6328456299792342,
          1.6776349536213664,
          -0.8913226475416959,
          -0.20080795498403306,
          -2.0060384793844857,
          -0.16886522736983173,
          0.025069872614478645,
          -2.7983998538120525,
          -0.8296821954277036,
          -1.9867158696502034,
          0.2564426559057547,
          0.050771092269586864,
          0.06129118607457183,
          -1.4499164910285043,
          -0.7360201539756989,
          -1.2031929519207538,
          1.5075211502660624,
          0.9044128941163659,
          2.784660416932731,
          0.32705586003758896,
          -0.5137018289027601,
          -0.7574469128514296,
          -0.49514121798295785,
          -0.888912752461698,
          1.1174340171108508,
          1.907646220570275,
          -1.0537892813370076,
          0.425646641425545,
          -0.7082382696496868,
          -0.25756424708664577,
          -0.3605967100447902,
          -0.9910768416671183,
          0.6621518651077974,
          -0.3954043976512718,
          0.44955446684650807,
          1.0298175988968659,
          0.10641679029381493,
          0.9506947884212149,
          0.3278939302509376,
          -1.0602297237402718,
          0.11544492678947446,
          -1.0668802252218457,
          -1.9183668765571822,
          -0.8424470502410739,
          1.2075751433374757,
          0.7105708383905097,
          -0.3782733230042047,
          0.7870014181532221,
          0.08954649196791556,
          -1.166764582805965,
          0.6212228154843119,
          0.8308641409300191,
          -2.0347968071431044,
          1.2253581412652095,
          -0.9215248386855428,
          0.18688974053934473,
          0.30853112042580283,
          0.8420608730484123,
          -1.262211780112218,
          0.11362895802530086,
          0.62441011985385,
          -0.8495669500347244,
          -0.6409877413673586,
          0.5746315825425063,
          -1.9814150215828208,
          2.299270468997804,
          -0.5435018086035873,
          0.47492251312272793,
          0.34442197771751076,
          -1.6442326270930063,
          0.4553135548589679,
          0.4300313241505395
         ],
         "xaxis": "x",
         "yaxis": "y"
        },
        {
         "line": {
          "color": "rgba(128, 128, 128, 1.0)",
          "dash": "solid",
          "shape": "linear",
          "width": 1.3
         },
         "marker": {
          "size": 2,
          "symbol": "circle"
         },
         "mode": "markers",
         "name": "A",
         "text": "",
         "type": "scatter",
         "x": [
          0.7256419508353439,
          0.4891359318991245,
          -0.021446868697695354,
          0.5699189969135365,
          0.7989792641425312,
          -1.2851113711634663,
          1.279248718804933,
          0.4749243626656492,
          -1.1845154110032723,
          -1.9648371522917485,
          0.5417860210162163,
          -0.05673910016335068,
          0.0018623938866737526,
          0.5927262435852061,
          0.20216257918580935,
          0.018492048888641987,
          -0.8520453035630274,
          -0.7248018007763332,
          0.34726843746070557,
          0.17253064301206017,
          -1.1819637870114659,
          -0.6291814509893625,
          1.6199572666695972,
          0.650039467695885,
          -0.7283871457040803,
          1.4597335668062734,
          -0.36608342132309374,
          0.1328269564616293,
          0.7820912142809123,
          1.1274247601021,
          -0.7002588967779936,
          -0.030942292689513824,
          -1.5490479787927922,
          -0.9642215465178909,
          -1.6446231055376166,
          -1.9487704013656038,
          0.2694163481633915,
          -0.7433165541055985,
          -0.2861089515191114,
          -0.3708999899691444,
          -2.3375584256560025,
          0.5012563493125995,
          0.34715395702179985,
          0.024256749847415444,
          -0.3312328565998601,
          -1.044843498615884,
          0.31828001324412447,
          1.7381146592719325,
          0.3470207745920348,
          0.41222825484031134,
          -0.24605492900340303,
          1.5001702812430961,
          0.15281977465056046,
          -1.164278703957203,
          -0.017260272587306055,
          0.5073485068268082,
          -1.7104644016532617,
          1.25380445233376,
          -0.1785525841039943,
          -0.1932178660774815,
          0.6107610891492199,
          -0.4443632806386484,
          1.7931890763040588,
          -1.1616309130455214,
          -0.8551089592882165,
          -1.3710997856428642,
          -0.6733777419252835,
          -1.2024844159213874,
          -0.3212272102990379,
          -0.7677522239136005,
          0.7060261222801993,
          0.7042806007704804,
          2.2475715397569074,
          1.7570001108621793,
          -0.3459760349655492,
          -0.07203276847413792,
          1.3894267752811893,
          0.044803610782237366,
          -0.04569620946576732,
          -0.19048353847167335,
          -0.6333030971864758,
          1.0068296365388283,
          -2.729179981615213,
          0.8230205577553504,
          -0.39756656509869287,
          0.6253599249604785,
          -0.1371806460591855,
          -1.6587862639472124,
          -0.02175601899369613,
          -0.8234193356560962,
          -1.2165087892989863,
          -1.1186780154811298,
          0.1259983219990328,
          0.3721418360250379,
          1.2980171824511955,
          0.7596775122213181,
          -1.2705973080889903,
          -0.8090551467308078,
          -0.10521137722736196,
          -1.5136707297077323
         ],
         "xaxis": "x2",
         "y": [
          -1.7664723391769375,
          1.3723961024111873,
          -0.16862382412950433,
          -0.4686727100182148,
          0.10524460974524735,
          -0.7962133829694761,
          -0.5298304180895901,
          0.6146238526515427,
          1.7292353993593634,
          0.07182212081760649,
          0.6684096748052933,
          -0.7800699149728171,
          1.5417320664306207,
          0.07871196129574386,
          -0.47912331954576354,
          0.49497874036995887,
          -0.8365379495421281,
          0.8100732064576514,
          1.504386579851412,
          1.3050146148625914,
          0.2327163067386028,
          -0.311794801754074,
          1.11803293083804,
          -0.2694022385891882,
          -1.9310046515278843,
          -0.7310345896030418,
          0.05597051235353513,
          -0.2670042140271307,
          -1.6328456299792342,
          1.6776349536213664,
          -0.8913226475416959,
          -0.20080795498403306,
          -2.0060384793844857,
          -0.16886522736983173,
          0.025069872614478645,
          -2.7983998538120525,
          -0.8296821954277036,
          -1.9867158696502034,
          0.2564426559057547,
          0.050771092269586864,
          0.06129118607457183,
          -1.4499164910285043,
          -0.7360201539756989,
          -1.2031929519207538,
          1.5075211502660624,
          0.9044128941163659,
          2.784660416932731,
          0.32705586003758896,
          -0.5137018289027601,
          -0.7574469128514296,
          -0.49514121798295785,
          -0.888912752461698,
          1.1174340171108508,
          1.907646220570275,
          -1.0537892813370076,
          0.425646641425545,
          -0.7082382696496868,
          -0.25756424708664577,
          -0.3605967100447902,
          -0.9910768416671183,
          0.6621518651077974,
          -0.3954043976512718,
          0.44955446684650807,
          1.0298175988968659,
          0.10641679029381493,
          0.9506947884212149,
          0.3278939302509376,
          -1.0602297237402718,
          0.11544492678947446,
          -1.0668802252218457,
          -1.9183668765571822,
          -0.8424470502410739,
          1.2075751433374757,
          0.7105708383905097,
          -0.3782733230042047,
          0.7870014181532221,
          0.08954649196791556,
          -1.166764582805965,
          0.6212228154843119,
          0.8308641409300191,
          -2.0347968071431044,
          1.2253581412652095,
          -0.9215248386855428,
          0.18688974053934473,
          0.30853112042580283,
          0.8420608730484123,
          -1.262211780112218,
          0.11362895802530086,
          0.62441011985385,
          -0.8495669500347244,
          -0.6409877413673586,
          0.5746315825425063,
          -1.9814150215828208,
          2.299270468997804,
          -0.5435018086035873,
          0.47492251312272793,
          0.34442197771751076,
          -1.6442326270930063,
          0.4553135548589679,
          0.4300313241505395
         ],
         "yaxis": "y2"
        },
        {
         "line": {
          "color": "rgba(128, 128, 128, 1.0)",
          "dash": "solid",
          "shape": "linear",
          "width": 1.3
         },
         "marker": {
          "size": 2,
          "symbol": "circle"
         },
         "mode": "markers",
         "name": "A",
         "text": "",
         "type": "scatter",
         "x": [
          1.24107014904874,
          -0.611240496227224,
          -1.2087856326271955,
          0.007887977979965525,
          0.45530406329591044,
          0.9662102884582526,
          0.16530206534505026,
          0.018561415038707438,
          -0.5136745811377624,
          -0.10906323011831386,
          0.6258065546348593,
          1.2349310951818517,
          -0.23105097485187231,
          3.125706384009117,
          -0.9049261842041133,
          0.7571954881377901,
          -1.676623639083392,
          -0.9114029887249526,
          -1.075394381987722,
          -0.5893655249688883,
          0.48947874751818854,
          0.9988050355199353,
          0.06320750148936695,
          0.13870019395278757,
          -0.04222966403459234,
          -0.5597428400337586,
          -1.4146817083981773,
          -1.0182699125056986,
          -0.42133931455905155,
          -0.6369396776035443,
          -0.4125163879618978,
          -0.6488127386871908,
          -0.2127917661991761,
          -0.5080007599359846,
          0.015526570223989147,
          -0.0068068158603496595,
          0.9148513049044882,
          -0.327213992027883,
          -0.5415355368831904,
          -1.7043140658741291,
          0.7754594628923063,
          -0.00021453980782884546,
          -0.4219142594508613,
          -1.647637289687369,
          0.6780438674669387,
          1.703715767681509,
          -0.2788109602508351,
          -1.0930397432676628,
          -0.15414641131908355,
          -1.601105095297968,
          0.3320772914777862,
          0.029595919526291262,
          -0.08838027805191064,
          -0.8366535047849263,
          -0.26316337428891723,
          -0.5671449249457002,
          -0.2721118679767741,
          0.5189386804420562,
          -1.6582995800222964,
          1.2631348079807885,
          1.27666002021344,
          -0.8589550254243083,
          0.46634531012107827,
          -1.257704038325947,
          0.479138194580177,
          -0.8428621403839799,
          -1.7219608378986446,
          -1.931827582451364,
          0.27815937470993274,
          -0.25578974988429726,
          -2.3154945600322225,
          -1.0088001199520606,
          1.5674637203693342,
          1.1621409912280656,
          1.7729800459653005,
          -0.37893573922449547,
          -0.07613740258747217,
          0.027891754870857734,
          -0.27095543985522147,
          -0.21814217413978765,
          0.8843606153801192,
          0.7159754465306131,
          0.6384105233149503,
          0.3141051976146513,
          1.3342394514357405,
          -0.25979896763607424,
          0.6941534813237661,
          -1.6428476965039251,
          0.19340573682335543,
          -0.8684552363058707,
          -1.7020988665954402,
          -0.36646963519035697,
          0.15204373823973857,
          -1.0137394735715417,
          1.028017354715253,
          -0.12175412181320286,
          0.7896643062570945,
          1.198492264950016,
          1.4254762802990666,
          -1.704416711083291
         ],
         "xaxis": "x3",
         "y": [
          -1.7664723391769375,
          1.3723961024111873,
          -0.16862382412950433,
          -0.4686727100182148,
          0.10524460974524735,
          -0.7962133829694761,
          -0.5298304180895901,
          0.6146238526515427,
          1.7292353993593634,
          0.07182212081760649,
          0.6684096748052933,
          -0.7800699149728171,
          1.5417320664306207,
          0.07871196129574386,
          -0.47912331954576354,
          0.49497874036995887,
          -0.8365379495421281,
          0.8100732064576514,
          1.504386579851412,
          1.3050146148625914,
          0.2327163067386028,
          -0.311794801754074,
          1.11803293083804,
          -0.2694022385891882,
          -1.9310046515278843,
          -0.7310345896030418,
          0.05597051235353513,
          -0.2670042140271307,
          -1.6328456299792342,
          1.6776349536213664,
          -0.8913226475416959,
          -0.20080795498403306,
          -2.0060384793844857,
          -0.16886522736983173,
          0.025069872614478645,
          -2.7983998538120525,
          -0.8296821954277036,
          -1.9867158696502034,
          0.2564426559057547,
          0.050771092269586864,
          0.06129118607457183,
          -1.4499164910285043,
          -0.7360201539756989,
          -1.2031929519207538,
          1.5075211502660624,
          0.9044128941163659,
          2.784660416932731,
          0.32705586003758896,
          -0.5137018289027601,
          -0.7574469128514296,
          -0.49514121798295785,
          -0.888912752461698,
          1.1174340171108508,
          1.907646220570275,
          -1.0537892813370076,
          0.425646641425545,
          -0.7082382696496868,
          -0.25756424708664577,
          -0.3605967100447902,
          -0.9910768416671183,
          0.6621518651077974,
          -0.3954043976512718,
          0.44955446684650807,
          1.0298175988968659,
          0.10641679029381493,
          0.9506947884212149,
          0.3278939302509376,
          -1.0602297237402718,
          0.11544492678947446,
          -1.0668802252218457,
          -1.9183668765571822,
          -0.8424470502410739,
          1.2075751433374757,
          0.7105708383905097,
          -0.3782733230042047,
          0.7870014181532221,
          0.08954649196791556,
          -1.166764582805965,
          0.6212228154843119,
          0.8308641409300191,
          -2.0347968071431044,
          1.2253581412652095,
          -0.9215248386855428,
          0.18688974053934473,
          0.30853112042580283,
          0.8420608730484123,
          -1.262211780112218,
          0.11362895802530086,
          0.62441011985385,
          -0.8495669500347244,
          -0.6409877413673586,
          0.5746315825425063,
          -1.9814150215828208,
          2.299270468997804,
          -0.5435018086035873,
          0.47492251312272793,
          0.34442197771751076,
          -1.6442326270930063,
          0.4553135548589679,
          0.4300313241505395
         ],
         "yaxis": "y3"
        },
        {
         "line": {
          "color": "rgba(128, 128, 128, 1.0)",
          "dash": "solid",
          "shape": "linear",
          "width": 1.3
         },
         "marker": {
          "size": 2,
          "symbol": "circle"
         },
         "mode": "markers",
         "name": "A",
         "text": "",
         "type": "scatter",
         "x": [
          -0.2113011841916001,
          1.5310440227332927,
          -0.3834137565189133,
          -1.7830575663441992,
          -0.09595931657541742,
          1.8191570203135914,
          0.6595738774636903,
          0.5592695522698317,
          -0.642518908690727,
          1.4710563233804466,
          0.47865556748074345,
          -1.1589839076249726,
          1.1137689782739313,
          -1.0505516785412163,
          -0.3636557457218735,
          -0.1530347712178531,
          -0.5608020883350007,
          0.26166310724840885,
          1.070306755332397,
          0.18198486727131435,
          1.2527157443894705,
          0.22061429747230762,
          -0.2602262012224047,
          -1.0691121404414958,
          -0.6848232570932521,
          0.8162589369960171,
          -0.7582059599396165,
          0.4456582882933635,
          1.1981958921037437,
          -0.0559637091670608,
          -0.8202289572408519,
          -1.2997836861662195,
          0.4938121986847556,
          -0.8186303354719257,
          0.8769007198929809,
          0.2660485146731749,
          -1.2877287717588837,
          0.3907351577803678,
          -1.0586545351939451,
          -1.0999050331881057,
          -1.1617514210615016,
          -1.0770061145053005,
          0.46986897620852475,
          -0.9247312869991977,
          -0.2581198645729674,
          0.7939542942469635,
          -0.7214464958466277,
          0.11641094429099247,
          -0.733351978335377,
          -1.9611502880222196,
          1.2551004661310663,
          -0.7922597826813551,
          -0.6896309349761818,
          -0.1404930061894985,
          1.6472546239243409,
          -1.4612770935449146,
          0.9993093632789172,
          -0.044446698278709854,
          0.3671324429849293,
          0.41654323547329597,
          0.5563761670680994,
          -1.673864070885013,
          -1.4423548692148238,
          -1.4140915067667619,
          -1.326567080833016,
          0.4433836803039138,
          1.286715647535771,
          -1.3648208324013256,
          0.3619462293342259,
          0.3726200050044374,
          -1.3024183272749836,
          0.5016568745452399,
          -1.098803926726156,
          0.7330841032859847,
          -1.5488356761348343,
          1.2034589978405723,
          0.12042373705812841,
          0.05368522072003816,
          -0.543273060365583,
          0.2803483211856537,
          -0.6396496703817736,
          -0.1434764378346883,
          -1.5814796382610632,
          0.16810012805924957,
          -1.498112667423833,
          1.4583129050451265,
          -0.08148007011420712,
          1.0686443906494367,
          0.8130177247945064,
          -1.5364481333517526,
          -0.07468533410211131,
          1.2516811303215438,
          0.02020116203176951,
          0.9749727712415192,
          -0.44058042148343957,
          -1.0516806951025282,
          -0.4696546419268447,
          -0.046152043744718825,
          0.46770062083353575,
          -0.9913931075320418
         ],
         "xaxis": "x4",
         "y": [
          -1.7664723391769375,
          1.3723961024111873,
          -0.16862382412950433,
          -0.4686727100182148,
          0.10524460974524735,
          -0.7962133829694761,
          -0.5298304180895901,
          0.6146238526515427,
          1.7292353993593634,
          0.07182212081760649,
          0.6684096748052933,
          -0.7800699149728171,
          1.5417320664306207,
          0.07871196129574386,
          -0.47912331954576354,
          0.49497874036995887,
          -0.8365379495421281,
          0.8100732064576514,
          1.504386579851412,
          1.3050146148625914,
          0.2327163067386028,
          -0.311794801754074,
          1.11803293083804,
          -0.2694022385891882,
          -1.9310046515278843,
          -0.7310345896030418,
          0.05597051235353513,
          -0.2670042140271307,
          -1.6328456299792342,
          1.6776349536213664,
          -0.8913226475416959,
          -0.20080795498403306,
          -2.0060384793844857,
          -0.16886522736983173,
          0.025069872614478645,
          -2.7983998538120525,
          -0.8296821954277036,
          -1.9867158696502034,
          0.2564426559057547,
          0.050771092269586864,
          0.06129118607457183,
          -1.4499164910285043,
          -0.7360201539756989,
          -1.2031929519207538,
          1.5075211502660624,
          0.9044128941163659,
          2.784660416932731,
          0.32705586003758896,
          -0.5137018289027601,
          -0.7574469128514296,
          -0.49514121798295785,
          -0.888912752461698,
          1.1174340171108508,
          1.907646220570275,
          -1.0537892813370076,
          0.425646641425545,
          -0.7082382696496868,
          -0.25756424708664577,
          -0.3605967100447902,
          -0.9910768416671183,
          0.6621518651077974,
          -0.3954043976512718,
          0.44955446684650807,
          1.0298175988968659,
          0.10641679029381493,
          0.9506947884212149,
          0.3278939302509376,
          -1.0602297237402718,
          0.11544492678947446,
          -1.0668802252218457,
          -1.9183668765571822,
          -0.8424470502410739,
          1.2075751433374757,
          0.7105708383905097,
          -0.3782733230042047,
          0.7870014181532221,
          0.08954649196791556,
          -1.166764582805965,
          0.6212228154843119,
          0.8308641409300191,
          -2.0347968071431044,
          1.2253581412652095,
          -0.9215248386855428,
          0.18688974053934473,
          0.30853112042580283,
          0.8420608730484123,
          -1.262211780112218,
          0.11362895802530086,
          0.62441011985385,
          -0.8495669500347244,
          -0.6409877413673586,
          0.5746315825425063,
          -1.9814150215828208,
          2.299270468997804,
          -0.5435018086035873,
          0.47492251312272793,
          0.34442197771751076,
          -1.6442326270930063,
          0.4553135548589679,
          0.4300313241505395
         ],
         "yaxis": "y4"
        },
        {
         "line": {
          "color": "rgba(128, 128, 128, 1.0)",
          "dash": "solid",
          "shape": "linear",
          "width": 1.3
         },
         "marker": {
          "size": 2,
          "symbol": "circle"
         },
         "mode": "markers",
         "name": "B",
         "text": "",
         "type": "scatter",
         "x": [
          -1.7664723391769375,
          1.3723961024111873,
          -0.16862382412950433,
          -0.4686727100182148,
          0.10524460974524735,
          -0.7962133829694761,
          -0.5298304180895901,
          0.6146238526515427,
          1.7292353993593634,
          0.07182212081760649,
          0.6684096748052933,
          -0.7800699149728171,
          1.5417320664306207,
          0.07871196129574386,
          -0.47912331954576354,
          0.49497874036995887,
          -0.8365379495421281,
          0.8100732064576514,
          1.504386579851412,
          1.3050146148625914,
          0.2327163067386028,
          -0.311794801754074,
          1.11803293083804,
          -0.2694022385891882,
          -1.9310046515278843,
          -0.7310345896030418,
          0.05597051235353513,
          -0.2670042140271307,
          -1.6328456299792342,
          1.6776349536213664,
          -0.8913226475416959,
          -0.20080795498403306,
          -2.0060384793844857,
          -0.16886522736983173,
          0.025069872614478645,
          -2.7983998538120525,
          -0.8296821954277036,
          -1.9867158696502034,
          0.2564426559057547,
          0.050771092269586864,
          0.06129118607457183,
          -1.4499164910285043,
          -0.7360201539756989,
          -1.2031929519207538,
          1.5075211502660624,
          0.9044128941163659,
          2.784660416932731,
          0.32705586003758896,
          -0.5137018289027601,
          -0.7574469128514296,
          -0.49514121798295785,
          -0.888912752461698,
          1.1174340171108508,
          1.907646220570275,
          -1.0537892813370076,
          0.425646641425545,
          -0.7082382696496868,
          -0.25756424708664577,
          -0.3605967100447902,
          -0.9910768416671183,
          0.6621518651077974,
          -0.3954043976512718,
          0.44955446684650807,
          1.0298175988968659,
          0.10641679029381493,
          0.9506947884212149,
          0.3278939302509376,
          -1.0602297237402718,
          0.11544492678947446,
          -1.0668802252218457,
          -1.9183668765571822,
          -0.8424470502410739,
          1.2075751433374757,
          0.7105708383905097,
          -0.3782733230042047,
          0.7870014181532221,
          0.08954649196791556,
          -1.166764582805965,
          0.6212228154843119,
          0.8308641409300191,
          -2.0347968071431044,
          1.2253581412652095,
          -0.9215248386855428,
          0.18688974053934473,
          0.30853112042580283,
          0.8420608730484123,
          -1.262211780112218,
          0.11362895802530086,
          0.62441011985385,
          -0.8495669500347244,
          -0.6409877413673586,
          0.5746315825425063,
          -1.9814150215828208,
          2.299270468997804,
          -0.5435018086035873,
          0.47492251312272793,
          0.34442197771751076,
          -1.6442326270930063,
          0.4553135548589679,
          0.4300313241505395
         ],
         "xaxis": "x5",
         "y": [
          0.7256419508353439,
          0.4891359318991245,
          -0.021446868697695354,
          0.5699189969135365,
          0.7989792641425312,
          -1.2851113711634663,
          1.279248718804933,
          0.4749243626656492,
          -1.1845154110032723,
          -1.9648371522917485,
          0.5417860210162163,
          -0.05673910016335068,
          0.0018623938866737526,
          0.5927262435852061,
          0.20216257918580935,
          0.018492048888641987,
          -0.8520453035630274,
          -0.7248018007763332,
          0.34726843746070557,
          0.17253064301206017,
          -1.1819637870114659,
          -0.6291814509893625,
          1.6199572666695972,
          0.650039467695885,
          -0.7283871457040803,
          1.4597335668062734,
          -0.36608342132309374,
          0.1328269564616293,
          0.7820912142809123,
          1.1274247601021,
          -0.7002588967779936,
          -0.030942292689513824,
          -1.5490479787927922,
          -0.9642215465178909,
          -1.6446231055376166,
          -1.9487704013656038,
          0.2694163481633915,
          -0.7433165541055985,
          -0.2861089515191114,
          -0.3708999899691444,
          -2.3375584256560025,
          0.5012563493125995,
          0.34715395702179985,
          0.024256749847415444,
          -0.3312328565998601,
          -1.044843498615884,
          0.31828001324412447,
          1.7381146592719325,
          0.3470207745920348,
          0.41222825484031134,
          -0.24605492900340303,
          1.5001702812430961,
          0.15281977465056046,
          -1.164278703957203,
          -0.017260272587306055,
          0.5073485068268082,
          -1.7104644016532617,
          1.25380445233376,
          -0.1785525841039943,
          -0.1932178660774815,
          0.6107610891492199,
          -0.4443632806386484,
          1.7931890763040588,
          -1.1616309130455214,
          -0.8551089592882165,
          -1.3710997856428642,
          -0.6733777419252835,
          -1.2024844159213874,
          -0.3212272102990379,
          -0.7677522239136005,
          0.7060261222801993,
          0.7042806007704804,
          2.2475715397569074,
          1.7570001108621793,
          -0.3459760349655492,
          -0.07203276847413792,
          1.3894267752811893,
          0.044803610782237366,
          -0.04569620946576732,
          -0.19048353847167335,
          -0.6333030971864758,
          1.0068296365388283,
          -2.729179981615213,
          0.8230205577553504,
          -0.39756656509869287,
          0.6253599249604785,
          -0.1371806460591855,
          -1.6587862639472124,
          -0.02175601899369613,
          -0.8234193356560962,
          -1.2165087892989863,
          -1.1186780154811298,
          0.1259983219990328,
          0.3721418360250379,
          1.2980171824511955,
          0.7596775122213181,
          -1.2705973080889903,
          -0.8090551467308078,
          -0.10521137722736196,
          -1.5136707297077323
         ],
         "yaxis": "y5"
        },
        {
         "histfunc": "count",
         "histnorm": "",
         "marker": {
          "color": "rgba(55, 128, 191, 1.0)",
          "line": {
           "color": "#4D5663",
           "width": 1.3
          }
         },
         "name": "B",
         "nbinsx": 10,
         "opacity": 0.8,
         "orientation": "v",
         "type": "histogram",
         "x": [
          0.7256419508353439,
          0.4891359318991245,
          -0.021446868697695354,
          0.5699189969135365,
          0.7989792641425312,
          -1.2851113711634663,
          1.279248718804933,
          0.4749243626656492,
          -1.1845154110032723,
          -1.9648371522917485,
          0.5417860210162163,
          -0.05673910016335068,
          0.0018623938866737526,
          0.5927262435852061,
          0.20216257918580935,
          0.018492048888641987,
          -0.8520453035630274,
          -0.7248018007763332,
          0.34726843746070557,
          0.17253064301206017,
          -1.1819637870114659,
          -0.6291814509893625,
          1.6199572666695972,
          0.650039467695885,
          -0.7283871457040803,
          1.4597335668062734,
          -0.36608342132309374,
          0.1328269564616293,
          0.7820912142809123,
          1.1274247601021,
          -0.7002588967779936,
          -0.030942292689513824,
          -1.5490479787927922,
          -0.9642215465178909,
          -1.6446231055376166,
          -1.9487704013656038,
          0.2694163481633915,
          -0.7433165541055985,
          -0.2861089515191114,
          -0.3708999899691444,
          -2.3375584256560025,
          0.5012563493125995,
          0.34715395702179985,
          0.024256749847415444,
          -0.3312328565998601,
          -1.044843498615884,
          0.31828001324412447,
          1.7381146592719325,
          0.3470207745920348,
          0.41222825484031134,
          -0.24605492900340303,
          1.5001702812430961,
          0.15281977465056046,
          -1.164278703957203,
          -0.017260272587306055,
          0.5073485068268082,
          -1.7104644016532617,
          1.25380445233376,
          -0.1785525841039943,
          -0.1932178660774815,
          0.6107610891492199,
          -0.4443632806386484,
          1.7931890763040588,
          -1.1616309130455214,
          -0.8551089592882165,
          -1.3710997856428642,
          -0.6733777419252835,
          -1.2024844159213874,
          -0.3212272102990379,
          -0.7677522239136005,
          0.7060261222801993,
          0.7042806007704804,
          2.2475715397569074,
          1.7570001108621793,
          -0.3459760349655492,
          -0.07203276847413792,
          1.3894267752811893,
          0.044803610782237366,
          -0.04569620946576732,
          -0.19048353847167335,
          -0.6333030971864758,
          1.0068296365388283,
          -2.729179981615213,
          0.8230205577553504,
          -0.39756656509869287,
          0.6253599249604785,
          -0.1371806460591855,
          -1.6587862639472124,
          -0.02175601899369613,
          -0.8234193356560962,
          -1.2165087892989863,
          -1.1186780154811298,
          0.1259983219990328,
          0.3721418360250379,
          1.2980171824511955,
          0.7596775122213181,
          -1.2705973080889903,
          -0.8090551467308078,
          -0.10521137722736196,
          -1.5136707297077323
         ],
         "xaxis": "x6",
         "yaxis": "y6"
        },
        {
         "line": {
          "color": "rgba(128, 128, 128, 1.0)",
          "dash": "solid",
          "shape": "linear",
          "width": 1.3
         },
         "marker": {
          "size": 2,
          "symbol": "circle"
         },
         "mode": "markers",
         "name": "B",
         "text": "",
         "type": "scatter",
         "x": [
          1.24107014904874,
          -0.611240496227224,
          -1.2087856326271955,
          0.007887977979965525,
          0.45530406329591044,
          0.9662102884582526,
          0.16530206534505026,
          0.018561415038707438,
          -0.5136745811377624,
          -0.10906323011831386,
          0.6258065546348593,
          1.2349310951818517,
          -0.23105097485187231,
          3.125706384009117,
          -0.9049261842041133,
          0.7571954881377901,
          -1.676623639083392,
          -0.9114029887249526,
          -1.075394381987722,
          -0.5893655249688883,
          0.48947874751818854,
          0.9988050355199353,
          0.06320750148936695,
          0.13870019395278757,
          -0.04222966403459234,
          -0.5597428400337586,
          -1.4146817083981773,
          -1.0182699125056986,
          -0.42133931455905155,
          -0.6369396776035443,
          -0.4125163879618978,
          -0.6488127386871908,
          -0.2127917661991761,
          -0.5080007599359846,
          0.015526570223989147,
          -0.0068068158603496595,
          0.9148513049044882,
          -0.327213992027883,
          -0.5415355368831904,
          -1.7043140658741291,
          0.7754594628923063,
          -0.00021453980782884546,
          -0.4219142594508613,
          -1.647637289687369,
          0.6780438674669387,
          1.703715767681509,
          -0.2788109602508351,
          -1.0930397432676628,
          -0.15414641131908355,
          -1.601105095297968,
          0.3320772914777862,
          0.029595919526291262,
          -0.08838027805191064,
          -0.8366535047849263,
          -0.26316337428891723,
          -0.5671449249457002,
          -0.2721118679767741,
          0.5189386804420562,
          -1.6582995800222964,
          1.2631348079807885,
          1.27666002021344,
          -0.8589550254243083,
          0.46634531012107827,
          -1.257704038325947,
          0.479138194580177,
          -0.8428621403839799,
          -1.7219608378986446,
          -1.931827582451364,
          0.27815937470993274,
          -0.25578974988429726,
          -2.3154945600322225,
          -1.0088001199520606,
          1.5674637203693342,
          1.1621409912280656,
          1.7729800459653005,
          -0.37893573922449547,
          -0.07613740258747217,
          0.027891754870857734,
          -0.27095543985522147,
          -0.21814217413978765,
          0.8843606153801192,
          0.7159754465306131,
          0.6384105233149503,
          0.3141051976146513,
          1.3342394514357405,
          -0.25979896763607424,
          0.6941534813237661,
          -1.6428476965039251,
          0.19340573682335543,
          -0.8684552363058707,
          -1.7020988665954402,
          -0.36646963519035697,
          0.15204373823973857,
          -1.0137394735715417,
          1.028017354715253,
          -0.12175412181320286,
          0.7896643062570945,
          1.198492264950016,
          1.4254762802990666,
          -1.704416711083291
         ],
         "xaxis": "x7",
         "y": [
          0.7256419508353439,
          0.4891359318991245,
          -0.021446868697695354,
          0.5699189969135365,
          0.7989792641425312,
          -1.2851113711634663,
          1.279248718804933,
          0.4749243626656492,
          -1.1845154110032723,
          -1.9648371522917485,
          0.5417860210162163,
          -0.05673910016335068,
          0.0018623938866737526,
          0.5927262435852061,
          0.20216257918580935,
          0.018492048888641987,
          -0.8520453035630274,
          -0.7248018007763332,
          0.34726843746070557,
          0.17253064301206017,
          -1.1819637870114659,
          -0.6291814509893625,
          1.6199572666695972,
          0.650039467695885,
          -0.7283871457040803,
          1.4597335668062734,
          -0.36608342132309374,
          0.1328269564616293,
          0.7820912142809123,
          1.1274247601021,
          -0.7002588967779936,
          -0.030942292689513824,
          -1.5490479787927922,
          -0.9642215465178909,
          -1.6446231055376166,
          -1.9487704013656038,
          0.2694163481633915,
          -0.7433165541055985,
          -0.2861089515191114,
          -0.3708999899691444,
          -2.3375584256560025,
          0.5012563493125995,
          0.34715395702179985,
          0.024256749847415444,
          -0.3312328565998601,
          -1.044843498615884,
          0.31828001324412447,
          1.7381146592719325,
          0.3470207745920348,
          0.41222825484031134,
          -0.24605492900340303,
          1.5001702812430961,
          0.15281977465056046,
          -1.164278703957203,
          -0.017260272587306055,
          0.5073485068268082,
          -1.7104644016532617,
          1.25380445233376,
          -0.1785525841039943,
          -0.1932178660774815,
          0.6107610891492199,
          -0.4443632806386484,
          1.7931890763040588,
          -1.1616309130455214,
          -0.8551089592882165,
          -1.3710997856428642,
          -0.6733777419252835,
          -1.2024844159213874,
          -0.3212272102990379,
          -0.7677522239136005,
          0.7060261222801993,
          0.7042806007704804,
          2.2475715397569074,
          1.7570001108621793,
          -0.3459760349655492,
          -0.07203276847413792,
          1.3894267752811893,
          0.044803610782237366,
          -0.04569620946576732,
          -0.19048353847167335,
          -0.6333030971864758,
          1.0068296365388283,
          -2.729179981615213,
          0.8230205577553504,
          -0.39756656509869287,
          0.6253599249604785,
          -0.1371806460591855,
          -1.6587862639472124,
          -0.02175601899369613,
          -0.8234193356560962,
          -1.2165087892989863,
          -1.1186780154811298,
          0.1259983219990328,
          0.3721418360250379,
          1.2980171824511955,
          0.7596775122213181,
          -1.2705973080889903,
          -0.8090551467308078,
          -0.10521137722736196,
          -1.5136707297077323
         ],
         "yaxis": "y7"
        },
        {
         "line": {
          "color": "rgba(128, 128, 128, 1.0)",
          "dash": "solid",
          "shape": "linear",
          "width": 1.3
         },
         "marker": {
          "size": 2,
          "symbol": "circle"
         },
         "mode": "markers",
         "name": "B",
         "text": "",
         "type": "scatter",
         "x": [
          -0.2113011841916001,
          1.5310440227332927,
          -0.3834137565189133,
          -1.7830575663441992,
          -0.09595931657541742,
          1.8191570203135914,
          0.6595738774636903,
          0.5592695522698317,
          -0.642518908690727,
          1.4710563233804466,
          0.47865556748074345,
          -1.1589839076249726,
          1.1137689782739313,
          -1.0505516785412163,
          -0.3636557457218735,
          -0.1530347712178531,
          -0.5608020883350007,
          0.26166310724840885,
          1.070306755332397,
          0.18198486727131435,
          1.2527157443894705,
          0.22061429747230762,
          -0.2602262012224047,
          -1.0691121404414958,
          -0.6848232570932521,
          0.8162589369960171,
          -0.7582059599396165,
          0.4456582882933635,
          1.1981958921037437,
          -0.0559637091670608,
          -0.8202289572408519,
          -1.2997836861662195,
          0.4938121986847556,
          -0.8186303354719257,
          0.8769007198929809,
          0.2660485146731749,
          -1.2877287717588837,
          0.3907351577803678,
          -1.0586545351939451,
          -1.0999050331881057,
          -1.1617514210615016,
          -1.0770061145053005,
          0.46986897620852475,
          -0.9247312869991977,
          -0.2581198645729674,
          0.7939542942469635,
          -0.7214464958466277,
          0.11641094429099247,
          -0.733351978335377,
          -1.9611502880222196,
          1.2551004661310663,
          -0.7922597826813551,
          -0.6896309349761818,
          -0.1404930061894985,
          1.6472546239243409,
          -1.4612770935449146,
          0.9993093632789172,
          -0.044446698278709854,
          0.3671324429849293,
          0.41654323547329597,
          0.5563761670680994,
          -1.673864070885013,
          -1.4423548692148238,
          -1.4140915067667619,
          -1.326567080833016,
          0.4433836803039138,
          1.286715647535771,
          -1.3648208324013256,
          0.3619462293342259,
          0.3726200050044374,
          -1.3024183272749836,
          0.5016568745452399,
          -1.098803926726156,
          0.7330841032859847,
          -1.5488356761348343,
          1.2034589978405723,
          0.12042373705812841,
          0.05368522072003816,
          -0.543273060365583,
          0.2803483211856537,
          -0.6396496703817736,
          -0.1434764378346883,
          -1.5814796382610632,
          0.16810012805924957,
          -1.498112667423833,
          1.4583129050451265,
          -0.08148007011420712,
          1.0686443906494367,
          0.8130177247945064,
          -1.5364481333517526,
          -0.07468533410211131,
          1.2516811303215438,
          0.02020116203176951,
          0.9749727712415192,
          -0.44058042148343957,
          -1.0516806951025282,
          -0.4696546419268447,
          -0.046152043744718825,
          0.46770062083353575,
          -0.9913931075320418
         ],
         "xaxis": "x8",
         "y": [
          0.7256419508353439,
          0.4891359318991245,
          -0.021446868697695354,
          0.5699189969135365,
          0.7989792641425312,
          -1.2851113711634663,
          1.279248718804933,
          0.4749243626656492,
          -1.1845154110032723,
          -1.9648371522917485,
          0.5417860210162163,
          -0.05673910016335068,
          0.0018623938866737526,
          0.5927262435852061,
          0.20216257918580935,
          0.018492048888641987,
          -0.8520453035630274,
          -0.7248018007763332,
          0.34726843746070557,
          0.17253064301206017,
          -1.1819637870114659,
          -0.6291814509893625,
          1.6199572666695972,
          0.650039467695885,
          -0.7283871457040803,
          1.4597335668062734,
          -0.36608342132309374,
          0.1328269564616293,
          0.7820912142809123,
          1.1274247601021,
          -0.7002588967779936,
          -0.030942292689513824,
          -1.5490479787927922,
          -0.9642215465178909,
          -1.6446231055376166,
          -1.9487704013656038,
          0.2694163481633915,
          -0.7433165541055985,
          -0.2861089515191114,
          -0.3708999899691444,
          -2.3375584256560025,
          0.5012563493125995,
          0.34715395702179985,
          0.024256749847415444,
          -0.3312328565998601,
          -1.044843498615884,
          0.31828001324412447,
          1.7381146592719325,
          0.3470207745920348,
          0.41222825484031134,
          -0.24605492900340303,
          1.5001702812430961,
          0.15281977465056046,
          -1.164278703957203,
          -0.017260272587306055,
          0.5073485068268082,
          -1.7104644016532617,
          1.25380445233376,
          -0.1785525841039943,
          -0.1932178660774815,
          0.6107610891492199,
          -0.4443632806386484,
          1.7931890763040588,
          -1.1616309130455214,
          -0.8551089592882165,
          -1.3710997856428642,
          -0.6733777419252835,
          -1.2024844159213874,
          -0.3212272102990379,
          -0.7677522239136005,
          0.7060261222801993,
          0.7042806007704804,
          2.2475715397569074,
          1.7570001108621793,
          -0.3459760349655492,
          -0.07203276847413792,
          1.3894267752811893,
          0.044803610782237366,
          -0.04569620946576732,
          -0.19048353847167335,
          -0.6333030971864758,
          1.0068296365388283,
          -2.729179981615213,
          0.8230205577553504,
          -0.39756656509869287,
          0.6253599249604785,
          -0.1371806460591855,
          -1.6587862639472124,
          -0.02175601899369613,
          -0.8234193356560962,
          -1.2165087892989863,
          -1.1186780154811298,
          0.1259983219990328,
          0.3721418360250379,
          1.2980171824511955,
          0.7596775122213181,
          -1.2705973080889903,
          -0.8090551467308078,
          -0.10521137722736196,
          -1.5136707297077323
         ],
         "yaxis": "y8"
        },
        {
         "line": {
          "color": "rgba(128, 128, 128, 1.0)",
          "dash": "solid",
          "shape": "linear",
          "width": 1.3
         },
         "marker": {
          "size": 2,
          "symbol": "circle"
         },
         "mode": "markers",
         "name": "C",
         "text": "",
         "type": "scatter",
         "x": [
          -1.7664723391769375,
          1.3723961024111873,
          -0.16862382412950433,
          -0.4686727100182148,
          0.10524460974524735,
          -0.7962133829694761,
          -0.5298304180895901,
          0.6146238526515427,
          1.7292353993593634,
          0.07182212081760649,
          0.6684096748052933,
          -0.7800699149728171,
          1.5417320664306207,
          0.07871196129574386,
          -0.47912331954576354,
          0.49497874036995887,
          -0.8365379495421281,
          0.8100732064576514,
          1.504386579851412,
          1.3050146148625914,
          0.2327163067386028,
          -0.311794801754074,
          1.11803293083804,
          -0.2694022385891882,
          -1.9310046515278843,
          -0.7310345896030418,
          0.05597051235353513,
          -0.2670042140271307,
          -1.6328456299792342,
          1.6776349536213664,
          -0.8913226475416959,
          -0.20080795498403306,
          -2.0060384793844857,
          -0.16886522736983173,
          0.025069872614478645,
          -2.7983998538120525,
          -0.8296821954277036,
          -1.9867158696502034,
          0.2564426559057547,
          0.050771092269586864,
          0.06129118607457183,
          -1.4499164910285043,
          -0.7360201539756989,
          -1.2031929519207538,
          1.5075211502660624,
          0.9044128941163659,
          2.784660416932731,
          0.32705586003758896,
          -0.5137018289027601,
          -0.7574469128514296,
          -0.49514121798295785,
          -0.888912752461698,
          1.1174340171108508,
          1.907646220570275,
          -1.0537892813370076,
          0.425646641425545,
          -0.7082382696496868,
          -0.25756424708664577,
          -0.3605967100447902,
          -0.9910768416671183,
          0.6621518651077974,
          -0.3954043976512718,
          0.44955446684650807,
          1.0298175988968659,
          0.10641679029381493,
          0.9506947884212149,
          0.3278939302509376,
          -1.0602297237402718,
          0.11544492678947446,
          -1.0668802252218457,
          -1.9183668765571822,
          -0.8424470502410739,
          1.2075751433374757,
          0.7105708383905097,
          -0.3782733230042047,
          0.7870014181532221,
          0.08954649196791556,
          -1.166764582805965,
          0.6212228154843119,
          0.8308641409300191,
          -2.0347968071431044,
          1.2253581412652095,
          -0.9215248386855428,
          0.18688974053934473,
          0.30853112042580283,
          0.8420608730484123,
          -1.262211780112218,
          0.11362895802530086,
          0.62441011985385,
          -0.8495669500347244,
          -0.6409877413673586,
          0.5746315825425063,
          -1.9814150215828208,
          2.299270468997804,
          -0.5435018086035873,
          0.47492251312272793,
          0.34442197771751076,
          -1.6442326270930063,
          0.4553135548589679,
          0.4300313241505395
         ],
         "xaxis": "x9",
         "y": [
          1.24107014904874,
          -0.611240496227224,
          -1.2087856326271955,
          0.007887977979965525,
          0.45530406329591044,
          0.9662102884582526,
          0.16530206534505026,
          0.018561415038707438,
          -0.5136745811377624,
          -0.10906323011831386,
          0.6258065546348593,
          1.2349310951818517,
          -0.23105097485187231,
          3.125706384009117,
          -0.9049261842041133,
          0.7571954881377901,
          -1.676623639083392,
          -0.9114029887249526,
          -1.075394381987722,
          -0.5893655249688883,
          0.48947874751818854,
          0.9988050355199353,
          0.06320750148936695,
          0.13870019395278757,
          -0.04222966403459234,
          -0.5597428400337586,
          -1.4146817083981773,
          -1.0182699125056986,
          -0.42133931455905155,
          -0.6369396776035443,
          -0.4125163879618978,
          -0.6488127386871908,
          -0.2127917661991761,
          -0.5080007599359846,
          0.015526570223989147,
          -0.0068068158603496595,
          0.9148513049044882,
          -0.327213992027883,
          -0.5415355368831904,
          -1.7043140658741291,
          0.7754594628923063,
          -0.00021453980782884546,
          -0.4219142594508613,
          -1.647637289687369,
          0.6780438674669387,
          1.703715767681509,
          -0.2788109602508351,
          -1.0930397432676628,
          -0.15414641131908355,
          -1.601105095297968,
          0.3320772914777862,
          0.029595919526291262,
          -0.08838027805191064,
          -0.8366535047849263,
          -0.26316337428891723,
          -0.5671449249457002,
          -0.2721118679767741,
          0.5189386804420562,
          -1.6582995800222964,
          1.2631348079807885,
          1.27666002021344,
          -0.8589550254243083,
          0.46634531012107827,
          -1.257704038325947,
          0.479138194580177,
          -0.8428621403839799,
          -1.7219608378986446,
          -1.931827582451364,
          0.27815937470993274,
          -0.25578974988429726,
          -2.3154945600322225,
          -1.0088001199520606,
          1.5674637203693342,
          1.1621409912280656,
          1.7729800459653005,
          -0.37893573922449547,
          -0.07613740258747217,
          0.027891754870857734,
          -0.27095543985522147,
          -0.21814217413978765,
          0.8843606153801192,
          0.7159754465306131,
          0.6384105233149503,
          0.3141051976146513,
          1.3342394514357405,
          -0.25979896763607424,
          0.6941534813237661,
          -1.6428476965039251,
          0.19340573682335543,
          -0.8684552363058707,
          -1.7020988665954402,
          -0.36646963519035697,
          0.15204373823973857,
          -1.0137394735715417,
          1.028017354715253,
          -0.12175412181320286,
          0.7896643062570945,
          1.198492264950016,
          1.4254762802990666,
          -1.704416711083291
         ],
         "yaxis": "y9"
        },
        {
         "line": {
          "color": "rgba(128, 128, 128, 1.0)",
          "dash": "solid",
          "shape": "linear",
          "width": 1.3
         },
         "marker": {
          "size": 2,
          "symbol": "circle"
         },
         "mode": "markers",
         "name": "C",
         "text": "",
         "type": "scatter",
         "x": [
          0.7256419508353439,
          0.4891359318991245,
          -0.021446868697695354,
          0.5699189969135365,
          0.7989792641425312,
          -1.2851113711634663,
          1.279248718804933,
          0.4749243626656492,
          -1.1845154110032723,
          -1.9648371522917485,
          0.5417860210162163,
          -0.05673910016335068,
          0.0018623938866737526,
          0.5927262435852061,
          0.20216257918580935,
          0.018492048888641987,
          -0.8520453035630274,
          -0.7248018007763332,
          0.34726843746070557,
          0.17253064301206017,
          -1.1819637870114659,
          -0.6291814509893625,
          1.6199572666695972,
          0.650039467695885,
          -0.7283871457040803,
          1.4597335668062734,
          -0.36608342132309374,
          0.1328269564616293,
          0.7820912142809123,
          1.1274247601021,
          -0.7002588967779936,
          -0.030942292689513824,
          -1.5490479787927922,
          -0.9642215465178909,
          -1.6446231055376166,
          -1.9487704013656038,
          0.2694163481633915,
          -0.7433165541055985,
          -0.2861089515191114,
          -0.3708999899691444,
          -2.3375584256560025,
          0.5012563493125995,
          0.34715395702179985,
          0.024256749847415444,
          -0.3312328565998601,
          -1.044843498615884,
          0.31828001324412447,
          1.7381146592719325,
          0.3470207745920348,
          0.41222825484031134,
          -0.24605492900340303,
          1.5001702812430961,
          0.15281977465056046,
          -1.164278703957203,
          -0.017260272587306055,
          0.5073485068268082,
          -1.7104644016532617,
          1.25380445233376,
          -0.1785525841039943,
          -0.1932178660774815,
          0.6107610891492199,
          -0.4443632806386484,
          1.7931890763040588,
          -1.1616309130455214,
          -0.8551089592882165,
          -1.3710997856428642,
          -0.6733777419252835,
          -1.2024844159213874,
          -0.3212272102990379,
          -0.7677522239136005,
          0.7060261222801993,
          0.7042806007704804,
          2.2475715397569074,
          1.7570001108621793,
          -0.3459760349655492,
          -0.07203276847413792,
          1.3894267752811893,
          0.044803610782237366,
          -0.04569620946576732,
          -0.19048353847167335,
          -0.6333030971864758,
          1.0068296365388283,
          -2.729179981615213,
          0.8230205577553504,
          -0.39756656509869287,
          0.6253599249604785,
          -0.1371806460591855,
          -1.6587862639472124,
          -0.02175601899369613,
          -0.8234193356560962,
          -1.2165087892989863,
          -1.1186780154811298,
          0.1259983219990328,
          0.3721418360250379,
          1.2980171824511955,
          0.7596775122213181,
          -1.2705973080889903,
          -0.8090551467308078,
          -0.10521137722736196,
          -1.5136707297077323
         ],
         "xaxis": "x10",
         "y": [
          1.24107014904874,
          -0.611240496227224,
          -1.2087856326271955,
          0.007887977979965525,
          0.45530406329591044,
          0.9662102884582526,
          0.16530206534505026,
          0.018561415038707438,
          -0.5136745811377624,
          -0.10906323011831386,
          0.6258065546348593,
          1.2349310951818517,
          -0.23105097485187231,
          3.125706384009117,
          -0.9049261842041133,
          0.7571954881377901,
          -1.676623639083392,
          -0.9114029887249526,
          -1.075394381987722,
          -0.5893655249688883,
          0.48947874751818854,
          0.9988050355199353,
          0.06320750148936695,
          0.13870019395278757,
          -0.04222966403459234,
          -0.5597428400337586,
          -1.4146817083981773,
          -1.0182699125056986,
          -0.42133931455905155,
          -0.6369396776035443,
          -0.4125163879618978,
          -0.6488127386871908,
          -0.2127917661991761,
          -0.5080007599359846,
          0.015526570223989147,
          -0.0068068158603496595,
          0.9148513049044882,
          -0.327213992027883,
          -0.5415355368831904,
          -1.7043140658741291,
          0.7754594628923063,
          -0.00021453980782884546,
          -0.4219142594508613,
          -1.647637289687369,
          0.6780438674669387,
          1.703715767681509,
          -0.2788109602508351,
          -1.0930397432676628,
          -0.15414641131908355,
          -1.601105095297968,
          0.3320772914777862,
          0.029595919526291262,
          -0.08838027805191064,
          -0.8366535047849263,
          -0.26316337428891723,
          -0.5671449249457002,
          -0.2721118679767741,
          0.5189386804420562,
          -1.6582995800222964,
          1.2631348079807885,
          1.27666002021344,
          -0.8589550254243083,
          0.46634531012107827,
          -1.257704038325947,
          0.479138194580177,
          -0.8428621403839799,
          -1.7219608378986446,
          -1.931827582451364,
          0.27815937470993274,
          -0.25578974988429726,
          -2.3154945600322225,
          -1.0088001199520606,
          1.5674637203693342,
          1.1621409912280656,
          1.7729800459653005,
          -0.37893573922449547,
          -0.07613740258747217,
          0.027891754870857734,
          -0.27095543985522147,
          -0.21814217413978765,
          0.8843606153801192,
          0.7159754465306131,
          0.6384105233149503,
          0.3141051976146513,
          1.3342394514357405,
          -0.25979896763607424,
          0.6941534813237661,
          -1.6428476965039251,
          0.19340573682335543,
          -0.8684552363058707,
          -1.7020988665954402,
          -0.36646963519035697,
          0.15204373823973857,
          -1.0137394735715417,
          1.028017354715253,
          -0.12175412181320286,
          0.7896643062570945,
          1.198492264950016,
          1.4254762802990666,
          -1.704416711083291
         ],
         "yaxis": "y10"
        },
        {
         "histfunc": "count",
         "histnorm": "",
         "marker": {
          "color": "rgba(50, 171, 96, 1.0)",
          "line": {
           "color": "#4D5663",
           "width": 1.3
          }
         },
         "name": "C",
         "nbinsx": 10,
         "opacity": 0.8,
         "orientation": "v",
         "type": "histogram",
         "x": [
          1.24107014904874,
          -0.611240496227224,
          -1.2087856326271955,
          0.007887977979965525,
          0.45530406329591044,
          0.9662102884582526,
          0.16530206534505026,
          0.018561415038707438,
          -0.5136745811377624,
          -0.10906323011831386,
          0.6258065546348593,
          1.2349310951818517,
          -0.23105097485187231,
          3.125706384009117,
          -0.9049261842041133,
          0.7571954881377901,
          -1.676623639083392,
          -0.9114029887249526,
          -1.075394381987722,
          -0.5893655249688883,
          0.48947874751818854,
          0.9988050355199353,
          0.06320750148936695,
          0.13870019395278757,
          -0.04222966403459234,
          -0.5597428400337586,
          -1.4146817083981773,
          -1.0182699125056986,
          -0.42133931455905155,
          -0.6369396776035443,
          -0.4125163879618978,
          -0.6488127386871908,
          -0.2127917661991761,
          -0.5080007599359846,
          0.015526570223989147,
          -0.0068068158603496595,
          0.9148513049044882,
          -0.327213992027883,
          -0.5415355368831904,
          -1.7043140658741291,
          0.7754594628923063,
          -0.00021453980782884546,
          -0.4219142594508613,
          -1.647637289687369,
          0.6780438674669387,
          1.703715767681509,
          -0.2788109602508351,
          -1.0930397432676628,
          -0.15414641131908355,
          -1.601105095297968,
          0.3320772914777862,
          0.029595919526291262,
          -0.08838027805191064,
          -0.8366535047849263,
          -0.26316337428891723,
          -0.5671449249457002,
          -0.2721118679767741,
          0.5189386804420562,
          -1.6582995800222964,
          1.2631348079807885,
          1.27666002021344,
          -0.8589550254243083,
          0.46634531012107827,
          -1.257704038325947,
          0.479138194580177,
          -0.8428621403839799,
          -1.7219608378986446,
          -1.931827582451364,
          0.27815937470993274,
          -0.25578974988429726,
          -2.3154945600322225,
          -1.0088001199520606,
          1.5674637203693342,
          1.1621409912280656,
          1.7729800459653005,
          -0.37893573922449547,
          -0.07613740258747217,
          0.027891754870857734,
          -0.27095543985522147,
          -0.21814217413978765,
          0.8843606153801192,
          0.7159754465306131,
          0.6384105233149503,
          0.3141051976146513,
          1.3342394514357405,
          -0.25979896763607424,
          0.6941534813237661,
          -1.6428476965039251,
          0.19340573682335543,
          -0.8684552363058707,
          -1.7020988665954402,
          -0.36646963519035697,
          0.15204373823973857,
          -1.0137394735715417,
          1.028017354715253,
          -0.12175412181320286,
          0.7896643062570945,
          1.198492264950016,
          1.4254762802990666,
          -1.704416711083291
         ],
         "xaxis": "x11",
         "yaxis": "y11"
        },
        {
         "line": {
          "color": "rgba(128, 128, 128, 1.0)",
          "dash": "solid",
          "shape": "linear",
          "width": 1.3
         },
         "marker": {
          "size": 2,
          "symbol": "circle"
         },
         "mode": "markers",
         "name": "C",
         "text": "",
         "type": "scatter",
         "x": [
          -0.2113011841916001,
          1.5310440227332927,
          -0.3834137565189133,
          -1.7830575663441992,
          -0.09595931657541742,
          1.8191570203135914,
          0.6595738774636903,
          0.5592695522698317,
          -0.642518908690727,
          1.4710563233804466,
          0.47865556748074345,
          -1.1589839076249726,
          1.1137689782739313,
          -1.0505516785412163,
          -0.3636557457218735,
          -0.1530347712178531,
          -0.5608020883350007,
          0.26166310724840885,
          1.070306755332397,
          0.18198486727131435,
          1.2527157443894705,
          0.22061429747230762,
          -0.2602262012224047,
          -1.0691121404414958,
          -0.6848232570932521,
          0.8162589369960171,
          -0.7582059599396165,
          0.4456582882933635,
          1.1981958921037437,
          -0.0559637091670608,
          -0.8202289572408519,
          -1.2997836861662195,
          0.4938121986847556,
          -0.8186303354719257,
          0.8769007198929809,
          0.2660485146731749,
          -1.2877287717588837,
          0.3907351577803678,
          -1.0586545351939451,
          -1.0999050331881057,
          -1.1617514210615016,
          -1.0770061145053005,
          0.46986897620852475,
          -0.9247312869991977,
          -0.2581198645729674,
          0.7939542942469635,
          -0.7214464958466277,
          0.11641094429099247,
          -0.733351978335377,
          -1.9611502880222196,
          1.2551004661310663,
          -0.7922597826813551,
          -0.6896309349761818,
          -0.1404930061894985,
          1.6472546239243409,
          -1.4612770935449146,
          0.9993093632789172,
          -0.044446698278709854,
          0.3671324429849293,
          0.41654323547329597,
          0.5563761670680994,
          -1.673864070885013,
          -1.4423548692148238,
          -1.4140915067667619,
          -1.326567080833016,
          0.4433836803039138,
          1.286715647535771,
          -1.3648208324013256,
          0.3619462293342259,
          0.3726200050044374,
          -1.3024183272749836,
          0.5016568745452399,
          -1.098803926726156,
          0.7330841032859847,
          -1.5488356761348343,
          1.2034589978405723,
          0.12042373705812841,
          0.05368522072003816,
          -0.543273060365583,
          0.2803483211856537,
          -0.6396496703817736,
          -0.1434764378346883,
          -1.5814796382610632,
          0.16810012805924957,
          -1.498112667423833,
          1.4583129050451265,
          -0.08148007011420712,
          1.0686443906494367,
          0.8130177247945064,
          -1.5364481333517526,
          -0.07468533410211131,
          1.2516811303215438,
          0.02020116203176951,
          0.9749727712415192,
          -0.44058042148343957,
          -1.0516806951025282,
          -0.4696546419268447,
          -0.046152043744718825,
          0.46770062083353575,
          -0.9913931075320418
         ],
         "xaxis": "x12",
         "y": [
          1.24107014904874,
          -0.611240496227224,
          -1.2087856326271955,
          0.007887977979965525,
          0.45530406329591044,
          0.9662102884582526,
          0.16530206534505026,
          0.018561415038707438,
          -0.5136745811377624,
          -0.10906323011831386,
          0.6258065546348593,
          1.2349310951818517,
          -0.23105097485187231,
          3.125706384009117,
          -0.9049261842041133,
          0.7571954881377901,
          -1.676623639083392,
          -0.9114029887249526,
          -1.075394381987722,
          -0.5893655249688883,
          0.48947874751818854,
          0.9988050355199353,
          0.06320750148936695,
          0.13870019395278757,
          -0.04222966403459234,
          -0.5597428400337586,
          -1.4146817083981773,
          -1.0182699125056986,
          -0.42133931455905155,
          -0.6369396776035443,
          -0.4125163879618978,
          -0.6488127386871908,
          -0.2127917661991761,
          -0.5080007599359846,
          0.015526570223989147,
          -0.0068068158603496595,
          0.9148513049044882,
          -0.327213992027883,
          -0.5415355368831904,
          -1.7043140658741291,
          0.7754594628923063,
          -0.00021453980782884546,
          -0.4219142594508613,
          -1.647637289687369,
          0.6780438674669387,
          1.703715767681509,
          -0.2788109602508351,
          -1.0930397432676628,
          -0.15414641131908355,
          -1.601105095297968,
          0.3320772914777862,
          0.029595919526291262,
          -0.08838027805191064,
          -0.8366535047849263,
          -0.26316337428891723,
          -0.5671449249457002,
          -0.2721118679767741,
          0.5189386804420562,
          -1.6582995800222964,
          1.2631348079807885,
          1.27666002021344,
          -0.8589550254243083,
          0.46634531012107827,
          -1.257704038325947,
          0.479138194580177,
          -0.8428621403839799,
          -1.7219608378986446,
          -1.931827582451364,
          0.27815937470993274,
          -0.25578974988429726,
          -2.3154945600322225,
          -1.0088001199520606,
          1.5674637203693342,
          1.1621409912280656,
          1.7729800459653005,
          -0.37893573922449547,
          -0.07613740258747217,
          0.027891754870857734,
          -0.27095543985522147,
          -0.21814217413978765,
          0.8843606153801192,
          0.7159754465306131,
          0.6384105233149503,
          0.3141051976146513,
          1.3342394514357405,
          -0.25979896763607424,
          0.6941534813237661,
          -1.6428476965039251,
          0.19340573682335543,
          -0.8684552363058707,
          -1.7020988665954402,
          -0.36646963519035697,
          0.15204373823973857,
          -1.0137394735715417,
          1.028017354715253,
          -0.12175412181320286,
          0.7896643062570945,
          1.198492264950016,
          1.4254762802990666,
          -1.704416711083291
         ],
         "yaxis": "y12"
        },
        {
         "line": {
          "color": "rgba(128, 128, 128, 1.0)",
          "dash": "solid",
          "shape": "linear",
          "width": 1.3
         },
         "marker": {
          "size": 2,
          "symbol": "circle"
         },
         "mode": "markers",
         "name": "D",
         "text": "",
         "type": "scatter",
         "x": [
          -1.7664723391769375,
          1.3723961024111873,
          -0.16862382412950433,
          -0.4686727100182148,
          0.10524460974524735,
          -0.7962133829694761,
          -0.5298304180895901,
          0.6146238526515427,
          1.7292353993593634,
          0.07182212081760649,
          0.6684096748052933,
          -0.7800699149728171,
          1.5417320664306207,
          0.07871196129574386,
          -0.47912331954576354,
          0.49497874036995887,
          -0.8365379495421281,
          0.8100732064576514,
          1.504386579851412,
          1.3050146148625914,
          0.2327163067386028,
          -0.311794801754074,
          1.11803293083804,
          -0.2694022385891882,
          -1.9310046515278843,
          -0.7310345896030418,
          0.05597051235353513,
          -0.2670042140271307,
          -1.6328456299792342,
          1.6776349536213664,
          -0.8913226475416959,
          -0.20080795498403306,
          -2.0060384793844857,
          -0.16886522736983173,
          0.025069872614478645,
          -2.7983998538120525,
          -0.8296821954277036,
          -1.9867158696502034,
          0.2564426559057547,
          0.050771092269586864,
          0.06129118607457183,
          -1.4499164910285043,
          -0.7360201539756989,
          -1.2031929519207538,
          1.5075211502660624,
          0.9044128941163659,
          2.784660416932731,
          0.32705586003758896,
          -0.5137018289027601,
          -0.7574469128514296,
          -0.49514121798295785,
          -0.888912752461698,
          1.1174340171108508,
          1.907646220570275,
          -1.0537892813370076,
          0.425646641425545,
          -0.7082382696496868,
          -0.25756424708664577,
          -0.3605967100447902,
          -0.9910768416671183,
          0.6621518651077974,
          -0.3954043976512718,
          0.44955446684650807,
          1.0298175988968659,
          0.10641679029381493,
          0.9506947884212149,
          0.3278939302509376,
          -1.0602297237402718,
          0.11544492678947446,
          -1.0668802252218457,
          -1.9183668765571822,
          -0.8424470502410739,
          1.2075751433374757,
          0.7105708383905097,
          -0.3782733230042047,
          0.7870014181532221,
          0.08954649196791556,
          -1.166764582805965,
          0.6212228154843119,
          0.8308641409300191,
          -2.0347968071431044,
          1.2253581412652095,
          -0.9215248386855428,
          0.18688974053934473,
          0.30853112042580283,
          0.8420608730484123,
          -1.262211780112218,
          0.11362895802530086,
          0.62441011985385,
          -0.8495669500347244,
          -0.6409877413673586,
          0.5746315825425063,
          -1.9814150215828208,
          2.299270468997804,
          -0.5435018086035873,
          0.47492251312272793,
          0.34442197771751076,
          -1.6442326270930063,
          0.4553135548589679,
          0.4300313241505395
         ],
         "xaxis": "x13",
         "y": [
          -0.2113011841916001,
          1.5310440227332927,
          -0.3834137565189133,
          -1.7830575663441992,
          -0.09595931657541742,
          1.8191570203135914,
          0.6595738774636903,
          0.5592695522698317,
          -0.642518908690727,
          1.4710563233804466,
          0.47865556748074345,
          -1.1589839076249726,
          1.1137689782739313,
          -1.0505516785412163,
          -0.3636557457218735,
          -0.1530347712178531,
          -0.5608020883350007,
          0.26166310724840885,
          1.070306755332397,
          0.18198486727131435,
          1.2527157443894705,
          0.22061429747230762,
          -0.2602262012224047,
          -1.0691121404414958,
          -0.6848232570932521,
          0.8162589369960171,
          -0.7582059599396165,
          0.4456582882933635,
          1.1981958921037437,
          -0.0559637091670608,
          -0.8202289572408519,
          -1.2997836861662195,
          0.4938121986847556,
          -0.8186303354719257,
          0.8769007198929809,
          0.2660485146731749,
          -1.2877287717588837,
          0.3907351577803678,
          -1.0586545351939451,
          -1.0999050331881057,
          -1.1617514210615016,
          -1.0770061145053005,
          0.46986897620852475,
          -0.9247312869991977,
          -0.2581198645729674,
          0.7939542942469635,
          -0.7214464958466277,
          0.11641094429099247,
          -0.733351978335377,
          -1.9611502880222196,
          1.2551004661310663,
          -0.7922597826813551,
          -0.6896309349761818,
          -0.1404930061894985,
          1.6472546239243409,
          -1.4612770935449146,
          0.9993093632789172,
          -0.044446698278709854,
          0.3671324429849293,
          0.41654323547329597,
          0.5563761670680994,
          -1.673864070885013,
          -1.4423548692148238,
          -1.4140915067667619,
          -1.326567080833016,
          0.4433836803039138,
          1.286715647535771,
          -1.3648208324013256,
          0.3619462293342259,
          0.3726200050044374,
          -1.3024183272749836,
          0.5016568745452399,
          -1.098803926726156,
          0.7330841032859847,
          -1.5488356761348343,
          1.2034589978405723,
          0.12042373705812841,
          0.05368522072003816,
          -0.543273060365583,
          0.2803483211856537,
          -0.6396496703817736,
          -0.1434764378346883,
          -1.5814796382610632,
          0.16810012805924957,
          -1.498112667423833,
          1.4583129050451265,
          -0.08148007011420712,
          1.0686443906494367,
          0.8130177247945064,
          -1.5364481333517526,
          -0.07468533410211131,
          1.2516811303215438,
          0.02020116203176951,
          0.9749727712415192,
          -0.44058042148343957,
          -1.0516806951025282,
          -0.4696546419268447,
          -0.046152043744718825,
          0.46770062083353575,
          -0.9913931075320418
         ],
         "yaxis": "y13"
        },
        {
         "line": {
          "color": "rgba(128, 128, 128, 1.0)",
          "dash": "solid",
          "shape": "linear",
          "width": 1.3
         },
         "marker": {
          "size": 2,
          "symbol": "circle"
         },
         "mode": "markers",
         "name": "D",
         "text": "",
         "type": "scatter",
         "x": [
          0.7256419508353439,
          0.4891359318991245,
          -0.021446868697695354,
          0.5699189969135365,
          0.7989792641425312,
          -1.2851113711634663,
          1.279248718804933,
          0.4749243626656492,
          -1.1845154110032723,
          -1.9648371522917485,
          0.5417860210162163,
          -0.05673910016335068,
          0.0018623938866737526,
          0.5927262435852061,
          0.20216257918580935,
          0.018492048888641987,
          -0.8520453035630274,
          -0.7248018007763332,
          0.34726843746070557,
          0.17253064301206017,
          -1.1819637870114659,
          -0.6291814509893625,
          1.6199572666695972,
          0.650039467695885,
          -0.7283871457040803,
          1.4597335668062734,
          -0.36608342132309374,
          0.1328269564616293,
          0.7820912142809123,
          1.1274247601021,
          -0.7002588967779936,
          -0.030942292689513824,
          -1.5490479787927922,
          -0.9642215465178909,
          -1.6446231055376166,
          -1.9487704013656038,
          0.2694163481633915,
          -0.7433165541055985,
          -0.2861089515191114,
          -0.3708999899691444,
          -2.3375584256560025,
          0.5012563493125995,
          0.34715395702179985,
          0.024256749847415444,
          -0.3312328565998601,
          -1.044843498615884,
          0.31828001324412447,
          1.7381146592719325,
          0.3470207745920348,
          0.41222825484031134,
          -0.24605492900340303,
          1.5001702812430961,
          0.15281977465056046,
          -1.164278703957203,
          -0.017260272587306055,
          0.5073485068268082,
          -1.7104644016532617,
          1.25380445233376,
          -0.1785525841039943,
          -0.1932178660774815,
          0.6107610891492199,
          -0.4443632806386484,
          1.7931890763040588,
          -1.1616309130455214,
          -0.8551089592882165,
          -1.3710997856428642,
          -0.6733777419252835,
          -1.2024844159213874,
          -0.3212272102990379,
          -0.7677522239136005,
          0.7060261222801993,
          0.7042806007704804,
          2.2475715397569074,
          1.7570001108621793,
          -0.3459760349655492,
          -0.07203276847413792,
          1.3894267752811893,
          0.044803610782237366,
          -0.04569620946576732,
          -0.19048353847167335,
          -0.6333030971864758,
          1.0068296365388283,
          -2.729179981615213,
          0.8230205577553504,
          -0.39756656509869287,
          0.6253599249604785,
          -0.1371806460591855,
          -1.6587862639472124,
          -0.02175601899369613,
          -0.8234193356560962,
          -1.2165087892989863,
          -1.1186780154811298,
          0.1259983219990328,
          0.3721418360250379,
          1.2980171824511955,
          0.7596775122213181,
          -1.2705973080889903,
          -0.8090551467308078,
          -0.10521137722736196,
          -1.5136707297077323
         ],
         "xaxis": "x14",
         "y": [
          -0.2113011841916001,
          1.5310440227332927,
          -0.3834137565189133,
          -1.7830575663441992,
          -0.09595931657541742,
          1.8191570203135914,
          0.6595738774636903,
          0.5592695522698317,
          -0.642518908690727,
          1.4710563233804466,
          0.47865556748074345,
          -1.1589839076249726,
          1.1137689782739313,
          -1.0505516785412163,
          -0.3636557457218735,
          -0.1530347712178531,
          -0.5608020883350007,
          0.26166310724840885,
          1.070306755332397,
          0.18198486727131435,
          1.2527157443894705,
          0.22061429747230762,
          -0.2602262012224047,
          -1.0691121404414958,
          -0.6848232570932521,
          0.8162589369960171,
          -0.7582059599396165,
          0.4456582882933635,
          1.1981958921037437,
          -0.0559637091670608,
          -0.8202289572408519,
          -1.2997836861662195,
          0.4938121986847556,
          -0.8186303354719257,
          0.8769007198929809,
          0.2660485146731749,
          -1.2877287717588837,
          0.3907351577803678,
          -1.0586545351939451,
          -1.0999050331881057,
          -1.1617514210615016,
          -1.0770061145053005,
          0.46986897620852475,
          -0.9247312869991977,
          -0.2581198645729674,
          0.7939542942469635,
          -0.7214464958466277,
          0.11641094429099247,
          -0.733351978335377,
          -1.9611502880222196,
          1.2551004661310663,
          -0.7922597826813551,
          -0.6896309349761818,
          -0.1404930061894985,
          1.6472546239243409,
          -1.4612770935449146,
          0.9993093632789172,
          -0.044446698278709854,
          0.3671324429849293,
          0.41654323547329597,
          0.5563761670680994,
          -1.673864070885013,
          -1.4423548692148238,
          -1.4140915067667619,
          -1.326567080833016,
          0.4433836803039138,
          1.286715647535771,
          -1.3648208324013256,
          0.3619462293342259,
          0.3726200050044374,
          -1.3024183272749836,
          0.5016568745452399,
          -1.098803926726156,
          0.7330841032859847,
          -1.5488356761348343,
          1.2034589978405723,
          0.12042373705812841,
          0.05368522072003816,
          -0.543273060365583,
          0.2803483211856537,
          -0.6396496703817736,
          -0.1434764378346883,
          -1.5814796382610632,
          0.16810012805924957,
          -1.498112667423833,
          1.4583129050451265,
          -0.08148007011420712,
          1.0686443906494367,
          0.8130177247945064,
          -1.5364481333517526,
          -0.07468533410211131,
          1.2516811303215438,
          0.02020116203176951,
          0.9749727712415192,
          -0.44058042148343957,
          -1.0516806951025282,
          -0.4696546419268447,
          -0.046152043744718825,
          0.46770062083353575,
          -0.9913931075320418
         ],
         "yaxis": "y14"
        },
        {
         "line": {
          "color": "rgba(128, 128, 128, 1.0)",
          "dash": "solid",
          "shape": "linear",
          "width": 1.3
         },
         "marker": {
          "size": 2,
          "symbol": "circle"
         },
         "mode": "markers",
         "name": "D",
         "text": "",
         "type": "scatter",
         "x": [
          1.24107014904874,
          -0.611240496227224,
          -1.2087856326271955,
          0.007887977979965525,
          0.45530406329591044,
          0.9662102884582526,
          0.16530206534505026,
          0.018561415038707438,
          -0.5136745811377624,
          -0.10906323011831386,
          0.6258065546348593,
          1.2349310951818517,
          -0.23105097485187231,
          3.125706384009117,
          -0.9049261842041133,
          0.7571954881377901,
          -1.676623639083392,
          -0.9114029887249526,
          -1.075394381987722,
          -0.5893655249688883,
          0.48947874751818854,
          0.9988050355199353,
          0.06320750148936695,
          0.13870019395278757,
          -0.04222966403459234,
          -0.5597428400337586,
          -1.4146817083981773,
          -1.0182699125056986,
          -0.42133931455905155,
          -0.6369396776035443,
          -0.4125163879618978,
          -0.6488127386871908,
          -0.2127917661991761,
          -0.5080007599359846,
          0.015526570223989147,
          -0.0068068158603496595,
          0.9148513049044882,
          -0.327213992027883,
          -0.5415355368831904,
          -1.7043140658741291,
          0.7754594628923063,
          -0.00021453980782884546,
          -0.4219142594508613,
          -1.647637289687369,
          0.6780438674669387,
          1.703715767681509,
          -0.2788109602508351,
          -1.0930397432676628,
          -0.15414641131908355,
          -1.601105095297968,
          0.3320772914777862,
          0.029595919526291262,
          -0.08838027805191064,
          -0.8366535047849263,
          -0.26316337428891723,
          -0.5671449249457002,
          -0.2721118679767741,
          0.5189386804420562,
          -1.6582995800222964,
          1.2631348079807885,
          1.27666002021344,
          -0.8589550254243083,
          0.46634531012107827,
          -1.257704038325947,
          0.479138194580177,
          -0.8428621403839799,
          -1.7219608378986446,
          -1.931827582451364,
          0.27815937470993274,
          -0.25578974988429726,
          -2.3154945600322225,
          -1.0088001199520606,
          1.5674637203693342,
          1.1621409912280656,
          1.7729800459653005,
          -0.37893573922449547,
          -0.07613740258747217,
          0.027891754870857734,
          -0.27095543985522147,
          -0.21814217413978765,
          0.8843606153801192,
          0.7159754465306131,
          0.6384105233149503,
          0.3141051976146513,
          1.3342394514357405,
          -0.25979896763607424,
          0.6941534813237661,
          -1.6428476965039251,
          0.19340573682335543,
          -0.8684552363058707,
          -1.7020988665954402,
          -0.36646963519035697,
          0.15204373823973857,
          -1.0137394735715417,
          1.028017354715253,
          -0.12175412181320286,
          0.7896643062570945,
          1.198492264950016,
          1.4254762802990666,
          -1.704416711083291
         ],
         "xaxis": "x15",
         "y": [
          -0.2113011841916001,
          1.5310440227332927,
          -0.3834137565189133,
          -1.7830575663441992,
          -0.09595931657541742,
          1.8191570203135914,
          0.6595738774636903,
          0.5592695522698317,
          -0.642518908690727,
          1.4710563233804466,
          0.47865556748074345,
          -1.1589839076249726,
          1.1137689782739313,
          -1.0505516785412163,
          -0.3636557457218735,
          -0.1530347712178531,
          -0.5608020883350007,
          0.26166310724840885,
          1.070306755332397,
          0.18198486727131435,
          1.2527157443894705,
          0.22061429747230762,
          -0.2602262012224047,
          -1.0691121404414958,
          -0.6848232570932521,
          0.8162589369960171,
          -0.7582059599396165,
          0.4456582882933635,
          1.1981958921037437,
          -0.0559637091670608,
          -0.8202289572408519,
          -1.2997836861662195,
          0.4938121986847556,
          -0.8186303354719257,
          0.8769007198929809,
          0.2660485146731749,
          -1.2877287717588837,
          0.3907351577803678,
          -1.0586545351939451,
          -1.0999050331881057,
          -1.1617514210615016,
          -1.0770061145053005,
          0.46986897620852475,
          -0.9247312869991977,
          -0.2581198645729674,
          0.7939542942469635,
          -0.7214464958466277,
          0.11641094429099247,
          -0.733351978335377,
          -1.9611502880222196,
          1.2551004661310663,
          -0.7922597826813551,
          -0.6896309349761818,
          -0.1404930061894985,
          1.6472546239243409,
          -1.4612770935449146,
          0.9993093632789172,
          -0.044446698278709854,
          0.3671324429849293,
          0.41654323547329597,
          0.5563761670680994,
          -1.673864070885013,
          -1.4423548692148238,
          -1.4140915067667619,
          -1.326567080833016,
          0.4433836803039138,
          1.286715647535771,
          -1.3648208324013256,
          0.3619462293342259,
          0.3726200050044374,
          -1.3024183272749836,
          0.5016568745452399,
          -1.098803926726156,
          0.7330841032859847,
          -1.5488356761348343,
          1.2034589978405723,
          0.12042373705812841,
          0.05368522072003816,
          -0.543273060365583,
          0.2803483211856537,
          -0.6396496703817736,
          -0.1434764378346883,
          -1.5814796382610632,
          0.16810012805924957,
          -1.498112667423833,
          1.4583129050451265,
          -0.08148007011420712,
          1.0686443906494367,
          0.8130177247945064,
          -1.5364481333517526,
          -0.07468533410211131,
          1.2516811303215438,
          0.02020116203176951,
          0.9749727712415192,
          -0.44058042148343957,
          -1.0516806951025282,
          -0.4696546419268447,
          -0.046152043744718825,
          0.46770062083353575,
          -0.9913931075320418
         ],
         "yaxis": "y15"
        },
        {
         "histfunc": "count",
         "histnorm": "",
         "marker": {
          "color": "rgba(128, 0, 128, 1.0)",
          "line": {
           "color": "#4D5663",
           "width": 1.3
          }
         },
         "name": "D",
         "nbinsx": 10,
         "opacity": 0.8,
         "orientation": "v",
         "type": "histogram",
         "x": [
          -0.2113011841916001,
          1.5310440227332927,
          -0.3834137565189133,
          -1.7830575663441992,
          -0.09595931657541742,
          1.8191570203135914,
          0.6595738774636903,
          0.5592695522698317,
          -0.642518908690727,
          1.4710563233804466,
          0.47865556748074345,
          -1.1589839076249726,
          1.1137689782739313,
          -1.0505516785412163,
          -0.3636557457218735,
          -0.1530347712178531,
          -0.5608020883350007,
          0.26166310724840885,
          1.070306755332397,
          0.18198486727131435,
          1.2527157443894705,
          0.22061429747230762,
          -0.2602262012224047,
          -1.0691121404414958,
          -0.6848232570932521,
          0.8162589369960171,
          -0.7582059599396165,
          0.4456582882933635,
          1.1981958921037437,
          -0.0559637091670608,
          -0.8202289572408519,
          -1.2997836861662195,
          0.4938121986847556,
          -0.8186303354719257,
          0.8769007198929809,
          0.2660485146731749,
          -1.2877287717588837,
          0.3907351577803678,
          -1.0586545351939451,
          -1.0999050331881057,
          -1.1617514210615016,
          -1.0770061145053005,
          0.46986897620852475,
          -0.9247312869991977,
          -0.2581198645729674,
          0.7939542942469635,
          -0.7214464958466277,
          0.11641094429099247,
          -0.733351978335377,
          -1.9611502880222196,
          1.2551004661310663,
          -0.7922597826813551,
          -0.6896309349761818,
          -0.1404930061894985,
          1.6472546239243409,
          -1.4612770935449146,
          0.9993093632789172,
          -0.044446698278709854,
          0.3671324429849293,
          0.41654323547329597,
          0.5563761670680994,
          -1.673864070885013,
          -1.4423548692148238,
          -1.4140915067667619,
          -1.326567080833016,
          0.4433836803039138,
          1.286715647535771,
          -1.3648208324013256,
          0.3619462293342259,
          0.3726200050044374,
          -1.3024183272749836,
          0.5016568745452399,
          -1.098803926726156,
          0.7330841032859847,
          -1.5488356761348343,
          1.2034589978405723,
          0.12042373705812841,
          0.05368522072003816,
          -0.543273060365583,
          0.2803483211856537,
          -0.6396496703817736,
          -0.1434764378346883,
          -1.5814796382610632,
          0.16810012805924957,
          -1.498112667423833,
          1.4583129050451265,
          -0.08148007011420712,
          1.0686443906494367,
          0.8130177247945064,
          -1.5364481333517526,
          -0.07468533410211131,
          1.2516811303215438,
          0.02020116203176951,
          0.9749727712415192,
          -0.44058042148343957,
          -1.0516806951025282,
          -0.4696546419268447,
          -0.046152043744718825,
          0.46770062083353575,
          -0.9913931075320418
         ],
         "xaxis": "x16",
         "yaxis": "y16"
        }
       ],
       "layout": {
        "bargap": 0.02,
        "legend": {
         "bgcolor": "#F5F6F9",
         "font": {
          "color": "#4D5663"
         }
        },
        "paper_bgcolor": "#F5F6F9",
        "plot_bgcolor": "#F5F6F9",
        "showlegend": false,
        "template": {
         "data": {
          "bar": [
           {
            "error_x": {
             "color": "#2a3f5f"
            },
            "error_y": {
             "color": "#2a3f5f"
            },
            "marker": {
             "line": {
              "color": "#E5ECF6",
              "width": 0.5
             }
            },
            "type": "bar"
           }
          ],
          "barpolar": [
           {
            "marker": {
             "line": {
              "color": "#E5ECF6",
              "width": 0.5
             }
            },
            "type": "barpolar"
           }
          ],
          "carpet": [
           {
            "aaxis": {
             "endlinecolor": "#2a3f5f",
             "gridcolor": "white",
             "linecolor": "white",
             "minorgridcolor": "white",
             "startlinecolor": "#2a3f5f"
            },
            "baxis": {
             "endlinecolor": "#2a3f5f",
             "gridcolor": "white",
             "linecolor": "white",
             "minorgridcolor": "white",
             "startlinecolor": "#2a3f5f"
            },
            "type": "carpet"
           }
          ],
          "choropleth": [
           {
            "colorbar": {
             "outlinewidth": 0,
             "ticks": ""
            },
            "type": "choropleth"
           }
          ],
          "contour": [
           {
            "colorbar": {
             "outlinewidth": 0,
             "ticks": ""
            },
            "colorscale": [
             [
              0,
              "#0d0887"
             ],
             [
              0.1111111111111111,
              "#46039f"
             ],
             [
              0.2222222222222222,
              "#7201a8"
             ],
             [
              0.3333333333333333,
              "#9c179e"
             ],
             [
              0.4444444444444444,
              "#bd3786"
             ],
             [
              0.5555555555555556,
              "#d8576b"
             ],
             [
              0.6666666666666666,
              "#ed7953"
             ],
             [
              0.7777777777777778,
              "#fb9f3a"
             ],
             [
              0.8888888888888888,
              "#fdca26"
             ],
             [
              1,
              "#f0f921"
             ]
            ],
            "type": "contour"
           }
          ],
          "contourcarpet": [
           {
            "colorbar": {
             "outlinewidth": 0,
             "ticks": ""
            },
            "type": "contourcarpet"
           }
          ],
          "heatmap": [
           {
            "colorbar": {
             "outlinewidth": 0,
             "ticks": ""
            },
            "colorscale": [
             [
              0,
              "#0d0887"
             ],
             [
              0.1111111111111111,
              "#46039f"
             ],
             [
              0.2222222222222222,
              "#7201a8"
             ],
             [
              0.3333333333333333,
              "#9c179e"
             ],
             [
              0.4444444444444444,
              "#bd3786"
             ],
             [
              0.5555555555555556,
              "#d8576b"
             ],
             [
              0.6666666666666666,
              "#ed7953"
             ],
             [
              0.7777777777777778,
              "#fb9f3a"
             ],
             [
              0.8888888888888888,
              "#fdca26"
             ],
             [
              1,
              "#f0f921"
             ]
            ],
            "type": "heatmap"
           }
          ],
          "heatmapgl": [
           {
            "colorbar": {
             "outlinewidth": 0,
             "ticks": ""
            },
            "colorscale": [
             [
              0,
              "#0d0887"
             ],
             [
              0.1111111111111111,
              "#46039f"
             ],
             [
              0.2222222222222222,
              "#7201a8"
             ],
             [
              0.3333333333333333,
              "#9c179e"
             ],
             [
              0.4444444444444444,
              "#bd3786"
             ],
             [
              0.5555555555555556,
              "#d8576b"
             ],
             [
              0.6666666666666666,
              "#ed7953"
             ],
             [
              0.7777777777777778,
              "#fb9f3a"
             ],
             [
              0.8888888888888888,
              "#fdca26"
             ],
             [
              1,
              "#f0f921"
             ]
            ],
            "type": "heatmapgl"
           }
          ],
          "histogram": [
           {
            "marker": {
             "colorbar": {
              "outlinewidth": 0,
              "ticks": ""
             }
            },
            "type": "histogram"
           }
          ],
          "histogram2d": [
           {
            "colorbar": {
             "outlinewidth": 0,
             "ticks": ""
            },
            "colorscale": [
             [
              0,
              "#0d0887"
             ],
             [
              0.1111111111111111,
              "#46039f"
             ],
             [
              0.2222222222222222,
              "#7201a8"
             ],
             [
              0.3333333333333333,
              "#9c179e"
             ],
             [
              0.4444444444444444,
              "#bd3786"
             ],
             [
              0.5555555555555556,
              "#d8576b"
             ],
             [
              0.6666666666666666,
              "#ed7953"
             ],
             [
              0.7777777777777778,
              "#fb9f3a"
             ],
             [
              0.8888888888888888,
              "#fdca26"
             ],
             [
              1,
              "#f0f921"
             ]
            ],
            "type": "histogram2d"
           }
          ],
          "histogram2dcontour": [
           {
            "colorbar": {
             "outlinewidth": 0,
             "ticks": ""
            },
            "colorscale": [
             [
              0,
              "#0d0887"
             ],
             [
              0.1111111111111111,
              "#46039f"
             ],
             [
              0.2222222222222222,
              "#7201a8"
             ],
             [
              0.3333333333333333,
              "#9c179e"
             ],
             [
              0.4444444444444444,
              "#bd3786"
             ],
             [
              0.5555555555555556,
              "#d8576b"
             ],
             [
              0.6666666666666666,
              "#ed7953"
             ],
             [
              0.7777777777777778,
              "#fb9f3a"
             ],
             [
              0.8888888888888888,
              "#fdca26"
             ],
             [
              1,
              "#f0f921"
             ]
            ],
            "type": "histogram2dcontour"
           }
          ],
          "mesh3d": [
           {
            "colorbar": {
             "outlinewidth": 0,
             "ticks": ""
            },
            "type": "mesh3d"
           }
          ],
          "parcoords": [
           {
            "line": {
             "colorbar": {
              "outlinewidth": 0,
              "ticks": ""
             }
            },
            "type": "parcoords"
           }
          ],
          "pie": [
           {
            "automargin": true,
            "type": "pie"
           }
          ],
          "scatter": [
           {
            "marker": {
             "colorbar": {
              "outlinewidth": 0,
              "ticks": ""
             }
            },
            "type": "scatter"
           }
          ],
          "scatter3d": [
           {
            "line": {
             "colorbar": {
              "outlinewidth": 0,
              "ticks": ""
             }
            },
            "marker": {
             "colorbar": {
              "outlinewidth": 0,
              "ticks": ""
             }
            },
            "type": "scatter3d"
           }
          ],
          "scattercarpet": [
           {
            "marker": {
             "colorbar": {
              "outlinewidth": 0,
              "ticks": ""
             }
            },
            "type": "scattercarpet"
           }
          ],
          "scattergeo": [
           {
            "marker": {
             "colorbar": {
              "outlinewidth": 0,
              "ticks": ""
             }
            },
            "type": "scattergeo"
           }
          ],
          "scattergl": [
           {
            "marker": {
             "colorbar": {
              "outlinewidth": 0,
              "ticks": ""
             }
            },
            "type": "scattergl"
           }
          ],
          "scattermapbox": [
           {
            "marker": {
             "colorbar": {
              "outlinewidth": 0,
              "ticks": ""
             }
            },
            "type": "scattermapbox"
           }
          ],
          "scatterpolar": [
           {
            "marker": {
             "colorbar": {
              "outlinewidth": 0,
              "ticks": ""
             }
            },
            "type": "scatterpolar"
           }
          ],
          "scatterpolargl": [
           {
            "marker": {
             "colorbar": {
              "outlinewidth": 0,
              "ticks": ""
             }
            },
            "type": "scatterpolargl"
           }
          ],
          "scatterternary": [
           {
            "marker": {
             "colorbar": {
              "outlinewidth": 0,
              "ticks": ""
             }
            },
            "type": "scatterternary"
           }
          ],
          "surface": [
           {
            "colorbar": {
             "outlinewidth": 0,
             "ticks": ""
            },
            "colorscale": [
             [
              0,
              "#0d0887"
             ],
             [
              0.1111111111111111,
              "#46039f"
             ],
             [
              0.2222222222222222,
              "#7201a8"
             ],
             [
              0.3333333333333333,
              "#9c179e"
             ],
             [
              0.4444444444444444,
              "#bd3786"
             ],
             [
              0.5555555555555556,
              "#d8576b"
             ],
             [
              0.6666666666666666,
              "#ed7953"
             ],
             [
              0.7777777777777778,
              "#fb9f3a"
             ],
             [
              0.8888888888888888,
              "#fdca26"
             ],
             [
              1,
              "#f0f921"
             ]
            ],
            "type": "surface"
           }
          ],
          "table": [
           {
            "cells": {
             "fill": {
              "color": "#EBF0F8"
             },
             "line": {
              "color": "white"
             }
            },
            "header": {
             "fill": {
              "color": "#C8D4E3"
             },
             "line": {
              "color": "white"
             }
            },
            "type": "table"
           }
          ]
         },
         "layout": {
          "annotationdefaults": {
           "arrowcolor": "#2a3f5f",
           "arrowhead": 0,
           "arrowwidth": 1
          },
          "coloraxis": {
           "colorbar": {
            "outlinewidth": 0,
            "ticks": ""
           }
          },
          "colorscale": {
           "diverging": [
            [
             0,
             "#8e0152"
            ],
            [
             0.1,
             "#c51b7d"
            ],
            [
             0.2,
             "#de77ae"
            ],
            [
             0.3,
             "#f1b6da"
            ],
            [
             0.4,
             "#fde0ef"
            ],
            [
             0.5,
             "#f7f7f7"
            ],
            [
             0.6,
             "#e6f5d0"
            ],
            [
             0.7,
             "#b8e186"
            ],
            [
             0.8,
             "#7fbc41"
            ],
            [
             0.9,
             "#4d9221"
            ],
            [
             1,
             "#276419"
            ]
           ],
           "sequential": [
            [
             0,
             "#0d0887"
            ],
            [
             0.1111111111111111,
             "#46039f"
            ],
            [
             0.2222222222222222,
             "#7201a8"
            ],
            [
             0.3333333333333333,
             "#9c179e"
            ],
            [
             0.4444444444444444,
             "#bd3786"
            ],
            [
             0.5555555555555556,
             "#d8576b"
            ],
            [
             0.6666666666666666,
             "#ed7953"
            ],
            [
             0.7777777777777778,
             "#fb9f3a"
            ],
            [
             0.8888888888888888,
             "#fdca26"
            ],
            [
             1,
             "#f0f921"
            ]
           ],
           "sequentialminus": [
            [
             0,
             "#0d0887"
            ],
            [
             0.1111111111111111,
             "#46039f"
            ],
            [
             0.2222222222222222,
             "#7201a8"
            ],
            [
             0.3333333333333333,
             "#9c179e"
            ],
            [
             0.4444444444444444,
             "#bd3786"
            ],
            [
             0.5555555555555556,
             "#d8576b"
            ],
            [
             0.6666666666666666,
             "#ed7953"
            ],
            [
             0.7777777777777778,
             "#fb9f3a"
            ],
            [
             0.8888888888888888,
             "#fdca26"
            ],
            [
             1,
             "#f0f921"
            ]
           ]
          },
          "colorway": [
           "#636efa",
           "#EF553B",
           "#00cc96",
           "#ab63fa",
           "#FFA15A",
           "#19d3f3",
           "#FF6692",
           "#B6E880",
           "#FF97FF",
           "#FECB52"
          ],
          "font": {
           "color": "#2a3f5f"
          },
          "geo": {
           "bgcolor": "white",
           "lakecolor": "white",
           "landcolor": "#E5ECF6",
           "showlakes": true,
           "showland": true,
           "subunitcolor": "white"
          },
          "hoverlabel": {
           "align": "left"
          },
          "hovermode": "closest",
          "mapbox": {
           "style": "light"
          },
          "paper_bgcolor": "white",
          "plot_bgcolor": "#E5ECF6",
          "polar": {
           "angularaxis": {
            "gridcolor": "white",
            "linecolor": "white",
            "ticks": ""
           },
           "bgcolor": "#E5ECF6",
           "radialaxis": {
            "gridcolor": "white",
            "linecolor": "white",
            "ticks": ""
           }
          },
          "scene": {
           "xaxis": {
            "backgroundcolor": "#E5ECF6",
            "gridcolor": "white",
            "gridwidth": 2,
            "linecolor": "white",
            "showbackground": true,
            "ticks": "",
            "zerolinecolor": "white"
           },
           "yaxis": {
            "backgroundcolor": "#E5ECF6",
            "gridcolor": "white",
            "gridwidth": 2,
            "linecolor": "white",
            "showbackground": true,
            "ticks": "",
            "zerolinecolor": "white"
           },
           "zaxis": {
            "backgroundcolor": "#E5ECF6",
            "gridcolor": "white",
            "gridwidth": 2,
            "linecolor": "white",
            "showbackground": true,
            "ticks": "",
            "zerolinecolor": "white"
           }
          },
          "shapedefaults": {
           "line": {
            "color": "#2a3f5f"
           }
          },
          "ternary": {
           "aaxis": {
            "gridcolor": "white",
            "linecolor": "white",
            "ticks": ""
           },
           "baxis": {
            "gridcolor": "white",
            "linecolor": "white",
            "ticks": ""
           },
           "bgcolor": "#E5ECF6",
           "caxis": {
            "gridcolor": "white",
            "linecolor": "white",
            "ticks": ""
           }
          },
          "title": {
           "x": 0.05
          },
          "xaxis": {
           "automargin": true,
           "gridcolor": "white",
           "linecolor": "white",
           "ticks": "",
           "title": {
            "standoff": 15
           },
           "zerolinecolor": "white",
           "zerolinewidth": 2
          },
          "yaxis": {
           "automargin": true,
           "gridcolor": "white",
           "linecolor": "white",
           "ticks": "",
           "title": {
            "standoff": 15
           },
           "zerolinecolor": "white",
           "zerolinewidth": 2
          }
         }
        },
        "title": {
         "font": {
          "color": "#4D5663"
         }
        },
        "xaxis": {
         "anchor": "y",
         "domain": [
          0,
          0.2125
         ],
         "gridcolor": "#E1E5ED",
         "showgrid": false,
         "tickfont": {
          "color": "#4D5663"
         },
         "title": {
          "font": {
           "color": "#4D5663"
          },
          "text": ""
         },
         "zerolinecolor": "#E1E5ED"
        },
        "xaxis10": {
         "anchor": "y10",
         "domain": [
          0.2625,
          0.475
         ],
         "gridcolor": "#E1E5ED",
         "showgrid": false,
         "tickfont": {
          "color": "#4D5663"
         },
         "title": {
          "font": {
           "color": "#4D5663"
          },
          "text": ""
         },
         "zerolinecolor": "#E1E5ED"
        },
        "xaxis11": {
         "anchor": "y11",
         "domain": [
          0.525,
          0.7375
         ],
         "gridcolor": "#E1E5ED",
         "showgrid": false,
         "tickfont": {
          "color": "#4D5663"
         },
         "title": {
          "font": {
           "color": "#4D5663"
          },
          "text": ""
         },
         "zerolinecolor": "#E1E5ED"
        },
        "xaxis12": {
         "anchor": "y12",
         "domain": [
          0.7875,
          1
         ],
         "gridcolor": "#E1E5ED",
         "showgrid": false,
         "tickfont": {
          "color": "#4D5663"
         },
         "title": {
          "font": {
           "color": "#4D5663"
          },
          "text": ""
         },
         "zerolinecolor": "#E1E5ED"
        },
        "xaxis13": {
         "anchor": "y13",
         "domain": [
          0,
          0.2125
         ],
         "gridcolor": "#E1E5ED",
         "showgrid": false,
         "tickfont": {
          "color": "#4D5663"
         },
         "title": {
          "font": {
           "color": "#4D5663"
          },
          "text": ""
         },
         "zerolinecolor": "#E1E5ED"
        },
        "xaxis14": {
         "anchor": "y14",
         "domain": [
          0.2625,
          0.475
         ],
         "gridcolor": "#E1E5ED",
         "showgrid": false,
         "tickfont": {
          "color": "#4D5663"
         },
         "title": {
          "font": {
           "color": "#4D5663"
          },
          "text": ""
         },
         "zerolinecolor": "#E1E5ED"
        },
        "xaxis15": {
         "anchor": "y15",
         "domain": [
          0.525,
          0.7375
         ],
         "gridcolor": "#E1E5ED",
         "showgrid": false,
         "tickfont": {
          "color": "#4D5663"
         },
         "title": {
          "font": {
           "color": "#4D5663"
          },
          "text": ""
         },
         "zerolinecolor": "#E1E5ED"
        },
        "xaxis16": {
         "anchor": "y16",
         "domain": [
          0.7875,
          1
         ],
         "gridcolor": "#E1E5ED",
         "showgrid": false,
         "tickfont": {
          "color": "#4D5663"
         },
         "title": {
          "font": {
           "color": "#4D5663"
          },
          "text": ""
         },
         "zerolinecolor": "#E1E5ED"
        },
        "xaxis2": {
         "anchor": "y2",
         "domain": [
          0.2625,
          0.475
         ],
         "gridcolor": "#E1E5ED",
         "showgrid": false,
         "tickfont": {
          "color": "#4D5663"
         },
         "title": {
          "font": {
           "color": "#4D5663"
          },
          "text": ""
         },
         "zerolinecolor": "#E1E5ED"
        },
        "xaxis3": {
         "anchor": "y3",
         "domain": [
          0.525,
          0.7375
         ],
         "gridcolor": "#E1E5ED",
         "showgrid": false,
         "tickfont": {
          "color": "#4D5663"
         },
         "title": {
          "font": {
           "color": "#4D5663"
          },
          "text": ""
         },
         "zerolinecolor": "#E1E5ED"
        },
        "xaxis4": {
         "anchor": "y4",
         "domain": [
          0.7875,
          1
         ],
         "gridcolor": "#E1E5ED",
         "showgrid": false,
         "tickfont": {
          "color": "#4D5663"
         },
         "title": {
          "font": {
           "color": "#4D5663"
          },
          "text": ""
         },
         "zerolinecolor": "#E1E5ED"
        },
        "xaxis5": {
         "anchor": "y5",
         "domain": [
          0,
          0.2125
         ],
         "gridcolor": "#E1E5ED",
         "showgrid": false,
         "tickfont": {
          "color": "#4D5663"
         },
         "title": {
          "font": {
           "color": "#4D5663"
          },
          "text": ""
         },
         "zerolinecolor": "#E1E5ED"
        },
        "xaxis6": {
         "anchor": "y6",
         "domain": [
          0.2625,
          0.475
         ],
         "gridcolor": "#E1E5ED",
         "showgrid": false,
         "tickfont": {
          "color": "#4D5663"
         },
         "title": {
          "font": {
           "color": "#4D5663"
          },
          "text": ""
         },
         "zerolinecolor": "#E1E5ED"
        },
        "xaxis7": {
         "anchor": "y7",
         "domain": [
          0.525,
          0.7375
         ],
         "gridcolor": "#E1E5ED",
         "showgrid": false,
         "tickfont": {
          "color": "#4D5663"
         },
         "title": {
          "font": {
           "color": "#4D5663"
          },
          "text": ""
         },
         "zerolinecolor": "#E1E5ED"
        },
        "xaxis8": {
         "anchor": "y8",
         "domain": [
          0.7875,
          1
         ],
         "gridcolor": "#E1E5ED",
         "showgrid": false,
         "tickfont": {
          "color": "#4D5663"
         },
         "title": {
          "font": {
           "color": "#4D5663"
          },
          "text": ""
         },
         "zerolinecolor": "#E1E5ED"
        },
        "xaxis9": {
         "anchor": "y9",
         "domain": [
          0,
          0.2125
         ],
         "gridcolor": "#E1E5ED",
         "showgrid": false,
         "tickfont": {
          "color": "#4D5663"
         },
         "title": {
          "font": {
           "color": "#4D5663"
          },
          "text": ""
         },
         "zerolinecolor": "#E1E5ED"
        },
        "yaxis": {
         "anchor": "x",
         "domain": [
          0.8025,
          1
         ],
         "gridcolor": "#E1E5ED",
         "showgrid": false,
         "tickfont": {
          "color": "#4D5663"
         },
         "title": {
          "font": {
           "color": "#4D5663"
          },
          "text": ""
         },
         "zerolinecolor": "#E1E5ED"
        },
        "yaxis10": {
         "anchor": "x10",
         "domain": [
          0.2675,
          0.465
         ],
         "gridcolor": "#E1E5ED",
         "showgrid": false,
         "tickfont": {
          "color": "#4D5663"
         },
         "title": {
          "font": {
           "color": "#4D5663"
          },
          "text": ""
         },
         "zerolinecolor": "#E1E5ED"
        },
        "yaxis11": {
         "anchor": "x11",
         "domain": [
          0.2675,
          0.465
         ],
         "gridcolor": "#E1E5ED",
         "showgrid": false,
         "tickfont": {
          "color": "#4D5663"
         },
         "title": {
          "font": {
           "color": "#4D5663"
          },
          "text": ""
         },
         "zerolinecolor": "#E1E5ED"
        },
        "yaxis12": {
         "anchor": "x12",
         "domain": [
          0.2675,
          0.465
         ],
         "gridcolor": "#E1E5ED",
         "showgrid": false,
         "tickfont": {
          "color": "#4D5663"
         },
         "title": {
          "font": {
           "color": "#4D5663"
          },
          "text": ""
         },
         "zerolinecolor": "#E1E5ED"
        },
        "yaxis13": {
         "anchor": "x13",
         "domain": [
          0,
          0.1975
         ],
         "gridcolor": "#E1E5ED",
         "showgrid": false,
         "tickfont": {
          "color": "#4D5663"
         },
         "title": {
          "font": {
           "color": "#4D5663"
          },
          "text": ""
         },
         "zerolinecolor": "#E1E5ED"
        },
        "yaxis14": {
         "anchor": "x14",
         "domain": [
          0,
          0.1975
         ],
         "gridcolor": "#E1E5ED",
         "showgrid": false,
         "tickfont": {
          "color": "#4D5663"
         },
         "title": {
          "font": {
           "color": "#4D5663"
          },
          "text": ""
         },
         "zerolinecolor": "#E1E5ED"
        },
        "yaxis15": {
         "anchor": "x15",
         "domain": [
          0,
          0.1975
         ],
         "gridcolor": "#E1E5ED",
         "showgrid": false,
         "tickfont": {
          "color": "#4D5663"
         },
         "title": {
          "font": {
           "color": "#4D5663"
          },
          "text": ""
         },
         "zerolinecolor": "#E1E5ED"
        },
        "yaxis16": {
         "anchor": "x16",
         "domain": [
          0,
          0.1975
         ],
         "gridcolor": "#E1E5ED",
         "showgrid": false,
         "tickfont": {
          "color": "#4D5663"
         },
         "title": {
          "font": {
           "color": "#4D5663"
          },
          "text": ""
         },
         "zerolinecolor": "#E1E5ED"
        },
        "yaxis2": {
         "anchor": "x2",
         "domain": [
          0.8025,
          1
         ],
         "gridcolor": "#E1E5ED",
         "showgrid": false,
         "tickfont": {
          "color": "#4D5663"
         },
         "title": {
          "font": {
           "color": "#4D5663"
          },
          "text": ""
         },
         "zerolinecolor": "#E1E5ED"
        },
        "yaxis3": {
         "anchor": "x3",
         "domain": [
          0.8025,
          1
         ],
         "gridcolor": "#E1E5ED",
         "showgrid": false,
         "tickfont": {
          "color": "#4D5663"
         },
         "title": {
          "font": {
           "color": "#4D5663"
          },
          "text": ""
         },
         "zerolinecolor": "#E1E5ED"
        },
        "yaxis4": {
         "anchor": "x4",
         "domain": [
          0.8025,
          1
         ],
         "gridcolor": "#E1E5ED",
         "showgrid": false,
         "tickfont": {
          "color": "#4D5663"
         },
         "title": {
          "font": {
           "color": "#4D5663"
          },
          "text": ""
         },
         "zerolinecolor": "#E1E5ED"
        },
        "yaxis5": {
         "anchor": "x5",
         "domain": [
          0.535,
          0.7325
         ],
         "gridcolor": "#E1E5ED",
         "showgrid": false,
         "tickfont": {
          "color": "#4D5663"
         },
         "title": {
          "font": {
           "color": "#4D5663"
          },
          "text": ""
         },
         "zerolinecolor": "#E1E5ED"
        },
        "yaxis6": {
         "anchor": "x6",
         "domain": [
          0.535,
          0.7325
         ],
         "gridcolor": "#E1E5ED",
         "showgrid": false,
         "tickfont": {
          "color": "#4D5663"
         },
         "title": {
          "font": {
           "color": "#4D5663"
          },
          "text": ""
         },
         "zerolinecolor": "#E1E5ED"
        },
        "yaxis7": {
         "anchor": "x7",
         "domain": [
          0.535,
          0.7325
         ],
         "gridcolor": "#E1E5ED",
         "showgrid": false,
         "tickfont": {
          "color": "#4D5663"
         },
         "title": {
          "font": {
           "color": "#4D5663"
          },
          "text": ""
         },
         "zerolinecolor": "#E1E5ED"
        },
        "yaxis8": {
         "anchor": "x8",
         "domain": [
          0.535,
          0.7325
         ],
         "gridcolor": "#E1E5ED",
         "showgrid": false,
         "tickfont": {
          "color": "#4D5663"
         },
         "title": {
          "font": {
           "color": "#4D5663"
          },
          "text": ""
         },
         "zerolinecolor": "#E1E5ED"
        },
        "yaxis9": {
         "anchor": "x9",
         "domain": [
          0.2675,
          0.465
         ],
         "gridcolor": "#E1E5ED",
         "showgrid": false,
         "tickfont": {
          "color": "#4D5663"
         },
         "title": {
          "font": {
           "color": "#4D5663"
          },
          "text": ""
         },
         "zerolinecolor": "#E1E5ED"
        }
       }
      },
      "text/html": [
       "<div>\n",
       "        \n",
       "        \n",
       "            <div id=\"9c834005-f81f-40dc-ad40-1ed8eac495fc\" class=\"plotly-graph-div\" style=\"height:525px; width:100%;\"></div>\n",
       "            <script type=\"text/javascript\">\n",
       "                require([\"plotly\"], function(Plotly) {\n",
       "                    window.PLOTLYENV=window.PLOTLYENV || {};\n",
       "                    window.PLOTLYENV.BASE_URL='https://plot.ly';\n",
       "                    \n",
       "                if (document.getElementById(\"9c834005-f81f-40dc-ad40-1ed8eac495fc\")) {\n",
       "                    Plotly.newPlot(\n",
       "                        '9c834005-f81f-40dc-ad40-1ed8eac495fc',\n",
       "                        [{\"histfunc\": \"count\", \"histnorm\": \"\", \"marker\": {\"color\": \"rgba(255, 153, 51, 1.0)\", \"line\": {\"color\": \"#4D5663\", \"width\": 1.3}}, \"name\": \"A\", \"nbinsx\": 10, \"opacity\": 0.8, \"orientation\": \"v\", \"type\": \"histogram\", \"x\": [-1.7664723391769375, 1.3723961024111873, -0.16862382412950433, -0.4686727100182148, 0.10524460974524735, -0.7962133829694761, -0.5298304180895901, 0.6146238526515427, 1.7292353993593634, 0.07182212081760649, 0.6684096748052933, -0.7800699149728171, 1.5417320664306207, 0.07871196129574386, -0.47912331954576354, 0.49497874036995887, -0.8365379495421281, 0.8100732064576514, 1.504386579851412, 1.3050146148625914, 0.2327163067386028, -0.311794801754074, 1.11803293083804, -0.2694022385891882, -1.9310046515278843, -0.7310345896030418, 0.05597051235353513, -0.2670042140271307, -1.6328456299792342, 1.6776349536213664, -0.8913226475416959, -0.20080795498403306, -2.0060384793844857, -0.16886522736983173, 0.025069872614478645, -2.7983998538120525, -0.8296821954277036, -1.9867158696502034, 0.2564426559057547, 0.050771092269586864, 0.06129118607457183, -1.4499164910285043, -0.7360201539756989, -1.2031929519207538, 1.5075211502660624, 0.9044128941163659, 2.784660416932731, 0.32705586003758896, -0.5137018289027601, -0.7574469128514296, -0.49514121798295785, -0.888912752461698, 1.1174340171108508, 1.907646220570275, -1.0537892813370076, 0.425646641425545, -0.7082382696496868, -0.25756424708664577, -0.3605967100447902, -0.9910768416671183, 0.6621518651077974, -0.3954043976512718, 0.44955446684650807, 1.0298175988968659, 0.10641679029381493, 0.9506947884212149, 0.3278939302509376, -1.0602297237402718, 0.11544492678947446, -1.0668802252218457, -1.9183668765571822, -0.8424470502410739, 1.2075751433374757, 0.7105708383905097, -0.3782733230042047, 0.7870014181532221, 0.08954649196791556, -1.166764582805965, 0.6212228154843119, 0.8308641409300191, -2.0347968071431044, 1.2253581412652095, -0.9215248386855428, 0.18688974053934473, 0.30853112042580283, 0.8420608730484123, -1.262211780112218, 0.11362895802530086, 0.62441011985385, -0.8495669500347244, -0.6409877413673586, 0.5746315825425063, -1.9814150215828208, 2.299270468997804, -0.5435018086035873, 0.47492251312272793, 0.34442197771751076, -1.6442326270930063, 0.4553135548589679, 0.4300313241505395], \"xaxis\": \"x\", \"yaxis\": \"y\"}, {\"line\": {\"color\": \"rgba(128, 128, 128, 1.0)\", \"dash\": \"solid\", \"shape\": \"linear\", \"width\": 1.3}, \"marker\": {\"size\": 2, \"symbol\": \"circle\"}, \"mode\": \"markers\", \"name\": \"A\", \"text\": \"\", \"type\": \"scatter\", \"x\": [0.7256419508353439, 0.4891359318991245, -0.021446868697695354, 0.5699189969135365, 0.7989792641425312, -1.2851113711634663, 1.279248718804933, 0.4749243626656492, -1.1845154110032723, -1.9648371522917485, 0.5417860210162163, -0.05673910016335068, 0.0018623938866737526, 0.5927262435852061, 0.20216257918580935, 0.018492048888641987, -0.8520453035630274, -0.7248018007763332, 0.34726843746070557, 0.17253064301206017, -1.1819637870114659, -0.6291814509893625, 1.6199572666695972, 0.650039467695885, -0.7283871457040803, 1.4597335668062734, -0.36608342132309374, 0.1328269564616293, 0.7820912142809123, 1.1274247601021, -0.7002588967779936, -0.030942292689513824, -1.5490479787927922, -0.9642215465178909, -1.6446231055376166, -1.9487704013656038, 0.2694163481633915, -0.7433165541055985, -0.2861089515191114, -0.3708999899691444, -2.3375584256560025, 0.5012563493125995, 0.34715395702179985, 0.024256749847415444, -0.3312328565998601, -1.044843498615884, 0.31828001324412447, 1.7381146592719325, 0.3470207745920348, 0.41222825484031134, -0.24605492900340303, 1.5001702812430961, 0.15281977465056046, -1.164278703957203, -0.017260272587306055, 0.5073485068268082, -1.7104644016532617, 1.25380445233376, -0.1785525841039943, -0.1932178660774815, 0.6107610891492199, -0.4443632806386484, 1.7931890763040588, -1.1616309130455214, -0.8551089592882165, -1.3710997856428642, -0.6733777419252835, -1.2024844159213874, -0.3212272102990379, -0.7677522239136005, 0.7060261222801993, 0.7042806007704804, 2.2475715397569074, 1.7570001108621793, -0.3459760349655492, -0.07203276847413792, 1.3894267752811893, 0.044803610782237366, -0.04569620946576732, -0.19048353847167335, -0.6333030971864758, 1.0068296365388283, -2.729179981615213, 0.8230205577553504, -0.39756656509869287, 0.6253599249604785, -0.1371806460591855, -1.6587862639472124, -0.02175601899369613, -0.8234193356560962, -1.2165087892989863, -1.1186780154811298, 0.1259983219990328, 0.3721418360250379, 1.2980171824511955, 0.7596775122213181, -1.2705973080889903, -0.8090551467308078, -0.10521137722736196, -1.5136707297077323], \"xaxis\": \"x2\", \"y\": [-1.7664723391769375, 1.3723961024111873, -0.16862382412950433, -0.4686727100182148, 0.10524460974524735, -0.7962133829694761, -0.5298304180895901, 0.6146238526515427, 1.7292353993593634, 0.07182212081760649, 0.6684096748052933, -0.7800699149728171, 1.5417320664306207, 0.07871196129574386, -0.47912331954576354, 0.49497874036995887, -0.8365379495421281, 0.8100732064576514, 1.504386579851412, 1.3050146148625914, 0.2327163067386028, -0.311794801754074, 1.11803293083804, -0.2694022385891882, -1.9310046515278843, -0.7310345896030418, 0.05597051235353513, -0.2670042140271307, -1.6328456299792342, 1.6776349536213664, -0.8913226475416959, -0.20080795498403306, -2.0060384793844857, -0.16886522736983173, 0.025069872614478645, -2.7983998538120525, -0.8296821954277036, -1.9867158696502034, 0.2564426559057547, 0.050771092269586864, 0.06129118607457183, -1.4499164910285043, -0.7360201539756989, -1.2031929519207538, 1.5075211502660624, 0.9044128941163659, 2.784660416932731, 0.32705586003758896, -0.5137018289027601, -0.7574469128514296, -0.49514121798295785, -0.888912752461698, 1.1174340171108508, 1.907646220570275, -1.0537892813370076, 0.425646641425545, -0.7082382696496868, -0.25756424708664577, -0.3605967100447902, -0.9910768416671183, 0.6621518651077974, -0.3954043976512718, 0.44955446684650807, 1.0298175988968659, 0.10641679029381493, 0.9506947884212149, 0.3278939302509376, -1.0602297237402718, 0.11544492678947446, -1.0668802252218457, -1.9183668765571822, -0.8424470502410739, 1.2075751433374757, 0.7105708383905097, -0.3782733230042047, 0.7870014181532221, 0.08954649196791556, -1.166764582805965, 0.6212228154843119, 0.8308641409300191, -2.0347968071431044, 1.2253581412652095, -0.9215248386855428, 0.18688974053934473, 0.30853112042580283, 0.8420608730484123, -1.262211780112218, 0.11362895802530086, 0.62441011985385, -0.8495669500347244, -0.6409877413673586, 0.5746315825425063, -1.9814150215828208, 2.299270468997804, -0.5435018086035873, 0.47492251312272793, 0.34442197771751076, -1.6442326270930063, 0.4553135548589679, 0.4300313241505395], \"yaxis\": \"y2\"}, {\"line\": {\"color\": \"rgba(128, 128, 128, 1.0)\", \"dash\": \"solid\", \"shape\": \"linear\", \"width\": 1.3}, \"marker\": {\"size\": 2, \"symbol\": \"circle\"}, \"mode\": \"markers\", \"name\": \"A\", \"text\": \"\", \"type\": \"scatter\", \"x\": [1.24107014904874, -0.611240496227224, -1.2087856326271955, 0.007887977979965525, 0.45530406329591044, 0.9662102884582526, 0.16530206534505026, 0.018561415038707438, -0.5136745811377624, -0.10906323011831386, 0.6258065546348593, 1.2349310951818517, -0.23105097485187231, 3.125706384009117, -0.9049261842041133, 0.7571954881377901, -1.676623639083392, -0.9114029887249526, -1.075394381987722, -0.5893655249688883, 0.48947874751818854, 0.9988050355199353, 0.06320750148936695, 0.13870019395278757, -0.04222966403459234, -0.5597428400337586, -1.4146817083981773, -1.0182699125056986, -0.42133931455905155, -0.6369396776035443, -0.4125163879618978, -0.6488127386871908, -0.2127917661991761, -0.5080007599359846, 0.015526570223989147, -0.0068068158603496595, 0.9148513049044882, -0.327213992027883, -0.5415355368831904, -1.7043140658741291, 0.7754594628923063, -0.00021453980782884546, -0.4219142594508613, -1.647637289687369, 0.6780438674669387, 1.703715767681509, -0.2788109602508351, -1.0930397432676628, -0.15414641131908355, -1.601105095297968, 0.3320772914777862, 0.029595919526291262, -0.08838027805191064, -0.8366535047849263, -0.26316337428891723, -0.5671449249457002, -0.2721118679767741, 0.5189386804420562, -1.6582995800222964, 1.2631348079807885, 1.27666002021344, -0.8589550254243083, 0.46634531012107827, -1.257704038325947, 0.479138194580177, -0.8428621403839799, -1.7219608378986446, -1.931827582451364, 0.27815937470993274, -0.25578974988429726, -2.3154945600322225, -1.0088001199520606, 1.5674637203693342, 1.1621409912280656, 1.7729800459653005, -0.37893573922449547, -0.07613740258747217, 0.027891754870857734, -0.27095543985522147, -0.21814217413978765, 0.8843606153801192, 0.7159754465306131, 0.6384105233149503, 0.3141051976146513, 1.3342394514357405, -0.25979896763607424, 0.6941534813237661, -1.6428476965039251, 0.19340573682335543, -0.8684552363058707, -1.7020988665954402, -0.36646963519035697, 0.15204373823973857, -1.0137394735715417, 1.028017354715253, -0.12175412181320286, 0.7896643062570945, 1.198492264950016, 1.4254762802990666, -1.704416711083291], \"xaxis\": \"x3\", \"y\": [-1.7664723391769375, 1.3723961024111873, -0.16862382412950433, -0.4686727100182148, 0.10524460974524735, -0.7962133829694761, -0.5298304180895901, 0.6146238526515427, 1.7292353993593634, 0.07182212081760649, 0.6684096748052933, -0.7800699149728171, 1.5417320664306207, 0.07871196129574386, -0.47912331954576354, 0.49497874036995887, -0.8365379495421281, 0.8100732064576514, 1.504386579851412, 1.3050146148625914, 0.2327163067386028, -0.311794801754074, 1.11803293083804, -0.2694022385891882, -1.9310046515278843, -0.7310345896030418, 0.05597051235353513, -0.2670042140271307, -1.6328456299792342, 1.6776349536213664, -0.8913226475416959, -0.20080795498403306, -2.0060384793844857, -0.16886522736983173, 0.025069872614478645, -2.7983998538120525, -0.8296821954277036, -1.9867158696502034, 0.2564426559057547, 0.050771092269586864, 0.06129118607457183, -1.4499164910285043, -0.7360201539756989, -1.2031929519207538, 1.5075211502660624, 0.9044128941163659, 2.784660416932731, 0.32705586003758896, -0.5137018289027601, -0.7574469128514296, -0.49514121798295785, -0.888912752461698, 1.1174340171108508, 1.907646220570275, -1.0537892813370076, 0.425646641425545, -0.7082382696496868, -0.25756424708664577, -0.3605967100447902, -0.9910768416671183, 0.6621518651077974, -0.3954043976512718, 0.44955446684650807, 1.0298175988968659, 0.10641679029381493, 0.9506947884212149, 0.3278939302509376, -1.0602297237402718, 0.11544492678947446, -1.0668802252218457, -1.9183668765571822, -0.8424470502410739, 1.2075751433374757, 0.7105708383905097, -0.3782733230042047, 0.7870014181532221, 0.08954649196791556, -1.166764582805965, 0.6212228154843119, 0.8308641409300191, -2.0347968071431044, 1.2253581412652095, -0.9215248386855428, 0.18688974053934473, 0.30853112042580283, 0.8420608730484123, -1.262211780112218, 0.11362895802530086, 0.62441011985385, -0.8495669500347244, -0.6409877413673586, 0.5746315825425063, -1.9814150215828208, 2.299270468997804, -0.5435018086035873, 0.47492251312272793, 0.34442197771751076, -1.6442326270930063, 0.4553135548589679, 0.4300313241505395], \"yaxis\": \"y3\"}, {\"line\": {\"color\": \"rgba(128, 128, 128, 1.0)\", \"dash\": \"solid\", \"shape\": \"linear\", \"width\": 1.3}, \"marker\": {\"size\": 2, \"symbol\": \"circle\"}, \"mode\": \"markers\", \"name\": \"A\", \"text\": \"\", \"type\": \"scatter\", \"x\": [-0.2113011841916001, 1.5310440227332927, -0.3834137565189133, -1.7830575663441992, -0.09595931657541742, 1.8191570203135914, 0.6595738774636903, 0.5592695522698317, -0.642518908690727, 1.4710563233804466, 0.47865556748074345, -1.1589839076249726, 1.1137689782739313, -1.0505516785412163, -0.3636557457218735, -0.1530347712178531, -0.5608020883350007, 0.26166310724840885, 1.070306755332397, 0.18198486727131435, 1.2527157443894705, 0.22061429747230762, -0.2602262012224047, -1.0691121404414958, -0.6848232570932521, 0.8162589369960171, -0.7582059599396165, 0.4456582882933635, 1.1981958921037437, -0.0559637091670608, -0.8202289572408519, -1.2997836861662195, 0.4938121986847556, -0.8186303354719257, 0.8769007198929809, 0.2660485146731749, -1.2877287717588837, 0.3907351577803678, -1.0586545351939451, -1.0999050331881057, -1.1617514210615016, -1.0770061145053005, 0.46986897620852475, -0.9247312869991977, -0.2581198645729674, 0.7939542942469635, -0.7214464958466277, 0.11641094429099247, -0.733351978335377, -1.9611502880222196, 1.2551004661310663, -0.7922597826813551, -0.6896309349761818, -0.1404930061894985, 1.6472546239243409, -1.4612770935449146, 0.9993093632789172, -0.044446698278709854, 0.3671324429849293, 0.41654323547329597, 0.5563761670680994, -1.673864070885013, -1.4423548692148238, -1.4140915067667619, -1.326567080833016, 0.4433836803039138, 1.286715647535771, -1.3648208324013256, 0.3619462293342259, 0.3726200050044374, -1.3024183272749836, 0.5016568745452399, -1.098803926726156, 0.7330841032859847, -1.5488356761348343, 1.2034589978405723, 0.12042373705812841, 0.05368522072003816, -0.543273060365583, 0.2803483211856537, -0.6396496703817736, -0.1434764378346883, -1.5814796382610632, 0.16810012805924957, -1.498112667423833, 1.4583129050451265, -0.08148007011420712, 1.0686443906494367, 0.8130177247945064, -1.5364481333517526, -0.07468533410211131, 1.2516811303215438, 0.02020116203176951, 0.9749727712415192, -0.44058042148343957, -1.0516806951025282, -0.4696546419268447, -0.046152043744718825, 0.46770062083353575, -0.9913931075320418], \"xaxis\": \"x4\", \"y\": [-1.7664723391769375, 1.3723961024111873, -0.16862382412950433, -0.4686727100182148, 0.10524460974524735, -0.7962133829694761, -0.5298304180895901, 0.6146238526515427, 1.7292353993593634, 0.07182212081760649, 0.6684096748052933, -0.7800699149728171, 1.5417320664306207, 0.07871196129574386, -0.47912331954576354, 0.49497874036995887, -0.8365379495421281, 0.8100732064576514, 1.504386579851412, 1.3050146148625914, 0.2327163067386028, -0.311794801754074, 1.11803293083804, -0.2694022385891882, -1.9310046515278843, -0.7310345896030418, 0.05597051235353513, -0.2670042140271307, -1.6328456299792342, 1.6776349536213664, -0.8913226475416959, -0.20080795498403306, -2.0060384793844857, -0.16886522736983173, 0.025069872614478645, -2.7983998538120525, -0.8296821954277036, -1.9867158696502034, 0.2564426559057547, 0.050771092269586864, 0.06129118607457183, -1.4499164910285043, -0.7360201539756989, -1.2031929519207538, 1.5075211502660624, 0.9044128941163659, 2.784660416932731, 0.32705586003758896, -0.5137018289027601, -0.7574469128514296, -0.49514121798295785, -0.888912752461698, 1.1174340171108508, 1.907646220570275, -1.0537892813370076, 0.425646641425545, -0.7082382696496868, -0.25756424708664577, -0.3605967100447902, -0.9910768416671183, 0.6621518651077974, -0.3954043976512718, 0.44955446684650807, 1.0298175988968659, 0.10641679029381493, 0.9506947884212149, 0.3278939302509376, -1.0602297237402718, 0.11544492678947446, -1.0668802252218457, -1.9183668765571822, -0.8424470502410739, 1.2075751433374757, 0.7105708383905097, -0.3782733230042047, 0.7870014181532221, 0.08954649196791556, -1.166764582805965, 0.6212228154843119, 0.8308641409300191, -2.0347968071431044, 1.2253581412652095, -0.9215248386855428, 0.18688974053934473, 0.30853112042580283, 0.8420608730484123, -1.262211780112218, 0.11362895802530086, 0.62441011985385, -0.8495669500347244, -0.6409877413673586, 0.5746315825425063, -1.9814150215828208, 2.299270468997804, -0.5435018086035873, 0.47492251312272793, 0.34442197771751076, -1.6442326270930063, 0.4553135548589679, 0.4300313241505395], \"yaxis\": \"y4\"}, {\"line\": {\"color\": \"rgba(128, 128, 128, 1.0)\", \"dash\": \"solid\", \"shape\": \"linear\", \"width\": 1.3}, \"marker\": {\"size\": 2, \"symbol\": \"circle\"}, \"mode\": \"markers\", \"name\": \"B\", \"text\": \"\", \"type\": \"scatter\", \"x\": [-1.7664723391769375, 1.3723961024111873, -0.16862382412950433, -0.4686727100182148, 0.10524460974524735, -0.7962133829694761, -0.5298304180895901, 0.6146238526515427, 1.7292353993593634, 0.07182212081760649, 0.6684096748052933, -0.7800699149728171, 1.5417320664306207, 0.07871196129574386, -0.47912331954576354, 0.49497874036995887, -0.8365379495421281, 0.8100732064576514, 1.504386579851412, 1.3050146148625914, 0.2327163067386028, -0.311794801754074, 1.11803293083804, -0.2694022385891882, -1.9310046515278843, -0.7310345896030418, 0.05597051235353513, -0.2670042140271307, -1.6328456299792342, 1.6776349536213664, -0.8913226475416959, -0.20080795498403306, -2.0060384793844857, -0.16886522736983173, 0.025069872614478645, -2.7983998538120525, -0.8296821954277036, -1.9867158696502034, 0.2564426559057547, 0.050771092269586864, 0.06129118607457183, -1.4499164910285043, -0.7360201539756989, -1.2031929519207538, 1.5075211502660624, 0.9044128941163659, 2.784660416932731, 0.32705586003758896, -0.5137018289027601, -0.7574469128514296, -0.49514121798295785, -0.888912752461698, 1.1174340171108508, 1.907646220570275, -1.0537892813370076, 0.425646641425545, -0.7082382696496868, -0.25756424708664577, -0.3605967100447902, -0.9910768416671183, 0.6621518651077974, -0.3954043976512718, 0.44955446684650807, 1.0298175988968659, 0.10641679029381493, 0.9506947884212149, 0.3278939302509376, -1.0602297237402718, 0.11544492678947446, -1.0668802252218457, -1.9183668765571822, -0.8424470502410739, 1.2075751433374757, 0.7105708383905097, -0.3782733230042047, 0.7870014181532221, 0.08954649196791556, -1.166764582805965, 0.6212228154843119, 0.8308641409300191, -2.0347968071431044, 1.2253581412652095, -0.9215248386855428, 0.18688974053934473, 0.30853112042580283, 0.8420608730484123, -1.262211780112218, 0.11362895802530086, 0.62441011985385, -0.8495669500347244, -0.6409877413673586, 0.5746315825425063, -1.9814150215828208, 2.299270468997804, -0.5435018086035873, 0.47492251312272793, 0.34442197771751076, -1.6442326270930063, 0.4553135548589679, 0.4300313241505395], \"xaxis\": \"x5\", \"y\": [0.7256419508353439, 0.4891359318991245, -0.021446868697695354, 0.5699189969135365, 0.7989792641425312, -1.2851113711634663, 1.279248718804933, 0.4749243626656492, -1.1845154110032723, -1.9648371522917485, 0.5417860210162163, -0.05673910016335068, 0.0018623938866737526, 0.5927262435852061, 0.20216257918580935, 0.018492048888641987, -0.8520453035630274, -0.7248018007763332, 0.34726843746070557, 0.17253064301206017, -1.1819637870114659, -0.6291814509893625, 1.6199572666695972, 0.650039467695885, -0.7283871457040803, 1.4597335668062734, -0.36608342132309374, 0.1328269564616293, 0.7820912142809123, 1.1274247601021, -0.7002588967779936, -0.030942292689513824, -1.5490479787927922, -0.9642215465178909, -1.6446231055376166, -1.9487704013656038, 0.2694163481633915, -0.7433165541055985, -0.2861089515191114, -0.3708999899691444, -2.3375584256560025, 0.5012563493125995, 0.34715395702179985, 0.024256749847415444, -0.3312328565998601, -1.044843498615884, 0.31828001324412447, 1.7381146592719325, 0.3470207745920348, 0.41222825484031134, -0.24605492900340303, 1.5001702812430961, 0.15281977465056046, -1.164278703957203, -0.017260272587306055, 0.5073485068268082, -1.7104644016532617, 1.25380445233376, -0.1785525841039943, -0.1932178660774815, 0.6107610891492199, -0.4443632806386484, 1.7931890763040588, -1.1616309130455214, -0.8551089592882165, -1.3710997856428642, -0.6733777419252835, -1.2024844159213874, -0.3212272102990379, -0.7677522239136005, 0.7060261222801993, 0.7042806007704804, 2.2475715397569074, 1.7570001108621793, -0.3459760349655492, -0.07203276847413792, 1.3894267752811893, 0.044803610782237366, -0.04569620946576732, -0.19048353847167335, -0.6333030971864758, 1.0068296365388283, -2.729179981615213, 0.8230205577553504, -0.39756656509869287, 0.6253599249604785, -0.1371806460591855, -1.6587862639472124, -0.02175601899369613, -0.8234193356560962, -1.2165087892989863, -1.1186780154811298, 0.1259983219990328, 0.3721418360250379, 1.2980171824511955, 0.7596775122213181, -1.2705973080889903, -0.8090551467308078, -0.10521137722736196, -1.5136707297077323], \"yaxis\": \"y5\"}, {\"histfunc\": \"count\", \"histnorm\": \"\", \"marker\": {\"color\": \"rgba(55, 128, 191, 1.0)\", \"line\": {\"color\": \"#4D5663\", \"width\": 1.3}}, \"name\": \"B\", \"nbinsx\": 10, \"opacity\": 0.8, \"orientation\": \"v\", \"type\": \"histogram\", \"x\": [0.7256419508353439, 0.4891359318991245, -0.021446868697695354, 0.5699189969135365, 0.7989792641425312, -1.2851113711634663, 1.279248718804933, 0.4749243626656492, -1.1845154110032723, -1.9648371522917485, 0.5417860210162163, -0.05673910016335068, 0.0018623938866737526, 0.5927262435852061, 0.20216257918580935, 0.018492048888641987, -0.8520453035630274, -0.7248018007763332, 0.34726843746070557, 0.17253064301206017, -1.1819637870114659, -0.6291814509893625, 1.6199572666695972, 0.650039467695885, -0.7283871457040803, 1.4597335668062734, -0.36608342132309374, 0.1328269564616293, 0.7820912142809123, 1.1274247601021, -0.7002588967779936, -0.030942292689513824, -1.5490479787927922, -0.9642215465178909, -1.6446231055376166, -1.9487704013656038, 0.2694163481633915, -0.7433165541055985, -0.2861089515191114, -0.3708999899691444, -2.3375584256560025, 0.5012563493125995, 0.34715395702179985, 0.024256749847415444, -0.3312328565998601, -1.044843498615884, 0.31828001324412447, 1.7381146592719325, 0.3470207745920348, 0.41222825484031134, -0.24605492900340303, 1.5001702812430961, 0.15281977465056046, -1.164278703957203, -0.017260272587306055, 0.5073485068268082, -1.7104644016532617, 1.25380445233376, -0.1785525841039943, -0.1932178660774815, 0.6107610891492199, -0.4443632806386484, 1.7931890763040588, -1.1616309130455214, -0.8551089592882165, -1.3710997856428642, -0.6733777419252835, -1.2024844159213874, -0.3212272102990379, -0.7677522239136005, 0.7060261222801993, 0.7042806007704804, 2.2475715397569074, 1.7570001108621793, -0.3459760349655492, -0.07203276847413792, 1.3894267752811893, 0.044803610782237366, -0.04569620946576732, -0.19048353847167335, -0.6333030971864758, 1.0068296365388283, -2.729179981615213, 0.8230205577553504, -0.39756656509869287, 0.6253599249604785, -0.1371806460591855, -1.6587862639472124, -0.02175601899369613, -0.8234193356560962, -1.2165087892989863, -1.1186780154811298, 0.1259983219990328, 0.3721418360250379, 1.2980171824511955, 0.7596775122213181, -1.2705973080889903, -0.8090551467308078, -0.10521137722736196, -1.5136707297077323], \"xaxis\": \"x6\", \"yaxis\": \"y6\"}, {\"line\": {\"color\": \"rgba(128, 128, 128, 1.0)\", \"dash\": \"solid\", \"shape\": \"linear\", \"width\": 1.3}, \"marker\": {\"size\": 2, \"symbol\": \"circle\"}, \"mode\": \"markers\", \"name\": \"B\", \"text\": \"\", \"type\": \"scatter\", \"x\": [1.24107014904874, -0.611240496227224, -1.2087856326271955, 0.007887977979965525, 0.45530406329591044, 0.9662102884582526, 0.16530206534505026, 0.018561415038707438, -0.5136745811377624, -0.10906323011831386, 0.6258065546348593, 1.2349310951818517, -0.23105097485187231, 3.125706384009117, -0.9049261842041133, 0.7571954881377901, -1.676623639083392, -0.9114029887249526, -1.075394381987722, -0.5893655249688883, 0.48947874751818854, 0.9988050355199353, 0.06320750148936695, 0.13870019395278757, -0.04222966403459234, -0.5597428400337586, -1.4146817083981773, -1.0182699125056986, -0.42133931455905155, -0.6369396776035443, -0.4125163879618978, -0.6488127386871908, -0.2127917661991761, -0.5080007599359846, 0.015526570223989147, -0.0068068158603496595, 0.9148513049044882, -0.327213992027883, -0.5415355368831904, -1.7043140658741291, 0.7754594628923063, -0.00021453980782884546, -0.4219142594508613, -1.647637289687369, 0.6780438674669387, 1.703715767681509, -0.2788109602508351, -1.0930397432676628, -0.15414641131908355, -1.601105095297968, 0.3320772914777862, 0.029595919526291262, -0.08838027805191064, -0.8366535047849263, -0.26316337428891723, -0.5671449249457002, -0.2721118679767741, 0.5189386804420562, -1.6582995800222964, 1.2631348079807885, 1.27666002021344, -0.8589550254243083, 0.46634531012107827, -1.257704038325947, 0.479138194580177, -0.8428621403839799, -1.7219608378986446, -1.931827582451364, 0.27815937470993274, -0.25578974988429726, -2.3154945600322225, -1.0088001199520606, 1.5674637203693342, 1.1621409912280656, 1.7729800459653005, -0.37893573922449547, -0.07613740258747217, 0.027891754870857734, -0.27095543985522147, -0.21814217413978765, 0.8843606153801192, 0.7159754465306131, 0.6384105233149503, 0.3141051976146513, 1.3342394514357405, -0.25979896763607424, 0.6941534813237661, -1.6428476965039251, 0.19340573682335543, -0.8684552363058707, -1.7020988665954402, -0.36646963519035697, 0.15204373823973857, -1.0137394735715417, 1.028017354715253, -0.12175412181320286, 0.7896643062570945, 1.198492264950016, 1.4254762802990666, -1.704416711083291], \"xaxis\": \"x7\", \"y\": [0.7256419508353439, 0.4891359318991245, -0.021446868697695354, 0.5699189969135365, 0.7989792641425312, -1.2851113711634663, 1.279248718804933, 0.4749243626656492, -1.1845154110032723, -1.9648371522917485, 0.5417860210162163, -0.05673910016335068, 0.0018623938866737526, 0.5927262435852061, 0.20216257918580935, 0.018492048888641987, -0.8520453035630274, -0.7248018007763332, 0.34726843746070557, 0.17253064301206017, -1.1819637870114659, -0.6291814509893625, 1.6199572666695972, 0.650039467695885, -0.7283871457040803, 1.4597335668062734, -0.36608342132309374, 0.1328269564616293, 0.7820912142809123, 1.1274247601021, -0.7002588967779936, -0.030942292689513824, -1.5490479787927922, -0.9642215465178909, -1.6446231055376166, -1.9487704013656038, 0.2694163481633915, -0.7433165541055985, -0.2861089515191114, -0.3708999899691444, -2.3375584256560025, 0.5012563493125995, 0.34715395702179985, 0.024256749847415444, -0.3312328565998601, -1.044843498615884, 0.31828001324412447, 1.7381146592719325, 0.3470207745920348, 0.41222825484031134, -0.24605492900340303, 1.5001702812430961, 0.15281977465056046, -1.164278703957203, -0.017260272587306055, 0.5073485068268082, -1.7104644016532617, 1.25380445233376, -0.1785525841039943, -0.1932178660774815, 0.6107610891492199, -0.4443632806386484, 1.7931890763040588, -1.1616309130455214, -0.8551089592882165, -1.3710997856428642, -0.6733777419252835, -1.2024844159213874, -0.3212272102990379, -0.7677522239136005, 0.7060261222801993, 0.7042806007704804, 2.2475715397569074, 1.7570001108621793, -0.3459760349655492, -0.07203276847413792, 1.3894267752811893, 0.044803610782237366, -0.04569620946576732, -0.19048353847167335, -0.6333030971864758, 1.0068296365388283, -2.729179981615213, 0.8230205577553504, -0.39756656509869287, 0.6253599249604785, -0.1371806460591855, -1.6587862639472124, -0.02175601899369613, -0.8234193356560962, -1.2165087892989863, -1.1186780154811298, 0.1259983219990328, 0.3721418360250379, 1.2980171824511955, 0.7596775122213181, -1.2705973080889903, -0.8090551467308078, -0.10521137722736196, -1.5136707297077323], \"yaxis\": \"y7\"}, {\"line\": {\"color\": \"rgba(128, 128, 128, 1.0)\", \"dash\": \"solid\", \"shape\": \"linear\", \"width\": 1.3}, \"marker\": {\"size\": 2, \"symbol\": \"circle\"}, \"mode\": \"markers\", \"name\": \"B\", \"text\": \"\", \"type\": \"scatter\", \"x\": [-0.2113011841916001, 1.5310440227332927, -0.3834137565189133, -1.7830575663441992, -0.09595931657541742, 1.8191570203135914, 0.6595738774636903, 0.5592695522698317, -0.642518908690727, 1.4710563233804466, 0.47865556748074345, -1.1589839076249726, 1.1137689782739313, -1.0505516785412163, -0.3636557457218735, -0.1530347712178531, -0.5608020883350007, 0.26166310724840885, 1.070306755332397, 0.18198486727131435, 1.2527157443894705, 0.22061429747230762, -0.2602262012224047, -1.0691121404414958, -0.6848232570932521, 0.8162589369960171, -0.7582059599396165, 0.4456582882933635, 1.1981958921037437, -0.0559637091670608, -0.8202289572408519, -1.2997836861662195, 0.4938121986847556, -0.8186303354719257, 0.8769007198929809, 0.2660485146731749, -1.2877287717588837, 0.3907351577803678, -1.0586545351939451, -1.0999050331881057, -1.1617514210615016, -1.0770061145053005, 0.46986897620852475, -0.9247312869991977, -0.2581198645729674, 0.7939542942469635, -0.7214464958466277, 0.11641094429099247, -0.733351978335377, -1.9611502880222196, 1.2551004661310663, -0.7922597826813551, -0.6896309349761818, -0.1404930061894985, 1.6472546239243409, -1.4612770935449146, 0.9993093632789172, -0.044446698278709854, 0.3671324429849293, 0.41654323547329597, 0.5563761670680994, -1.673864070885013, -1.4423548692148238, -1.4140915067667619, -1.326567080833016, 0.4433836803039138, 1.286715647535771, -1.3648208324013256, 0.3619462293342259, 0.3726200050044374, -1.3024183272749836, 0.5016568745452399, -1.098803926726156, 0.7330841032859847, -1.5488356761348343, 1.2034589978405723, 0.12042373705812841, 0.05368522072003816, -0.543273060365583, 0.2803483211856537, -0.6396496703817736, -0.1434764378346883, -1.5814796382610632, 0.16810012805924957, -1.498112667423833, 1.4583129050451265, -0.08148007011420712, 1.0686443906494367, 0.8130177247945064, -1.5364481333517526, -0.07468533410211131, 1.2516811303215438, 0.02020116203176951, 0.9749727712415192, -0.44058042148343957, -1.0516806951025282, -0.4696546419268447, -0.046152043744718825, 0.46770062083353575, -0.9913931075320418], \"xaxis\": \"x8\", \"y\": [0.7256419508353439, 0.4891359318991245, -0.021446868697695354, 0.5699189969135365, 0.7989792641425312, -1.2851113711634663, 1.279248718804933, 0.4749243626656492, -1.1845154110032723, -1.9648371522917485, 0.5417860210162163, -0.05673910016335068, 0.0018623938866737526, 0.5927262435852061, 0.20216257918580935, 0.018492048888641987, -0.8520453035630274, -0.7248018007763332, 0.34726843746070557, 0.17253064301206017, -1.1819637870114659, -0.6291814509893625, 1.6199572666695972, 0.650039467695885, -0.7283871457040803, 1.4597335668062734, -0.36608342132309374, 0.1328269564616293, 0.7820912142809123, 1.1274247601021, -0.7002588967779936, -0.030942292689513824, -1.5490479787927922, -0.9642215465178909, -1.6446231055376166, -1.9487704013656038, 0.2694163481633915, -0.7433165541055985, -0.2861089515191114, -0.3708999899691444, -2.3375584256560025, 0.5012563493125995, 0.34715395702179985, 0.024256749847415444, -0.3312328565998601, -1.044843498615884, 0.31828001324412447, 1.7381146592719325, 0.3470207745920348, 0.41222825484031134, -0.24605492900340303, 1.5001702812430961, 0.15281977465056046, -1.164278703957203, -0.017260272587306055, 0.5073485068268082, -1.7104644016532617, 1.25380445233376, -0.1785525841039943, -0.1932178660774815, 0.6107610891492199, -0.4443632806386484, 1.7931890763040588, -1.1616309130455214, -0.8551089592882165, -1.3710997856428642, -0.6733777419252835, -1.2024844159213874, -0.3212272102990379, -0.7677522239136005, 0.7060261222801993, 0.7042806007704804, 2.2475715397569074, 1.7570001108621793, -0.3459760349655492, -0.07203276847413792, 1.3894267752811893, 0.044803610782237366, -0.04569620946576732, -0.19048353847167335, -0.6333030971864758, 1.0068296365388283, -2.729179981615213, 0.8230205577553504, -0.39756656509869287, 0.6253599249604785, -0.1371806460591855, -1.6587862639472124, -0.02175601899369613, -0.8234193356560962, -1.2165087892989863, -1.1186780154811298, 0.1259983219990328, 0.3721418360250379, 1.2980171824511955, 0.7596775122213181, -1.2705973080889903, -0.8090551467308078, -0.10521137722736196, -1.5136707297077323], \"yaxis\": \"y8\"}, {\"line\": {\"color\": \"rgba(128, 128, 128, 1.0)\", \"dash\": \"solid\", \"shape\": \"linear\", \"width\": 1.3}, \"marker\": {\"size\": 2, \"symbol\": \"circle\"}, \"mode\": \"markers\", \"name\": \"C\", \"text\": \"\", \"type\": \"scatter\", \"x\": [-1.7664723391769375, 1.3723961024111873, -0.16862382412950433, -0.4686727100182148, 0.10524460974524735, -0.7962133829694761, -0.5298304180895901, 0.6146238526515427, 1.7292353993593634, 0.07182212081760649, 0.6684096748052933, -0.7800699149728171, 1.5417320664306207, 0.07871196129574386, -0.47912331954576354, 0.49497874036995887, -0.8365379495421281, 0.8100732064576514, 1.504386579851412, 1.3050146148625914, 0.2327163067386028, -0.311794801754074, 1.11803293083804, -0.2694022385891882, -1.9310046515278843, -0.7310345896030418, 0.05597051235353513, -0.2670042140271307, -1.6328456299792342, 1.6776349536213664, -0.8913226475416959, -0.20080795498403306, -2.0060384793844857, -0.16886522736983173, 0.025069872614478645, -2.7983998538120525, -0.8296821954277036, -1.9867158696502034, 0.2564426559057547, 0.050771092269586864, 0.06129118607457183, -1.4499164910285043, -0.7360201539756989, -1.2031929519207538, 1.5075211502660624, 0.9044128941163659, 2.784660416932731, 0.32705586003758896, -0.5137018289027601, -0.7574469128514296, -0.49514121798295785, -0.888912752461698, 1.1174340171108508, 1.907646220570275, -1.0537892813370076, 0.425646641425545, -0.7082382696496868, -0.25756424708664577, -0.3605967100447902, -0.9910768416671183, 0.6621518651077974, -0.3954043976512718, 0.44955446684650807, 1.0298175988968659, 0.10641679029381493, 0.9506947884212149, 0.3278939302509376, -1.0602297237402718, 0.11544492678947446, -1.0668802252218457, -1.9183668765571822, -0.8424470502410739, 1.2075751433374757, 0.7105708383905097, -0.3782733230042047, 0.7870014181532221, 0.08954649196791556, -1.166764582805965, 0.6212228154843119, 0.8308641409300191, -2.0347968071431044, 1.2253581412652095, -0.9215248386855428, 0.18688974053934473, 0.30853112042580283, 0.8420608730484123, -1.262211780112218, 0.11362895802530086, 0.62441011985385, -0.8495669500347244, -0.6409877413673586, 0.5746315825425063, -1.9814150215828208, 2.299270468997804, -0.5435018086035873, 0.47492251312272793, 0.34442197771751076, -1.6442326270930063, 0.4553135548589679, 0.4300313241505395], \"xaxis\": \"x9\", \"y\": [1.24107014904874, -0.611240496227224, -1.2087856326271955, 0.007887977979965525, 0.45530406329591044, 0.9662102884582526, 0.16530206534505026, 0.018561415038707438, -0.5136745811377624, -0.10906323011831386, 0.6258065546348593, 1.2349310951818517, -0.23105097485187231, 3.125706384009117, -0.9049261842041133, 0.7571954881377901, -1.676623639083392, -0.9114029887249526, -1.075394381987722, -0.5893655249688883, 0.48947874751818854, 0.9988050355199353, 0.06320750148936695, 0.13870019395278757, -0.04222966403459234, -0.5597428400337586, -1.4146817083981773, -1.0182699125056986, -0.42133931455905155, -0.6369396776035443, -0.4125163879618978, -0.6488127386871908, -0.2127917661991761, -0.5080007599359846, 0.015526570223989147, -0.0068068158603496595, 0.9148513049044882, -0.327213992027883, -0.5415355368831904, -1.7043140658741291, 0.7754594628923063, -0.00021453980782884546, -0.4219142594508613, -1.647637289687369, 0.6780438674669387, 1.703715767681509, -0.2788109602508351, -1.0930397432676628, -0.15414641131908355, -1.601105095297968, 0.3320772914777862, 0.029595919526291262, -0.08838027805191064, -0.8366535047849263, -0.26316337428891723, -0.5671449249457002, -0.2721118679767741, 0.5189386804420562, -1.6582995800222964, 1.2631348079807885, 1.27666002021344, -0.8589550254243083, 0.46634531012107827, -1.257704038325947, 0.479138194580177, -0.8428621403839799, -1.7219608378986446, -1.931827582451364, 0.27815937470993274, -0.25578974988429726, -2.3154945600322225, -1.0088001199520606, 1.5674637203693342, 1.1621409912280656, 1.7729800459653005, -0.37893573922449547, -0.07613740258747217, 0.027891754870857734, -0.27095543985522147, -0.21814217413978765, 0.8843606153801192, 0.7159754465306131, 0.6384105233149503, 0.3141051976146513, 1.3342394514357405, -0.25979896763607424, 0.6941534813237661, -1.6428476965039251, 0.19340573682335543, -0.8684552363058707, -1.7020988665954402, -0.36646963519035697, 0.15204373823973857, -1.0137394735715417, 1.028017354715253, -0.12175412181320286, 0.7896643062570945, 1.198492264950016, 1.4254762802990666, -1.704416711083291], \"yaxis\": \"y9\"}, {\"line\": {\"color\": \"rgba(128, 128, 128, 1.0)\", \"dash\": \"solid\", \"shape\": \"linear\", \"width\": 1.3}, \"marker\": {\"size\": 2, \"symbol\": \"circle\"}, \"mode\": \"markers\", \"name\": \"C\", \"text\": \"\", \"type\": \"scatter\", \"x\": [0.7256419508353439, 0.4891359318991245, -0.021446868697695354, 0.5699189969135365, 0.7989792641425312, -1.2851113711634663, 1.279248718804933, 0.4749243626656492, -1.1845154110032723, -1.9648371522917485, 0.5417860210162163, -0.05673910016335068, 0.0018623938866737526, 0.5927262435852061, 0.20216257918580935, 0.018492048888641987, -0.8520453035630274, -0.7248018007763332, 0.34726843746070557, 0.17253064301206017, -1.1819637870114659, -0.6291814509893625, 1.6199572666695972, 0.650039467695885, -0.7283871457040803, 1.4597335668062734, -0.36608342132309374, 0.1328269564616293, 0.7820912142809123, 1.1274247601021, -0.7002588967779936, -0.030942292689513824, -1.5490479787927922, -0.9642215465178909, -1.6446231055376166, -1.9487704013656038, 0.2694163481633915, -0.7433165541055985, -0.2861089515191114, -0.3708999899691444, -2.3375584256560025, 0.5012563493125995, 0.34715395702179985, 0.024256749847415444, -0.3312328565998601, -1.044843498615884, 0.31828001324412447, 1.7381146592719325, 0.3470207745920348, 0.41222825484031134, -0.24605492900340303, 1.5001702812430961, 0.15281977465056046, -1.164278703957203, -0.017260272587306055, 0.5073485068268082, -1.7104644016532617, 1.25380445233376, -0.1785525841039943, -0.1932178660774815, 0.6107610891492199, -0.4443632806386484, 1.7931890763040588, -1.1616309130455214, -0.8551089592882165, -1.3710997856428642, -0.6733777419252835, -1.2024844159213874, -0.3212272102990379, -0.7677522239136005, 0.7060261222801993, 0.7042806007704804, 2.2475715397569074, 1.7570001108621793, -0.3459760349655492, -0.07203276847413792, 1.3894267752811893, 0.044803610782237366, -0.04569620946576732, -0.19048353847167335, -0.6333030971864758, 1.0068296365388283, -2.729179981615213, 0.8230205577553504, -0.39756656509869287, 0.6253599249604785, -0.1371806460591855, -1.6587862639472124, -0.02175601899369613, -0.8234193356560962, -1.2165087892989863, -1.1186780154811298, 0.1259983219990328, 0.3721418360250379, 1.2980171824511955, 0.7596775122213181, -1.2705973080889903, -0.8090551467308078, -0.10521137722736196, -1.5136707297077323], \"xaxis\": \"x10\", \"y\": [1.24107014904874, -0.611240496227224, -1.2087856326271955, 0.007887977979965525, 0.45530406329591044, 0.9662102884582526, 0.16530206534505026, 0.018561415038707438, -0.5136745811377624, -0.10906323011831386, 0.6258065546348593, 1.2349310951818517, -0.23105097485187231, 3.125706384009117, -0.9049261842041133, 0.7571954881377901, -1.676623639083392, -0.9114029887249526, -1.075394381987722, -0.5893655249688883, 0.48947874751818854, 0.9988050355199353, 0.06320750148936695, 0.13870019395278757, -0.04222966403459234, -0.5597428400337586, -1.4146817083981773, -1.0182699125056986, -0.42133931455905155, -0.6369396776035443, -0.4125163879618978, -0.6488127386871908, -0.2127917661991761, -0.5080007599359846, 0.015526570223989147, -0.0068068158603496595, 0.9148513049044882, -0.327213992027883, -0.5415355368831904, -1.7043140658741291, 0.7754594628923063, -0.00021453980782884546, -0.4219142594508613, -1.647637289687369, 0.6780438674669387, 1.703715767681509, -0.2788109602508351, -1.0930397432676628, -0.15414641131908355, -1.601105095297968, 0.3320772914777862, 0.029595919526291262, -0.08838027805191064, -0.8366535047849263, -0.26316337428891723, -0.5671449249457002, -0.2721118679767741, 0.5189386804420562, -1.6582995800222964, 1.2631348079807885, 1.27666002021344, -0.8589550254243083, 0.46634531012107827, -1.257704038325947, 0.479138194580177, -0.8428621403839799, -1.7219608378986446, -1.931827582451364, 0.27815937470993274, -0.25578974988429726, -2.3154945600322225, -1.0088001199520606, 1.5674637203693342, 1.1621409912280656, 1.7729800459653005, -0.37893573922449547, -0.07613740258747217, 0.027891754870857734, -0.27095543985522147, -0.21814217413978765, 0.8843606153801192, 0.7159754465306131, 0.6384105233149503, 0.3141051976146513, 1.3342394514357405, -0.25979896763607424, 0.6941534813237661, -1.6428476965039251, 0.19340573682335543, -0.8684552363058707, -1.7020988665954402, -0.36646963519035697, 0.15204373823973857, -1.0137394735715417, 1.028017354715253, -0.12175412181320286, 0.7896643062570945, 1.198492264950016, 1.4254762802990666, -1.704416711083291], \"yaxis\": \"y10\"}, {\"histfunc\": \"count\", \"histnorm\": \"\", \"marker\": {\"color\": \"rgba(50, 171, 96, 1.0)\", \"line\": {\"color\": \"#4D5663\", \"width\": 1.3}}, \"name\": \"C\", \"nbinsx\": 10, \"opacity\": 0.8, \"orientation\": \"v\", \"type\": \"histogram\", \"x\": [1.24107014904874, -0.611240496227224, -1.2087856326271955, 0.007887977979965525, 0.45530406329591044, 0.9662102884582526, 0.16530206534505026, 0.018561415038707438, -0.5136745811377624, -0.10906323011831386, 0.6258065546348593, 1.2349310951818517, -0.23105097485187231, 3.125706384009117, -0.9049261842041133, 0.7571954881377901, -1.676623639083392, -0.9114029887249526, -1.075394381987722, -0.5893655249688883, 0.48947874751818854, 0.9988050355199353, 0.06320750148936695, 0.13870019395278757, -0.04222966403459234, -0.5597428400337586, -1.4146817083981773, -1.0182699125056986, -0.42133931455905155, -0.6369396776035443, -0.4125163879618978, -0.6488127386871908, -0.2127917661991761, -0.5080007599359846, 0.015526570223989147, -0.0068068158603496595, 0.9148513049044882, -0.327213992027883, -0.5415355368831904, -1.7043140658741291, 0.7754594628923063, -0.00021453980782884546, -0.4219142594508613, -1.647637289687369, 0.6780438674669387, 1.703715767681509, -0.2788109602508351, -1.0930397432676628, -0.15414641131908355, -1.601105095297968, 0.3320772914777862, 0.029595919526291262, -0.08838027805191064, -0.8366535047849263, -0.26316337428891723, -0.5671449249457002, -0.2721118679767741, 0.5189386804420562, -1.6582995800222964, 1.2631348079807885, 1.27666002021344, -0.8589550254243083, 0.46634531012107827, -1.257704038325947, 0.479138194580177, -0.8428621403839799, -1.7219608378986446, -1.931827582451364, 0.27815937470993274, -0.25578974988429726, -2.3154945600322225, -1.0088001199520606, 1.5674637203693342, 1.1621409912280656, 1.7729800459653005, -0.37893573922449547, -0.07613740258747217, 0.027891754870857734, -0.27095543985522147, -0.21814217413978765, 0.8843606153801192, 0.7159754465306131, 0.6384105233149503, 0.3141051976146513, 1.3342394514357405, -0.25979896763607424, 0.6941534813237661, -1.6428476965039251, 0.19340573682335543, -0.8684552363058707, -1.7020988665954402, -0.36646963519035697, 0.15204373823973857, -1.0137394735715417, 1.028017354715253, -0.12175412181320286, 0.7896643062570945, 1.198492264950016, 1.4254762802990666, -1.704416711083291], \"xaxis\": \"x11\", \"yaxis\": \"y11\"}, {\"line\": {\"color\": \"rgba(128, 128, 128, 1.0)\", \"dash\": \"solid\", \"shape\": \"linear\", \"width\": 1.3}, \"marker\": {\"size\": 2, \"symbol\": \"circle\"}, \"mode\": \"markers\", \"name\": \"C\", \"text\": \"\", \"type\": \"scatter\", \"x\": [-0.2113011841916001, 1.5310440227332927, -0.3834137565189133, -1.7830575663441992, -0.09595931657541742, 1.8191570203135914, 0.6595738774636903, 0.5592695522698317, -0.642518908690727, 1.4710563233804466, 0.47865556748074345, -1.1589839076249726, 1.1137689782739313, -1.0505516785412163, -0.3636557457218735, -0.1530347712178531, -0.5608020883350007, 0.26166310724840885, 1.070306755332397, 0.18198486727131435, 1.2527157443894705, 0.22061429747230762, -0.2602262012224047, -1.0691121404414958, -0.6848232570932521, 0.8162589369960171, -0.7582059599396165, 0.4456582882933635, 1.1981958921037437, -0.0559637091670608, -0.8202289572408519, -1.2997836861662195, 0.4938121986847556, -0.8186303354719257, 0.8769007198929809, 0.2660485146731749, -1.2877287717588837, 0.3907351577803678, -1.0586545351939451, -1.0999050331881057, -1.1617514210615016, -1.0770061145053005, 0.46986897620852475, -0.9247312869991977, -0.2581198645729674, 0.7939542942469635, -0.7214464958466277, 0.11641094429099247, -0.733351978335377, -1.9611502880222196, 1.2551004661310663, -0.7922597826813551, -0.6896309349761818, -0.1404930061894985, 1.6472546239243409, -1.4612770935449146, 0.9993093632789172, -0.044446698278709854, 0.3671324429849293, 0.41654323547329597, 0.5563761670680994, -1.673864070885013, -1.4423548692148238, -1.4140915067667619, -1.326567080833016, 0.4433836803039138, 1.286715647535771, -1.3648208324013256, 0.3619462293342259, 0.3726200050044374, -1.3024183272749836, 0.5016568745452399, -1.098803926726156, 0.7330841032859847, -1.5488356761348343, 1.2034589978405723, 0.12042373705812841, 0.05368522072003816, -0.543273060365583, 0.2803483211856537, -0.6396496703817736, -0.1434764378346883, -1.5814796382610632, 0.16810012805924957, -1.498112667423833, 1.4583129050451265, -0.08148007011420712, 1.0686443906494367, 0.8130177247945064, -1.5364481333517526, -0.07468533410211131, 1.2516811303215438, 0.02020116203176951, 0.9749727712415192, -0.44058042148343957, -1.0516806951025282, -0.4696546419268447, -0.046152043744718825, 0.46770062083353575, -0.9913931075320418], \"xaxis\": \"x12\", \"y\": [1.24107014904874, -0.611240496227224, -1.2087856326271955, 0.007887977979965525, 0.45530406329591044, 0.9662102884582526, 0.16530206534505026, 0.018561415038707438, -0.5136745811377624, -0.10906323011831386, 0.6258065546348593, 1.2349310951818517, -0.23105097485187231, 3.125706384009117, -0.9049261842041133, 0.7571954881377901, -1.676623639083392, -0.9114029887249526, -1.075394381987722, -0.5893655249688883, 0.48947874751818854, 0.9988050355199353, 0.06320750148936695, 0.13870019395278757, -0.04222966403459234, -0.5597428400337586, -1.4146817083981773, -1.0182699125056986, -0.42133931455905155, -0.6369396776035443, -0.4125163879618978, -0.6488127386871908, -0.2127917661991761, -0.5080007599359846, 0.015526570223989147, -0.0068068158603496595, 0.9148513049044882, -0.327213992027883, -0.5415355368831904, -1.7043140658741291, 0.7754594628923063, -0.00021453980782884546, -0.4219142594508613, -1.647637289687369, 0.6780438674669387, 1.703715767681509, -0.2788109602508351, -1.0930397432676628, -0.15414641131908355, -1.601105095297968, 0.3320772914777862, 0.029595919526291262, -0.08838027805191064, -0.8366535047849263, -0.26316337428891723, -0.5671449249457002, -0.2721118679767741, 0.5189386804420562, -1.6582995800222964, 1.2631348079807885, 1.27666002021344, -0.8589550254243083, 0.46634531012107827, -1.257704038325947, 0.479138194580177, -0.8428621403839799, -1.7219608378986446, -1.931827582451364, 0.27815937470993274, -0.25578974988429726, -2.3154945600322225, -1.0088001199520606, 1.5674637203693342, 1.1621409912280656, 1.7729800459653005, -0.37893573922449547, -0.07613740258747217, 0.027891754870857734, -0.27095543985522147, -0.21814217413978765, 0.8843606153801192, 0.7159754465306131, 0.6384105233149503, 0.3141051976146513, 1.3342394514357405, -0.25979896763607424, 0.6941534813237661, -1.6428476965039251, 0.19340573682335543, -0.8684552363058707, -1.7020988665954402, -0.36646963519035697, 0.15204373823973857, -1.0137394735715417, 1.028017354715253, -0.12175412181320286, 0.7896643062570945, 1.198492264950016, 1.4254762802990666, -1.704416711083291], \"yaxis\": \"y12\"}, {\"line\": {\"color\": \"rgba(128, 128, 128, 1.0)\", \"dash\": \"solid\", \"shape\": \"linear\", \"width\": 1.3}, \"marker\": {\"size\": 2, \"symbol\": \"circle\"}, \"mode\": \"markers\", \"name\": \"D\", \"text\": \"\", \"type\": \"scatter\", \"x\": [-1.7664723391769375, 1.3723961024111873, -0.16862382412950433, -0.4686727100182148, 0.10524460974524735, -0.7962133829694761, -0.5298304180895901, 0.6146238526515427, 1.7292353993593634, 0.07182212081760649, 0.6684096748052933, -0.7800699149728171, 1.5417320664306207, 0.07871196129574386, -0.47912331954576354, 0.49497874036995887, -0.8365379495421281, 0.8100732064576514, 1.504386579851412, 1.3050146148625914, 0.2327163067386028, -0.311794801754074, 1.11803293083804, -0.2694022385891882, -1.9310046515278843, -0.7310345896030418, 0.05597051235353513, -0.2670042140271307, -1.6328456299792342, 1.6776349536213664, -0.8913226475416959, -0.20080795498403306, -2.0060384793844857, -0.16886522736983173, 0.025069872614478645, -2.7983998538120525, -0.8296821954277036, -1.9867158696502034, 0.2564426559057547, 0.050771092269586864, 0.06129118607457183, -1.4499164910285043, -0.7360201539756989, -1.2031929519207538, 1.5075211502660624, 0.9044128941163659, 2.784660416932731, 0.32705586003758896, -0.5137018289027601, -0.7574469128514296, -0.49514121798295785, -0.888912752461698, 1.1174340171108508, 1.907646220570275, -1.0537892813370076, 0.425646641425545, -0.7082382696496868, -0.25756424708664577, -0.3605967100447902, -0.9910768416671183, 0.6621518651077974, -0.3954043976512718, 0.44955446684650807, 1.0298175988968659, 0.10641679029381493, 0.9506947884212149, 0.3278939302509376, -1.0602297237402718, 0.11544492678947446, -1.0668802252218457, -1.9183668765571822, -0.8424470502410739, 1.2075751433374757, 0.7105708383905097, -0.3782733230042047, 0.7870014181532221, 0.08954649196791556, -1.166764582805965, 0.6212228154843119, 0.8308641409300191, -2.0347968071431044, 1.2253581412652095, -0.9215248386855428, 0.18688974053934473, 0.30853112042580283, 0.8420608730484123, -1.262211780112218, 0.11362895802530086, 0.62441011985385, -0.8495669500347244, -0.6409877413673586, 0.5746315825425063, -1.9814150215828208, 2.299270468997804, -0.5435018086035873, 0.47492251312272793, 0.34442197771751076, -1.6442326270930063, 0.4553135548589679, 0.4300313241505395], \"xaxis\": \"x13\", \"y\": [-0.2113011841916001, 1.5310440227332927, -0.3834137565189133, -1.7830575663441992, -0.09595931657541742, 1.8191570203135914, 0.6595738774636903, 0.5592695522698317, -0.642518908690727, 1.4710563233804466, 0.47865556748074345, -1.1589839076249726, 1.1137689782739313, -1.0505516785412163, -0.3636557457218735, -0.1530347712178531, -0.5608020883350007, 0.26166310724840885, 1.070306755332397, 0.18198486727131435, 1.2527157443894705, 0.22061429747230762, -0.2602262012224047, -1.0691121404414958, -0.6848232570932521, 0.8162589369960171, -0.7582059599396165, 0.4456582882933635, 1.1981958921037437, -0.0559637091670608, -0.8202289572408519, -1.2997836861662195, 0.4938121986847556, -0.8186303354719257, 0.8769007198929809, 0.2660485146731749, -1.2877287717588837, 0.3907351577803678, -1.0586545351939451, -1.0999050331881057, -1.1617514210615016, -1.0770061145053005, 0.46986897620852475, -0.9247312869991977, -0.2581198645729674, 0.7939542942469635, -0.7214464958466277, 0.11641094429099247, -0.733351978335377, -1.9611502880222196, 1.2551004661310663, -0.7922597826813551, -0.6896309349761818, -0.1404930061894985, 1.6472546239243409, -1.4612770935449146, 0.9993093632789172, -0.044446698278709854, 0.3671324429849293, 0.41654323547329597, 0.5563761670680994, -1.673864070885013, -1.4423548692148238, -1.4140915067667619, -1.326567080833016, 0.4433836803039138, 1.286715647535771, -1.3648208324013256, 0.3619462293342259, 0.3726200050044374, -1.3024183272749836, 0.5016568745452399, -1.098803926726156, 0.7330841032859847, -1.5488356761348343, 1.2034589978405723, 0.12042373705812841, 0.05368522072003816, -0.543273060365583, 0.2803483211856537, -0.6396496703817736, -0.1434764378346883, -1.5814796382610632, 0.16810012805924957, -1.498112667423833, 1.4583129050451265, -0.08148007011420712, 1.0686443906494367, 0.8130177247945064, -1.5364481333517526, -0.07468533410211131, 1.2516811303215438, 0.02020116203176951, 0.9749727712415192, -0.44058042148343957, -1.0516806951025282, -0.4696546419268447, -0.046152043744718825, 0.46770062083353575, -0.9913931075320418], \"yaxis\": \"y13\"}, {\"line\": {\"color\": \"rgba(128, 128, 128, 1.0)\", \"dash\": \"solid\", \"shape\": \"linear\", \"width\": 1.3}, \"marker\": {\"size\": 2, \"symbol\": \"circle\"}, \"mode\": \"markers\", \"name\": \"D\", \"text\": \"\", \"type\": \"scatter\", \"x\": [0.7256419508353439, 0.4891359318991245, -0.021446868697695354, 0.5699189969135365, 0.7989792641425312, -1.2851113711634663, 1.279248718804933, 0.4749243626656492, -1.1845154110032723, -1.9648371522917485, 0.5417860210162163, -0.05673910016335068, 0.0018623938866737526, 0.5927262435852061, 0.20216257918580935, 0.018492048888641987, -0.8520453035630274, -0.7248018007763332, 0.34726843746070557, 0.17253064301206017, -1.1819637870114659, -0.6291814509893625, 1.6199572666695972, 0.650039467695885, -0.7283871457040803, 1.4597335668062734, -0.36608342132309374, 0.1328269564616293, 0.7820912142809123, 1.1274247601021, -0.7002588967779936, -0.030942292689513824, -1.5490479787927922, -0.9642215465178909, -1.6446231055376166, -1.9487704013656038, 0.2694163481633915, -0.7433165541055985, -0.2861089515191114, -0.3708999899691444, -2.3375584256560025, 0.5012563493125995, 0.34715395702179985, 0.024256749847415444, -0.3312328565998601, -1.044843498615884, 0.31828001324412447, 1.7381146592719325, 0.3470207745920348, 0.41222825484031134, -0.24605492900340303, 1.5001702812430961, 0.15281977465056046, -1.164278703957203, -0.017260272587306055, 0.5073485068268082, -1.7104644016532617, 1.25380445233376, -0.1785525841039943, -0.1932178660774815, 0.6107610891492199, -0.4443632806386484, 1.7931890763040588, -1.1616309130455214, -0.8551089592882165, -1.3710997856428642, -0.6733777419252835, -1.2024844159213874, -0.3212272102990379, -0.7677522239136005, 0.7060261222801993, 0.7042806007704804, 2.2475715397569074, 1.7570001108621793, -0.3459760349655492, -0.07203276847413792, 1.3894267752811893, 0.044803610782237366, -0.04569620946576732, -0.19048353847167335, -0.6333030971864758, 1.0068296365388283, -2.729179981615213, 0.8230205577553504, -0.39756656509869287, 0.6253599249604785, -0.1371806460591855, -1.6587862639472124, -0.02175601899369613, -0.8234193356560962, -1.2165087892989863, -1.1186780154811298, 0.1259983219990328, 0.3721418360250379, 1.2980171824511955, 0.7596775122213181, -1.2705973080889903, -0.8090551467308078, -0.10521137722736196, -1.5136707297077323], \"xaxis\": \"x14\", \"y\": [-0.2113011841916001, 1.5310440227332927, -0.3834137565189133, -1.7830575663441992, -0.09595931657541742, 1.8191570203135914, 0.6595738774636903, 0.5592695522698317, -0.642518908690727, 1.4710563233804466, 0.47865556748074345, -1.1589839076249726, 1.1137689782739313, -1.0505516785412163, -0.3636557457218735, -0.1530347712178531, -0.5608020883350007, 0.26166310724840885, 1.070306755332397, 0.18198486727131435, 1.2527157443894705, 0.22061429747230762, -0.2602262012224047, -1.0691121404414958, -0.6848232570932521, 0.8162589369960171, -0.7582059599396165, 0.4456582882933635, 1.1981958921037437, -0.0559637091670608, -0.8202289572408519, -1.2997836861662195, 0.4938121986847556, -0.8186303354719257, 0.8769007198929809, 0.2660485146731749, -1.2877287717588837, 0.3907351577803678, -1.0586545351939451, -1.0999050331881057, -1.1617514210615016, -1.0770061145053005, 0.46986897620852475, -0.9247312869991977, -0.2581198645729674, 0.7939542942469635, -0.7214464958466277, 0.11641094429099247, -0.733351978335377, -1.9611502880222196, 1.2551004661310663, -0.7922597826813551, -0.6896309349761818, -0.1404930061894985, 1.6472546239243409, -1.4612770935449146, 0.9993093632789172, -0.044446698278709854, 0.3671324429849293, 0.41654323547329597, 0.5563761670680994, -1.673864070885013, -1.4423548692148238, -1.4140915067667619, -1.326567080833016, 0.4433836803039138, 1.286715647535771, -1.3648208324013256, 0.3619462293342259, 0.3726200050044374, -1.3024183272749836, 0.5016568745452399, -1.098803926726156, 0.7330841032859847, -1.5488356761348343, 1.2034589978405723, 0.12042373705812841, 0.05368522072003816, -0.543273060365583, 0.2803483211856537, -0.6396496703817736, -0.1434764378346883, -1.5814796382610632, 0.16810012805924957, -1.498112667423833, 1.4583129050451265, -0.08148007011420712, 1.0686443906494367, 0.8130177247945064, -1.5364481333517526, -0.07468533410211131, 1.2516811303215438, 0.02020116203176951, 0.9749727712415192, -0.44058042148343957, -1.0516806951025282, -0.4696546419268447, -0.046152043744718825, 0.46770062083353575, -0.9913931075320418], \"yaxis\": \"y14\"}, {\"line\": {\"color\": \"rgba(128, 128, 128, 1.0)\", \"dash\": \"solid\", \"shape\": \"linear\", \"width\": 1.3}, \"marker\": {\"size\": 2, \"symbol\": \"circle\"}, \"mode\": \"markers\", \"name\": \"D\", \"text\": \"\", \"type\": \"scatter\", \"x\": [1.24107014904874, -0.611240496227224, -1.2087856326271955, 0.007887977979965525, 0.45530406329591044, 0.9662102884582526, 0.16530206534505026, 0.018561415038707438, -0.5136745811377624, -0.10906323011831386, 0.6258065546348593, 1.2349310951818517, -0.23105097485187231, 3.125706384009117, -0.9049261842041133, 0.7571954881377901, -1.676623639083392, -0.9114029887249526, -1.075394381987722, -0.5893655249688883, 0.48947874751818854, 0.9988050355199353, 0.06320750148936695, 0.13870019395278757, -0.04222966403459234, -0.5597428400337586, -1.4146817083981773, -1.0182699125056986, -0.42133931455905155, -0.6369396776035443, -0.4125163879618978, -0.6488127386871908, -0.2127917661991761, -0.5080007599359846, 0.015526570223989147, -0.0068068158603496595, 0.9148513049044882, -0.327213992027883, -0.5415355368831904, -1.7043140658741291, 0.7754594628923063, -0.00021453980782884546, -0.4219142594508613, -1.647637289687369, 0.6780438674669387, 1.703715767681509, -0.2788109602508351, -1.0930397432676628, -0.15414641131908355, -1.601105095297968, 0.3320772914777862, 0.029595919526291262, -0.08838027805191064, -0.8366535047849263, -0.26316337428891723, -0.5671449249457002, -0.2721118679767741, 0.5189386804420562, -1.6582995800222964, 1.2631348079807885, 1.27666002021344, -0.8589550254243083, 0.46634531012107827, -1.257704038325947, 0.479138194580177, -0.8428621403839799, -1.7219608378986446, -1.931827582451364, 0.27815937470993274, -0.25578974988429726, -2.3154945600322225, -1.0088001199520606, 1.5674637203693342, 1.1621409912280656, 1.7729800459653005, -0.37893573922449547, -0.07613740258747217, 0.027891754870857734, -0.27095543985522147, -0.21814217413978765, 0.8843606153801192, 0.7159754465306131, 0.6384105233149503, 0.3141051976146513, 1.3342394514357405, -0.25979896763607424, 0.6941534813237661, -1.6428476965039251, 0.19340573682335543, -0.8684552363058707, -1.7020988665954402, -0.36646963519035697, 0.15204373823973857, -1.0137394735715417, 1.028017354715253, -0.12175412181320286, 0.7896643062570945, 1.198492264950016, 1.4254762802990666, -1.704416711083291], \"xaxis\": \"x15\", \"y\": [-0.2113011841916001, 1.5310440227332927, -0.3834137565189133, -1.7830575663441992, -0.09595931657541742, 1.8191570203135914, 0.6595738774636903, 0.5592695522698317, -0.642518908690727, 1.4710563233804466, 0.47865556748074345, -1.1589839076249726, 1.1137689782739313, -1.0505516785412163, -0.3636557457218735, -0.1530347712178531, -0.5608020883350007, 0.26166310724840885, 1.070306755332397, 0.18198486727131435, 1.2527157443894705, 0.22061429747230762, -0.2602262012224047, -1.0691121404414958, -0.6848232570932521, 0.8162589369960171, -0.7582059599396165, 0.4456582882933635, 1.1981958921037437, -0.0559637091670608, -0.8202289572408519, -1.2997836861662195, 0.4938121986847556, -0.8186303354719257, 0.8769007198929809, 0.2660485146731749, -1.2877287717588837, 0.3907351577803678, -1.0586545351939451, -1.0999050331881057, -1.1617514210615016, -1.0770061145053005, 0.46986897620852475, -0.9247312869991977, -0.2581198645729674, 0.7939542942469635, -0.7214464958466277, 0.11641094429099247, -0.733351978335377, -1.9611502880222196, 1.2551004661310663, -0.7922597826813551, -0.6896309349761818, -0.1404930061894985, 1.6472546239243409, -1.4612770935449146, 0.9993093632789172, -0.044446698278709854, 0.3671324429849293, 0.41654323547329597, 0.5563761670680994, -1.673864070885013, -1.4423548692148238, -1.4140915067667619, -1.326567080833016, 0.4433836803039138, 1.286715647535771, -1.3648208324013256, 0.3619462293342259, 0.3726200050044374, -1.3024183272749836, 0.5016568745452399, -1.098803926726156, 0.7330841032859847, -1.5488356761348343, 1.2034589978405723, 0.12042373705812841, 0.05368522072003816, -0.543273060365583, 0.2803483211856537, -0.6396496703817736, -0.1434764378346883, -1.5814796382610632, 0.16810012805924957, -1.498112667423833, 1.4583129050451265, -0.08148007011420712, 1.0686443906494367, 0.8130177247945064, -1.5364481333517526, -0.07468533410211131, 1.2516811303215438, 0.02020116203176951, 0.9749727712415192, -0.44058042148343957, -1.0516806951025282, -0.4696546419268447, -0.046152043744718825, 0.46770062083353575, -0.9913931075320418], \"yaxis\": \"y15\"}, {\"histfunc\": \"count\", \"histnorm\": \"\", \"marker\": {\"color\": \"rgba(128, 0, 128, 1.0)\", \"line\": {\"color\": \"#4D5663\", \"width\": 1.3}}, \"name\": \"D\", \"nbinsx\": 10, \"opacity\": 0.8, \"orientation\": \"v\", \"type\": \"histogram\", \"x\": [-0.2113011841916001, 1.5310440227332927, -0.3834137565189133, -1.7830575663441992, -0.09595931657541742, 1.8191570203135914, 0.6595738774636903, 0.5592695522698317, -0.642518908690727, 1.4710563233804466, 0.47865556748074345, -1.1589839076249726, 1.1137689782739313, -1.0505516785412163, -0.3636557457218735, -0.1530347712178531, -0.5608020883350007, 0.26166310724840885, 1.070306755332397, 0.18198486727131435, 1.2527157443894705, 0.22061429747230762, -0.2602262012224047, -1.0691121404414958, -0.6848232570932521, 0.8162589369960171, -0.7582059599396165, 0.4456582882933635, 1.1981958921037437, -0.0559637091670608, -0.8202289572408519, -1.2997836861662195, 0.4938121986847556, -0.8186303354719257, 0.8769007198929809, 0.2660485146731749, -1.2877287717588837, 0.3907351577803678, -1.0586545351939451, -1.0999050331881057, -1.1617514210615016, -1.0770061145053005, 0.46986897620852475, -0.9247312869991977, -0.2581198645729674, 0.7939542942469635, -0.7214464958466277, 0.11641094429099247, -0.733351978335377, -1.9611502880222196, 1.2551004661310663, -0.7922597826813551, -0.6896309349761818, -0.1404930061894985, 1.6472546239243409, -1.4612770935449146, 0.9993093632789172, -0.044446698278709854, 0.3671324429849293, 0.41654323547329597, 0.5563761670680994, -1.673864070885013, -1.4423548692148238, -1.4140915067667619, -1.326567080833016, 0.4433836803039138, 1.286715647535771, -1.3648208324013256, 0.3619462293342259, 0.3726200050044374, -1.3024183272749836, 0.5016568745452399, -1.098803926726156, 0.7330841032859847, -1.5488356761348343, 1.2034589978405723, 0.12042373705812841, 0.05368522072003816, -0.543273060365583, 0.2803483211856537, -0.6396496703817736, -0.1434764378346883, -1.5814796382610632, 0.16810012805924957, -1.498112667423833, 1.4583129050451265, -0.08148007011420712, 1.0686443906494367, 0.8130177247945064, -1.5364481333517526, -0.07468533410211131, 1.2516811303215438, 0.02020116203176951, 0.9749727712415192, -0.44058042148343957, -1.0516806951025282, -0.4696546419268447, -0.046152043744718825, 0.46770062083353575, -0.9913931075320418], \"xaxis\": \"x16\", \"yaxis\": \"y16\"}],\n",
       "                        {\"bargap\": 0.02, \"legend\": {\"bgcolor\": \"#F5F6F9\", \"font\": {\"color\": \"#4D5663\"}}, \"paper_bgcolor\": \"#F5F6F9\", \"plot_bgcolor\": \"#F5F6F9\", \"showlegend\": false, \"template\": {\"data\": {\"bar\": [{\"error_x\": {\"color\": \"#2a3f5f\"}, \"error_y\": {\"color\": \"#2a3f5f\"}, \"marker\": {\"line\": {\"color\": \"#E5ECF6\", \"width\": 0.5}}, \"type\": \"bar\"}], \"barpolar\": [{\"marker\": {\"line\": {\"color\": \"#E5ECF6\", \"width\": 0.5}}, \"type\": \"barpolar\"}], \"carpet\": [{\"aaxis\": {\"endlinecolor\": \"#2a3f5f\", \"gridcolor\": \"white\", \"linecolor\": \"white\", \"minorgridcolor\": \"white\", \"startlinecolor\": \"#2a3f5f\"}, \"baxis\": {\"endlinecolor\": \"#2a3f5f\", \"gridcolor\": \"white\", \"linecolor\": \"white\", \"minorgridcolor\": \"white\", \"startlinecolor\": \"#2a3f5f\"}, \"type\": \"carpet\"}], \"choropleth\": [{\"colorbar\": {\"outlinewidth\": 0, \"ticks\": \"\"}, \"type\": \"choropleth\"}], \"contour\": [{\"colorbar\": {\"outlinewidth\": 0, \"ticks\": \"\"}, \"colorscale\": [[0.0, \"#0d0887\"], [0.1111111111111111, \"#46039f\"], [0.2222222222222222, \"#7201a8\"], [0.3333333333333333, \"#9c179e\"], [0.4444444444444444, \"#bd3786\"], [0.5555555555555556, \"#d8576b\"], [0.6666666666666666, \"#ed7953\"], [0.7777777777777778, \"#fb9f3a\"], [0.8888888888888888, \"#fdca26\"], [1.0, \"#f0f921\"]], \"type\": \"contour\"}], \"contourcarpet\": [{\"colorbar\": {\"outlinewidth\": 0, \"ticks\": \"\"}, \"type\": \"contourcarpet\"}], \"heatmap\": [{\"colorbar\": {\"outlinewidth\": 0, \"ticks\": \"\"}, \"colorscale\": [[0.0, \"#0d0887\"], [0.1111111111111111, \"#46039f\"], [0.2222222222222222, \"#7201a8\"], [0.3333333333333333, \"#9c179e\"], [0.4444444444444444, \"#bd3786\"], [0.5555555555555556, \"#d8576b\"], [0.6666666666666666, \"#ed7953\"], [0.7777777777777778, \"#fb9f3a\"], [0.8888888888888888, \"#fdca26\"], [1.0, \"#f0f921\"]], \"type\": \"heatmap\"}], \"heatmapgl\": [{\"colorbar\": {\"outlinewidth\": 0, \"ticks\": \"\"}, \"colorscale\": [[0.0, \"#0d0887\"], [0.1111111111111111, \"#46039f\"], [0.2222222222222222, \"#7201a8\"], [0.3333333333333333, \"#9c179e\"], [0.4444444444444444, \"#bd3786\"], [0.5555555555555556, \"#d8576b\"], [0.6666666666666666, \"#ed7953\"], [0.7777777777777778, \"#fb9f3a\"], [0.8888888888888888, \"#fdca26\"], [1.0, \"#f0f921\"]], \"type\": \"heatmapgl\"}], \"histogram\": [{\"marker\": {\"colorbar\": {\"outlinewidth\": 0, \"ticks\": \"\"}}, \"type\": \"histogram\"}], \"histogram2d\": [{\"colorbar\": {\"outlinewidth\": 0, \"ticks\": \"\"}, \"colorscale\": [[0.0, \"#0d0887\"], [0.1111111111111111, \"#46039f\"], [0.2222222222222222, \"#7201a8\"], [0.3333333333333333, \"#9c179e\"], [0.4444444444444444, \"#bd3786\"], [0.5555555555555556, \"#d8576b\"], [0.6666666666666666, \"#ed7953\"], [0.7777777777777778, \"#fb9f3a\"], [0.8888888888888888, \"#fdca26\"], [1.0, \"#f0f921\"]], \"type\": \"histogram2d\"}], \"histogram2dcontour\": [{\"colorbar\": {\"outlinewidth\": 0, \"ticks\": \"\"}, \"colorscale\": [[0.0, \"#0d0887\"], [0.1111111111111111, \"#46039f\"], [0.2222222222222222, \"#7201a8\"], [0.3333333333333333, \"#9c179e\"], [0.4444444444444444, \"#bd3786\"], [0.5555555555555556, \"#d8576b\"], [0.6666666666666666, \"#ed7953\"], [0.7777777777777778, \"#fb9f3a\"], [0.8888888888888888, \"#fdca26\"], [1.0, \"#f0f921\"]], \"type\": \"histogram2dcontour\"}], \"mesh3d\": [{\"colorbar\": {\"outlinewidth\": 0, \"ticks\": \"\"}, \"type\": \"mesh3d\"}], \"parcoords\": [{\"line\": {\"colorbar\": {\"outlinewidth\": 0, \"ticks\": \"\"}}, \"type\": \"parcoords\"}], \"pie\": [{\"automargin\": true, \"type\": \"pie\"}], \"scatter\": [{\"marker\": {\"colorbar\": {\"outlinewidth\": 0, \"ticks\": \"\"}}, \"type\": \"scatter\"}], \"scatter3d\": [{\"line\": {\"colorbar\": {\"outlinewidth\": 0, \"ticks\": \"\"}}, \"marker\": {\"colorbar\": {\"outlinewidth\": 0, \"ticks\": \"\"}}, \"type\": \"scatter3d\"}], \"scattercarpet\": [{\"marker\": {\"colorbar\": {\"outlinewidth\": 0, \"ticks\": \"\"}}, \"type\": \"scattercarpet\"}], \"scattergeo\": [{\"marker\": {\"colorbar\": {\"outlinewidth\": 0, \"ticks\": \"\"}}, \"type\": \"scattergeo\"}], \"scattergl\": [{\"marker\": {\"colorbar\": {\"outlinewidth\": 0, \"ticks\": \"\"}}, \"type\": \"scattergl\"}], \"scattermapbox\": [{\"marker\": {\"colorbar\": {\"outlinewidth\": 0, \"ticks\": \"\"}}, \"type\": \"scattermapbox\"}], \"scatterpolar\": [{\"marker\": {\"colorbar\": {\"outlinewidth\": 0, \"ticks\": \"\"}}, \"type\": \"scatterpolar\"}], \"scatterpolargl\": [{\"marker\": {\"colorbar\": {\"outlinewidth\": 0, \"ticks\": \"\"}}, \"type\": \"scatterpolargl\"}], \"scatterternary\": [{\"marker\": {\"colorbar\": {\"outlinewidth\": 0, \"ticks\": \"\"}}, \"type\": \"scatterternary\"}], \"surface\": [{\"colorbar\": {\"outlinewidth\": 0, \"ticks\": \"\"}, \"colorscale\": [[0.0, \"#0d0887\"], [0.1111111111111111, \"#46039f\"], [0.2222222222222222, \"#7201a8\"], [0.3333333333333333, \"#9c179e\"], [0.4444444444444444, \"#bd3786\"], [0.5555555555555556, \"#d8576b\"], [0.6666666666666666, \"#ed7953\"], [0.7777777777777778, \"#fb9f3a\"], [0.8888888888888888, \"#fdca26\"], [1.0, \"#f0f921\"]], \"type\": \"surface\"}], \"table\": [{\"cells\": {\"fill\": {\"color\": \"#EBF0F8\"}, \"line\": {\"color\": \"white\"}}, \"header\": {\"fill\": {\"color\": \"#C8D4E3\"}, \"line\": {\"color\": \"white\"}}, \"type\": \"table\"}]}, \"layout\": {\"annotationdefaults\": {\"arrowcolor\": \"#2a3f5f\", \"arrowhead\": 0, \"arrowwidth\": 1}, \"coloraxis\": {\"colorbar\": {\"outlinewidth\": 0, \"ticks\": \"\"}}, \"colorscale\": {\"diverging\": [[0, \"#8e0152\"], [0.1, \"#c51b7d\"], [0.2, \"#de77ae\"], [0.3, \"#f1b6da\"], [0.4, \"#fde0ef\"], [0.5, \"#f7f7f7\"], [0.6, \"#e6f5d0\"], [0.7, \"#b8e186\"], [0.8, \"#7fbc41\"], [0.9, \"#4d9221\"], [1, \"#276419\"]], \"sequential\": [[0.0, \"#0d0887\"], [0.1111111111111111, \"#46039f\"], [0.2222222222222222, \"#7201a8\"], [0.3333333333333333, \"#9c179e\"], [0.4444444444444444, \"#bd3786\"], [0.5555555555555556, \"#d8576b\"], [0.6666666666666666, \"#ed7953\"], [0.7777777777777778, \"#fb9f3a\"], [0.8888888888888888, \"#fdca26\"], [1.0, \"#f0f921\"]], \"sequentialminus\": [[0.0, \"#0d0887\"], [0.1111111111111111, \"#46039f\"], [0.2222222222222222, \"#7201a8\"], [0.3333333333333333, \"#9c179e\"], [0.4444444444444444, \"#bd3786\"], [0.5555555555555556, \"#d8576b\"], [0.6666666666666666, \"#ed7953\"], [0.7777777777777778, \"#fb9f3a\"], [0.8888888888888888, \"#fdca26\"], [1.0, \"#f0f921\"]]}, \"colorway\": [\"#636efa\", \"#EF553B\", \"#00cc96\", \"#ab63fa\", \"#FFA15A\", \"#19d3f3\", \"#FF6692\", \"#B6E880\", \"#FF97FF\", \"#FECB52\"], \"font\": {\"color\": \"#2a3f5f\"}, \"geo\": {\"bgcolor\": \"white\", \"lakecolor\": \"white\", \"landcolor\": \"#E5ECF6\", \"showlakes\": true, \"showland\": true, \"subunitcolor\": \"white\"}, \"hoverlabel\": {\"align\": \"left\"}, \"hovermode\": \"closest\", \"mapbox\": {\"style\": \"light\"}, \"paper_bgcolor\": \"white\", \"plot_bgcolor\": \"#E5ECF6\", \"polar\": {\"angularaxis\": {\"gridcolor\": \"white\", \"linecolor\": \"white\", \"ticks\": \"\"}, \"bgcolor\": \"#E5ECF6\", \"radialaxis\": {\"gridcolor\": \"white\", \"linecolor\": \"white\", \"ticks\": \"\"}}, \"scene\": {\"xaxis\": {\"backgroundcolor\": \"#E5ECF6\", \"gridcolor\": \"white\", \"gridwidth\": 2, \"linecolor\": \"white\", \"showbackground\": true, \"ticks\": \"\", \"zerolinecolor\": \"white\"}, \"yaxis\": {\"backgroundcolor\": \"#E5ECF6\", \"gridcolor\": \"white\", \"gridwidth\": 2, \"linecolor\": \"white\", \"showbackground\": true, \"ticks\": \"\", \"zerolinecolor\": \"white\"}, \"zaxis\": {\"backgroundcolor\": \"#E5ECF6\", \"gridcolor\": \"white\", \"gridwidth\": 2, \"linecolor\": \"white\", \"showbackground\": true, \"ticks\": \"\", \"zerolinecolor\": \"white\"}}, \"shapedefaults\": {\"line\": {\"color\": \"#2a3f5f\"}}, \"ternary\": {\"aaxis\": {\"gridcolor\": \"white\", \"linecolor\": \"white\", \"ticks\": \"\"}, \"baxis\": {\"gridcolor\": \"white\", \"linecolor\": \"white\", \"ticks\": \"\"}, \"bgcolor\": \"#E5ECF6\", \"caxis\": {\"gridcolor\": \"white\", \"linecolor\": \"white\", \"ticks\": \"\"}}, \"title\": {\"x\": 0.05}, \"xaxis\": {\"automargin\": true, \"gridcolor\": \"white\", \"linecolor\": \"white\", \"ticks\": \"\", \"title\": {\"standoff\": 15}, \"zerolinecolor\": \"white\", \"zerolinewidth\": 2}, \"yaxis\": {\"automargin\": true, \"gridcolor\": \"white\", \"linecolor\": \"white\", \"ticks\": \"\", \"title\": {\"standoff\": 15}, \"zerolinecolor\": \"white\", \"zerolinewidth\": 2}}}, \"title\": {\"font\": {\"color\": \"#4D5663\"}}, \"xaxis\": {\"anchor\": \"y\", \"domain\": [0.0, 0.2125], \"gridcolor\": \"#E1E5ED\", \"showgrid\": false, \"tickfont\": {\"color\": \"#4D5663\"}, \"title\": {\"font\": {\"color\": \"#4D5663\"}, \"text\": \"\"}, \"zerolinecolor\": \"#E1E5ED\"}, \"xaxis10\": {\"anchor\": \"y10\", \"domain\": [0.2625, 0.475], \"gridcolor\": \"#E1E5ED\", \"showgrid\": false, \"tickfont\": {\"color\": \"#4D5663\"}, \"title\": {\"font\": {\"color\": \"#4D5663\"}, \"text\": \"\"}, \"zerolinecolor\": \"#E1E5ED\"}, \"xaxis11\": {\"anchor\": \"y11\", \"domain\": [0.525, 0.7375], \"gridcolor\": \"#E1E5ED\", \"showgrid\": false, \"tickfont\": {\"color\": \"#4D5663\"}, \"title\": {\"font\": {\"color\": \"#4D5663\"}, \"text\": \"\"}, \"zerolinecolor\": \"#E1E5ED\"}, \"xaxis12\": {\"anchor\": \"y12\", \"domain\": [0.7875, 1.0], \"gridcolor\": \"#E1E5ED\", \"showgrid\": false, \"tickfont\": {\"color\": \"#4D5663\"}, \"title\": {\"font\": {\"color\": \"#4D5663\"}, \"text\": \"\"}, \"zerolinecolor\": \"#E1E5ED\"}, \"xaxis13\": {\"anchor\": \"y13\", \"domain\": [0.0, 0.2125], \"gridcolor\": \"#E1E5ED\", \"showgrid\": false, \"tickfont\": {\"color\": \"#4D5663\"}, \"title\": {\"font\": {\"color\": \"#4D5663\"}, \"text\": \"\"}, \"zerolinecolor\": \"#E1E5ED\"}, \"xaxis14\": {\"anchor\": \"y14\", \"domain\": [0.2625, 0.475], \"gridcolor\": \"#E1E5ED\", \"showgrid\": false, \"tickfont\": {\"color\": \"#4D5663\"}, \"title\": {\"font\": {\"color\": \"#4D5663\"}, \"text\": \"\"}, \"zerolinecolor\": \"#E1E5ED\"}, \"xaxis15\": {\"anchor\": \"y15\", \"domain\": [0.525, 0.7375], \"gridcolor\": \"#E1E5ED\", \"showgrid\": false, \"tickfont\": {\"color\": \"#4D5663\"}, \"title\": {\"font\": {\"color\": \"#4D5663\"}, \"text\": \"\"}, \"zerolinecolor\": \"#E1E5ED\"}, \"xaxis16\": {\"anchor\": \"y16\", \"domain\": [0.7875, 1.0], \"gridcolor\": \"#E1E5ED\", \"showgrid\": false, \"tickfont\": {\"color\": \"#4D5663\"}, \"title\": {\"font\": {\"color\": \"#4D5663\"}, \"text\": \"\"}, \"zerolinecolor\": \"#E1E5ED\"}, \"xaxis2\": {\"anchor\": \"y2\", \"domain\": [0.2625, 0.475], \"gridcolor\": \"#E1E5ED\", \"showgrid\": false, \"tickfont\": {\"color\": \"#4D5663\"}, \"title\": {\"font\": {\"color\": \"#4D5663\"}, \"text\": \"\"}, \"zerolinecolor\": \"#E1E5ED\"}, \"xaxis3\": {\"anchor\": \"y3\", \"domain\": [0.525, 0.7375], \"gridcolor\": \"#E1E5ED\", \"showgrid\": false, \"tickfont\": {\"color\": \"#4D5663\"}, \"title\": {\"font\": {\"color\": \"#4D5663\"}, \"text\": \"\"}, \"zerolinecolor\": \"#E1E5ED\"}, \"xaxis4\": {\"anchor\": \"y4\", \"domain\": [0.7875, 1.0], \"gridcolor\": \"#E1E5ED\", \"showgrid\": false, \"tickfont\": {\"color\": \"#4D5663\"}, \"title\": {\"font\": {\"color\": \"#4D5663\"}, \"text\": \"\"}, \"zerolinecolor\": \"#E1E5ED\"}, \"xaxis5\": {\"anchor\": \"y5\", \"domain\": [0.0, 0.2125], \"gridcolor\": \"#E1E5ED\", \"showgrid\": false, \"tickfont\": {\"color\": \"#4D5663\"}, \"title\": {\"font\": {\"color\": \"#4D5663\"}, \"text\": \"\"}, \"zerolinecolor\": \"#E1E5ED\"}, \"xaxis6\": {\"anchor\": \"y6\", \"domain\": [0.2625, 0.475], \"gridcolor\": \"#E1E5ED\", \"showgrid\": false, \"tickfont\": {\"color\": \"#4D5663\"}, \"title\": {\"font\": {\"color\": \"#4D5663\"}, \"text\": \"\"}, \"zerolinecolor\": \"#E1E5ED\"}, \"xaxis7\": {\"anchor\": \"y7\", \"domain\": [0.525, 0.7375], \"gridcolor\": \"#E1E5ED\", \"showgrid\": false, \"tickfont\": {\"color\": \"#4D5663\"}, \"title\": {\"font\": {\"color\": \"#4D5663\"}, \"text\": \"\"}, \"zerolinecolor\": \"#E1E5ED\"}, \"xaxis8\": {\"anchor\": \"y8\", \"domain\": [0.7875, 1.0], \"gridcolor\": \"#E1E5ED\", \"showgrid\": false, \"tickfont\": {\"color\": \"#4D5663\"}, \"title\": {\"font\": {\"color\": \"#4D5663\"}, \"text\": \"\"}, \"zerolinecolor\": \"#E1E5ED\"}, \"xaxis9\": {\"anchor\": \"y9\", \"domain\": [0.0, 0.2125], \"gridcolor\": \"#E1E5ED\", \"showgrid\": false, \"tickfont\": {\"color\": \"#4D5663\"}, \"title\": {\"font\": {\"color\": \"#4D5663\"}, \"text\": \"\"}, \"zerolinecolor\": \"#E1E5ED\"}, \"yaxis\": {\"anchor\": \"x\", \"domain\": [0.8025, 1.0], \"gridcolor\": \"#E1E5ED\", \"showgrid\": false, \"tickfont\": {\"color\": \"#4D5663\"}, \"title\": {\"font\": {\"color\": \"#4D5663\"}, \"text\": \"\"}, \"zerolinecolor\": \"#E1E5ED\"}, \"yaxis10\": {\"anchor\": \"x10\", \"domain\": [0.2675, 0.465], \"gridcolor\": \"#E1E5ED\", \"showgrid\": false, \"tickfont\": {\"color\": \"#4D5663\"}, \"title\": {\"font\": {\"color\": \"#4D5663\"}, \"text\": \"\"}, \"zerolinecolor\": \"#E1E5ED\"}, \"yaxis11\": {\"anchor\": \"x11\", \"domain\": [0.2675, 0.465], \"gridcolor\": \"#E1E5ED\", \"showgrid\": false, \"tickfont\": {\"color\": \"#4D5663\"}, \"title\": {\"font\": {\"color\": \"#4D5663\"}, \"text\": \"\"}, \"zerolinecolor\": \"#E1E5ED\"}, \"yaxis12\": {\"anchor\": \"x12\", \"domain\": [0.2675, 0.465], \"gridcolor\": \"#E1E5ED\", \"showgrid\": false, \"tickfont\": {\"color\": \"#4D5663\"}, \"title\": {\"font\": {\"color\": \"#4D5663\"}, \"text\": \"\"}, \"zerolinecolor\": \"#E1E5ED\"}, \"yaxis13\": {\"anchor\": \"x13\", \"domain\": [0.0, 0.1975], \"gridcolor\": \"#E1E5ED\", \"showgrid\": false, \"tickfont\": {\"color\": \"#4D5663\"}, \"title\": {\"font\": {\"color\": \"#4D5663\"}, \"text\": \"\"}, \"zerolinecolor\": \"#E1E5ED\"}, \"yaxis14\": {\"anchor\": \"x14\", \"domain\": [0.0, 0.1975], \"gridcolor\": \"#E1E5ED\", \"showgrid\": false, \"tickfont\": {\"color\": \"#4D5663\"}, \"title\": {\"font\": {\"color\": \"#4D5663\"}, \"text\": \"\"}, \"zerolinecolor\": \"#E1E5ED\"}, \"yaxis15\": {\"anchor\": \"x15\", \"domain\": [0.0, 0.1975], \"gridcolor\": \"#E1E5ED\", \"showgrid\": false, \"tickfont\": {\"color\": \"#4D5663\"}, \"title\": {\"font\": {\"color\": \"#4D5663\"}, \"text\": \"\"}, \"zerolinecolor\": \"#E1E5ED\"}, \"yaxis16\": {\"anchor\": \"x16\", \"domain\": [0.0, 0.1975], \"gridcolor\": \"#E1E5ED\", \"showgrid\": false, \"tickfont\": {\"color\": \"#4D5663\"}, \"title\": {\"font\": {\"color\": \"#4D5663\"}, \"text\": \"\"}, \"zerolinecolor\": \"#E1E5ED\"}, \"yaxis2\": {\"anchor\": \"x2\", \"domain\": [0.8025, 1.0], \"gridcolor\": \"#E1E5ED\", \"showgrid\": false, \"tickfont\": {\"color\": \"#4D5663\"}, \"title\": {\"font\": {\"color\": \"#4D5663\"}, \"text\": \"\"}, \"zerolinecolor\": \"#E1E5ED\"}, \"yaxis3\": {\"anchor\": \"x3\", \"domain\": [0.8025, 1.0], \"gridcolor\": \"#E1E5ED\", \"showgrid\": false, \"tickfont\": {\"color\": \"#4D5663\"}, \"title\": {\"font\": {\"color\": \"#4D5663\"}, \"text\": \"\"}, \"zerolinecolor\": \"#E1E5ED\"}, \"yaxis4\": {\"anchor\": \"x4\", \"domain\": [0.8025, 1.0], \"gridcolor\": \"#E1E5ED\", \"showgrid\": false, \"tickfont\": {\"color\": \"#4D5663\"}, \"title\": {\"font\": {\"color\": \"#4D5663\"}, \"text\": \"\"}, \"zerolinecolor\": \"#E1E5ED\"}, \"yaxis5\": {\"anchor\": \"x5\", \"domain\": [0.535, 0.7325], \"gridcolor\": \"#E1E5ED\", \"showgrid\": false, \"tickfont\": {\"color\": \"#4D5663\"}, \"title\": {\"font\": {\"color\": \"#4D5663\"}, \"text\": \"\"}, \"zerolinecolor\": \"#E1E5ED\"}, \"yaxis6\": {\"anchor\": \"x6\", \"domain\": [0.535, 0.7325], \"gridcolor\": \"#E1E5ED\", \"showgrid\": false, \"tickfont\": {\"color\": \"#4D5663\"}, \"title\": {\"font\": {\"color\": \"#4D5663\"}, \"text\": \"\"}, \"zerolinecolor\": \"#E1E5ED\"}, \"yaxis7\": {\"anchor\": \"x7\", \"domain\": [0.535, 0.7325], \"gridcolor\": \"#E1E5ED\", \"showgrid\": false, \"tickfont\": {\"color\": \"#4D5663\"}, \"title\": {\"font\": {\"color\": \"#4D5663\"}, \"text\": \"\"}, \"zerolinecolor\": \"#E1E5ED\"}, \"yaxis8\": {\"anchor\": \"x8\", \"domain\": [0.535, 0.7325], \"gridcolor\": \"#E1E5ED\", \"showgrid\": false, \"tickfont\": {\"color\": \"#4D5663\"}, \"title\": {\"font\": {\"color\": \"#4D5663\"}, \"text\": \"\"}, \"zerolinecolor\": \"#E1E5ED\"}, \"yaxis9\": {\"anchor\": \"x9\", \"domain\": [0.2675, 0.465], \"gridcolor\": \"#E1E5ED\", \"showgrid\": false, \"tickfont\": {\"color\": \"#4D5663\"}, \"title\": {\"font\": {\"color\": \"#4D5663\"}, \"text\": \"\"}, \"zerolinecolor\": \"#E1E5ED\"}},\n",
       "                        {\"showLink\": true, \"linkText\": \"Export to plot.ly\", \"plotlyServerURL\": \"https://plot.ly\", \"responsive\": true}\n",
       "                    ).then(function(){\n",
       "                            \n",
       "var gd = document.getElementById('9c834005-f81f-40dc-ad40-1ed8eac495fc');\n",
       "var x = new MutationObserver(function (mutations, observer) {{\n",
       "        var display = window.getComputedStyle(gd).display;\n",
       "        if (!display || display === 'none') {{\n",
       "            console.log([gd, 'removed!']);\n",
       "            Plotly.purge(gd);\n",
       "            observer.disconnect();\n",
       "        }}\n",
       "}});\n",
       "\n",
       "// Listen for the removal of the full notebook cells\n",
       "var notebookContainer = gd.closest('#notebook-container');\n",
       "if (notebookContainer) {{\n",
       "    x.observe(notebookContainer, {childList: true});\n",
       "}}\n",
       "\n",
       "// Listen for the clearing of the current output cell\n",
       "var outputEl = gd.closest('.output');\n",
       "if (outputEl) {{\n",
       "    x.observe(outputEl, {childList: true});\n",
       "}}\n",
       "\n",
       "                        })\n",
       "                };\n",
       "                });\n",
       "            </script>\n",
       "        </div>"
      ]
     },
     "metadata": {},
     "output_type": "display_data"
    }
   ],
   "source": [
    "df.scatter_matrix()"
   ]
  }
 ],
 "metadata": {
  "kernelspec": {
   "display_name": "Python 3",
   "language": "python",
   "name": "python3"
  },
  "language_info": {
   "codemirror_mode": {
    "name": "ipython",
    "version": 3
   },
   "file_extension": ".py",
   "mimetype": "text/x-python",
   "name": "python",
   "nbconvert_exporter": "python",
   "pygments_lexer": "ipython3",
   "version": "3.7.6"
  }
 },
 "nbformat": 4,
 "nbformat_minor": 1
}
